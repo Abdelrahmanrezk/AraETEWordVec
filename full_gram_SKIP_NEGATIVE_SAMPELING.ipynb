{
 "cells": [
  {
   "cell_type": "code",
   "execution_count": 1,
   "id": "adbb6da9",
   "metadata": {},
   "outputs": [],
   "source": [
    "# -*- coding: utf8 -*-\n",
    "import gensim\n",
    "import re\n",
    "import numpy as np\n",
    "from nltk import ngrams\n",
    "\n",
    "from utilities import * # import utilities.py module\n",
    "from DifferentTokenization import * # import utilities.py module\n",
    "import pandas as pd\n",
    "from configs.Configs import get_ngrams\n",
    "import multiprocessing\n",
    "from multiprocessing import Process\n",
    "from train_word2vec_from_scratch import *\n",
    "from ara_vec_preprocess_configs import *\n",
    "# ============================   \n",
    "# ====== N-Grams Models ======\n",
    "import gdown\n"
   ]
  },
  {
   "cell_type": "code",
   "execution_count": 2,
   "id": "827003be",
   "metadata": {},
   "outputs": [
    {
     "name": "stdout",
     "output_type": "stream",
     "text": [
      "==================================================\n",
      "False\n",
      "Epoch #0 start\n",
      "2022-03-03 13:55:43.927239\n",
      "Epoch #0 end\n",
      "2022-03-03 13:55:46.502045\n",
      "==================================================\n",
      "Epoch #1 start\n",
      "2022-03-03 13:55:46.507757\n",
      "Epoch #1 end\n",
      "2022-03-03 13:55:49.719332\n",
      "==================================================\n",
      "Epoch #2 start\n",
      "2022-03-03 13:55:49.725424\n",
      "Epoch #2 end\n",
      "2022-03-03 13:55:52.903859\n",
      "==================================================\n",
      "Epoch #3 start\n",
      "2022-03-03 13:55:52.909557\n",
      "Epoch #3 end\n",
      "2022-03-03 13:55:55.740014\n",
      "==================================================\n",
      "Epoch #4 start\n",
      "2022-03-03 13:55:55.746064\n",
      "Epoch #4 end\n",
      "2022-03-03 13:55:59.041796\n",
      "==================================================\n",
      "Epoch #5 start\n",
      "2022-03-03 13:55:59.048324\n",
      "Epoch #5 end\n",
      "2022-03-03 13:56:02.392882\n",
      "==================================================\n",
      "Epoch #6 start\n",
      "2022-03-03 13:56:02.400656\n",
      "Epoch #6 end\n",
      "2022-03-03 13:56:05.063896\n",
      "==================================================\n",
      "0:00:25.047036\n"
     ]
    }
   ],
   "source": [
    "sentences = MyCorpus(\"arabic_filtered_tweets_of_year_2008.csv\")\n",
    "# Just start the model with first file data\n",
    "model = train_word2vec_skip_gram_negative_sampeling(\"\", False, \"fullgram\", sentences, vector_size=300, min_count=100)"
   ]
  },
  {
   "cell_type": "code",
   "execution_count": 3,
   "id": "c136f9e7",
   "metadata": {},
   "outputs": [
    {
     "name": "stdout",
     "output_type": "stream",
     "text": [
      "12583\n",
      "7\n",
      "268\n"
     ]
    }
   ],
   "source": [
    "print(model.corpus_count)\n",
    "print(model.epochs)\n",
    "print(len(model.wv.key_to_index))"
   ]
  },
  {
   "cell_type": "code",
   "execution_count": 4,
   "id": "7345c81a",
   "metadata": {},
   "outputs": [
    {
     "name": "stdout",
     "output_type": "stream",
     "text": [
      "==================================================\n",
      "==================================================\n",
      "Train on file:  arabic_filtered_tweets_of_year_2008.csv\n",
      "==================================================\n",
      "==================================================\n",
      "==================================================\n",
      "True\n",
      "Epoch #0 start\n",
      "2022-03-03 13:56:08.821177\n",
      "Epoch #0 end\n",
      "2022-03-03 13:56:12.123032\n",
      "==================================================\n",
      "Epoch #1 start\n",
      "2022-03-03 13:56:12.134593\n",
      "Epoch #1 end\n",
      "2022-03-03 13:56:14.542165\n",
      "==================================================\n",
      "Epoch #2 start\n",
      "2022-03-03 13:56:14.549070\n",
      "Epoch #2 end\n",
      "2022-03-03 13:56:17.779927\n",
      "==================================================\n",
      "Epoch #3 start\n",
      "2022-03-03 13:56:17.786726\n",
      "Epoch #3 end\n",
      "2022-03-03 13:56:21.102805\n",
      "==================================================\n",
      "Epoch #4 start\n",
      "2022-03-03 13:56:21.109002\n",
      "Epoch #4 end\n",
      "2022-03-03 13:56:23.793275\n",
      "==================================================\n",
      "Epoch #5 start\n",
      "2022-03-03 13:56:23.798801\n",
      "Epoch #5 end\n",
      "2022-03-03 13:56:27.062625\n",
      "==================================================\n",
      "Epoch #6 start\n",
      "2022-03-03 13:56:27.068783\n",
      "Epoch #6 end\n",
      "2022-03-03 13:56:30.385308\n",
      "==================================================\n",
      "0:00:25.291319\n",
      "Some model data: \n",
      "12583\n",
      "7\n",
      "268\n",
      "==================================================\n",
      "==================================================\n",
      "Train on file:  arabic_filtered_tweets_of_year_2009.csv\n",
      "==================================================\n",
      "==================================================\n",
      "==================================================\n",
      "True\n",
      "Epoch #0 start\n",
      "2022-03-03 13:57:20.711025\n",
      "Epoch #0 end\n",
      "2022-03-03 13:58:19.393530\n",
      "==================================================\n",
      "Epoch #1 start\n",
      "2022-03-03 13:58:19.511728\n",
      "Epoch #1 end\n",
      "2022-03-03 13:59:09.819368\n",
      "==================================================\n",
      "Epoch #2 start\n",
      "2022-03-03 13:59:10.107516\n",
      "Epoch #2 end\n",
      "2022-03-03 14:00:11.673126\n",
      "==================================================\n",
      "Epoch #3 start\n",
      "2022-03-03 14:00:11.774499\n",
      "Epoch #3 end\n",
      "2022-03-03 14:00:51.837140\n",
      "==================================================\n",
      "Epoch #4 start\n",
      "2022-03-03 14:00:51.929504\n",
      "Epoch #4 end\n",
      "2022-03-03 14:01:25.055103\n",
      "==================================================\n",
      "Epoch #5 start\n",
      "2022-03-03 14:01:25.170494\n",
      "Epoch #5 end\n",
      "2022-03-03 14:02:00.838323\n",
      "==================================================\n",
      "Epoch #6 start\n",
      "2022-03-03 14:02:00.924883\n",
      "Epoch #6 end\n",
      "2022-03-03 14:02:32.374033\n",
      "==================================================\n",
      "0:06:02.144764\n",
      "Some model data: \n",
      "190048\n",
      "7\n",
      "5973\n"
     ]
    }
   ],
   "source": [
    "for fname in os.listdir(ARABIC_FILTERED_DATA_DIR):\n",
    "    print(\"=\"*50)\n",
    "    print(\"=\"*50)\n",
    "    print(\"Train on file: \", fname)\n",
    "    print(\"=\"*50)\n",
    "    print(\"=\"*50)\n",
    "    sentences = MyCorpus(fname)\n",
    "    model = train_word2vec_skip_gram_negative_sampeling(model, True, \"fullgram\", sentences, vector_size=300, min_count=100)\n",
    "    print(\"Some model data: \")\n",
    "    print(model.corpus_count)\n",
    "    print(model.epochs)\n",
    "    print(len(model.wv.key_to_index))"
   ]
  },
  {
   "cell_type": "code",
   "execution_count": 5,
   "id": "4c10848d",
   "metadata": {},
   "outputs": [
    {
     "name": "stdout",
     "output_type": "stream",
     "text": [
      "We train on number of tokens:  88019456\n"
     ]
    }
   ],
   "source": [
    "print(\"We train on number of tokens: \", sentences.VAL)"
   ]
  },
  {
   "cell_type": "code",
   "execution_count": null,
   "id": "aa5cca4d",
   "metadata": {},
   "outputs": [],
   "source": []
  }
 ],
 "metadata": {
  "kernelspec": {
   "display_name": "Python 3",
   "language": "python",
   "name": "python3"
  },
  "language_info": {
   "codemirror_mode": {
    "name": "ipython",
    "version": 3
   },
   "file_extension": ".py",
   "mimetype": "text/x-python",
   "name": "python",
   "nbconvert_exporter": "python",
   "pygments_lexer": "ipython3",
   "version": "3.6.9"
  }
 },
 "nbformat": 4,
 "nbformat_minor": 5
}
