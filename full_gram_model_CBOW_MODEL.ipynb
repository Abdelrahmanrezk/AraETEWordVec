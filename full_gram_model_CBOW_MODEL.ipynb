{
 "cells": [
  {
   "cell_type": "code",
   "execution_count": 1,
   "id": "365bef55",
   "metadata": {},
   "outputs": [],
   "source": [
    "# -*- coding: utf8 -*-\n",
    "import gensim\n",
    "import re\n",
    "import numpy as np\n",
    "from nltk import ngrams\n",
    "\n",
    "from utilities import * # import utilities.py module\n",
    "from DifferentTokenization import * # import utilities.py module\n",
    "import pandas as pd\n",
    "from configs.Configs import get_ngrams\n",
    "import multiprocessing\n",
    "from multiprocessing import Process\n",
    "from train_word2vec_from_scratch import *\n",
    "from ara_vec_preprocess_configs import *\n",
    "# ============================   \n",
    "# ====== N-Grams Models ======\n",
    "import gdown\n"
   ]
  },
  {
   "cell_type": "code",
   "execution_count": 2,
   "id": "2011b6e3",
   "metadata": {},
   "outputs": [
    {
     "name": "stdout",
     "output_type": "stream",
     "text": [
      "==================================================\n",
      "False\n",
      "Epoch #0 start\n",
      "2022-03-03 13:48:44.558569\n",
      "Epoch #0 end\n",
      "2022-03-03 13:48:46.422494\n",
      "==================================================\n",
      "Epoch #1 start\n",
      "2022-03-03 13:48:46.429687\n",
      "Epoch #1 end\n",
      "2022-03-03 13:48:49.112642\n",
      "==================================================\n",
      "Epoch #2 start\n",
      "2022-03-03 13:48:49.124868\n",
      "Epoch #2 end\n",
      "2022-03-03 13:48:51.941675\n",
      "==================================================\n",
      "Epoch #3 start\n",
      "2022-03-03 13:48:51.958254\n",
      "Epoch #3 end\n",
      "2022-03-03 13:48:54.088832\n",
      "==================================================\n",
      "Epoch #4 start\n",
      "2022-03-03 13:48:54.095371\n",
      "Epoch #4 end\n",
      "2022-03-03 13:48:56.877228\n",
      "==================================================\n",
      "Epoch #5 start\n",
      "2022-03-03 13:48:56.884318\n",
      "Epoch #5 end\n",
      "2022-03-03 13:48:59.926125\n",
      "==================================================\n",
      "Epoch #6 start\n",
      "2022-03-03 13:48:59.933837\n",
      "Epoch #6 end\n",
      "2022-03-03 13:49:02.483132\n",
      "==================================================\n",
      "0:00:20.102510\n"
     ]
    }
   ],
   "source": [
    "sentences = MyCorpus(\"arabic_filtered_tweets_of_year_2008.csv\")\n",
    "# Just start the model with first file data\n",
    "model = train_word2vec_cbow(\"\", False, \"fullgram\", sentences, vector_size=300, min_count=100)"
   ]
  },
  {
   "cell_type": "code",
   "execution_count": 3,
   "id": "f44e6d6c",
   "metadata": {},
   "outputs": [
    {
     "name": "stdout",
     "output_type": "stream",
     "text": [
      "12583\n",
      "7\n",
      "268\n"
     ]
    }
   ],
   "source": [
    "print(model.corpus_count)\n",
    "print(model.epochs)\n",
    "print(len(model.wv.key_to_index))"
   ]
  },
  {
   "cell_type": "code",
   "execution_count": 4,
   "id": "d745f5c8",
   "metadata": {},
   "outputs": [
    {
     "name": "stdout",
     "output_type": "stream",
     "text": [
      "==================================================\n",
      "==================================================\n",
      "Train on file:  arabic_filtered_tweets_of_year_2008.csv\n",
      "==================================================\n",
      "==================================================\n",
      "==================================================\n",
      "True\n",
      "Epoch #0 start\n",
      "2022-03-03 13:49:07.788261\n",
      "Epoch #0 end\n",
      "2022-03-03 13:49:10.068798\n",
      "==================================================\n",
      "Epoch #1 start\n",
      "2022-03-03 13:49:10.075930\n",
      "Epoch #1 end\n",
      "2022-03-03 13:49:12.990865\n",
      "==================================================\n",
      "Epoch #2 start\n",
      "2022-03-03 13:49:12.999670\n",
      "Epoch #2 end\n",
      "2022-03-03 13:49:15.926087\n",
      "==================================================\n",
      "Epoch #3 start\n",
      "2022-03-03 13:49:15.933323\n",
      "Epoch #3 end\n",
      "2022-03-03 13:49:17.946684\n",
      "==================================================\n",
      "Epoch #4 start\n",
      "2022-03-03 13:49:17.952982\n",
      "Epoch #4 end\n",
      "2022-03-03 13:49:20.628737\n",
      "==================================================\n",
      "Epoch #5 start\n",
      "2022-03-03 13:49:20.635832\n",
      "Epoch #5 end\n",
      "2022-03-03 13:49:23.376335\n",
      "==================================================\n",
      "Epoch #6 start\n",
      "2022-03-03 13:49:23.383122\n",
      "Epoch #6 end\n",
      "2022-03-03 13:49:25.646687\n",
      "==================================================\n",
      "0:00:21.366752\n",
      "Some model data: \n",
      "12583\n",
      "7\n",
      "268\n",
      "==================================================\n",
      "==================================================\n",
      "Train on file:  arabic_filtered_tweets_of_year_2009.csv\n",
      "==================================================\n",
      "==================================================\n",
      "==================================================\n",
      "True\n",
      "Epoch #0 start\n",
      "2022-03-03 13:50:00.216970\n",
      "Epoch #0 end\n",
      "2022-03-03 13:50:30.060251\n",
      "==================================================\n",
      "Epoch #1 start\n",
      "2022-03-03 13:50:30.183992\n",
      "Epoch #1 end\n",
      "2022-03-03 13:51:01.521580\n",
      "==================================================\n",
      "Epoch #2 start\n",
      "2022-03-03 13:51:01.649318\n",
      "Epoch #2 end\n",
      "2022-03-03 13:51:32.856190\n",
      "==================================================\n",
      "Epoch #3 start\n",
      "2022-03-03 13:51:32.985592\n",
      "Epoch #3 end\n",
      "2022-03-03 13:52:04.661163\n",
      "==================================================\n",
      "Epoch #4 start\n",
      "2022-03-03 13:52:04.787628\n",
      "Epoch #4 end\n",
      "2022-03-03 13:52:43.044095\n",
      "==================================================\n",
      "Epoch #5 start\n",
      "2022-03-03 13:52:43.231673\n",
      "Epoch #5 end\n",
      "2022-03-03 13:53:35.391016\n",
      "==================================================\n",
      "Epoch #6 start\n",
      "2022-03-03 13:53:35.592445\n",
      "Epoch #6 end\n",
      "2022-03-03 13:54:12.796136\n",
      "==================================================\n",
      "0:04:47.846616\n",
      "Some model data: \n",
      "190048\n",
      "7\n",
      "5973\n"
     ]
    }
   ],
   "source": [
    "for fname in os.listdir(ARABIC_FILTERED_DATA_DIR):\n",
    "    print(\"=\"*50)\n",
    "    print(\"=\"*50)\n",
    "    print(\"Train on file: \", fname)\n",
    "    print(\"=\"*50)\n",
    "    print(\"=\"*50)\n",
    "    sentences = MyCorpus(fname)\n",
    "    model = train_word2vec_cbow(model, True, \"fullgram\", sentences, vector_size=300, min_count=100)\n",
    "    print(\"Some model data: \")\n",
    "    print(model.corpus_count)\n",
    "    print(model.epochs)\n",
    "    print(len(model.wv.key_to_index))"
   ]
  },
  {
   "cell_type": "code",
   "execution_count": 6,
   "id": "99736bcc",
   "metadata": {},
   "outputs": [
    {
     "name": "stdout",
     "output_type": "stream",
     "text": [
      "We train on number of tokens:  88019456\n"
     ]
    }
   ],
   "source": [
    "print(\"We train on number of tokens: \", sentences.VAL)"
   ]
  },
  {
   "cell_type": "code",
   "execution_count": null,
   "id": "3889295c",
   "metadata": {},
   "outputs": [],
   "source": []
  }
 ],
 "metadata": {
  "kernelspec": {
   "display_name": "Python 3",
   "language": "python",
   "name": "python3"
  },
  "language_info": {
   "codemirror_mode": {
    "name": "ipython",
    "version": 3
   },
   "file_extension": ".py",
   "mimetype": "text/x-python",
   "name": "python",
   "nbconvert_exporter": "python",
   "pygments_lexer": "ipython3",
   "version": "3.6.9"
  }
 },
 "nbformat": 4,
 "nbformat_minor": 5
}
