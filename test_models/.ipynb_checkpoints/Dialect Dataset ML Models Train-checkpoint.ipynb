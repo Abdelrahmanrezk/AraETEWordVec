{
 "cells": [
  {
   "cell_type": "code",
   "execution_count": 1,
   "id": "f8c38b05",
   "metadata": {},
   "outputs": [],
   "source": [
    "import sys\n",
    "sys.path.append('../preprocess_assets/')"
   ]
  },
  {
   "cell_type": "code",
   "execution_count": 2,
   "id": "b7ce1444",
   "metadata": {},
   "outputs": [],
   "source": [
    "# Main libraries \n",
    "from sklearn.ensemble import BaggingClassifier, AdaBoostClassifier, GradientBoostingClassifier\n",
    "from sklearn.linear_model import LogisticRegression\n",
    "from sklearn.ensemble import ExtraTreesClassifier \n",
    "from sklearn.tree import DecisionTreeClassifier\n",
    "from sklearn.svm import LinearSVC\n",
    "import matplotlib.pyplot as plt\n",
    "\n",
    "# Our files\n",
    "from data_shuffling_split import *\n",
    "from features_extraction import *\n",
    "from ara_vec_preprocess_configs import *\n",
    "from ml_modeling import *"
   ]
  },
  {
   "cell_type": "code",
   "execution_count": 3,
   "id": "52b125bf",
   "metadata": {},
   "outputs": [
    {
     "data": {
      "text/html": [
       "<div>\n",
       "<style scoped>\n",
       "    .dataframe tbody tr th:only-of-type {\n",
       "        vertical-align: middle;\n",
       "    }\n",
       "\n",
       "    .dataframe tbody tr th {\n",
       "        vertical-align: top;\n",
       "    }\n",
       "\n",
       "    .dataframe thead th {\n",
       "        text-align: right;\n",
       "    }\n",
       "</style>\n",
       "<table border=\"1\" class=\"dataframe\">\n",
       "  <thead>\n",
       "    <tr style=\"text-align: right;\">\n",
       "      <th></th>\n",
       "      <th>id</th>\n",
       "      <th>dialect</th>\n",
       "      <th>text</th>\n",
       "      <th>label</th>\n",
       "    </tr>\n",
       "  </thead>\n",
       "  <tbody>\n",
       "    <tr>\n",
       "      <th>0</th>\n",
       "      <td>939759633866088448</td>\n",
       "      <td>AE</td>\n",
       "      <td>قال لها اعطيك نص راتبي وتبطلين الشك والتحقيق !...</td>\n",
       "      <td>0</td>\n",
       "    </tr>\n",
       "    <tr>\n",
       "      <th>1</th>\n",
       "      <td>1052304577591209984</td>\n",
       "      <td>PL</td>\n",
       "      <td>مقتنع جدا بفكره انو الناس اذواق . لكن لما بسمع...</td>\n",
       "      <td>11</td>\n",
       "    </tr>\n",
       "    <tr>\n",
       "      <th>2</th>\n",
       "      <td>1001494383135477760</td>\n",
       "      <td>IQ</td>\n",
       "      <td>حسابشخصي حسابشخصي حسابشخصي هاا يمعود تجي وحدك ...</td>\n",
       "      <td>4</td>\n",
       "    </tr>\n",
       "    <tr>\n",
       "      <th>3</th>\n",
       "      <td>693409524665942016</td>\n",
       "      <td>KW</td>\n",
       "      <td>الرومنسيه بس بلوزن الثقيل . هه رابطويب</td>\n",
       "      <td>6</td>\n",
       "    </tr>\n",
       "    <tr>\n",
       "      <th>4</th>\n",
       "      <td>1078727287292526592</td>\n",
       "      <td>LB</td>\n",
       "      <td>حسابشخصي حسابشخصي بخصوص جوليا الها حق تحكي سيا...</td>\n",
       "      <td>7</td>\n",
       "    </tr>\n",
       "  </tbody>\n",
       "</table>\n",
       "</div>"
      ],
      "text/plain": [
       "                    id dialect  \\\n",
       "0   939759633866088448      AE   \n",
       "1  1052304577591209984      PL   \n",
       "2  1001494383135477760      IQ   \n",
       "3   693409524665942016      KW   \n",
       "4  1078727287292526592      LB   \n",
       "\n",
       "                                                text  label  \n",
       "0  قال لها اعطيك نص راتبي وتبطلين الشك والتحقيق !...      0  \n",
       "1  مقتنع جدا بفكره انو الناس اذواق . لكن لما بسمع...     11  \n",
       "2  حسابشخصي حسابشخصي حسابشخصي هاا يمعود تجي وحدك ...      4  \n",
       "3             الرومنسيه بس بلوزن الثقيل . هه رابطويب      6  \n",
       "4  حسابشخصي حسابشخصي بخصوص جوليا الها حق تحكي سيا...      7  "
      ]
     },
     "execution_count": 3,
     "metadata": {},
     "output_type": "execute_result"
    }
   ],
   "source": [
    "strat_train_set = read_file(\"dialect_prediction/train/strat_train_set.csv\")\n",
    "strat_train_set.head()"
   ]
  },
  {
   "cell_type": "code",
   "execution_count": 4,
   "id": "8adb7157",
   "metadata": {},
   "outputs": [
    {
     "name": "stdout",
     "output_type": "stream",
     "text": [
      "The number of instances in the training data after StratifiedShuffleSplit are:  440052\n",
      "The number of instances in the testing data after StratifiedShuffleSplit are:   8981\n",
      "The number of trainin instances:  440052\n",
      "The number of validation instances:  8981\n",
      "The number of trainin labels :  440052\n",
      "The number of validation labels :  8981\n"
     ]
    }
   ],
   "source": [
    "x_train_text, x_val_text, y_train, y_val = prepare_data(strat_train_set)"
   ]
  },
  {
   "cell_type": "code",
   "execution_count": 5,
   "id": "3d443a8e",
   "metadata": {},
   "outputs": [
    {
     "name": "stdout",
     "output_type": "stream",
     "text": [
      "Before Tokenization : \n",
      " ['انا اذكر اني دافع خمس دنانير حق بناء السور الرابع ايام المتوسطه . . . وينهم ابيهم الحين 😏 ', 'حسابشخصي دااعش همه انتتو منو الي سوا داعش غيركم ؟ ؟ ؟ مافي شخص بالكون مايعرف انو الي سوا داعش هوه انتم لان انتم عباره عن ناس ماعدها رحمه كلهم انتو', 'ايه اخبار الاضحوكه قولتلي 😂 رابطويب']\n",
      "==================================================\n",
      "After Tokenization : \n",
      " [['انا', 'اذكر', 'اني', 'دافع', 'خمس', 'دنانير', 'حق', 'بناء', 'السور', 'الرابع', 'ايام', 'المتوسطه', '.', '.', '.', 'وينهم', 'ابيهم', 'الحين', '😏'], ['حسابشخصي', 'دااعش', 'همه', 'انتتو', 'منو', 'الي', 'سوا', 'داعش', 'غيركم', '؟', '؟', '؟', 'مافي', 'شخص', 'بالكون', 'مايعرف', 'انو', 'الي', 'سوا', 'داعش', 'هوه', 'انتم', 'لان', 'انتم', 'عباره', 'عن', 'ناس', 'ماعدها', 'رحمه', 'كلهم', 'انتو'], ['ايه', 'اخبار', 'الاضحوكه', 'قولتلي', '😂', 'رابطويب']]\n",
      "==================================================\n",
      "Before Tokenization : \n",
      " ['بعشقها وبشتريها للان بس اشوفها في المحلات وباكلها ب اصبع ايدي مش محتاجه ملعقه رابطويب', 'حسابشخصي يالمهيني . . . اذا الله رزقك بهالنوع من البشر برمضان تقدر تتصدق علي باجي المصلين . ونش الداخليه ما يقصر وخل تنحجز سيايرهم الويكند', 'شكو Anker طالعين باعلان جيناكم ؟ ما عرفنالكم والله ♂️ ']\n",
      "==================================================\n",
      "After Tokenization : \n",
      " [['بعشقها', 'وبشتريها', 'للان', 'بس', 'اشوفها', 'في', 'المحلات', 'وباكلها', 'ب', 'اصبع', 'ايدي', 'مش', 'محتاجه', 'ملعقه', 'رابطويب'], ['حسابشخصي', 'يالمهيني', '.', '.', '.', 'اذا', 'الله', 'رزقك', 'بهالنوع', 'من', 'البشر', 'برمضان', 'تقدر', 'تتصدق', 'علي', 'باجي', 'المصلين', '.', 'ونش', 'الداخليه', 'ما', 'يقصر', 'وخل', 'تنحجز', 'سيايرهم', 'الويكند'], ['شكو', 'Anker', 'طالعين', 'باعلان', 'جيناكم', '؟', 'ما', 'عرفنالكم', 'والله', '♂️']]\n",
      "full gram tokenization : \n",
      " [['انا', 'اذكر', 'اني', 'دافع', 'خمس', 'دنانير', 'حق', 'بناء', 'السور', 'الرابع', 'ايام', 'المتوسطه', '.', '.', '.', 'وينهم', 'ابيهم', 'الحين', '😏', 'انا_اذكر', 'اذكر_اني', 'اني_دافع', 'دافع_خمس', 'خمس_دنانير', 'دنانير_حق', 'حق_بناء', 'بناء_السور', 'السور_الرابع', 'الرابع_ايام', 'ايام_المتوسطه', 'المتوسطه_.', '._.', '._.', '._وينهم', 'وينهم_ابيهم', 'ابيهم_الحين', 'الحين_😏', 'انا_اذكر_اني', 'اذكر_اني_دافع', 'اني_دافع_خمس', 'دافع_خمس_دنانير', 'خمس_دنانير_حق', 'دنانير_حق_بناء', 'حق_بناء_السور', 'بناء_السور_الرابع', 'السور_الرابع_ايام', 'الرابع_ايام_المتوسطه', 'ايام_المتوسطه_.', 'المتوسطه_._.', '._._.', '._._وينهم', '._وينهم_ابيهم', 'وينهم_ابيهم_الحين', 'ابيهم_الحين_😏'], ['حسابشخصي', 'دااعش', 'همه', 'انتتو', 'منو', 'الي', 'سوا', 'داعش', 'غيركم', '؟', '؟', '؟', 'مافي', 'شخص', 'بالكون', 'مايعرف', 'انو', 'الي', 'سوا', 'داعش', 'هوه', 'انتم', 'لان', 'انتم', 'عباره', 'عن', 'ناس', 'ماعدها', 'رحمه', 'كلهم', 'انتو', 'حسابشخصي_دااعش', 'دااعش_همه', 'همه_انتتو', 'انتتو_منو', 'منو_الي', 'الي_سوا', 'سوا_داعش', 'داعش_غيركم', 'غيركم_؟', '؟_؟', '؟_؟', '؟_مافي', 'مافي_شخص', 'شخص_بالكون', 'بالكون_مايعرف', 'مايعرف_انو', 'انو_الي', 'الي_سوا', 'سوا_داعش', 'داعش_هوه', 'هوه_انتم', 'انتم_لان', 'لان_انتم', 'انتم_عباره', 'عباره_عن', 'عن_ناس', 'ناس_ماعدها', 'ماعدها_رحمه', 'رحمه_كلهم', 'كلهم_انتو', 'حسابشخصي_دااعش_همه', 'دااعش_همه_انتتو', 'همه_انتتو_منو', 'انتتو_منو_الي', 'منو_الي_سوا', 'الي_سوا_داعش', 'سوا_داعش_غيركم', 'داعش_غيركم_؟', 'غيركم_؟_؟', '؟_؟_؟', '؟_؟_مافي', '؟_مافي_شخص', 'مافي_شخص_بالكون', 'شخص_بالكون_مايعرف', 'بالكون_مايعرف_انو', 'مايعرف_انو_الي', 'انو_الي_سوا', 'الي_سوا_داعش', 'سوا_داعش_هوه', 'داعش_هوه_انتم', 'هوه_انتم_لان', 'انتم_لان_انتم', 'لان_انتم_عباره', 'انتم_عباره_عن', 'عباره_عن_ناس', 'عن_ناس_ماعدها', 'ناس_ماعدها_رحمه', 'ماعدها_رحمه_كلهم', 'رحمه_كلهم_انتو'], ['ايه', 'اخبار', 'الاضحوكه', 'قولتلي', '😂', 'رابطويب', 'ايه_اخبار', 'اخبار_الاضحوكه', 'الاضحوكه_قولتلي', 'قولتلي_😂', '😂_رابطويب', 'ايه_اخبار_الاضحوكه', 'اخبار_الاضحوكه_قولتلي', 'الاضحوكه_قولتلي_😂', 'قولتلي_😂_رابطويب']]\n",
      "==================================================\n",
      "full gram tokenization : \n",
      " [['بعشقها', 'وبشتريها', 'للان', 'بس', 'اشوفها', 'في', 'المحلات', 'وباكلها', 'ب', 'اصبع', 'ايدي', 'مش', 'محتاجه', 'ملعقه', 'رابطويب', 'بعشقها_وبشتريها', 'وبشتريها_للان', 'للان_بس', 'بس_اشوفها', 'اشوفها_في', 'في_المحلات', 'المحلات_وباكلها', 'وباكلها_ب', 'ب_اصبع', 'اصبع_ايدي', 'ايدي_مش', 'مش_محتاجه', 'محتاجه_ملعقه', 'ملعقه_رابطويب', 'بعشقها_وبشتريها_للان', 'وبشتريها_للان_بس', 'للان_بس_اشوفها', 'بس_اشوفها_في', 'اشوفها_في_المحلات', 'في_المحلات_وباكلها', 'المحلات_وباكلها_ب', 'وباكلها_ب_اصبع', 'ب_اصبع_ايدي', 'اصبع_ايدي_مش', 'ايدي_مش_محتاجه', 'مش_محتاجه_ملعقه', 'محتاجه_ملعقه_رابطويب'], ['حسابشخصي', 'يالمهيني', '.', '.', '.', 'اذا', 'الله', 'رزقك', 'بهالنوع', 'من', 'البشر', 'برمضان', 'تقدر', 'تتصدق', 'علي', 'باجي', 'المصلين', '.', 'ونش', 'الداخليه', 'ما', 'يقصر', 'وخل', 'تنحجز', 'سيايرهم', 'الويكند', 'حسابشخصي_يالمهيني', 'يالمهيني_.', '._.', '._.', '._اذا', 'اذا_الله', 'الله_رزقك', 'رزقك_بهالنوع', 'بهالنوع_من', 'من_البشر', 'البشر_برمضان', 'برمضان_تقدر', 'تقدر_تتصدق', 'تتصدق_علي', 'علي_باجي', 'باجي_المصلين', 'المصلين_.', '._ونش', 'ونش_الداخليه', 'الداخليه_ما', 'ما_يقصر', 'يقصر_وخل', 'وخل_تنحجز', 'تنحجز_سيايرهم', 'سيايرهم_الويكند', 'حسابشخصي_يالمهيني_.', 'يالمهيني_._.', '._._.', '._._اذا', '._اذا_الله', 'اذا_الله_رزقك', 'الله_رزقك_بهالنوع', 'رزقك_بهالنوع_من', 'بهالنوع_من_البشر', 'من_البشر_برمضان', 'البشر_برمضان_تقدر', 'برمضان_تقدر_تتصدق', 'تقدر_تتصدق_علي', 'تتصدق_علي_باجي', 'علي_باجي_المصلين', 'باجي_المصلين_.', 'المصلين_._ونش', '._ونش_الداخليه', 'ونش_الداخليه_ما', 'الداخليه_ما_يقصر', 'ما_يقصر_وخل', 'يقصر_وخل_تنحجز', 'وخل_تنحجز_سيايرهم', 'تنحجز_سيايرهم_الويكند'], ['شكو', 'Anker', 'طالعين', 'باعلان', 'جيناكم', '؟', 'ما', 'عرفنالكم', 'والله', '♂️', 'شكو_Anker', 'Anker_طالعين', 'طالعين_باعلان', 'باعلان_جيناكم', 'جيناكم_؟', '؟_ما', 'ما_عرفنالكم', 'عرفنالكم_والله', 'والله_♂️', 'شكو_Anker_طالعين', 'Anker_طالعين_باعلان', 'طالعين_باعلان_جيناكم', 'باعلان_جيناكم_؟', 'جيناكم_؟_ما', '؟_ما_عرفنالكم', 'ما_عرفنالكم_والله', 'عرفنالكم_والله_♂️']]\n",
      "==================================================\n"
     ]
    }
   ],
   "source": [
    "x_train_text_tokenized = tokenize_using_nltk_TreebankWordTokenizer(x_train_text)\n",
    "\n",
    "print(\"Before Tokenization : \\n\", x_train_text[:3])\n",
    "print(\"=\"*50)\n",
    "print(\"After Tokenization : \\n\", x_train_text_tokenized[:3])\n",
    "print(\"=\"*50)\n",
    "\n",
    "x_val_text_tokenized = tokenize_using_nltk_TreebankWordTokenizer(x_val_text)\n",
    "\n",
    "print(\"Before Tokenization : \\n\", x_val_text[:3])\n",
    "print(\"=\"*50)\n",
    "print(\"After Tokenization : \\n\", x_val_text_tokenized[:3])\n",
    "\n",
    "fullgram_x_train_text_tokenized = get_all_ngrams(x_train_text_tokenized)\n",
    "print(\"full gram tokenization : \\n\", fullgram_x_train_text_tokenized[:3])\n",
    "print(\"=\"*50)\n",
    "fullgram_x_val_text_tokenized = get_all_ngrams(x_val_text_tokenized)\n",
    "print(\"full gram tokenization : \\n\", fullgram_x_val_text_tokenized[:3])\n",
    "print(\"=\"*50)"
   ]
  },
  {
   "cell_type": "code",
   "execution_count": 6,
   "id": "a7b574d6",
   "metadata": {},
   "outputs": [
    {
     "name": "stdout",
     "output_type": "stream",
     "text": [
      "The max length is:  279\n"
     ]
    },
    {
     "data": {
      "text/plain": [
       "[54, 90, 15, 12, 36, 48, 21, 84, 27, 42]"
      ]
     },
     "execution_count": 6,
     "metadata": {},
     "output_type": "execute_result"
    }
   ],
   "source": [
    "# Get how many words inside each text after tokenization\n",
    "num_of_words_in_each_text = [len(text) for text in fullgram_x_train_text_tokenized]\n",
    "max_len = max(num_of_words_in_each_text)\n",
    "print(\"The max length is: \", max_len)\n",
    "num_of_words_in_each_text[:10]"
   ]
  },
  {
   "cell_type": "code",
   "execution_count": 7,
   "id": "3442734c",
   "metadata": {},
   "outputs": [
    {
     "name": "stdout",
     "output_type": "stream",
     "text": [
      "The number of keys before removing are:  86\n",
      "==================================================\n",
      "The number of keys after removing some of them are:  50\n",
      "==================================================\n"
     ]
    },
    {
     "data": {
      "image/png": "[encoded data removed]",
      "text/plain": [
       "<Figure size 1332x432 with 1 Axes>"
      ]
     },
     "metadata": {},
     "output_type": "display_data"
    }
   ],
   "source": [
    "# count how many times these value repeated and sort them\n",
    "new_dicts = get_keys_that_val_gr_than_num(num_of_words_in_each_text, 1000)\n",
    "keys = list(new_dicts.keys())\n",
    "values = list(new_dicts.values())\n",
    "plt.style.use('dark_background')\n",
    "fig = plt.gcf()\n",
    "fig.set_size_inches(18.5, 6)\n",
    "plt.bar(range(len(new_dicts)), values, tick_label=keys)\n",
    "plt.show()"
   ]
  },
  {
   "cell_type": "code",
   "execution_count": null,
   "id": "65d666b9",
   "metadata": {},
   "outputs": [],
   "source": [
    "ourmodel = load_word2vec_model(\"models/word2vec/bakrianoo_unigram_cbow_model/full_uni_cbow_100_twitter.mdl\")\n",
    "bakr_model = load_word2vec_model(\"models/word2vec/bakrianoo_unigram_cbow_model/full_uni_cbow_100_twitter.mdl\")\n",
    "muhammed_model = load_word2vec_model(\"models/word2vec/bakrianoo_unigram_cbow_model/full_uni_cbow_100_twitter.mdl\")"
   ]
  },
  {
   "cell_type": "code",
   "execution_count": null,
   "id": "9f12845c",
   "metadata": {},
   "outputs": [],
   "source": [
    "number_of_features = 100\n",
    "max_len_str = 128\n",
    "word2vec_path = \"bakr/\"\n",
    "model_path_to_save = \"models/ml_models/\"\n",
    "estimators = voting_models()\n",
    "\n",
    "X_train_embed_matrix = text_to_matrix_using_word2vec(word_to_vec_model, x_train_text_tokenized, max_len_str)\n",
    "X_val_embed_matrix = text_to_matrix_using_word2vec(word_to_vec_model, x_val_text_tokenized, max_len_str)"
   ]
  },
  {
   "cell_type": "markdown",
   "id": "4b7fc860",
   "metadata": {},
   "source": [
    "# Train Logistic Regression"
   ]
  },
  {
   "cell_type": "code",
   "execution_count": null,
   "id": "b5b7cca0",
   "metadata": {},
   "outputs": [],
   "source": [
    "model = LogisticRegression(penalty='l2', C=1, multi_class='multinomial', solver='lbfgs', verbose=1)\n",
    "model = ml_classifer_pipeline(model, X_train_embed_matrix, y_train, X_val_embed_matrix, y_val,word2vec_path, model_path_to_save)"
   ]
  },
  {
   "cell_type": "markdown",
   "id": "03d088a7",
   "metadata": {},
   "source": [
    "# Train SVC"
   ]
  },
  {
   "cell_type": "code",
   "execution_count": null,
   "id": "240589b5",
   "metadata": {},
   "outputs": [],
   "source": [
    "model = LinearSVC(C=0.5,  max_iter=50, verbose=1)\n",
    "model = ml_classifer_pipeline(model, X_train_embed_matrix, y_train, X_val_embed_matrix, y_val,word2vec_path, model_path_to_save)"
   ]
  },
  {
   "cell_type": "markdown",
   "id": "25ef9bae",
   "metadata": {},
   "source": [
    "# Hard Voting"
   ]
  },
  {
   "cell_type": "code",
   "execution_count": null,
   "id": "37c04c54",
   "metadata": {},
   "outputs": [],
   "source": [
    "model = VotingClassifier(estimators, voting=\"hard\")\n",
    "model = ml_classifer_pipeline(model, X_train_embed_matrix, y_train, X_val_embed_matrix, y_val,word2vec_path, model_path_to_save)"
   ]
  },
  {
   "cell_type": "markdown",
   "id": "b9e6ab06",
   "metadata": {},
   "source": [
    "# Extr Tree Classifier"
   ]
  },
  {
   "cell_type": "code",
   "execution_count": null,
   "id": "b56fbb6e",
   "metadata": {},
   "outputs": [],
   "source": [
    "model = ExtraTreesClassifier(n_estimators=100, max_depth=5, max_samples=.1, verbose=1)\n",
    "model = ml_classifer_pipeline(model, X_train_embed_matrix, y_train, X_val_embed_matrix, y_val,word2vec_path, model_path_to_save)"
   ]
  },
  {
   "cell_type": "markdown",
   "id": "188d2aa4",
   "metadata": {},
   "source": [
    "# AdaBoost "
   ]
  },
  {
   "cell_type": "code",
   "execution_count": null,
   "id": "75f861c7",
   "metadata": {},
   "outputs": [],
   "source": [
    "model = LinearSVC(C=0.5,  verbose=1)\n",
    "model = AdaBoostClassifier(model,  algorithm=\"SAMME\", n_estimators=5)\n",
    "model = ml_classifer_pipeline(model, X_train_embed_matrix, y_train, X_val_embed_matrix, y_val,word2vec_path, model_path_to_save)"
   ]
  },
  {
   "cell_type": "markdown",
   "id": "693af6be",
   "metadata": {},
   "source": [
    "#  Gradient Boosting"
   ]
  },
  {
   "cell_type": "code",
   "execution_count": null,
   "id": "43bc7ca3",
   "metadata": {},
   "outputs": [],
   "source": [
    "model = GradientBoostingClassifier(n_estimators=10, subsample=.1, learning_rate=.5,   max_depth=5, verbose=1)\n",
    "model = ml_classifer_pipeline(model, X_train_embed_matrix, y_train, X_val_embed_matrix, y_val,word2vec_path, model_path_to_save)"
   ]
  },
  {
   "cell_type": "markdown",
   "id": "da0347e6",
   "metadata": {},
   "source": [
    "# XGBClassifier"
   ]
  },
  {
   "cell_type": "code",
   "execution_count": null,
   "id": "2c5e08de",
   "metadata": {},
   "outputs": [],
   "source": [
    "model = XGBClassifier(max_depth=5, subsample=.1)\n",
    "model = ml_classifer_pipeline(model, X_train_embed_matrix, y_train, X_val_embed_matrix, y_val,word2vec_path, model_path_to_save)"
   ]
  },
  {
   "cell_type": "markdown",
   "id": "3ba93151",
   "metadata": {},
   "source": [
    "# Rezk"
   ]
  },
  {
   "cell_type": "code",
   "execution_count": null,
   "id": "d0bb7004",
   "metadata": {},
   "outputs": [],
   "source": [
    "word_to_vec_model = load_word2vec_model(\"models/word2vec/rezk_unigram_CBOW_model/train_word2vec_cbow__window_3_min_count_300\")"
   ]
  },
  {
   "cell_type": "code",
   "execution_count": null,
   "id": "5170aec5",
   "metadata": {},
   "outputs": [],
   "source": [
    "number_of_features = 300\n",
    "max_len_str = 64\n",
    "word2vec_path = \"rezk/\"\n",
    "model_path_to_save = \"models/ml_models/\"\n",
    "estimators = voting_models()\n",
    "\n",
    "X_train_embed_matrix = text_to_matrix_using_word2vec(word_to_vec_model, x_train_text_tokenized, max_len_str)\n",
    "X_val_embed_matrix = text_to_matrix_using_word2vec(word_to_vec_model, x_val_text_tokenized, max_len_str)"
   ]
  },
  {
   "cell_type": "markdown",
   "id": "6d496826",
   "metadata": {},
   "source": [
    "# Train Logistic Regression"
   ]
  },
  {
   "cell_type": "code",
   "execution_count": null,
   "id": "4c8d7d77",
   "metadata": {},
   "outputs": [],
   "source": [
    "model = LogisticRegression(penalty='l2', C=1, multi_class='multinomial', solver='lbfgs', verbose=1)\n",
    "model = ml_classifer_pipeline(model, X_train_embed_matrix, y_train, X_val_embed_matrix, y_val,word2vec_path, model_path_to_save)"
   ]
  },
  {
   "cell_type": "markdown",
   "id": "609cb3ea",
   "metadata": {},
   "source": [
    "# Train SVC"
   ]
  },
  {
   "cell_type": "code",
   "execution_count": null,
   "id": "b277bf9e",
   "metadata": {},
   "outputs": [],
   "source": [
    "model = LinearSVC(C=0.5,  max_iter=50, verbose=1)\n",
    "model = ml_classifer_pipeline(model, X_train_embed_matrix, y_train, X_val_embed_matrix, y_val,word2vec_path, model_path_to_save)"
   ]
  },
  {
   "cell_type": "markdown",
   "id": "7ad287fd",
   "metadata": {},
   "source": [
    "# Bagging Classifier"
   ]
  },
  {
   "cell_type": "code",
   "execution_count": null,
   "id": "0843f619",
   "metadata": {},
   "outputs": [],
   "source": [
    "dec_tree_cls = DecisionTreeClassifier(max_depth=5, min_samples_split=2, min_samples_leaf=1)\n",
    "model = BaggingClassifier(base_estimator=dec_tree_cls, n_estimators=100, max_samples=.2, verbose=1)\n",
    "ml_classifer_pipeline(model, X_train_embed_matrix, y_train, X_val_embed_matrix, y_val,word2vec_path, model_path_to_save)"
   ]
  },
  {
   "cell_type": "markdown",
   "id": "c824b240",
   "metadata": {},
   "source": [
    "# Extr Tree Classifier"
   ]
  },
  {
   "cell_type": "code",
   "execution_count": null,
   "id": "30ef2a0f",
   "metadata": {},
   "outputs": [],
   "source": [
    "model = ExtraTreesClassifier(n_estimators=100, max_depth=5, max_samples=.1, verbose=1)\n",
    "model = ml_classifer_pipeline(model, X_train_embed_matrix, y_train, X_val_embed_matrix, y_val,word2vec_path, model_path_to_save)"
   ]
  },
  {
   "cell_type": "markdown",
   "id": "6e2fc3aa",
   "metadata": {},
   "source": [
    "# AdaBoost "
   ]
  },
  {
   "cell_type": "code",
   "execution_count": null,
   "id": "a8c5b628",
   "metadata": {},
   "outputs": [],
   "source": [
    "model = LinearSVC(C=0.5,  verbose=1)\n",
    "model = AdaBoostClassifier(model,  algorithm=\"SAMME\", n_estimators=5)\n",
    "model = ml_classifer_pipeline(model, X_train_embed_matrix, y_train, X_val_embed_matrix, y_val,word2vec_path, model_path_to_save)"
   ]
  },
  {
   "cell_type": "markdown",
   "id": "2c07f3fd",
   "metadata": {},
   "source": [
    "#  Gradient Boosting"
   ]
  },
  {
   "cell_type": "code",
   "execution_count": null,
   "id": "686488f4",
   "metadata": {},
   "outputs": [],
   "source": [
    "model = GradientBoostingClassifier(n_estimators=10, subsample=.1, learning_rate=.5,   max_depth=5, verbose=1)\n",
    "model = ml_classifer_pipeline(model, X_train_embed_matrix, y_train, X_val_embed_matrix, y_val,word2vec_path, model_path_to_save)"
   ]
  },
  {
   "cell_type": "markdown",
   "id": "50e40b05",
   "metadata": {},
   "source": [
    "# XGBClassifier"
   ]
  },
  {
   "cell_type": "code",
   "execution_count": null,
   "id": "56be6d91",
   "metadata": {},
   "outputs": [],
   "source": [
    "model = XGBClassifier(max_depth=5, subsample=.1)\n",
    "model = ml_classifer_pipeline(model, X_train_embed_matrix, y_train, X_val_embed_matrix, y_val,word2vec_path, model_path_to_save)"
   ]
  },
  {
   "cell_type": "markdown",
   "id": "acd865d0",
   "metadata": {},
   "source": [
    "# Note !\n",
    "\n",
    "**We can use different word embedding representation, to see its effect on training.**"
   ]
  },
  {
   "cell_type": "code",
   "execution_count": null,
   "id": "4c5671d8",
   "metadata": {},
   "outputs": [],
   "source": []
  }
 ],
 "metadata": {
  "kernelspec": {
   "display_name": "Python 3",
   "language": "python",
   "name": "python3"
  },
  "language_info": {
   "codemirror_mode": {
    "name": "ipython",
    "version": 3
   },
   "file_extension": ".py",
   "mimetype": "text/x-python",
   "name": "python",
   "nbconvert_exporter": "python",
   "pygments_lexer": "ipython3",
   "version": "3.9.7"
  }
 },
 "nbformat": 4,
 "nbformat_minor": 5
}
