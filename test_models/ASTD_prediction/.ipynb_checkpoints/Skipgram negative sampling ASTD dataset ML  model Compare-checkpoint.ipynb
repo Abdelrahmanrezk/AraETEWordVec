{
 "cells": [
  {
   "cell_type": "code",
   "execution_count": null,
   "id": "cd6dc24e",
   "metadata": {},
   "outputs": [],
   "source": [
    "import sys\n",
    "sys.path.append('../../preprocess_assets/')"
   ]
  },
  {
   "cell_type": "code",
   "execution_count": null,
   "id": "79625b5c",
   "metadata": {},
   "outputs": [],
   "source": [
    "# Main libraries \n",
    "from sklearn.ensemble import BaggingClassifier, AdaBoostClassifier, GradientBoostingClassifier\n",
    "from sklearn.linear_model import LogisticRegression\n",
    "from sklearn.ensemble import ExtraTreesClassifier \n",
    "from sklearn.tree import DecisionTreeClassifier\n",
    "from sklearn.svm import LinearSVC\n",
    "import matplotlib.pyplot as plt\n",
    "\n",
    "# Our files\n",
    "from data_shuffling_split import *\n",
    "from features_extraction import *\n",
    "from ara_vec_preprocess_configs import *\n",
    "from ml_modeling import *"
   ]
  },
  {
   "cell_type": "code",
   "execution_count": 3,
   "id": "f88f708b",
   "metadata": {},
   "outputs": [
    {
     "data": {
      "text/html": [
       "<div>\n",
       "<style scoped>\n",
       "    .dataframe tbody tr th:only-of-type {\n",
       "        vertical-align: middle;\n",
       "    }\n",
       "\n",
       "    .dataframe tbody tr th {\n",
       "        vertical-align: top;\n",
       "    }\n",
       "\n",
       "    .dataframe thead th {\n",
       "        text-align: right;\n",
       "    }\n",
       "</style>\n",
       "<table border=\"1\" class=\"dataframe\">\n",
       "  <thead>\n",
       "    <tr style=\"text-align: right;\">\n",
       "      <th></th>\n",
       "      <th>text</th>\n",
       "      <th>label</th>\n",
       "      <th>classes</th>\n",
       "    </tr>\n",
       "  </thead>\n",
       "  <tbody>\n",
       "    <tr>\n",
       "      <th>0</th>\n",
       "      <td>راجعت الردود فوجدت المتزمتين دينيا هم الاكثر ا...</td>\n",
       "      <td>0</td>\n",
       "      <td>NEG</td>\n",
       "    </tr>\n",
       "    <tr>\n",
       "      <th>1</th>\n",
       "      <td>#شاهد_سكاي : #عيد_العمال تراجع اعدد العاطلين</td>\n",
       "      <td>2</td>\n",
       "      <td>OBJ</td>\n",
       "    </tr>\n",
       "    <tr>\n",
       "      <th>2</th>\n",
       "      <td>يقوم د / ابو الفتوح التواصل مع مختلف التيارات ...</td>\n",
       "      <td>2</td>\n",
       "      <td>OBJ</td>\n",
       "    </tr>\n",
       "    <tr>\n",
       "      <th>3</th>\n",
       "      <td>هل الشرطه والجيش سيطبق عليهم حدود الاجور دي ؟</td>\n",
       "      <td>2</td>\n",
       "      <td>OBJ</td>\n",
       "    </tr>\n",
       "    <tr>\n",
       "      <th>4</th>\n",
       "      <td>1 -انسحاب الوفد المصري المشارك في مهرجان مالم...</td>\n",
       "      <td>2</td>\n",
       "      <td>OBJ</td>\n",
       "    </tr>\n",
       "  </tbody>\n",
       "</table>\n",
       "</div>"
      ],
      "text/plain": [
       "                                                text  label classes\n",
       "0  راجعت الردود فوجدت المتزمتين دينيا هم الاكثر ا...      0     NEG\n",
       "1       #شاهد_سكاي : #عيد_العمال تراجع اعدد العاطلين      2     OBJ\n",
       "2  يقوم د / ابو الفتوح التواصل مع مختلف التيارات ...      2     OBJ\n",
       "3     هل الشرطه والجيش سيطبق عليهم حدود الاجور دي ؟       2     OBJ\n",
       "4   1 -انسحاب الوفد المصري المشارك في مهرجان مالم...      2     OBJ"
      ]
     },
     "execution_count": 3,
     "metadata": {},
     "output_type": "execute_result"
    }
   ],
   "source": [
    "strat_train_set = read_file(\"train/strat_train_set.csv\")\n",
    "strat_train_set.head()"
   ]
  },
  {
   "cell_type": "code",
   "execution_count": 4,
   "id": "8a4c7d4f",
   "metadata": {},
   "outputs": [
    {
     "name": "stdout",
     "output_type": "stream",
     "text": [
      "The number of instances in the training data after StratifiedShuffleSplit are:  9608\n",
      "The number of instances in the testing data after StratifiedShuffleSplit are:   197\n",
      "The number of trainin instances:  9608\n",
      "The number of validation instances:  197\n",
      "The number of trainin labels :  9608\n",
      "The number of validation labels :  197\n"
     ]
    }
   ],
   "source": [
    "x_train_text, x_val_text, y_train, y_val = prepare_data(strat_train_set)"
   ]
  },
  {
   "cell_type": "code",
   "execution_count": 5,
   "id": "015fa1b6",
   "metadata": {},
   "outputs": [
    {
     "name": "stdout",
     "output_type": "stream",
     "text": [
      "Before Tokenization : \n",
      " ['بنتعلم منك يا باشا', '#جمال #خيال #حقيقه #جميل #درر #حكم #اعجبني #حكمه #بقلمي #شوق #بوح #شعر #قصيد #رتويت خمس الاف متابع بـ 200 ريال 157 ', 'جمعه مباركه : ) ']\n",
      "==================================================\n",
      "After Tokenization : \n",
      " [['بنتعلم', 'منك', 'يا', 'باشا'], ['#', 'جمال', '#', 'خيال', '#', 'حقيقه', '#', 'جميل', '#', 'درر', '#', 'حكم', '#', 'اعجبني', '#', 'حكمه', '#', 'بقلمي', '#', 'شوق', '#', 'بوح', '#', 'شعر', '#', 'قصيد', '#', 'رتويت', 'خمس', 'الاف', 'متابع', 'بـ', '200', 'ريال', '157'], ['جمعه', 'مباركه', ':', ')']]\n",
      "==================================================\n",
      "Before Tokenization : \n",
      " ['رفض التلفزيون المصري ظهوري في برنامج عمرو خالد حمله التعتيم و التشويه مازالت مستمره', '#مرصد_طلاب_حريه #جامعه_المنصوره #محاكمات امرت محكمه جنايات المنصوره بتاجيل محاكمه 17 طالبا من كليه الهندسه الي', 'ما رايكم باداء نجمه #ستار_اكاديمي ماريتا ابي نادر علي مسرح #اجمل_سنين_عمرنا # 3 ']\n",
      "==================================================\n",
      "After Tokenization : \n",
      " [['رفض', 'التلفزيون', 'المصري', 'ظهوري', 'في', 'برنامج', 'عمرو', 'خالد', 'حمله', 'التعتيم', 'و', 'التشويه', 'مازالت', 'مستمره'], ['#', 'مرصد_طلاب_حريه', '#', 'جامعه_المنصوره', '#', 'محاكمات', 'امرت', 'محكمه', 'جنايات', 'المنصوره', 'بتاجيل', 'محاكمه', '17', 'طالبا', 'من', 'كليه', 'الهندسه', 'الي'], ['ما', 'رايكم', 'باداء', 'نجمه', '#', 'ستار_اكاديمي', 'ماريتا', 'ابي', 'نادر', 'علي', 'مسرح', '#', 'اجمل_سنين_عمرنا', '#', '3']]\n",
      "full gram tokenization : \n",
      " [['بنتعلم', 'منك', 'يا', 'باشا', 'بنتعلم_منك', 'منك_يا', 'يا_باشا', 'بنتعلم_منك_يا', 'منك_يا_باشا'], ['#', 'جمال', '#', 'خيال', '#', 'حقيقه', '#', 'جميل', '#', 'درر', '#', 'حكم', '#', 'اعجبني', '#', 'حكمه', '#', 'بقلمي', '#', 'شوق', '#', 'بوح', '#', 'شعر', '#', 'قصيد', '#', 'رتويت', 'خمس', 'الاف', 'متابع', 'بـ', '200', 'ريال', '157', '#_جمال', 'جمال_#', '#_خيال', 'خيال_#', '#_حقيقه', 'حقيقه_#', '#_جميل', 'جميل_#', '#_درر', 'درر_#', '#_حكم', 'حكم_#', '#_اعجبني', 'اعجبني_#', '#_حكمه', 'حكمه_#', '#_بقلمي', 'بقلمي_#', '#_شوق', 'شوق_#', '#_بوح', 'بوح_#', '#_شعر', 'شعر_#', '#_قصيد', 'قصيد_#', '#_رتويت', 'رتويت_خمس', 'خمس_الاف', 'الاف_متابع', 'متابع_بـ', 'بـ_200', '200_ريال', 'ريال_157', '#_جمال_#', 'جمال_#_خيال', '#_خيال_#', 'خيال_#_حقيقه', '#_حقيقه_#', 'حقيقه_#_جميل', '#_جميل_#', 'جميل_#_درر', '#_درر_#', 'درر_#_حكم', '#_حكم_#', 'حكم_#_اعجبني', '#_اعجبني_#', 'اعجبني_#_حكمه', '#_حكمه_#', 'حكمه_#_بقلمي', '#_بقلمي_#', 'بقلمي_#_شوق', '#_شوق_#', 'شوق_#_بوح', '#_بوح_#', 'بوح_#_شعر', '#_شعر_#', 'شعر_#_قصيد', '#_قصيد_#', 'قصيد_#_رتويت', '#_رتويت_خمس', 'رتويت_خمس_الاف', 'خمس_الاف_متابع', 'الاف_متابع_بـ', 'متابع_بـ_200', 'بـ_200_ريال', '200_ريال_157'], ['جمعه', 'مباركه', ':', ')', 'جمعه_مباركه', 'مباركه_:', ':_)', 'جمعه_مباركه_:', 'مباركه_:_)']]\n",
      "==================================================\n",
      "full gram tokenization : \n",
      " [['رفض', 'التلفزيون', 'المصري', 'ظهوري', 'في', 'برنامج', 'عمرو', 'خالد', 'حمله', 'التعتيم', 'و', 'التشويه', 'مازالت', 'مستمره', 'رفض_التلفزيون', 'التلفزيون_المصري', 'المصري_ظهوري', 'ظهوري_في', 'في_برنامج', 'برنامج_عمرو', 'عمرو_خالد', 'خالد_حمله', 'حمله_التعتيم', 'التعتيم_و', 'و_التشويه', 'التشويه_مازالت', 'مازالت_مستمره', 'رفض_التلفزيون_المصري', 'التلفزيون_المصري_ظهوري', 'المصري_ظهوري_في', 'ظهوري_في_برنامج', 'في_برنامج_عمرو', 'برنامج_عمرو_خالد', 'عمرو_خالد_حمله', 'خالد_حمله_التعتيم', 'حمله_التعتيم_و', 'التعتيم_و_التشويه', 'و_التشويه_مازالت', 'التشويه_مازالت_مستمره'], ['#', 'مرصد_طلاب_حريه', '#', 'جامعه_المنصوره', '#', 'محاكمات', 'امرت', 'محكمه', 'جنايات', 'المنصوره', 'بتاجيل', 'محاكمه', '17', 'طالبا', 'من', 'كليه', 'الهندسه', 'الي', '#_مرصد_طلاب_حريه', 'مرصد_طلاب_حريه_#', '#_جامعه_المنصوره', 'جامعه_المنصوره_#', '#_محاكمات', 'محاكمات_امرت', 'امرت_محكمه', 'محكمه_جنايات', 'جنايات_المنصوره', 'المنصوره_بتاجيل', 'بتاجيل_محاكمه', 'محاكمه_17', '17_طالبا', 'طالبا_من', 'من_كليه', 'كليه_الهندسه', 'الهندسه_الي', '#_مرصد_طلاب_حريه_#', 'مرصد_طلاب_حريه_#_جامعه_المنصوره', '#_جامعه_المنصوره_#', 'جامعه_المنصوره_#_محاكمات', '#_محاكمات_امرت', 'محاكمات_امرت_محكمه', 'امرت_محكمه_جنايات', 'محكمه_جنايات_المنصوره', 'جنايات_المنصوره_بتاجيل', 'المنصوره_بتاجيل_محاكمه', 'بتاجيل_محاكمه_17', 'محاكمه_17_طالبا', '17_طالبا_من', 'طالبا_من_كليه', 'من_كليه_الهندسه', 'كليه_الهندسه_الي'], ['ما', 'رايكم', 'باداء', 'نجمه', '#', 'ستار_اكاديمي', 'ماريتا', 'ابي', 'نادر', 'علي', 'مسرح', '#', 'اجمل_سنين_عمرنا', '#', '3', 'ما_رايكم', 'رايكم_باداء', 'باداء_نجمه', 'نجمه_#', '#_ستار_اكاديمي', 'ستار_اكاديمي_ماريتا', 'ماريتا_ابي', 'ابي_نادر', 'نادر_علي', 'علي_مسرح', 'مسرح_#', '#_اجمل_سنين_عمرنا', 'اجمل_سنين_عمرنا_#', '#_3', 'ما_رايكم_باداء', 'رايكم_باداء_نجمه', 'باداء_نجمه_#', 'نجمه_#_ستار_اكاديمي', '#_ستار_اكاديمي_ماريتا', 'ستار_اكاديمي_ماريتا_ابي', 'ماريتا_ابي_نادر', 'ابي_نادر_علي', 'نادر_علي_مسرح', 'علي_مسرح_#', 'مسرح_#_اجمل_سنين_عمرنا', '#_اجمل_سنين_عمرنا_#', 'اجمل_سنين_عمرنا_#_3']]\n",
      "==================================================\n"
     ]
    }
   ],
   "source": [
    "x_train_text_tokenized = tokenize_using_nltk_TreebankWordTokenizer(x_train_text)\n",
    "\n",
    "print(\"Before Tokenization : \\n\", x_train_text[:3])\n",
    "print(\"=\"*50)\n",
    "print(\"After Tokenization : \\n\", x_train_text_tokenized[:3])\n",
    "print(\"=\"*50)\n",
    "\n",
    "x_val_text_tokenized = tokenize_using_nltk_TreebankWordTokenizer(x_val_text)\n",
    "\n",
    "print(\"Before Tokenization : \\n\", x_val_text[:3])\n",
    "print(\"=\"*50)\n",
    "print(\"After Tokenization : \\n\", x_val_text_tokenized[:3])\n",
    "\n",
    "fullgram_x_train_text_tokenized = get_all_ngrams(x_train_text_tokenized)\n",
    "print(\"full gram tokenization : \\n\", fullgram_x_train_text_tokenized[:3])\n",
    "print(\"=\"*50)\n",
    "fullgram_x_val_text_tokenized = get_all_ngrams(x_val_text_tokenized)\n",
    "print(\"full gram tokenization : \\n\", fullgram_x_val_text_tokenized[:3])\n",
    "print(\"=\"*50)"
   ]
  },
  {
   "cell_type": "code",
   "execution_count": 6,
   "id": "61887e08",
   "metadata": {},
   "outputs": [
    {
     "name": "stdout",
     "output_type": "stream",
     "text": [
      "The max length is:  132\n"
     ]
    },
    {
     "data": {
      "text/plain": [
       "[9, 102, 9, 42, 60, 33, 69, 66, 24, 18]"
      ]
     },
     "execution_count": 6,
     "metadata": {},
     "output_type": "execute_result"
    }
   ],
   "source": [
    "# Get how many words inside each text after tokenization\n",
    "num_of_words_in_each_text = [len(text) for text in fullgram_x_train_text_tokenized]\n",
    "max_len = max(num_of_words_in_each_text)\n",
    "print(\"The max length is: \", max_len)\n",
    "num_of_words_in_each_text[:10]"
   ]
  },
  {
   "cell_type": "code",
   "execution_count": 8,
   "id": "fd2c095f",
   "metadata": {},
   "outputs": [
    {
     "name": "stdout",
     "output_type": "stream",
     "text": [
      "The number of keys before removing are:  40\n",
      "==================================================\n",
      "The number of keys after removing some of them are:  28\n",
      "==================================================\n"
     ]
    },
    {
     "data": {
      "image/png": "[encoded data removed]",
      "text/plain": [
       "<Figure size 1332x432 with 1 Axes>"
      ]
     },
     "metadata": {},
     "output_type": "display_data"
    }
   ],
   "source": [
    "# count how many times these value repeated and sort them\n",
    "new_dicts = get_keys_that_val_gr_than_num(num_of_words_in_each_text, 50)\n",
    "keys = list(new_dicts.keys())\n",
    "values = list(new_dicts.values())\n",
    "plt.style.use('dark_background')\n",
    "fig = plt.gcf()\n",
    "fig.set_size_inches(18.5, 6)\n",
    "plt.bar(range(len(new_dicts)), values, tick_label=keys)\n",
    "plt.show()"
   ]
  },
  {
   "cell_type": "markdown",
   "id": "588b087d",
   "metadata": {},
   "source": [
    "# Our CBOW Word2Vec Model"
   ]
  },
  {
   "cell_type": "code",
   "execution_count": 9,
   "id": "daf831f8",
   "metadata": {},
   "outputs": [],
   "source": [
    "our_word2vec_model = load_word2vec_model(\"../word2vec_models/rezk/skipgram_NS/sk_gr_negative_sampeling_fullgram_vec_size_300-d_min_count_100\")"
   ]
  },
  {
   "cell_type": "code",
   "execution_count": 10,
   "id": "1a4ecc75",
   "metadata": {},
   "outputs": [
    {
     "name": "stdout",
     "output_type": "stream",
     "text": [
      "==================================================\n",
      "(9608, 132, 300)\n",
      "(9608, 39600)\n",
      "==================================================\n",
      "[-0.05008   0.0271    0.2454    0.513    -0.02115  -0.6416    0.4973\n",
      "  0.357    -0.06226  -0.329    -0.2883    0.08014  -0.4946    0.2188\n",
      "  0.0856    0.2925    0.1544    0.1633    0.1885   -0.4365    0.0331\n",
      " -0.1837   -0.3386   -0.267    -0.514    -0.11884  -0.4236    0.319\n",
      "  0.07745   0.1361    0.8105   -0.1724   -0.005142  0.3254   -0.1327\n",
      "  0.288    -0.1378   -0.4175    0.3884   -0.0825    0.0592    0.05267\n",
      " -0.4136   -0.08075   0.1733   -0.2822    0.187     0.473     0.3357\n",
      " -0.1998  ]\n",
      "==================================================\n",
      "(197, 132, 300)\n",
      "(197, 39600)\n",
      "==================================================\n",
      "[-0.02568   0.1206    0.01984   0.2986   -0.02231  -0.4456    0.02386\n",
      "  0.155     0.4517   -0.1442   -0.09894  -0.2457   -0.3132   -0.422\n",
      " -0.341     0.2827   -0.0853   -0.11896   0.06854  -0.5293    0.1592\n",
      " -0.549    -0.0511    0.0767   -0.133    -0.05652  -0.084    -0.03427\n",
      "  0.03506  -0.11774   0.3647   -0.217     0.1523    0.1444   -0.06094\n",
      "  0.04477  -0.2054    0.08014   0.525     0.2917   -0.1323   -0.1449\n",
      "  0.1221   -0.2377   -0.0852    0.3347    0.003489  0.04636  -0.2375\n",
      "  0.1437  ]\n",
      "(9608, 39600)\n",
      "==================================================\n",
      "(197, 39600)\n",
      "==================================================\n"
     ]
    }
   ],
   "source": [
    "number_of_features = 300\n",
    "max_len_str = 132\n",
    "word2vec_path = \"rezk/skipgram_NS/\"\n",
    "model_path_to_save = \"../ml_models_saved/\"\n",
    "estimators = voting_models()\n",
    "\n",
    "X_train_embed_matrix = text_to_matrix_using_word2vec(our_word2vec_model, fullgram_x_train_text_tokenized, max_len_str)\n",
    "X_val_embed_matrix = text_to_matrix_using_word2vec(our_word2vec_model, fullgram_x_val_text_tokenized, max_len_str)\n",
    "\n",
    "print(X_train_embed_matrix.shape)\n",
    "print(\"=\"*50)\n",
    "print(X_val_embed_matrix.shape)\n",
    "print(\"=\"*50)"
   ]
  },
  {
   "cell_type": "code",
   "execution_count": 11,
   "id": "cba793ce",
   "metadata": {},
   "outputs": [
    {
     "name": "stderr",
     "output_type": "stream",
     "text": [
      "[Parallel(n_jobs=1)]: Using backend SequentialBackend with 1 concurrent workers.\n"
     ]
    },
    {
     "name": "stdout",
     "output_type": "stream",
     "text": [
      "RUNNING THE L-BFGS-B CODE\n",
      "\n",
      "           * * *\n",
      "\n",
      "Machine precision = 2.220D-16\n",
      " N =       158404     M =           10\n",
      "\n",
      "At X0         0 variables are exactly at the bounds\n",
      "\n",
      "At iterate    0    f=  1.33195D+04    |proj g|=  4.02300D+03\n"
     ]
    },
    {
     "name": "stderr",
     "output_type": "stream",
     "text": [
      " This problem is unconstrained.\n"
     ]
    },
    {
     "name": "stdout",
     "output_type": "stream",
     "text": [
      "\n",
      "At iterate   50    f=  8.12872D+02    |proj g|=  8.81697D+00\n",
      "\n",
      "At iterate  100    f=  5.71911D+02    |proj g|=  1.09231D+00\n",
      "\n",
      "           * * *\n",
      "\n",
      "Tit   = total number of iterations\n",
      "Tnf   = total number of function evaluations\n",
      "Tnint = total number of segments explored during Cauchy searches\n",
      "Skip  = number of BFGS updates skipped\n",
      "Nact  = number of active bounds at final generalized Cauchy point\n",
      "Projg = norm of the final projected gradient\n",
      "F     = final function value\n",
      "\n",
      "           * * *\n",
      "\n",
      "   N    Tit     Tnf  Tnint  Skip  Nact     Projg        F\n",
      "*****    100    104      1     0     0   1.092D+00   5.719D+02\n",
      "  F =   571.91108676482759     \n",
      "\n",
      "STOP: TOTAL NO. of ITERATIONS REACHED LIMIT                 \n",
      "===================== Validate Result =====================\n",
      "F1 score is:  0.6294416243654822\n",
      "It takes to run:  0:00:58.450460\n",
      "==================================================\n"
     ]
    },
    {
     "name": "stderr",
     "output_type": "stream",
     "text": [
      "/usr/local/lib/python3.8/dist-packages/sklearn/linear_model/_logistic.py:814: ConvergenceWarning: lbfgs failed to converge (status=1):\n",
      "STOP: TOTAL NO. of ITERATIONS REACHED LIMIT.\n",
      "\n",
      "Increase the number of iterations (max_iter) or scale the data as shown in:\n",
      "    https://scikit-learn.org/stable/modules/preprocessing.html\n",
      "Please also refer to the documentation for alternative solver options:\n",
      "    https://scikit-learn.org/stable/modules/linear_model.html#logistic-regression\n",
      "  n_iter_i = _check_optimize_result(\n",
      "[Parallel(n_jobs=1)]: Done   1 out of   1 | elapsed:   55.2s finished\n"
     ]
    },
    {
     "name": "stdout",
     "output_type": "stream",
     "text": [
      "[LibLinear].....\n",
      "optimization finished, #iter = 50\n",
      "\n",
      "WARNING: reaching max number of iterations\n",
      "Using -s 2 may be faster (also see FAQ)\n",
      "\n",
      "Objective value = -38.630989\n",
      "nSV = 4190\n",
      ".....\n",
      "optimization finished, #iter = 50\n",
      "\n",
      "WARNING: reaching max number of iterations\n",
      "Using -s 2 may be faster (also see FAQ)\n",
      "\n",
      "Objective value = -14.826564\n",
      "nSV = 3416\n",
      ".....\n",
      "optimization finished, #iter = 50\n",
      "\n",
      "WARNING: reaching max number of iterations\n",
      "Using -s 2 may be faster (also see FAQ)\n",
      "\n",
      "Objective value = -73.197645\n",
      "nSV = 5202\n",
      ".....\n",
      "optimization finished, #iter = 50\n",
      "\n",
      "WARNING: reaching max number of iterations\n",
      "Using -s 2 may be faster (also see FAQ)\n",
      "\n",
      "Objective value = -20.139586\n",
      "nSV = 2975\n",
      "===================== Validate Result =====================\n",
      "F1 score is:  0.6294416243654822\n",
      "It takes to run:  0:00:39.563202\n",
      "==================================================\n"
     ]
    },
    {
     "name": "stderr",
     "output_type": "stream",
     "text": [
      "/usr/local/lib/python3.8/dist-packages/sklearn/svm/_base.py:1206: ConvergenceWarning: Liblinear failed to converge, increase the number of iterations.\n",
      "  warnings.warn(\n"
     ]
    },
    {
     "name": "stdout",
     "output_type": "stream",
     "text": [
      "[LibLinear].*\n",
      "optimization finished, #iter = 13\n",
      "Objective value = -0.255844\n",
      "nSV = 9268\n",
      ".*\n",
      "optimization finished, #iter = 11\n",
      "Objective value = -0.154888\n",
      "nSV = 9136\n",
      ".*\n",
      "optimization finished, #iter = 12\n",
      "Objective value = -0.373530\n",
      "nSV = 9512\n",
      ".*\n",
      "optimization finished, #iter = 11\n",
      "Objective value = -0.144474\n",
      "nSV = 9262\n",
      "[LibLinear].*\n",
      "optimization finished, #iter = 11\n",
      "Objective value = -0.403127\n",
      "nSV = 9547\n",
      ".*\n",
      "optimization finished, #iter = 13\n",
      "Objective value = -0.285680\n",
      "nSV = 9538\n",
      ".*\n",
      "optimization finished, #iter = 11\n",
      "Objective value = -0.322958\n",
      "nSV = 9603\n",
      ".*\n",
      "optimization finished, #iter = 11\n",
      "Objective value = -0.254234\n",
      "nSV = 9518\n",
      "[LibLinear].*\n",
      "optimization finished, #iter = 11\n",
      "Objective value = -0.302161\n",
      "nSV = 9607\n",
      ".*\n",
      "optimization finished, #iter = 12\n",
      "Objective value = -0.358739\n",
      "nSV = 9574\n",
      ".\n",
      "optimization finished, #iter = 11\n",
      "Objective value = -0.387686\n",
      "nSV = 9608\n",
      ".*\n",
      "optimization finished, #iter = 12\n",
      "Objective value = -0.297722\n",
      "nSV = 9607\n",
      "[LibLinear].\n",
      "optimization finished, #iter = 11\n",
      "Objective value = -0.401539\n",
      "nSV = 9608\n",
      ".\n",
      "optimization finished, #iter = 10\n",
      "Objective value = -0.288635\n",
      "nSV = 9608\n",
      ".\n",
      "optimization finished, #iter = 10\n",
      "Objective value = -0.348633\n",
      "nSV = 9608\n",
      ".\n",
      "optimization finished, #iter = 10\n",
      "Objective value = -0.324990\n",
      "nSV = 9608\n",
      "[LibLinear].\n",
      "optimization finished, #iter = 10\n",
      "Objective value = -0.265263\n",
      "nSV = 9608\n",
      ".\n",
      "optimization finished, #iter = 10\n",
      "Objective value = -0.393809\n",
      "nSV = 9608\n",
      ".\n",
      "optimization finished, #iter = 10\n",
      "Objective value = -0.420381\n",
      "nSV = 9608\n",
      ".\n",
      "optimization finished, #iter = 10\n",
      "Objective value = -0.249865\n",
      "nSV = 9608\n",
      "===================== Validate Result =====================\n",
      "F1 score is:  0.6649746192893401\n",
      "It takes to run:  0:02:11.043410\n",
      "==================================================\n",
      "      Iter       Train Loss      OOB Improve   Remaining Time \n",
      "         1           0.5986          -0.1396            3.09m\n",
      "         2           0.6536          -0.1317            3.67m\n",
      "         3           0.6553          -0.2138            3.47m\n",
      "         4           0.8100         -30.3850            2.76m\n",
      "         5           0.9154         -37.8543            2.18m\n",
      "         6         108.4445  -425774410.9185            1.69m\n",
      "         7        1381.0571    -5687587.1262            1.24m\n",
      "         8    12569287.9061       -1137.7832           48.64s\n",
      "         9      423125.5708 -3622975549.8546           25.73s\n",
      "        10  1373829953.5939 -1640418458261.1687            0.00s\n",
      "===================== Validate Result =====================\n",
      "F1 score is:  0.5025380710659898\n",
      "It takes to run:  0:04:25.139413\n",
      "==================================================\n"
     ]
    }
   ],
   "source": [
    "# Train Logistic Regression\n",
    "\n",
    "model = LogisticRegression(penalty='l2', C=1, multi_class='multinomial', solver='lbfgs', verbose=1)\n",
    "model = ml_classifer_pipeline(model, X_train_embed_matrix, y_train, X_val_embed_matrix, y_val,word2vec_path, model_path_to_save)\n",
    "\n",
    "print(\"=\" * 50)\n",
    "\n",
    "# Train SVC\n",
    "\n",
    "model = LinearSVC(C=0.5,  max_iter=50, verbose=1)\n",
    "model = ml_classifer_pipeline(model, X_train_embed_matrix, y_train, X_val_embed_matrix, y_val,word2vec_path, model_path_to_save)\n",
    "\n",
    "\n",
    "# AdaBoost \n",
    "print(\"=\" * 50)\n",
    "\n",
    "\n",
    "model = LinearSVC(C=0.5,  verbose=1)\n",
    "model = AdaBoostClassifier(model,  algorithm=\"SAMME\", n_estimators=5)\n",
    "model = ml_classifer_pipeline(model, X_train_embed_matrix, y_train, X_val_embed_matrix, y_val,word2vec_path, model_path_to_save)\n",
    "\n",
    "#  Gradient Boosting\n",
    "print(\"=\" * 50)\n",
    "\n",
    "model = GradientBoostingClassifier(n_estimators=10, subsample=.1, learning_rate=.5,   max_depth=5, verbose=1)\n",
    "model = ml_classifer_pipeline(model, X_train_embed_matrix, y_train, X_val_embed_matrix, y_val,word2vec_path, model_path_to_save)\n",
    "print(\"=\" * 50)\n"
   ]
  },
  {
   "cell_type": "markdown",
   "id": "e384effe",
   "metadata": {},
   "source": [
    "# Load best model & predict test set"
   ]
  },
  {
   "cell_type": "code",
   "execution_count": 12,
   "id": "d98a5bd3",
   "metadata": {},
   "outputs": [
    {
     "data": {
      "text/html": [
       "<div>\n",
       "<style scoped>\n",
       "    .dataframe tbody tr th:only-of-type {\n",
       "        vertical-align: middle;\n",
       "    }\n",
       "\n",
       "    .dataframe tbody tr th {\n",
       "        vertical-align: top;\n",
       "    }\n",
       "\n",
       "    .dataframe thead th {\n",
       "        text-align: right;\n",
       "    }\n",
       "</style>\n",
       "<table border=\"1\" class=\"dataframe\">\n",
       "  <thead>\n",
       "    <tr style=\"text-align: right;\">\n",
       "      <th></th>\n",
       "      <th>text</th>\n",
       "      <th>label</th>\n",
       "      <th>classes</th>\n",
       "    </tr>\n",
       "  </thead>\n",
       "  <tbody>\n",
       "    <tr>\n",
       "      <th>0</th>\n",
       "      <td>نرجوا عدم متابعه وحظر حسابات : المباحث تابعني ...</td>\n",
       "      <td>2</td>\n",
       "      <td>OBJ</td>\n",
       "    </tr>\n",
       "    <tr>\n",
       "      <th>1</th>\n",
       "      <td>المسلماني اغلي متحدث اعلامي للرئيس واشهر كذاب ...</td>\n",
       "      <td>0</td>\n",
       "      <td>NEG</td>\n",
       "    </tr>\n",
       "    <tr>\n",
       "      <th>2</th>\n",
       "      <td>الاحد 3 يوليو : ابو الفتوح في ندوه بالمؤتمر ال...</td>\n",
       "      <td>2</td>\n",
       "      <td>OBJ</td>\n",
       "    </tr>\n",
       "    <tr>\n",
       "      <th>3</th>\n",
       "      <td>#كبسوله_صحيه #صحه #طفل #طفلي #نوم ##نوبه #نصيحه</td>\n",
       "      <td>2</td>\n",
       "      <td>OBJ</td>\n",
       "    </tr>\n",
       "    <tr>\n",
       "      <th>4</th>\n",
       "      <td>#اللي_رافضين_السيسي_رئيس_بيعملوا_فولوا_لبعض #م...</td>\n",
       "      <td>1</td>\n",
       "      <td>NEU</td>\n",
       "    </tr>\n",
       "  </tbody>\n",
       "</table>\n",
       "</div>"
      ],
      "text/plain": [
       "                                                text  label classes\n",
       "0  نرجوا عدم متابعه وحظر حسابات : المباحث تابعني ...      2     OBJ\n",
       "1  المسلماني اغلي متحدث اعلامي للرئيس واشهر كذاب ...      0     NEG\n",
       "2  الاحد 3 يوليو : ابو الفتوح في ندوه بالمؤتمر ال...      2     OBJ\n",
       "3    #كبسوله_صحيه #صحه #طفل #طفلي #نوم ##نوبه #نصيحه      2     OBJ\n",
       "4  #اللي_رافضين_السيسي_رئيس_بيعملوا_فولوا_لبعض #م...      1     NEU"
      ]
     },
     "execution_count": 12,
     "metadata": {},
     "output_type": "execute_result"
    }
   ],
   "source": [
    "strat_test_set = read_file(\"test/strat_test_set.csv\")\n",
    "strat_test_set.head()"
   ]
  },
  {
   "cell_type": "code",
   "execution_count": 13,
   "id": "43fc6516",
   "metadata": {},
   "outputs": [],
   "source": [
    "X_test_text = list(strat_test_set['text'])\n",
    "y_test = strat_test_set['label'].values"
   ]
  },
  {
   "cell_type": "code",
   "execution_count": 14,
   "id": "439fbc5d",
   "metadata": {},
   "outputs": [
    {
     "name": "stdout",
     "output_type": "stream",
     "text": [
      "Before Tokenization : \n",
      " ['نرجوا عدم متابعه وحظر حسابات : المباحث تابعني واتابعك زياده المتابعين الاخبار المحليه #الشعب_يقول_كلمته #جماعه_انصار_بيت_طنيطر #الرياض #جده', 'المسلماني اغلي متحدث اعلامي للرئيس واشهر كذاب ومنافق ومضلل ومحرض تحول الي قليل الادب وضع معارضي الجيش في سله القمامه كلام زباله', 'الاحد 3 يوليو : ابو الفتوح في ندوه بالمؤتمر السنوي لهندسه عين شمس 5 مساء']\n",
      "==================================================\n",
      "After Tokenization : \n",
      " [['نرجوا', 'عدم', 'متابعه', 'وحظر', 'حسابات', ':', 'المباحث', 'تابعني', 'واتابعك', 'زياده', 'المتابعين', 'الاخبار', 'المحليه', '#', 'الشعب_يقول_كلمته', '#', 'جماعه_انصار_بيت_طنيطر', '#', 'الرياض', '#', 'جده'], ['المسلماني', 'اغلي', 'متحدث', 'اعلامي', 'للرئيس', 'واشهر', 'كذاب', 'ومنافق', 'ومضلل', 'ومحرض', 'تحول', 'الي', 'قليل', 'الادب', 'وضع', 'معارضي', 'الجيش', 'في', 'سله', 'القمامه', 'كلام', 'زباله'], ['الاحد', '3', 'يوليو', ':', 'ابو', 'الفتوح', 'في', 'ندوه', 'بالمؤتمر', 'السنوي', 'لهندسه', 'عين', 'شمس', '5', 'مساء']]\n",
      "==================================================\n",
      "full gram tokenization : \n",
      " [['نرجوا', 'عدم', 'متابعه', 'وحظر', 'حسابات', ':', 'المباحث', 'تابعني', 'واتابعك', 'زياده', 'المتابعين', 'الاخبار', 'المحليه', '#', 'الشعب_يقول_كلمته', '#', 'جماعه_انصار_بيت_طنيطر', '#', 'الرياض', '#', 'جده', 'نرجوا_عدم', 'عدم_متابعه', 'متابعه_وحظر', 'وحظر_حسابات', 'حسابات_:', ':_المباحث', 'المباحث_تابعني', 'تابعني_واتابعك', 'واتابعك_زياده', 'زياده_المتابعين', 'المتابعين_الاخبار', 'الاخبار_المحليه', 'المحليه_#', '#_الشعب_يقول_كلمته', 'الشعب_يقول_كلمته_#', '#_جماعه_انصار_بيت_طنيطر', 'جماعه_انصار_بيت_طنيطر_#', '#_الرياض', 'الرياض_#', '#_جده', 'نرجوا_عدم_متابعه', 'عدم_متابعه_وحظر', 'متابعه_وحظر_حسابات', 'وحظر_حسابات_:', 'حسابات_:_المباحث', ':_المباحث_تابعني', 'المباحث_تابعني_واتابعك', 'تابعني_واتابعك_زياده', 'واتابعك_زياده_المتابعين', 'زياده_المتابعين_الاخبار', 'المتابعين_الاخبار_المحليه', 'الاخبار_المحليه_#', 'المحليه_#_الشعب_يقول_كلمته', '#_الشعب_يقول_كلمته_#', 'الشعب_يقول_كلمته_#_جماعه_انصار_بيت_طنيطر', '#_جماعه_انصار_بيت_طنيطر_#', 'جماعه_انصار_بيت_طنيطر_#_الرياض', '#_الرياض_#', 'الرياض_#_جده'], ['المسلماني', 'اغلي', 'متحدث', 'اعلامي', 'للرئيس', 'واشهر', 'كذاب', 'ومنافق', 'ومضلل', 'ومحرض', 'تحول', 'الي', 'قليل', 'الادب', 'وضع', 'معارضي', 'الجيش', 'في', 'سله', 'القمامه', 'كلام', 'زباله', 'المسلماني_اغلي', 'اغلي_متحدث', 'متحدث_اعلامي', 'اعلامي_للرئيس', 'للرئيس_واشهر', 'واشهر_كذاب', 'كذاب_ومنافق', 'ومنافق_ومضلل', 'ومضلل_ومحرض', 'ومحرض_تحول', 'تحول_الي', 'الي_قليل', 'قليل_الادب', 'الادب_وضع', 'وضع_معارضي', 'معارضي_الجيش', 'الجيش_في', 'في_سله', 'سله_القمامه', 'القمامه_كلام', 'كلام_زباله', 'المسلماني_اغلي_متحدث', 'اغلي_متحدث_اعلامي', 'متحدث_اعلامي_للرئيس', 'اعلامي_للرئيس_واشهر', 'للرئيس_واشهر_كذاب', 'واشهر_كذاب_ومنافق', 'كذاب_ومنافق_ومضلل', 'ومنافق_ومضلل_ومحرض', 'ومضلل_ومحرض_تحول', 'ومحرض_تحول_الي', 'تحول_الي_قليل', 'الي_قليل_الادب', 'قليل_الادب_وضع', 'الادب_وضع_معارضي', 'وضع_معارضي_الجيش', 'معارضي_الجيش_في', 'الجيش_في_سله', 'في_سله_القمامه', 'سله_القمامه_كلام', 'القمامه_كلام_زباله'], ['الاحد', '3', 'يوليو', ':', 'ابو', 'الفتوح', 'في', 'ندوه', 'بالمؤتمر', 'السنوي', 'لهندسه', 'عين', 'شمس', '5', 'مساء', 'الاحد_3', '3_يوليو', 'يوليو_:', ':_ابو', 'ابو_الفتوح', 'الفتوح_في', 'في_ندوه', 'ندوه_بالمؤتمر', 'بالمؤتمر_السنوي', 'السنوي_لهندسه', 'لهندسه_عين', 'عين_شمس', 'شمس_5', '5_مساء', 'الاحد_3_يوليو', '3_يوليو_:', 'يوليو_:_ابو', ':_ابو_الفتوح', 'ابو_الفتوح_في', 'الفتوح_في_ندوه', 'في_ندوه_بالمؤتمر', 'ندوه_بالمؤتمر_السنوي', 'بالمؤتمر_السنوي_لهندسه', 'السنوي_لهندسه_عين', 'لهندسه_عين_شمس', 'عين_شمس_5', 'شمس_5_مساء']]\n",
      "==================================================\n"
     ]
    }
   ],
   "source": [
    "X_test_text_tokenized = tokenize_using_nltk_TreebankWordTokenizer(X_test_text)\n",
    "\n",
    "print(\"Before Tokenization : \\n\", X_test_text[:3])\n",
    "print(\"=\"*50)\n",
    "print(\"After Tokenization : \\n\", X_test_text_tokenized[:3])\n",
    "print(\"=\"*50)\n",
    "\n",
    "fullgram_X_test_text_tokenized = get_all_ngrams(X_test_text_tokenized)\n",
    "print(\"full gram tokenization : \\n\", fullgram_X_test_text_tokenized[:3])\n",
    "print(\"=\"*50)"
   ]
  },
  {
   "cell_type": "code",
   "execution_count": 16,
   "id": "8b7fa98d",
   "metadata": {},
   "outputs": [
    {
     "name": "stdout",
     "output_type": "stream",
     "text": [
      "==================================================\n",
      "(201, 132, 300)\n",
      "(201, 39600)\n",
      "==================================================\n",
      "[-0.05737  -0.2964    0.4402   -0.03635   0.2576   -0.579     0.0986\n",
      "  0.9897    0.005226 -0.2986    0.1382   -0.047    -0.355    -0.5176\n",
      "  0.1824    0.00398  -0.115    -0.398     0.4712   -0.6914    0.0857\n",
      "  0.3457    0.01616  -0.4534   -0.04105  -0.1515   -0.525     0.3433\n",
      " -0.07227  -0.6094    0.663    -0.7783    0.1589    0.2815   -0.2023\n",
      "  0.04883  -0.2415    0.08405   0.2712    0.0965    0.236    -0.2524\n",
      "  0.059    -0.3374   -0.3354    0.4438   -0.3762    0.348     0.00602\n",
      " -0.4531  ]\n",
      "===================== Validate Result =====================\n",
      "F1 score is:  0.6666666666666666\n"
     ]
    },
    {
     "data": {
      "text/plain": [
       "0.667"
      ]
     },
     "execution_count": 16,
     "metadata": {},
     "output_type": "execute_result"
    }
   ],
   "source": [
    "rezk_model = pickle_load_model(\"../ml_models_saved/rezk/skipgram_NS/AdaBoostClassifier__f1_0.665_ml.sav\"  )\n",
    "X_test_embed_matrix = text_to_matrix_using_word2vec(our_word2vec_model, fullgram_X_test_text_tokenized, max_len_str)\n",
    "f1_score_result(rezk_model, X_test_embed_matrix, y_test)"
   ]
  },
  {
   "cell_type": "markdown",
   "id": "d34e4c04",
   "metadata": {},
   "source": [
    "# Qualitative Evaluation"
   ]
  },
  {
   "cell_type": "code",
   "execution_count": 17,
   "id": "98f87f0d",
   "metadata": {},
   "outputs": [
    {
     "name": "stdout",
     "output_type": "stream",
     "text": [
      "The number of words the model learn from your dataset are: 2027042\n"
     ]
    }
   ],
   "source": [
    "print(\"The number of words the model learn from your dataset are:\", len(list(our_word2vec_model.wv.index_to_key)))"
   ]
  },
  {
   "cell_type": "code",
   "execution_count": 18,
   "id": "5f8e87e4",
   "metadata": {},
   "outputs": [
    {
     "data": {
      "text/plain": [
       "[('تطاوين', 0.6648059487342834),\n",
       " ('بنزرت', 0.6583720445632935),\n",
       " ('بصفاقس', 0.6510608196258545),\n",
       " ('توزر', 0.6484861969947815),\n",
       " ('بنقردان', 0.6472850441932678),\n",
       " ('الصويره', 0.6449536681175232),\n",
       " ('جندوبه', 0.6360098123550415),\n",
       " ('صفاقس', 0.6333076357841492),\n",
       " ('سبيطله', 0.6281508207321167),\n",
       " ('سليانه', 0.6279425024986267)]"
      ]
     },
     "execution_count": 18,
     "metadata": {},
     "output_type": "execute_result"
    }
   ],
   "source": [
    "our_word2vec_model.wv.most_similar('قابس')"
   ]
  },
  {
   "cell_type": "code",
   "execution_count": 19,
   "id": "b785d0f1",
   "metadata": {},
   "outputs": [
    {
     "data": {
      "text/plain": [
       "[('المنصوره', 0.8299264907836914),\n",
       " ('دمياط', 0.8005160093307495),\n",
       " ('اسيوط', 0.7954678535461426),\n",
       " ('اسكندريه', 0.7901728749275208),\n",
       " ('الزقازيق', 0.7898872494697571),\n",
       " ('دمنهور', 0.7801264524459839),\n",
       " ('المنوفيه', 0.7553756237030029),\n",
       " ('دكرنس', 0.7479356527328491),\n",
       " ('كفرالشيخ', 0.746982991695404),\n",
       " ('منوف', 0.7407668232917786)]"
      ]
     },
     "execution_count": 19,
     "metadata": {},
     "output_type": "execute_result"
    }
   ],
   "source": [
    "our_word2vec_model.wv.most_similar('طنطا')"
   ]
  },
  {
   "cell_type": "code",
   "execution_count": 20,
   "id": "67e592fe",
   "metadata": {},
   "outputs": [
    {
     "data": {
      "text/plain": [
       "[('منتجع', 0.7309461832046509),\n",
       " ('بفندق', 0.7221202850341797),\n",
       " ('الفندق', 0.7167258262634277),\n",
       " ('فنادق', 0.6945282816886902),\n",
       " ('وفندق', 0.6830044388771057),\n",
       " ('مطعم', 0.6784964203834534),\n",
       " ('اوتيل', 0.664795994758606),\n",
       " ('ريجنسي', 0.6591892242431641),\n",
       " ('هيلتون', 0.6585382223129272),\n",
       " ('الماريوت', 0.6529659032821655)]"
      ]
     },
     "execution_count": 20,
     "metadata": {},
     "output_type": "execute_result"
    }
   ],
   "source": [
    "our_word2vec_model.wv.most_similar('فندق')"
   ]
  },
  {
   "cell_type": "code",
   "execution_count": 21,
   "id": "4ac33d25",
   "metadata": {},
   "outputs": [
    {
     "data": {
      "text/plain": [
       "[('😂', 0.9064841866493225),\n",
       " ('😆', 0.8982240557670593),\n",
       " ('😅', 0.8962749242782593),\n",
       " ('😁', 0.8947716355323792),\n",
       " ('😜', 0.8738267421722412),\n",
       " ('هه', 0.8605387806892395),\n",
       " ('😄', 0.8536893129348755),\n",
       " ('😀', 0.8396629095077515),\n",
       " ('😝', 0.8366069197654724),\n",
       " ('😬', 0.8360880613327026)]"
      ]
     },
     "execution_count": 21,
     "metadata": {},
     "output_type": "execute_result"
    }
   ],
   "source": [
    "our_word2vec_model.wv.most_similar('🤣')"
   ]
  },
  {
   "cell_type": "code",
   "execution_count": 22,
   "id": "21fbd4b6",
   "metadata": {},
   "outputs": [
    {
     "data": {
      "text/plain": [
       "[('الكويت', 0.715911328792572),\n",
       " ('العيد_الوطني_الكويتي', 0.7136905193328857),\n",
       " ('🇶🇦', 0.7015846967697144),\n",
       " ('🇦🇪', 0.6887887716293335),\n",
       " ('🇧🇭', 0.6830284595489502),\n",
       " ('العيد_الوطني_الكويت', 0.6595523953437805),\n",
       " ('كويت', 0.6460121870040894),\n",
       " ('🇴🇲', 0.6392191052436829),\n",
       " ('كويتنا', 0.6384673714637756),\n",
       " ('🇸🇦', 0.6337782740592957)]"
      ]
     },
     "execution_count": 22,
     "metadata": {},
     "output_type": "execute_result"
    }
   ],
   "source": [
    "our_word2vec_model.wv.most_similar('🇰🇼')"
   ]
  },
  {
   "cell_type": "code",
   "execution_count": 23,
   "id": "b15f834d",
   "metadata": {},
   "outputs": [
    {
     "data": {
      "text/plain": [
       "[('Business', 0.5904996991157532),\n",
       " ('students', 0.5713825225830078),\n",
       " ('تمريض', 0.5685645341873169),\n",
       " ('HR', 0.5659223198890686),\n",
       " ('manager', 0.5659052729606628),\n",
       " ('logic', 0.5651145577430725),\n",
       " ('Digital', 0.5550553202629089),\n",
       " ('AI', 0.5532929301261902),\n",
       " ('bank', 0.5529889464378357),\n",
       " ('الهندسه', 0.5518815517425537)]"
      ]
     },
     "execution_count": 23,
     "metadata": {},
     "output_type": "execute_result"
    }
   ],
   "source": [
    "our_word2vec_model.wv.most_similar('IT')"
   ]
  },
  {
   "cell_type": "code",
   "execution_count": 24,
   "id": "83ce1d29",
   "metadata": {},
   "outputs": [
    {
     "data": {
      "text/plain": [
       "[('!', 0.8230187892913818),\n",
       " ('🤔', 0.8202352523803711),\n",
       " ('هل', 0.7557244896888733),\n",
       " ('🙄', 0.7118368744850159),\n",
       " ('يعني', 0.7100117802619934),\n",
       " ('?', 0.7048540711402893),\n",
       " ('والا', 0.6845880150794983),\n",
       " ('😕', 0.6832935810089111),\n",
       " ('وهل', 0.6822245121002197),\n",
       " ('ليه', 0.6792044043540955)]"
      ]
     },
     "execution_count": 24,
     "metadata": {},
     "output_type": "execute_result"
    }
   ],
   "source": [
    "our_word2vec_model.wv.most_similar('؟')"
   ]
  },
  {
   "cell_type": "code",
   "execution_count": 25,
   "id": "bec441fa",
   "metadata": {},
   "outputs": [
    {
     "data": {
      "text/plain": [
       "[('🌼', 0.9097651243209839),\n",
       " ('🌻', 0.8927158117294312),\n",
       " ('🌺', 0.8896058201789856),\n",
       " ('🌷', 0.8834306001663208),\n",
       " ('🍃', 0.8677099347114563),\n",
       " ('🌹', 0.8668521046638489),\n",
       " ('🌿', 0.8584415316581726),\n",
       " ('💕', 0.8444501161575317),\n",
       " ('🕊️', 0.8279404640197754),\n",
       " ('🕊', 0.8244358897209167)]"
      ]
     },
     "execution_count": 25,
     "metadata": {},
     "output_type": "execute_result"
    }
   ],
   "source": [
    "our_word2vec_model.wv.most_similar('🌸')"
   ]
  },
  {
   "cell_type": "code",
   "execution_count": 26,
   "id": "54b6b105",
   "metadata": {},
   "outputs": [
    {
     "data": {
      "text/plain": [
       "[('لقاح_فايزر', 0.7672063112258911),\n",
       " ('لقاح', 0.7458566427230835),\n",
       " ('من_لقاح', 0.7216304540634155),\n",
       " ('لقاح_كوفيد', 0.7191676497459412),\n",
       " ('اللقاح', 0.7169902324676514),\n",
       " ('الجرعه_الثانيه', 0.7037858366966248),\n",
       " ('فايزر', 0.6989876627922058),\n",
       " ('لقاح_#', 0.6949324011802673),\n",
       " ('جرعات_لقاح', 0.6942309737205505),\n",
       " ('لقاحات_كورونا', 0.6936681270599365)]"
      ]
     },
     "execution_count": 26,
     "metadata": {},
     "output_type": "execute_result"
    }
   ],
   "source": [
    "our_word2vec_model.wv.most_similar('لقاح_كورونا')"
   ]
  },
  {
   "cell_type": "code",
   "execution_count": 27,
   "id": "9c014e91",
   "metadata": {},
   "outputs": [
    {
     "data": {
      "text/plain": [
       "[('Covid', 0.6872596740722656),\n",
       " ('كوفيد', 0.6755706667900085),\n",
       " ('كورونا', 0.6740522980690002),\n",
       " ('coronavirus', 0.6679577827453613),\n",
       " ('كوفيد_', 0.6577050685882568),\n",
       " ('فيروس', 0.6268613934516907),\n",
       " ('corona', 0.6213777661323547),\n",
       " ('COVID', 0.6201251745223999),\n",
       " ('Corona', 0.6114000082015991),\n",
       " ('كورونا،', 0.6103721261024475)]"
      ]
     },
     "execution_count": 27,
     "metadata": {},
     "output_type": "execute_result"
    }
   ],
   "source": [
    "our_word2vec_model.wv.most_similar('covid')"
   ]
  },
  {
   "cell_type": "code",
   "execution_count": 28,
   "id": "ea84c6d7",
   "metadata": {},
   "outputs": [
    {
     "data": {
      "text/plain": [
       "[('#_covid_19', 0.6256928443908691),\n",
       " ('#_covid', 0.6221465468406677),\n",
       " ('Corona_#', 0.6191931366920471),\n",
       " ('COVID_2019', 0.6120617985725403),\n",
       " ('COVID__', 0.6003709435462952),\n",
       " ('#_كورونا_فيروس', 0.5996192693710327),\n",
       " ('Covid__', 0.5974096059799194),\n",
       " ('#_كورونا', 0.5971654057502747),\n",
       " ('COVID_19', 0.5969985127449036),\n",
       " ('#_coronavirus', 0.5963916778564453)]"
      ]
     },
     "execution_count": 28,
     "metadata": {},
     "output_type": "execute_result"
    }
   ],
   "source": [
    "our_word2vec_model.wv.most_similar('covid_19')"
   ]
  },
  {
   "cell_type": "code",
   "execution_count": 29,
   "id": "47ddcd70",
   "metadata": {},
   "outputs": [
    {
     "data": {
      "text/plain": [
       "[('ترامب', 0.8512554168701172),\n",
       " ('ترمب', 0.8102423548698425),\n",
       " ('بوتين', 0.7791876792907715),\n",
       " ('نتنياهو', 0.7762749791145325),\n",
       " ('بايدن،', 0.7634655833244324),\n",
       " ('اردوغان', 0.7474371790885925),\n",
       " ('تيلرسون', 0.7437021136283875),\n",
       " ('بلينكن', 0.741925060749054),\n",
       " ('واشنطن', 0.7402883172035217),\n",
       " ('ترامب،', 0.7355116605758667)]"
      ]
     },
     "execution_count": 29,
     "metadata": {},
     "output_type": "execute_result"
    }
   ],
   "source": [
    "our_word2vec_model.wv.most_similar('بايدن')"
   ]
  },
  {
   "cell_type": "code",
   "execution_count": 30,
   "id": "613d0b9a",
   "metadata": {},
   "outputs": [
    {
     "data": {
      "text/plain": [
       "[('صحيح_البخاري_و', 0.6662893295288086),\n",
       " ('النبي_صلي_الله', 0.6549474000930786),\n",
       " ('صحيح_مسلم_د', 0.6421710848808289),\n",
       " (':_ان_رسول', 0.6366793513298035),\n",
       " ('الرسول_صلي_الله', 0.63114994764328),\n",
       " ('عليه_وسلم_انه', 0.6299081444740295),\n",
       " ('محمد_في_صحيح', 0.6296969056129456),\n",
       " ('الله_عليه_وسلم', 0.6287016868591309),\n",
       " ('في_الحديث_الصحيح', 0.6277386546134949),\n",
       " ('عليه_وسلم_علي', 0.6264953017234802)]"
      ]
     },
     "execution_count": 30,
     "metadata": {},
     "output_type": "execute_result"
    }
   ],
   "source": [
    "our_word2vec_model.wv.most_similar('في_صحيح_البخاري')"
   ]
  },
  {
   "cell_type": "code",
   "execution_count": 31,
   "id": "a4624fc1",
   "metadata": {},
   "outputs": [
    {
     "data": {
      "text/plain": [
       "[('يوم_القيامه_.', 0.631912112236023),\n",
       " ('يوم_القيامه_#', 0.6033729314804077),\n",
       " ('يوم_القيامه_)', 0.586989164352417),\n",
       " ('يوم_القيامه_و', 0.5667397975921631),\n",
       " ('اجمعين_الي_يوم', 0.5624067783355713),\n",
       " ('فعليه_لعنه_الله', 0.5587623715400696),\n",
       " ('فزع_يوم_القيامه', 0.5565202832221985),\n",
       " ('يوم_القيامه_،', 0.5538339018821716),\n",
       " ('يوم_الدين_اللهم', 0.5517250299453735),\n",
       " ('ان_تقوم_الساعه', 0.5501060485839844)]"
      ]
     },
     "execution_count": 31,
     "metadata": {},
     "output_type": "execute_result"
    }
   ],
   "source": [
    "our_word2vec_model.wv.most_similar('الي_يوم_القيامه')"
   ]
  },
  {
   "cell_type": "code",
   "execution_count": 32,
   "id": "28818135",
   "metadata": {},
   "outputs": [
    {
     "data": {
      "text/plain": [
       "[('الصهاينه_و', 0.6714181303977966),\n",
       " ('اليهود_و', 0.6466208100318909),\n",
       " ('علي_اليهود_و', 0.6168356537818909),\n",
       " ('الصهاينه_المحتلين', 0.6167995929718018),\n",
       " ('و_المطبعين', 0.6118593215942383),\n",
       " ('الصهاينه_#', 0.6079137921333313),\n",
       " ('اخواننا_الفلسطينين', 0.6048346161842346),\n",
       " ('قتله_الانبياء', 0.6038330793380737),\n",
       " ('من_اليهود', 0.6000149250030518),\n",
       " ('المتصهينين_العرب', 0.5987120270729065)]"
      ]
     },
     "execution_count": 32,
     "metadata": {},
     "output_type": "execute_result"
    }
   ],
   "source": [
    "our_word2vec_model.wv.most_similar('اليهود_الصهاينه')"
   ]
  },
  {
   "cell_type": "code",
   "execution_count": 33,
   "id": "fde04ab0",
   "metadata": {},
   "outputs": [
    {
     "data": {
      "text/plain": [
       "[('ابن_خلدون', 0.6284151077270508),\n",
       " ('بن_محمود', 0.5491104125976562),\n",
       " ('بن_باديس', 0.5423384308815002),\n",
       " ('في_الاندلس', 0.5416474938392639),\n",
       " ('بن_نصير', 0.5317038893699646),\n",
       " ('بن_سبا', 0.5191485285758972),\n",
       " ('يوسف_بن', 0.5127492547035217),\n",
       " ('بن_سليمان', 0.5127356648445129),\n",
       " ('عمرو_بن', 0.5123283863067627),\n",
       " ('ابن_رشد', 0.510941743850708)]"
      ]
     },
     "execution_count": 33,
     "metadata": {},
     "output_type": "execute_result"
    }
   ],
   "source": [
    "our_word2vec_model.wv.most_similar('بن_خلدون')"
   ]
  },
  {
   "cell_type": "code",
   "execution_count": 34,
   "id": "7ace35a9",
   "metadata": {},
   "outputs": [],
   "source": [
    "from word2vec_results import *"
   ]
  },
  {
   "cell_type": "code",
   "execution_count": 35,
   "id": "a7570309",
   "metadata": {},
   "outputs": [
    {
     "name": "stderr",
     "output_type": "stream",
     "text": [
      "/usr/local/lib/python3.8/dist-packages/sklearn/manifold/_t_sne.py:780: FutureWarning: The default initialization in TSNE will change from 'random' to 'pca' in 1.2.\n",
      "  warnings.warn(\n"
     ]
    },
    {
     "name": "stdout",
     "output_type": "stream",
     "text": [
      "[t-SNE] Computing 18 nearest neighbors...\n",
      "[t-SNE] Indexed 19 samples in 0.001s...\n",
      "[t-SNE] Computed neighbors for 19 samples in 0.002s...\n",
      "[t-SNE] Computed conditional probabilities for sample 19 / 19\n",
      "[t-SNE] Mean sigma: 1.988188\n",
      "[t-SNE] KL divergence after 50 iterations with early exaggeration: 36.170052\n",
      "[t-SNE] KL divergence after 500 iterations: 0.035877\n",
      "The shape of our word_features is: (19, 2)\n"
     ]
    },
    {
     "data": {
      "image/png": "[encoded data removed]",
      "text/plain": [
       "<Figure size 720x576 with 1 Axes>"
      ]
     },
     "metadata": {},
     "output_type": "display_data"
    }
   ],
   "source": [
    "# Reduce the dimension of SENTIMENT_WORDS\n",
    "tsne_df_scale = tsne_graph(our_word2vec_model, SENTIMENT_WORDS, 500, .05)\n",
    "\n",
    "_ = init_graph_style()\n",
    "\n",
    "plt.scatter(tsne_df_scale.iloc[:, 0], tsne_df_scale.iloc[:, 1], marker='P',s=9, c=\"red\") \n",
    "\n",
    "for i, word in enumerate(SENTIMENT_WORDS):\n",
    "    # handle Arabic words to display from right to left and as complete word not just separate chars\n",
    "    word = arabic_reshaper.reshape(word) # handle arabic words on ploting\n",
    "    word = get_display(word)\n",
    "    # plot each word beside its point\n",
    "    plt.annotate(word, xy=(tsne_df_scale.iloc[i, 0], tsne_df_scale.iloc[i, 1]),fontsize=15, color='white')\n",
    "# plt.savefig('images/' + \"image1.png\")"
   ]
  },
  {
   "cell_type": "code",
   "execution_count": 36,
   "id": "c24cfef8",
   "metadata": {},
   "outputs": [
    {
     "name": "stderr",
     "output_type": "stream",
     "text": [
      "/usr/local/lib/python3.8/dist-packages/sklearn/manifold/_t_sne.py:780: FutureWarning: The default initialization in TSNE will change from 'random' to 'pca' in 1.2.\n",
      "  warnings.warn(\n"
     ]
    },
    {
     "name": "stdout",
     "output_type": "stream",
     "text": [
      "[t-SNE] Computing 31 nearest neighbors...\n",
      "[t-SNE] Indexed 65 samples in 0.000s...\n",
      "[t-SNE] Computed neighbors for 65 samples in 0.002s...\n",
      "[t-SNE] Computed conditional probabilities for sample 65 / 65\n",
      "[t-SNE] Mean sigma: 1.739490\n",
      "[t-SNE] KL divergence after 100 iterations with early exaggeration: 50.201092\n",
      "[t-SNE] KL divergence after 1400 iterations: 0.178661\n",
      "The shape of our word_features is: (65, 2)\n"
     ]
    },
    {
     "data": {
      "image/png": "[encoded data removed]",
      "text/plain": [
       "<Figure size 1152x720 with 1 Axes>"
      ]
     },
     "metadata": {},
     "output_type": "display_data"
    }
   ],
   "source": [
    "# Reduce the dimension of NER_WORDS\n",
    "tsne_df_scale = tsne_graph(our_word2vec_model, NER_WORDS, 1400, .09)\n",
    "\n",
    "_ = init_graph_style(figsize=(16, 10))\n",
    "\n",
    "plt.scatter(tsne_df_scale.iloc[:, 0], tsne_df_scale.iloc[:, 1], marker='P',s=9, c=\"red\") \n",
    "\n",
    "for i, word in enumerate(NER_WORDS):\n",
    "    # handle Arabic words to display from right to left and as complete word not just separate chars\n",
    "    word = arabic_reshaper.reshape(word) # handle arabic words on ploting\n",
    "    word = get_display(word)\n",
    "    # plot each word beside its point\n",
    "    plt.annotate(word, xy=(tsne_df_scale.iloc[i, 0], tsne_df_scale.iloc[i, 1]),fontsize=15, color='white')\n",
    "# plt.savefig('images/' + \"image1.png\")"
   ]
  },
  {
   "cell_type": "code",
   "execution_count": null,
   "id": "483b7683",
   "metadata": {},
   "outputs": [],
   "source": []
  }
 ],
 "metadata": {
  "kernelspec": {
   "display_name": "Python 3 (ipykernel)",
   "language": "python",
   "name": "python3"
  },
  "language_info": {
   "codemirror_mode": {
    "name": "ipython",
    "version": 3
   },
   "file_extension": ".py",
   "mimetype": "text/x-python",
   "name": "python",
   "nbconvert_exporter": "python",
   "pygments_lexer": "ipython3",
   "version": "3.8.13"
  }
 },
 "nbformat": 4,
 "nbformat_minor": 5
}
