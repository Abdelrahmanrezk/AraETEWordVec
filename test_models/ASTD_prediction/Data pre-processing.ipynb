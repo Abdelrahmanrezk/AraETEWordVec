{
 "cells": [
  {
   "cell_type": "code",
   "execution_count": 1,
   "id": "0fe26f41",
   "metadata": {},
   "outputs": [],
   "source": [
    "import sys\n",
    "sys.path.append('../../preprocess_assets/')"
   ]
  },
  {
   "cell_type": "code",
   "execution_count": 2,
   "id": "d1916633",
   "metadata": {},
   "outputs": [],
   "source": [
    "# Main libraries\n",
    "from sklearn.preprocessing import LabelEncoder\n",
    "\n",
    "from ara_vec_preprocess_configs import *\n",
    "from data_shuffling_split import *"
   ]
  },
  {
   "cell_type": "code",
   "execution_count": 3,
   "id": "248495e4",
   "metadata": {},
   "outputs": [
    {
     "data": {
      "text/html": [
       "<div>\n",
       "<style scoped>\n",
       "    .dataframe tbody tr th:only-of-type {\n",
       "        vertical-align: middle;\n",
       "    }\n",
       "\n",
       "    .dataframe tbody tr th {\n",
       "        vertical-align: top;\n",
       "    }\n",
       "\n",
       "    .dataframe thead th {\n",
       "        text-align: right;\n",
       "    }\n",
       "</style>\n",
       "<table border=\"1\" class=\"dataframe\">\n",
       "  <thead>\n",
       "    <tr style=\"text-align: right;\">\n",
       "      <th></th>\n",
       "      <th>text</th>\n",
       "      <th>label</th>\n",
       "      <th>classes</th>\n",
       "    </tr>\n",
       "  </thead>\n",
       "  <tbody>\n",
       "    <tr>\n",
       "      <th>0</th>\n",
       "      <td>بعد استقالة رئيس #المحكمة_الدستورية ننتظر استق...</td>\n",
       "      <td>2</td>\n",
       "      <td>OBJ</td>\n",
       "    </tr>\n",
       "    <tr>\n",
       "      <th>1</th>\n",
       "      <td>أهنئ الدكتور أحمد جمال الدين، القيادي بحزب مصر...</td>\n",
       "      <td>3</td>\n",
       "      <td>POS</td>\n",
       "    </tr>\n",
       "    <tr>\n",
       "      <th>2</th>\n",
       "      <td>البرادعي يستقوى بامريكا مرةاخرى و يرسل عصام ال...</td>\n",
       "      <td>0</td>\n",
       "      <td>NEG</td>\n",
       "    </tr>\n",
       "    <tr>\n",
       "      <th>3</th>\n",
       "      <td>#الحرية_والعدالة | شاهد الآن: #ليلة_الاتحادية ...</td>\n",
       "      <td>2</td>\n",
       "      <td>OBJ</td>\n",
       "    </tr>\n",
       "    <tr>\n",
       "      <th>4</th>\n",
       "      <td>الوالدة لو اقولها بخاطري حشيشة تضحك بس من اقول...</td>\n",
       "      <td>1</td>\n",
       "      <td>NEU</td>\n",
       "    </tr>\n",
       "  </tbody>\n",
       "</table>\n",
       "</div>"
      ],
      "text/plain": [
       "                                                text  label classes\n",
       "0  بعد استقالة رئيس #المحكمة_الدستورية ننتظر استق...      2     OBJ\n",
       "1  أهنئ الدكتور أحمد جمال الدين، القيادي بحزب مصر...      3     POS\n",
       "2  البرادعي يستقوى بامريكا مرةاخرى و يرسل عصام ال...      0     NEG\n",
       "3  #الحرية_والعدالة | شاهد الآن: #ليلة_الاتحادية ...      2     OBJ\n",
       "4  الوالدة لو اقولها بخاطري حشيشة تضحك بس من اقول...      1     NEU"
      ]
     },
     "execution_count": 3,
     "metadata": {},
     "output_type": "execute_result"
    }
   ],
   "source": [
    "ASTD_dataset = read_file(\"ASTD_data.csv\")\n",
    "ASTD_dataset.head()"
   ]
  },
  {
   "cell_type": "code",
   "execution_count": 4,
   "id": "47dc47f4",
   "metadata": {},
   "outputs": [
    {
     "data": {
      "text/html": [
       "<div>\n",
       "<style scoped>\n",
       "    .dataframe tbody tr th:only-of-type {\n",
       "        vertical-align: middle;\n",
       "    }\n",
       "\n",
       "    .dataframe tbody tr th {\n",
       "        vertical-align: top;\n",
       "    }\n",
       "\n",
       "    .dataframe thead th {\n",
       "        text-align: right;\n",
       "    }\n",
       "</style>\n",
       "<table border=\"1\" class=\"dataframe\">\n",
       "  <thead>\n",
       "    <tr style=\"text-align: right;\">\n",
       "      <th></th>\n",
       "      <th>text</th>\n",
       "      <th>label</th>\n",
       "      <th>classes</th>\n",
       "    </tr>\n",
       "  </thead>\n",
       "  <tbody>\n",
       "    <tr>\n",
       "      <th>0</th>\n",
       "      <td>بعد استقاله رئيس #المحكمه_الدستوريه ننتظر استق...</td>\n",
       "      <td>2</td>\n",
       "      <td>OBJ</td>\n",
       "    </tr>\n",
       "    <tr>\n",
       "      <th>1</th>\n",
       "      <td>اهنئ الدكتور احمد جمال الدين، القيادي بحزب مصر...</td>\n",
       "      <td>3</td>\n",
       "      <td>POS</td>\n",
       "    </tr>\n",
       "    <tr>\n",
       "      <th>2</th>\n",
       "      <td>البرادعي يستقوي بامريكا مرهاخري و يرسل عصام ال...</td>\n",
       "      <td>0</td>\n",
       "      <td>NEG</td>\n",
       "    </tr>\n",
       "    <tr>\n",
       "      <th>3</th>\n",
       "      <td>#الحريه_والعداله | شاهد الان : #ليله_الاتحاديه...</td>\n",
       "      <td>2</td>\n",
       "      <td>OBJ</td>\n",
       "    </tr>\n",
       "    <tr>\n",
       "      <th>4</th>\n",
       "      <td>الوالده لو اقولها بخاطري حشيشه تضحك بس من اقول...</td>\n",
       "      <td>1</td>\n",
       "      <td>NEU</td>\n",
       "    </tr>\n",
       "  </tbody>\n",
       "</table>\n",
       "</div>"
      ],
      "text/plain": [
       "                                                text  label classes\n",
       "0  بعد استقاله رئيس #المحكمه_الدستوريه ننتظر استق...      2     OBJ\n",
       "1  اهنئ الدكتور احمد جمال الدين، القيادي بحزب مصر...      3     POS\n",
       "2  البرادعي يستقوي بامريكا مرهاخري و يرسل عصام ال...      0     NEG\n",
       "3  #الحريه_والعداله | شاهد الان : #ليله_الاتحاديه...      2     OBJ\n",
       "4  الوالده لو اقولها بخاطري حشيشه تضحك بس من اقول...      1     NEU"
      ]
     },
     "execution_count": 4,
     "metadata": {},
     "output_type": "execute_result"
    }
   ],
   "source": [
    "ASTD_dataset['text']  = clean_list_of_text(list(ASTD_dataset['text']))\n",
    "# covid_dataset['label'] = convert_class_to_label(list(covid_dataset['dialect']))\n",
    "ASTD_dataset.head()"
   ]
  },
  {
   "cell_type": "markdown",
   "id": "909b54f2",
   "metadata": {},
   "source": [
    "# Shuffle and Split\n",
    "\n",
    "Instead of random shuffle using ordinal **train_test_split**, we use **StratifiedShuffleSplit**, that ensure we have proportions almost identical to the orginal. It help us to make approximate distrbution for samples per class.\n",
    "\n",
    "To do that we pass the most representative attribute of our data, and as we have the dialect column which has 18 different classes, so it will be more representative to distribute sampels per class based on that attribute.\n",
    "\n",
    "**Look at the table below to see how difference between the two method of split**"
   ]
  },
  {
   "cell_type": "code",
   "execution_count": 5,
   "id": "18bbde8a",
   "metadata": {},
   "outputs": [
    {
     "name": "stdout",
     "output_type": "stream",
     "text": [
      "The number of instances in the training data after train_test_split are:  9805\n",
      "The number of instances in the testing data after train_test_split are:   201\n",
      "The number of instances in the training data after StratifiedShuffleSplit are:  9805\n",
      "The number of instances in the testing data after StratifiedShuffleSplit are:   201\n"
     ]
    }
   ],
   "source": [
    "preprocessed_ASTD_dataset = ASTD_dataset.copy()\n",
    "train_set, test_set             = general_split_and_shuffle(preprocessed_ASTD_dataset,  .02)\n",
    "strat_train_set, strat_test_set = Stratified_split_and_shuffle(preprocessed_ASTD_dataset, \"label\", .02)"
   ]
  },
  {
   "cell_type": "code",
   "execution_count": 6,
   "id": "4b242732",
   "metadata": {},
   "outputs": [
    {
     "data": {
      "text/html": [
       "<div>\n",
       "<style scoped>\n",
       "    .dataframe tbody tr th:only-of-type {\n",
       "        vertical-align: middle;\n",
       "    }\n",
       "\n",
       "    .dataframe tbody tr th {\n",
       "        vertical-align: top;\n",
       "    }\n",
       "\n",
       "    .dataframe thead th {\n",
       "        text-align: right;\n",
       "    }\n",
       "</style>\n",
       "<table border=\"1\" class=\"dataframe\">\n",
       "  <thead>\n",
       "    <tr style=\"text-align: right;\">\n",
       "      <th></th>\n",
       "      <th>Overall</th>\n",
       "      <th>stratified_test</th>\n",
       "      <th>random_test</th>\n",
       "      <th>stratified_test. %error</th>\n",
       "      <th>random_test. %error</th>\n",
       "    </tr>\n",
       "  </thead>\n",
       "  <tbody>\n",
       "    <tr>\n",
       "      <th>2</th>\n",
       "      <td>0.668699</td>\n",
       "      <td>0.666667</td>\n",
       "      <td>0.656716</td>\n",
       "      <td>-0.303891</td>\n",
       "      <td>-1.791892</td>\n",
       "    </tr>\n",
       "    <tr>\n",
       "      <th>0</th>\n",
       "      <td>0.168299</td>\n",
       "      <td>0.169154</td>\n",
       "      <td>0.179104</td>\n",
       "      <td>0.508148</td>\n",
       "      <td>6.420392</td>\n",
       "    </tr>\n",
       "    <tr>\n",
       "      <th>1</th>\n",
       "      <td>0.083150</td>\n",
       "      <td>0.084577</td>\n",
       "      <td>0.104478</td>\n",
       "      <td>1.716179</td>\n",
       "      <td>25.649397</td>\n",
       "    </tr>\n",
       "    <tr>\n",
       "      <th>3</th>\n",
       "      <td>0.079852</td>\n",
       "      <td>0.079602</td>\n",
       "      <td>0.059701</td>\n",
       "      <td>-0.313202</td>\n",
       "      <td>-25.234902</td>\n",
       "    </tr>\n",
       "  </tbody>\n",
       "</table>\n",
       "</div>"
      ],
      "text/plain": [
       "    Overall  stratified_test  random_test  stratified_test. %error  \\\n",
       "2  0.668699         0.666667     0.656716                -0.303891   \n",
       "0  0.168299         0.169154     0.179104                 0.508148   \n",
       "1  0.083150         0.084577     0.104478                 1.716179   \n",
       "3  0.079852         0.079602     0.059701                -0.313202   \n",
       "\n",
       "   random_test. %error  \n",
       "2            -1.791892  \n",
       "0             6.420392  \n",
       "1            25.649397  \n",
       "3           -25.234902  "
      ]
     },
     "execution_count": 6,
     "metadata": {},
     "output_type": "execute_result"
    }
   ],
   "source": [
    "compare_proportions = compare_random_and_stratified_split(preprocessed_ASTD_dataset, test_set, strat_test_set, \"label\")\n",
    "compare_proportions"
   ]
  },
  {
   "cell_type": "code",
   "execution_count": 7,
   "id": "534315d5",
   "metadata": {},
   "outputs": [
    {
     "data": {
      "text/plain": [
       "True"
      ]
     },
     "execution_count": 7,
     "metadata": {},
     "output_type": "execute_result"
    }
   ],
   "source": [
    "strat_train_set_path_to_save = \"strat_train_set.csv\"\n",
    "\n",
    "save_train_test_data(strat_train_set, \"train/\", strat_train_set_path_to_save)"
   ]
  },
  {
   "cell_type": "code",
   "execution_count": 8,
   "id": "d92268fc",
   "metadata": {},
   "outputs": [
    {
     "data": {
      "text/plain": [
       "True"
      ]
     },
     "execution_count": 8,
     "metadata": {},
     "output_type": "execute_result"
    }
   ],
   "source": [
    "strat_test_set_path_to_save  = \"strat_test_set.csv\"\n",
    "\n",
    "save_train_test_data(strat_test_set, \"test/\", strat_test_set_path_to_save)"
   ]
  },
  {
   "cell_type": "code",
   "execution_count": 9,
   "id": "904952c4",
   "metadata": {},
   "outputs": [
    {
     "data": {
      "text/html": [
       "<div>\n",
       "<style scoped>\n",
       "    .dataframe tbody tr th:only-of-type {\n",
       "        vertical-align: middle;\n",
       "    }\n",
       "\n",
       "    .dataframe tbody tr th {\n",
       "        vertical-align: top;\n",
       "    }\n",
       "\n",
       "    .dataframe thead th {\n",
       "        text-align: right;\n",
       "    }\n",
       "</style>\n",
       "<table border=\"1\" class=\"dataframe\">\n",
       "  <thead>\n",
       "    <tr style=\"text-align: right;\">\n",
       "      <th></th>\n",
       "      <th>text</th>\n",
       "      <th>label</th>\n",
       "      <th>classes</th>\n",
       "    </tr>\n",
       "  </thead>\n",
       "  <tbody>\n",
       "    <tr>\n",
       "      <th>0</th>\n",
       "      <td>راجعت الردود فوجدت المتزمتين دينيا هم الاكثر ا...</td>\n",
       "      <td>0</td>\n",
       "      <td>NEG</td>\n",
       "    </tr>\n",
       "    <tr>\n",
       "      <th>1</th>\n",
       "      <td>#شاهد_سكاي : #عيد_العمال تراجع اعدد العاطلين</td>\n",
       "      <td>2</td>\n",
       "      <td>OBJ</td>\n",
       "    </tr>\n",
       "    <tr>\n",
       "      <th>2</th>\n",
       "      <td>يقوم د / ابو الفتوح التواصل مع مختلف التيارات ...</td>\n",
       "      <td>2</td>\n",
       "      <td>OBJ</td>\n",
       "    </tr>\n",
       "    <tr>\n",
       "      <th>3</th>\n",
       "      <td>هل الشرطه والجيش سيطبق عليهم حدود الاجور دي ؟</td>\n",
       "      <td>2</td>\n",
       "      <td>OBJ</td>\n",
       "    </tr>\n",
       "    <tr>\n",
       "      <th>4</th>\n",
       "      <td>1 -انسحاب الوفد المصري المشارك في مهرجان مالم...</td>\n",
       "      <td>2</td>\n",
       "      <td>OBJ</td>\n",
       "    </tr>\n",
       "  </tbody>\n",
       "</table>\n",
       "</div>"
      ],
      "text/plain": [
       "                                                text  label classes\n",
       "0  راجعت الردود فوجدت المتزمتين دينيا هم الاكثر ا...      0     NEG\n",
       "1       #شاهد_سكاي : #عيد_العمال تراجع اعدد العاطلين      2     OBJ\n",
       "2  يقوم د / ابو الفتوح التواصل مع مختلف التيارات ...      2     OBJ\n",
       "3     هل الشرطه والجيش سيطبق عليهم حدود الاجور دي ؟       2     OBJ\n",
       "4   1 -انسحاب الوفد المصري المشارك في مهرجان مالم...      2     OBJ"
      ]
     },
     "execution_count": 9,
     "metadata": {},
     "output_type": "execute_result"
    }
   ],
   "source": [
    "strat_train_set = read_file(\"train/strat_train_set.csv\")\n",
    "strat_train_set.head()"
   ]
  },
  {
   "cell_type": "code",
   "execution_count": 10,
   "id": "6673ecf4",
   "metadata": {},
   "outputs": [
    {
     "data": {
      "text/html": [
       "<div>\n",
       "<style scoped>\n",
       "    .dataframe tbody tr th:only-of-type {\n",
       "        vertical-align: middle;\n",
       "    }\n",
       "\n",
       "    .dataframe tbody tr th {\n",
       "        vertical-align: top;\n",
       "    }\n",
       "\n",
       "    .dataframe thead th {\n",
       "        text-align: right;\n",
       "    }\n",
       "</style>\n",
       "<table border=\"1\" class=\"dataframe\">\n",
       "  <thead>\n",
       "    <tr style=\"text-align: right;\">\n",
       "      <th></th>\n",
       "      <th>text</th>\n",
       "      <th>label</th>\n",
       "      <th>classes</th>\n",
       "    </tr>\n",
       "  </thead>\n",
       "  <tbody>\n",
       "    <tr>\n",
       "      <th>0</th>\n",
       "      <td>نرجوا عدم متابعه وحظر حسابات : المباحث تابعني ...</td>\n",
       "      <td>2</td>\n",
       "      <td>OBJ</td>\n",
       "    </tr>\n",
       "    <tr>\n",
       "      <th>1</th>\n",
       "      <td>المسلماني اغلي متحدث اعلامي للرئيس واشهر كذاب ...</td>\n",
       "      <td>0</td>\n",
       "      <td>NEG</td>\n",
       "    </tr>\n",
       "    <tr>\n",
       "      <th>2</th>\n",
       "      <td>الاحد 3 يوليو : ابو الفتوح في ندوه بالمؤتمر ال...</td>\n",
       "      <td>2</td>\n",
       "      <td>OBJ</td>\n",
       "    </tr>\n",
       "    <tr>\n",
       "      <th>3</th>\n",
       "      <td>#كبسوله_صحيه #صحه #طفل #طفلي #نوم ##نوبه #نصيحه</td>\n",
       "      <td>2</td>\n",
       "      <td>OBJ</td>\n",
       "    </tr>\n",
       "    <tr>\n",
       "      <th>4</th>\n",
       "      <td>#اللي_رافضين_السيسي_رئيس_بيعملوا_فولوا_لبعض #م...</td>\n",
       "      <td>1</td>\n",
       "      <td>NEU</td>\n",
       "    </tr>\n",
       "  </tbody>\n",
       "</table>\n",
       "</div>"
      ],
      "text/plain": [
       "                                                text  label classes\n",
       "0  نرجوا عدم متابعه وحظر حسابات : المباحث تابعني ...      2     OBJ\n",
       "1  المسلماني اغلي متحدث اعلامي للرئيس واشهر كذاب ...      0     NEG\n",
       "2  الاحد 3 يوليو : ابو الفتوح في ندوه بالمؤتمر ال...      2     OBJ\n",
       "3    #كبسوله_صحيه #صحه #طفل #طفلي #نوم ##نوبه #نصيحه      2     OBJ\n",
       "4  #اللي_رافضين_السيسي_رئيس_بيعملوا_فولوا_لبعض #م...      1     NEU"
      ]
     },
     "execution_count": 10,
     "metadata": {},
     "output_type": "execute_result"
    }
   ],
   "source": [
    "strat_test_set = read_file(\"test/strat_test_set.csv\")\n",
    "strat_test_set.head()"
   ]
  },
  {
   "cell_type": "code",
   "execution_count": null,
   "id": "a95509b4",
   "metadata": {},
   "outputs": [],
   "source": []
  }
 ],
 "metadata": {
  "kernelspec": {
   "display_name": "Python 3",
   "language": "python",
   "name": "python3"
  },
  "language_info": {
   "codemirror_mode": {
    "name": "ipython",
    "version": 3
   },
   "file_extension": ".py",
   "mimetype": "text/x-python",
   "name": "python",
   "nbconvert_exporter": "python",
   "pygments_lexer": "ipython3",
   "version": "3.6.9"
  }
 },
 "nbformat": 4,
 "nbformat_minor": 5
}
