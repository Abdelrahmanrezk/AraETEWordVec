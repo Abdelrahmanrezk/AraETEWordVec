{
 "cells": [
  {
   "cell_type": "code",
   "execution_count": 2,
   "id": "5f4d23bc",
   "metadata": {},
   "outputs": [],
   "source": [
    "import sys\n",
    "sys.path.append('../../preprocess_assets/')"
   ]
  },
  {
   "cell_type": "code",
   "execution_count": 3,
   "id": "c3866d28",
   "metadata": {},
   "outputs": [
    {
     "name": "stderr",
     "output_type": "stream",
     "text": [
      "/usr/lib/python3/dist-packages/requests/__init__.py:89: RequestsDependencyWarning: urllib3 (1.26.9) or chardet (3.0.4) doesn't match a supported version!\n",
      "  warnings.warn(\"urllib3 ({}) or chardet ({}) doesn't match a supported \"\n"
     ]
    }
   ],
   "source": [
    "# Main libraries \n",
    "from sklearn.ensemble import BaggingClassifier, AdaBoostClassifier, GradientBoostingClassifier\n",
    "from sklearn.linear_model import LogisticRegression\n",
    "from sklearn.ensemble import ExtraTreesClassifier \n",
    "from sklearn.tree import DecisionTreeClassifier\n",
    "from sklearn.svm import LinearSVC\n",
    "import matplotlib.pyplot as plt\n",
    "\n",
    "# Our files\n",
    "from data_shuffling_split import *\n",
    "from features_extraction import *\n",
    "from ara_vec_preprocess_configs import *\n",
    "from ml_modeling import *"
   ]
  },
  {
   "cell_type": "code",
   "execution_count": 4,
   "id": "2c4fa98d",
   "metadata": {},
   "outputs": [
    {
     "data": {
      "text/html": [
       "<div>\n",
       "<style scoped>\n",
       "    .dataframe tbody tr th:only-of-type {\n",
       "        vertical-align: middle;\n",
       "    }\n",
       "\n",
       "    .dataframe tbody tr th {\n",
       "        vertical-align: top;\n",
       "    }\n",
       "\n",
       "    .dataframe thead th {\n",
       "        text-align: right;\n",
       "    }\n",
       "</style>\n",
       "<table border=\"1\" class=\"dataframe\">\n",
       "  <thead>\n",
       "    <tr style=\"text-align: right;\">\n",
       "      <th></th>\n",
       "      <th>label</th>\n",
       "      <th>text</th>\n",
       "    </tr>\n",
       "  </thead>\n",
       "  <tbody>\n",
       "    <tr>\n",
       "      <th>0</th>\n",
       "      <td>1</td>\n",
       "      <td>مع انتشار الامراض ومنها الكورونا اليكم النصيحه...</td>\n",
       "    </tr>\n",
       "    <tr>\n",
       "      <th>1</th>\n",
       "      <td>0</td>\n",
       "      <td>1 دراسه بحثيه صادره معهد الدراسات الاستراتيجي...</td>\n",
       "    </tr>\n",
       "    <tr>\n",
       "      <th>2</th>\n",
       "      <td>1</td>\n",
       "      <td>بدات في مدينه وهان في الصين انتقلت لبعض المقاط...</td>\n",
       "    </tr>\n",
       "    <tr>\n",
       "      <th>3</th>\n",
       "      <td>1</td>\n",
       "      <td>coronarvirus CoronaOutbreak فيروس_كورونا</td>\n",
       "    </tr>\n",
       "    <tr>\n",
       "      <th>4</th>\n",
       "      <td>1</td>\n",
       "      <td>الاداره_العامه_للطيران_المدني اجراءات وقاءيه ح...</td>\n",
       "    </tr>\n",
       "  </tbody>\n",
       "</table>\n",
       "</div>"
      ],
      "text/plain": [
       "   label                                               text\n",
       "0      1  مع انتشار الامراض ومنها الكورونا اليكم النصيحه...\n",
       "1      0   1 دراسه بحثيه صادره معهد الدراسات الاستراتيجي...\n",
       "2      1  بدات في مدينه وهان في الصين انتقلت لبعض المقاط...\n",
       "3      1           coronarvirus CoronaOutbreak فيروس_كورونا\n",
       "4      1  الاداره_العامه_للطيران_المدني اجراءات وقاءيه ح..."
      ]
     },
     "execution_count": 4,
     "metadata": {},
     "output_type": "execute_result"
    }
   ],
   "source": [
    "strat_train_set = read_file(\"train/strat_train_set.csv\")\n",
    "strat_train_set.head()"
   ]
  },
  {
   "cell_type": "code",
   "execution_count": 5,
   "id": "c5bfa55a",
   "metadata": {},
   "outputs": [
    {
     "name": "stdout",
     "output_type": "stream",
     "text": [
      "The number of instances in the training data after StratifiedShuffleSplit are:  8643\n",
      "The number of instances in the testing data after StratifiedShuffleSplit are:   177\n",
      "The number of trainin instances:  8643\n",
      "The number of validation instances:  177\n",
      "The number of trainin labels :  8643\n",
      "The number of validation labels :  177\n"
     ]
    }
   ],
   "source": [
    "x_train_text, x_val_text, y_train, y_val = prepare_data(strat_train_set)"
   ]
  },
  {
   "cell_type": "code",
   "execution_count": 6,
   "id": "0b7dbd7a",
   "metadata": {},
   "outputs": [
    {
     "name": "stdout",
     "output_type": "stream",
     "text": [
      "Before Tokenization : \n",
      " ['اهم فواءد اتفاقيه الصين القضاء علي الچلاب الساءبه العدنا تكفيهم سنين اچل شبع ', 'کیسی احمق قوم ہے پوری دنیا میں کسی ملک نے چاءنا کے شہر وہان سے اپنے شہری واپس نہی بلاءے کیونکہ اسطرح وباء پوری دنیا میں پھیل سکتی ہے مكر ان جاہلوں کو لكتا ہے کہ پاکستان اپنے شہریوں کو واپس بلا کر ظلم کر رہا ہے لعنت ہو ایسی نالاءق اور احمق قوم پر', 'هاكي عملتي مقارنات وما همتك الرقعه تاعنا الصين دوله عملاقه امريكا ولم تستطع الوقوف امامها تقارنيها بالجزاءر']\n",
      "==================================================\n",
      "After Tokenization : \n",
      " [['اهم', 'فواءد', 'اتفاقيه', 'الصين', 'القضاء', 'علي', 'الچلاب', 'الساءبه', 'العدنا', 'تكفيهم', 'سنين', 'اچل', 'شبع'], ['کیسی', 'احمق', 'قوم', 'ہے', 'پوری', 'دنیا', 'میں', 'کسی', 'ملک', 'نے', 'چاءنا', 'کے', 'شہر', 'وہان', 'سے', 'اپنے', 'شہری', 'واپس', 'نہی', 'بلاءے', 'کیونکہ', 'اسطرح', 'وباء', 'پوری', 'دنیا', 'میں', 'پھیل', 'سکتی', 'ہے', 'مكر', 'ان', 'جاہلوں', 'کو', 'لكتا', 'ہے', 'کہ', 'پاکستان', 'اپنے', 'شہریوں', 'کو', 'واپس', 'بلا', 'کر', 'ظلم', 'کر', 'رہا', 'ہے', 'لعنت', 'ہو', 'ایسی', 'نالاءق', 'اور', 'احمق', 'قوم', 'پر'], ['هاكي', 'عملتي', 'مقارنات', 'وما', 'همتك', 'الرقعه', 'تاعنا', 'الصين', 'دوله', 'عملاقه', 'امريكا', 'ولم', 'تستطع', 'الوقوف', 'امامها', 'تقارنيها', 'بالجزاءر']]\n",
      "==================================================\n",
      "Before Tokenization : \n",
      " ['استاذي العزيز ذكر امس ان حجم الاستيراد الصين 30 لسنه 2019 في حلقه قدمت ضمن قناه دجله والكل يعرف ان معظم ما يتم استيراده الصين سلع استهلاكيه يمكن صناعتها محليا لو وجدت الاراده والتصميم تخيل ستصنع للاقتصاد العراقي لو بقيت المليارات في الداخل', 'بفلسطين في صفقه القرن وبلبنان في سرقه القرن رءساء وزراء نواب فشلوا سرقوا مستقبل واحلام اولادنا سرقوا الكهربا والمي والزفت وحرمونا ابسط حقوق الانسان اكل ولبس وتعليم وبعدن ببشرونا باجراءات قاسيه وموجعه انهم اسوا فيروس كورونا لبنان', 'صوره مع المحلق الثقافي في جمهوريه الصين الشعبيه فهد الشريف ']\n",
      "==================================================\n",
      "After Tokenization : \n",
      " [['استاذي', 'العزيز', 'ذكر', 'امس', 'ان', 'حجم', 'الاستيراد', 'الصين', '30', 'لسنه', '2019', 'في', 'حلقه', 'قدمت', 'ضمن', 'قناه', 'دجله', 'والكل', 'يعرف', 'ان', 'معظم', 'ما', 'يتم', 'استيراده', 'الصين', 'سلع', 'استهلاكيه', 'يمكن', 'صناعتها', 'محليا', 'لو', 'وجدت', 'الاراده', 'والتصميم', 'تخيل', 'ستصنع', 'للاقتصاد', 'العراقي', 'لو', 'بقيت', 'المليارات', 'في', 'الداخل'], ['بفلسطين', 'في', 'صفقه', 'القرن', 'وبلبنان', 'في', 'سرقه', 'القرن', 'رءساء', 'وزراء', 'نواب', 'فشلوا', 'سرقوا', 'مستقبل', 'واحلام', 'اولادنا', 'سرقوا', 'الكهربا', 'والمي', 'والزفت', 'وحرمونا', 'ابسط', 'حقوق', 'الانسان', 'اكل', 'ولبس', 'وتعليم', 'وبعدن', 'ببشرونا', 'باجراءات', 'قاسيه', 'وموجعه', 'انهم', 'اسوا', 'فيروس', 'كورونا', 'لبنان'], ['صوره', 'مع', 'المحلق', 'الثقافي', 'في', 'جمهوريه', 'الصين', 'الشعبيه', 'فهد', 'الشريف']]\n",
      "full gram tokenization : \n",
      " [['اهم', 'فواءد', 'اتفاقيه', 'الصين', 'القضاء', 'علي', 'الچلاب', 'الساءبه', 'العدنا', 'تكفيهم', 'سنين', 'اچل', 'شبع', 'اهم_فواءد', 'فواءد_اتفاقيه', 'اتفاقيه_الصين', 'الصين_القضاء', 'القضاء_علي', 'علي_الچلاب', 'الچلاب_الساءبه', 'الساءبه_العدنا', 'العدنا_تكفيهم', 'تكفيهم_سنين', 'سنين_اچل', 'اچل_شبع', 'اهم_فواءد_اتفاقيه', 'فواءد_اتفاقيه_الصين', 'اتفاقيه_الصين_القضاء', 'الصين_القضاء_علي', 'القضاء_علي_الچلاب', 'علي_الچلاب_الساءبه', 'الچلاب_الساءبه_العدنا', 'الساءبه_العدنا_تكفيهم', 'العدنا_تكفيهم_سنين', 'تكفيهم_سنين_اچل', 'سنين_اچل_شبع'], ['کیسی', 'احمق', 'قوم', 'ہے', 'پوری', 'دنیا', 'میں', 'کسی', 'ملک', 'نے', 'چاءنا', 'کے', 'شہر', 'وہان', 'سے', 'اپنے', 'شہری', 'واپس', 'نہی', 'بلاءے', 'کیونکہ', 'اسطرح', 'وباء', 'پوری', 'دنیا', 'میں', 'پھیل', 'سکتی', 'ہے', 'مكر', 'ان', 'جاہلوں', 'کو', 'لكتا', 'ہے', 'کہ', 'پاکستان', 'اپنے', 'شہریوں', 'کو', 'واپس', 'بلا', 'کر', 'ظلم', 'کر', 'رہا', 'ہے', 'لعنت', 'ہو', 'ایسی', 'نالاءق', 'اور', 'احمق', 'قوم', 'پر', 'کیسی_احمق', 'احمق_قوم', 'قوم_ہے', 'ہے_پوری', 'پوری_دنیا', 'دنیا_میں', 'میں_کسی', 'کسی_ملک', 'ملک_نے', 'نے_چاءنا', 'چاءنا_کے', 'کے_شہر', 'شہر_وہان', 'وہان_سے', 'سے_اپنے', 'اپنے_شہری', 'شہری_واپس', 'واپس_نہی', 'نہی_بلاءے', 'بلاءے_کیونکہ', 'کیونکہ_اسطرح', 'اسطرح_وباء', 'وباء_پوری', 'پوری_دنیا', 'دنیا_میں', 'میں_پھیل', 'پھیل_سکتی', 'سکتی_ہے', 'ہے_مكر', 'مكر_ان', 'ان_جاہلوں', 'جاہلوں_کو', 'کو_لكتا', 'لكتا_ہے', 'ہے_کہ', 'کہ_پاکستان', 'پاکستان_اپنے', 'اپنے_شہریوں', 'شہریوں_کو', 'کو_واپس', 'واپس_بلا', 'بلا_کر', 'کر_ظلم', 'ظلم_کر', 'کر_رہا', 'رہا_ہے', 'ہے_لعنت', 'لعنت_ہو', 'ہو_ایسی', 'ایسی_نالاءق', 'نالاءق_اور', 'اور_احمق', 'احمق_قوم', 'قوم_پر', 'کیسی_احمق_قوم', 'احمق_قوم_ہے', 'قوم_ہے_پوری', 'ہے_پوری_دنیا', 'پوری_دنیا_میں', 'دنیا_میں_کسی', 'میں_کسی_ملک', 'کسی_ملک_نے', 'ملک_نے_چاءنا', 'نے_چاءنا_کے', 'چاءنا_کے_شہر', 'کے_شہر_وہان', 'شہر_وہان_سے', 'وہان_سے_اپنے', 'سے_اپنے_شہری', 'اپنے_شہری_واپس', 'شہری_واپس_نہی', 'واپس_نہی_بلاءے', 'نہی_بلاءے_کیونکہ', 'بلاءے_کیونکہ_اسطرح', 'کیونکہ_اسطرح_وباء', 'اسطرح_وباء_پوری', 'وباء_پوری_دنیا', 'پوری_دنیا_میں', 'دنیا_میں_پھیل', 'میں_پھیل_سکتی', 'پھیل_سکتی_ہے', 'سکتی_ہے_مكر', 'ہے_مكر_ان', 'مكر_ان_جاہلوں', 'ان_جاہلوں_کو', 'جاہلوں_کو_لكتا', 'کو_لكتا_ہے', 'لكتا_ہے_کہ', 'ہے_کہ_پاکستان', 'کہ_پاکستان_اپنے', 'پاکستان_اپنے_شہریوں', 'اپنے_شہریوں_کو', 'شہریوں_کو_واپس', 'کو_واپس_بلا', 'واپس_بلا_کر', 'بلا_کر_ظلم', 'کر_ظلم_کر', 'ظلم_کر_رہا', 'کر_رہا_ہے', 'رہا_ہے_لعنت', 'ہے_لعنت_ہو', 'لعنت_ہو_ایسی', 'ہو_ایسی_نالاءق', 'ایسی_نالاءق_اور', 'نالاءق_اور_احمق', 'اور_احمق_قوم', 'احمق_قوم_پر'], ['هاكي', 'عملتي', 'مقارنات', 'وما', 'همتك', 'الرقعه', 'تاعنا', 'الصين', 'دوله', 'عملاقه', 'امريكا', 'ولم', 'تستطع', 'الوقوف', 'امامها', 'تقارنيها', 'بالجزاءر', 'هاكي_عملتي', 'عملتي_مقارنات', 'مقارنات_وما', 'وما_همتك', 'همتك_الرقعه', 'الرقعه_تاعنا', 'تاعنا_الصين', 'الصين_دوله', 'دوله_عملاقه', 'عملاقه_امريكا', 'امريكا_ولم', 'ولم_تستطع', 'تستطع_الوقوف', 'الوقوف_امامها', 'امامها_تقارنيها', 'تقارنيها_بالجزاءر', 'هاكي_عملتي_مقارنات', 'عملتي_مقارنات_وما', 'مقارنات_وما_همتك', 'وما_همتك_الرقعه', 'همتك_الرقعه_تاعنا', 'الرقعه_تاعنا_الصين', 'تاعنا_الصين_دوله', 'الصين_دوله_عملاقه', 'دوله_عملاقه_امريكا', 'عملاقه_امريكا_ولم', 'امريكا_ولم_تستطع', 'ولم_تستطع_الوقوف', 'تستطع_الوقوف_امامها', 'الوقوف_امامها_تقارنيها', 'امامها_تقارنيها_بالجزاءر']]\n",
      "==================================================\n",
      "full gram tokenization : \n",
      " [['استاذي', 'العزيز', 'ذكر', 'امس', 'ان', 'حجم', 'الاستيراد', 'الصين', '30', 'لسنه', '2019', 'في', 'حلقه', 'قدمت', 'ضمن', 'قناه', 'دجله', 'والكل', 'يعرف', 'ان', 'معظم', 'ما', 'يتم', 'استيراده', 'الصين', 'سلع', 'استهلاكيه', 'يمكن', 'صناعتها', 'محليا', 'لو', 'وجدت', 'الاراده', 'والتصميم', 'تخيل', 'ستصنع', 'للاقتصاد', 'العراقي', 'لو', 'بقيت', 'المليارات', 'في', 'الداخل', 'استاذي_العزيز', 'العزيز_ذكر', 'ذكر_امس', 'امس_ان', 'ان_حجم', 'حجم_الاستيراد', 'الاستيراد_الصين', 'الصين_30', '30_لسنه', 'لسنه_2019', '2019_في', 'في_حلقه', 'حلقه_قدمت', 'قدمت_ضمن', 'ضمن_قناه', 'قناه_دجله', 'دجله_والكل', 'والكل_يعرف', 'يعرف_ان', 'ان_معظم', 'معظم_ما', 'ما_يتم', 'يتم_استيراده', 'استيراده_الصين', 'الصين_سلع', 'سلع_استهلاكيه', 'استهلاكيه_يمكن', 'يمكن_صناعتها', 'صناعتها_محليا', 'محليا_لو', 'لو_وجدت', 'وجدت_الاراده', 'الاراده_والتصميم', 'والتصميم_تخيل', 'تخيل_ستصنع', 'ستصنع_للاقتصاد', 'للاقتصاد_العراقي', 'العراقي_لو', 'لو_بقيت', 'بقيت_المليارات', 'المليارات_في', 'في_الداخل', 'استاذي_العزيز_ذكر', 'العزيز_ذكر_امس', 'ذكر_امس_ان', 'امس_ان_حجم', 'ان_حجم_الاستيراد', 'حجم_الاستيراد_الصين', 'الاستيراد_الصين_30', 'الصين_30_لسنه', '30_لسنه_2019', 'لسنه_2019_في', '2019_في_حلقه', 'في_حلقه_قدمت', 'حلقه_قدمت_ضمن', 'قدمت_ضمن_قناه', 'ضمن_قناه_دجله', 'قناه_دجله_والكل', 'دجله_والكل_يعرف', 'والكل_يعرف_ان', 'يعرف_ان_معظم', 'ان_معظم_ما', 'معظم_ما_يتم', 'ما_يتم_استيراده', 'يتم_استيراده_الصين', 'استيراده_الصين_سلع', 'الصين_سلع_استهلاكيه', 'سلع_استهلاكيه_يمكن', 'استهلاكيه_يمكن_صناعتها', 'يمكن_صناعتها_محليا', 'صناعتها_محليا_لو', 'محليا_لو_وجدت', 'لو_وجدت_الاراده', 'وجدت_الاراده_والتصميم', 'الاراده_والتصميم_تخيل', 'والتصميم_تخيل_ستصنع', 'تخيل_ستصنع_للاقتصاد', 'ستصنع_للاقتصاد_العراقي', 'للاقتصاد_العراقي_لو', 'العراقي_لو_بقيت', 'لو_بقيت_المليارات', 'بقيت_المليارات_في', 'المليارات_في_الداخل'], ['بفلسطين', 'في', 'صفقه', 'القرن', 'وبلبنان', 'في', 'سرقه', 'القرن', 'رءساء', 'وزراء', 'نواب', 'فشلوا', 'سرقوا', 'مستقبل', 'واحلام', 'اولادنا', 'سرقوا', 'الكهربا', 'والمي', 'والزفت', 'وحرمونا', 'ابسط', 'حقوق', 'الانسان', 'اكل', 'ولبس', 'وتعليم', 'وبعدن', 'ببشرونا', 'باجراءات', 'قاسيه', 'وموجعه', 'انهم', 'اسوا', 'فيروس', 'كورونا', 'لبنان', 'بفلسطين_في', 'في_صفقه', 'صفقه_القرن', 'القرن_وبلبنان', 'وبلبنان_في', 'في_سرقه', 'سرقه_القرن', 'القرن_رءساء', 'رءساء_وزراء', 'وزراء_نواب', 'نواب_فشلوا', 'فشلوا_سرقوا', 'سرقوا_مستقبل', 'مستقبل_واحلام', 'واحلام_اولادنا', 'اولادنا_سرقوا', 'سرقوا_الكهربا', 'الكهربا_والمي', 'والمي_والزفت', 'والزفت_وحرمونا', 'وحرمونا_ابسط', 'ابسط_حقوق', 'حقوق_الانسان', 'الانسان_اكل', 'اكل_ولبس', 'ولبس_وتعليم', 'وتعليم_وبعدن', 'وبعدن_ببشرونا', 'ببشرونا_باجراءات', 'باجراءات_قاسيه', 'قاسيه_وموجعه', 'وموجعه_انهم', 'انهم_اسوا', 'اسوا_فيروس', 'فيروس_كورونا', 'كورونا_لبنان', 'بفلسطين_في_صفقه', 'في_صفقه_القرن', 'صفقه_القرن_وبلبنان', 'القرن_وبلبنان_في', 'وبلبنان_في_سرقه', 'في_سرقه_القرن', 'سرقه_القرن_رءساء', 'القرن_رءساء_وزراء', 'رءساء_وزراء_نواب', 'وزراء_نواب_فشلوا', 'نواب_فشلوا_سرقوا', 'فشلوا_سرقوا_مستقبل', 'سرقوا_مستقبل_واحلام', 'مستقبل_واحلام_اولادنا', 'واحلام_اولادنا_سرقوا', 'اولادنا_سرقوا_الكهربا', 'سرقوا_الكهربا_والمي', 'الكهربا_والمي_والزفت', 'والمي_والزفت_وحرمونا', 'والزفت_وحرمونا_ابسط', 'وحرمونا_ابسط_حقوق', 'ابسط_حقوق_الانسان', 'حقوق_الانسان_اكل', 'الانسان_اكل_ولبس', 'اكل_ولبس_وتعليم', 'ولبس_وتعليم_وبعدن', 'وتعليم_وبعدن_ببشرونا', 'وبعدن_ببشرونا_باجراءات', 'ببشرونا_باجراءات_قاسيه', 'باجراءات_قاسيه_وموجعه', 'قاسيه_وموجعه_انهم', 'وموجعه_انهم_اسوا', 'انهم_اسوا_فيروس', 'اسوا_فيروس_كورونا', 'فيروس_كورونا_لبنان'], ['صوره', 'مع', 'المحلق', 'الثقافي', 'في', 'جمهوريه', 'الصين', 'الشعبيه', 'فهد', 'الشريف', 'صوره_مع', 'مع_المحلق', 'المحلق_الثقافي', 'الثقافي_في', 'في_جمهوريه', 'جمهوريه_الصين', 'الصين_الشعبيه', 'الشعبيه_فهد', 'فهد_الشريف', 'صوره_مع_المحلق', 'مع_المحلق_الثقافي', 'المحلق_الثقافي_في', 'الثقافي_في_جمهوريه', 'في_جمهوريه_الصين', 'جمهوريه_الصين_الشعبيه', 'الصين_الشعبيه_فهد', 'الشعبيه_فهد_الشريف']]\n",
      "==================================================\n"
     ]
    }
   ],
   "source": [
    "x_train_text_tokenized = tokenize_using_nltk_TreebankWordTokenizer(x_train_text)\n",
    "\n",
    "print(\"Before Tokenization : \\n\", x_train_text[:3])\n",
    "print(\"=\"*50)\n",
    "print(\"After Tokenization : \\n\", x_train_text_tokenized[:3])\n",
    "print(\"=\"*50)\n",
    "\n",
    "x_val_text_tokenized = tokenize_using_nltk_TreebankWordTokenizer(x_val_text)\n",
    "\n",
    "print(\"Before Tokenization : \\n\", x_val_text[:3])\n",
    "print(\"=\"*50)\n",
    "print(\"After Tokenization : \\n\", x_val_text_tokenized[:3])\n",
    "\n",
    "fullgram_x_train_text_tokenized = get_all_ngrams(x_train_text_tokenized)\n",
    "print(\"full gram tokenization : \\n\", fullgram_x_train_text_tokenized[:3])\n",
    "print(\"=\"*50)\n",
    "fullgram_x_val_text_tokenized = get_all_ngrams(x_val_text_tokenized)\n",
    "print(\"full gram tokenization : \\n\", fullgram_x_val_text_tokenized[:3])\n",
    "print(\"=\"*50)"
   ]
  },
  {
   "cell_type": "code",
   "execution_count": 7,
   "id": "2d609af6",
   "metadata": {},
   "outputs": [
    {
     "name": "stdout",
     "output_type": "stream",
     "text": [
      "The max length is:  237\n"
     ]
    },
    {
     "data": {
      "text/plain": [
       "[36, 162, 48, 6, 54, 120, 15, 81, 21, 24]"
      ]
     },
     "execution_count": 7,
     "metadata": {},
     "output_type": "execute_result"
    }
   ],
   "source": [
    "# Get how many words inside each text after tokenization\n",
    "num_of_words_in_each_text = [len(text) for text in fullgram_x_train_text_tokenized]\n",
    "max_len = max(num_of_words_in_each_text)\n",
    "print(\"The max length is: \", max_len)\n",
    "num_of_words_in_each_text[:10]"
   ]
  },
  {
   "cell_type": "code",
   "execution_count": 11,
   "id": "47f4ce30",
   "metadata": {},
   "outputs": [
    {
     "name": "stdout",
     "output_type": "stream",
     "text": [
      "The number of keys before removing are:  63\n",
      "==================================================\n",
      "The number of keys after removing some of them are:  47\n",
      "==================================================\n"
     ]
    },
    {
     "data": {
      "image/png": "[encoded data removed]",
      "text/plain": [
       "<Figure size 1332x432 with 1 Axes>"
      ]
     },
     "metadata": {},
     "output_type": "display_data"
    }
   ],
   "source": [
    "# count how many times these value repeated and sort them\n",
    "new_dicts = get_keys_that_val_gr_than_num(num_of_words_in_each_text, 50)\n",
    "keys = list(new_dicts.keys())\n",
    "values = list(new_dicts.values())\n",
    "plt.style.use('dark_background')\n",
    "fig = plt.gcf()\n",
    "fig.set_size_inches(18.5, 6)\n",
    "plt.bar(range(len(new_dicts)), values, tick_label=keys)\n",
    "plt.show()"
   ]
  },
  {
   "cell_type": "markdown",
   "id": "22ba15a2",
   "metadata": {},
   "source": [
    "# Our CBOW Word2Vec Model"
   ]
  },
  {
   "cell_type": "code",
   "execution_count": 12,
   "id": "c6c96224",
   "metadata": {},
   "outputs": [],
   "source": [
    "our_word2vec_model = load_word2vec_model(\"../word2vec_models/rezk/skipgram/skip_gram_fullgram_vec_size_300-d_min_count_100\")"
   ]
  },
  {
   "cell_type": "code",
   "execution_count": 13,
   "id": "463b2efa",
   "metadata": {},
   "outputs": [
    {
     "name": "stdout",
     "output_type": "stream",
     "text": [
      "==================================================\n",
      "(8643, 237, 300)\n",
      "(8643, 71100)\n",
      "==================================================\n",
      "[ 0.008156  -0.08453    0.03537    0.00923    0.0807     0.2108\n",
      " -0.006214   0.01746    0.049     -0.10333   -0.2007     0.006237\n",
      " -0.0006533 -0.06323   -0.0677    -0.0913     0.01408    0.0712\n",
      "  0.1635    -0.1121    -0.02573    0.09314   -0.0284    -0.1376\n",
      " -0.0798     0.1914    -0.04672   -0.09625   -0.0679    -0.001663\n",
      "  0.05865    0.1714     0.07465    0.0663    -0.0339    -0.0124\n",
      "  0.06396   -0.02417   -0.0332     0.02142   -0.14      -0.05414\n",
      "  0.2487     0.11725    0.0888     0.03806   -0.04465    0.06714\n",
      " -0.02675   -0.09607  ]\n",
      "==================================================\n",
      "(177, 237, 300)\n",
      "(177, 71100)\n",
      "==================================================\n",
      "[ 0.0007834  0.0814    -0.1329    -0.01324    0.2133    -0.04483\n",
      "  0.01295    0.156     -0.04376   -0.10297   -0.2319     0.1376\n",
      "  0.1605     0.1573    -0.00834    0.10626    0.3535    -0.01682\n",
      "  0.092     -0.0674     0.02274    0.01344   -0.2095    -0.08325\n",
      " -0.12317   -0.0369     0.04898    0.0462    -0.04883    0.07\n",
      " -0.1993     0.2112    -0.1326     0.1997    -0.2286    -0.0843\n",
      "  0.01085    0.3335    -0.0765    -0.009796  -0.1699    -0.0927\n",
      "  0.2485    -0.0733     0.04105    0.1054    -0.02252   -0.1195\n",
      " -0.06976   -0.1986   ]\n",
      "(8643, 71100)\n",
      "==================================================\n",
      "(177, 71100)\n",
      "==================================================\n"
     ]
    }
   ],
   "source": [
    "number_of_features = 300\n",
    "max_len_str = 237\n",
    "word2vec_path = \"rezk/skipgram/\"\n",
    "model_path_to_save = \"../ml_models_saved/\"\n",
    "estimators = voting_models()\n",
    "\n",
    "X_train_embed_matrix = text_to_matrix_using_word2vec(our_word2vec_model, fullgram_x_train_text_tokenized, max_len_str)\n",
    "X_val_embed_matrix = text_to_matrix_using_word2vec(our_word2vec_model, fullgram_x_val_text_tokenized, max_len_str)\n",
    "\n",
    "print(X_train_embed_matrix.shape)\n",
    "print(\"=\"*50)\n",
    "print(X_val_embed_matrix.shape)\n",
    "print(\"=\"*50)"
   ]
  },
  {
   "cell_type": "code",
   "execution_count": 14,
   "id": "8203a95b",
   "metadata": {},
   "outputs": [
    {
     "name": "stderr",
     "output_type": "stream",
     "text": [
      "[Parallel(n_jobs=1)]: Using backend SequentialBackend with 1 concurrent workers.\n"
     ]
    },
    {
     "name": "stdout",
     "output_type": "stream",
     "text": [
      "RUNNING THE L-BFGS-B CODE\n",
      "\n",
      "           * * *\n",
      "\n",
      "Machine precision = 2.220D-16\n",
      " N =       142202     M =           10\n",
      "\n",
      "At X0         0 variables are exactly at the bounds\n",
      "\n",
      "At iterate    0    f=  5.99087D+03    |proj g|=  4.53500D+02\n"
     ]
    },
    {
     "name": "stderr",
     "output_type": "stream",
     "text": [
      " This problem is unconstrained.\n"
     ]
    },
    {
     "name": "stdout",
     "output_type": "stream",
     "text": [
      "\n",
      "At iterate   50    f=  3.31619D+02    |proj g|=  4.00383D-01\n",
      "\n",
      "At iterate  100    f=  3.29189D+02    |proj g|=  3.18033D-02\n",
      "\n",
      "           * * *\n",
      "\n",
      "Tit   = total number of iterations\n",
      "Tnf   = total number of function evaluations\n",
      "Tnint = total number of segments explored during Cauchy searches\n",
      "Skip  = number of BFGS updates skipped\n",
      "Nact  = number of active bounds at final generalized Cauchy point\n",
      "Projg = norm of the final projected gradient\n",
      "F     = final function value\n",
      "\n",
      "           * * *\n",
      "\n",
      "   N    Tit     Tnf  Tnint  Skip  Nact     Projg        F\n",
      "*****    100    112      1     0     0   3.180D-02   3.292D+02\n",
      "  F =   329.18878754729928     \n",
      "\n",
      "STOP: TOTAL NO. of ITERATIONS REACHED LIMIT                 \n"
     ]
    },
    {
     "name": "stderr",
     "output_type": "stream",
     "text": [
      "/usr/local/lib/python3.8/dist-packages/sklearn/linear_model/_logistic.py:814: ConvergenceWarning: lbfgs failed to converge (status=1):\n",
      "STOP: TOTAL NO. of ITERATIONS REACHED LIMIT.\n",
      "\n",
      "Increase the number of iterations (max_iter) or scale the data as shown in:\n",
      "    https://scikit-learn.org/stable/modules/preprocessing.html\n",
      "Please also refer to the documentation for alternative solver options:\n",
      "    https://scikit-learn.org/stable/modules/linear_model.html#logistic-regression\n",
      "  n_iter_i = _check_optimize_result(\n",
      "[Parallel(n_jobs=1)]: Done   1 out of   1 | elapsed:  1.2min finished\n"
     ]
    },
    {
     "name": "stdout",
     "output_type": "stream",
     "text": [
      "===================== Validate Result =====================\n",
      "F1 score is:  0.8983050847457628\n",
      "It takes to run:  0:01:20.766623\n",
      "==================================================\n",
      "[LibLinear].....\n",
      "optimization finished, #iter = 50\n",
      "\n",
      "WARNING: reaching max number of iterations\n",
      "Using -s 2 may be faster (also see FAQ)\n",
      "\n",
      "Objective value = -65.664943\n",
      "nSV = 2945\n",
      "===================== Validate Result =====================\n",
      "F1 score is:  0.9152542372881356\n",
      "It takes to run:  0:00:20.419798\n",
      "==================================================\n"
     ]
    },
    {
     "name": "stderr",
     "output_type": "stream",
     "text": [
      "/usr/local/lib/python3.8/dist-packages/sklearn/svm/_base.py:1206: ConvergenceWarning: Liblinear failed to converge, increase the number of iterations.\n",
      "  warnings.warn(\n"
     ]
    },
    {
     "name": "stdout",
     "output_type": "stream",
     "text": [
      "[LibLinear].*\n",
      "optimization finished, #iter = 11\n",
      "Objective value = -0.353824\n",
      "nSV = 8330\n",
      "[LibLinear].*\n",
      "optimization finished, #iter = 11\n",
      "Objective value = -0.429031\n",
      "nSV = 8566\n",
      "[LibLinear].*\n",
      "optimization finished, #iter = 11\n",
      "Objective value = -0.440401\n",
      "nSV = 8641\n",
      "[LibLinear]\n",
      "optimization finished, #iter = 9\n",
      "Objective value = -0.462655\n",
      "nSV = 8643\n",
      "[LibLinear]\n",
      "optimization finished, #iter = 9\n",
      "Objective value = -0.441527\n",
      "nSV = 8643\n",
      "===================== Validate Result =====================\n",
      "F1 score is:  0.9209039548022597\n",
      "It takes to run:  0:01:07.201773\n",
      "==================================================\n",
      "      Iter       Train Loss      OOB Improve   Remaining Time \n",
      "         1           1.0306           0.1266           24.19s\n",
      "         2           0.8241           0.0249           21.17s\n",
      "         3           0.8327           0.0100           18.75s\n",
      "         4           0.8603           0.0003           15.98s\n",
      "         5           0.7063          -0.0445           13.20s\n",
      "         6           0.7759          -0.0887           10.95s\n",
      "         7           0.7210          -0.1171            8.29s\n",
      "         8           0.9453          -0.0788            5.53s\n",
      "         9           0.7486          -0.1086            2.81s\n",
      "        10           0.7610          -0.3509            0.00s\n",
      "===================== Validate Result =====================\n",
      "F1 score is:  0.7344632768361582\n",
      "It takes to run:  0:00:30.510512\n",
      "==================================================\n"
     ]
    }
   ],
   "source": [
    "# Train Logistic Regression\n",
    "\n",
    "model = LogisticRegression(penalty='l2', C=1, multi_class='multinomial', solver='lbfgs', verbose=1)\n",
    "model = ml_classifer_pipeline(model, X_train_embed_matrix, y_train, X_val_embed_matrix, y_val,word2vec_path, model_path_to_save)\n",
    "\n",
    "print(\"=\" * 50)\n",
    "\n",
    "# Train SVC\n",
    "\n",
    "model = LinearSVC(C=0.5,  max_iter=50, verbose=1)\n",
    "model = ml_classifer_pipeline(model, X_train_embed_matrix, y_train, X_val_embed_matrix, y_val,word2vec_path, model_path_to_save)\n",
    "\n",
    "\n",
    "# AdaBoost \n",
    "print(\"=\" * 50)\n",
    "\n",
    "\n",
    "model = LinearSVC(C=0.5,  verbose=1)\n",
    "model = AdaBoostClassifier(model,  algorithm=\"SAMME\", n_estimators=5)\n",
    "model = ml_classifer_pipeline(model, X_train_embed_matrix, y_train, X_val_embed_matrix, y_val,word2vec_path, model_path_to_save)\n",
    "\n",
    "#  Gradient Boosting\n",
    "print(\"=\" * 50)\n",
    "\n",
    "model = GradientBoostingClassifier(n_estimators=10, subsample=.1, learning_rate=.5,   max_depth=5, verbose=1)\n",
    "model = ml_classifer_pipeline(model, X_train_embed_matrix, y_train, X_val_embed_matrix, y_val,word2vec_path, model_path_to_save)\n",
    "print(\"=\" * 50)\n"
   ]
  },
  {
   "cell_type": "code",
   "execution_count": 15,
   "id": "a385685a",
   "metadata": {},
   "outputs": [],
   "source": [
    "bakr_word2vec_model = load_word2vec_model(\"../word2vec_models/bakr/skipgram/full_grams_sg_300_twitter.mdl\")"
   ]
  },
  {
   "cell_type": "code",
   "execution_count": 16,
   "id": "28cc8b45",
   "metadata": {},
   "outputs": [
    {
     "name": "stdout",
     "output_type": "stream",
     "text": [
      "==================================================\n",
      "(8643, 237, 300)\n",
      "(8643, 71100)\n",
      "==================================================\n",
      "[ 0.279   -0.4744   0.201    0.0871  -0.266   -0.02853  0.3115   0.12494\n",
      "  0.1948  -0.1619  -0.409   -0.1619   0.08344 -0.04764 -0.2883  -0.2615\n",
      " -0.4858   0.1809   0.02391 -0.09     0.0344  -0.0568  -0.5693  -0.01666\n",
      " -0.0409  -0.0613   0.4429  -0.0857   0.1624  -0.0934   0.2664   0.1764\n",
      "  0.4746  -0.00742 -0.2559   0.2627   0.12305  0.1438   0.3704   0.3435\n",
      "  0.1151  -0.03065  0.09247  0.2607   0.00447 -0.08984 -0.0366  -0.3008\n",
      "  0.3728   0.1748 ]\n",
      "==================================================\n",
      "(177, 237, 300)\n",
      "(177, 71100)\n",
      "==================================================\n",
      "[ 0.2532  -0.0778   0.1276   0.09094  0.2656   0.0634  -0.10144 -0.0908\n",
      " -0.075    0.1096  -0.3264   0.3098   0.2363   0.2754  -0.1204  -0.2435\n",
      " -0.05798  0.01956  0.08075 -0.098   -0.08594 -0.1987  -0.4246  -0.09045\n",
      " -0.258    0.0993   0.499    0.03476 -0.1401  -0.1567  -0.3396  -0.2401\n",
      " -0.01701  0.2805  -0.2097  -0.1472  -0.546    0.1606   0.4045   0.1226\n",
      "  0.1555  -0.00807 -0.1664   0.1514  -0.04324  0.0869  -0.0583   0.076\n",
      "  0.711    0.2537 ]\n",
      "(8643, 71100)\n",
      "==================================================\n",
      "(177, 71100)\n",
      "==================================================\n"
     ]
    }
   ],
   "source": [
    "word2vec_path = \"bakr/skipgram/\"\n",
    "model_path_to_save = \"../ml_models_saved/\"\n",
    "estimators = voting_models()\n",
    "\n",
    "X_train_embed_matrix = text_to_matrix_using_word2vec(bakr_word2vec_model, fullgram_x_train_text_tokenized, max_len_str)\n",
    "X_val_embed_matrix = text_to_matrix_using_word2vec(bakr_word2vec_model, fullgram_x_val_text_tokenized, max_len_str)\n",
    "\n",
    "print(X_train_embed_matrix.shape)\n",
    "print(\"=\"*50)\n",
    "print(X_val_embed_matrix.shape)\n",
    "print(\"=\"*50)"
   ]
  },
  {
   "cell_type": "code",
   "execution_count": 17,
   "id": "1d8d447a",
   "metadata": {},
   "outputs": [
    {
     "name": "stderr",
     "output_type": "stream",
     "text": [
      "[Parallel(n_jobs=1)]: Using backend SequentialBackend with 1 concurrent workers.\n"
     ]
    },
    {
     "name": "stdout",
     "output_type": "stream",
     "text": [
      "RUNNING THE L-BFGS-B CODE\n",
      "\n",
      "           * * *\n",
      "\n",
      "Machine precision = 2.220D-16\n",
      " N =       142202     M =           10\n",
      "\n",
      "At X0         0 variables are exactly at the bounds\n",
      "\n",
      "At iterate    0    f=  5.99087D+03    |proj g|=  4.53500D+02\n"
     ]
    },
    {
     "name": "stderr",
     "output_type": "stream",
     "text": [
      " This problem is unconstrained.\n"
     ]
    },
    {
     "name": "stdout",
     "output_type": "stream",
     "text": [
      "\n",
      "At iterate   50    f=  2.07229D+02    |proj g|=  3.81869D+00\n",
      "\n",
      "At iterate  100    f=  2.05108D+02    |proj g|=  6.67747D-02\n",
      "\n",
      "           * * *\n",
      "\n",
      "Tit   = total number of iterations\n",
      "Tnf   = total number of function evaluations\n",
      "Tnint = total number of segments explored during Cauchy searches\n",
      "Skip  = number of BFGS updates skipped\n",
      "Nact  = number of active bounds at final generalized Cauchy point\n",
      "Projg = norm of the final projected gradient\n",
      "F     = final function value\n",
      "\n",
      "           * * *\n",
      "\n",
      "   N    Tit     Tnf  Tnint  Skip  Nact     Projg        F\n",
      "*****    100    109      1     0     0   6.677D-02   2.051D+02\n",
      "  F =   205.10782542652319     \n",
      "\n",
      "STOP: TOTAL NO. of ITERATIONS REACHED LIMIT                 \n"
     ]
    },
    {
     "name": "stderr",
     "output_type": "stream",
     "text": [
      "/usr/local/lib/python3.8/dist-packages/sklearn/linear_model/_logistic.py:814: ConvergenceWarning: lbfgs failed to converge (status=1):\n",
      "STOP: TOTAL NO. of ITERATIONS REACHED LIMIT.\n",
      "\n",
      "Increase the number of iterations (max_iter) or scale the data as shown in:\n",
      "    https://scikit-learn.org/stable/modules/preprocessing.html\n",
      "Please also refer to the documentation for alternative solver options:\n",
      "    https://scikit-learn.org/stable/modules/linear_model.html#logistic-regression\n",
      "  n_iter_i = _check_optimize_result(\n",
      "[Parallel(n_jobs=1)]: Done   1 out of   1 | elapsed:  1.2min finished\n"
     ]
    },
    {
     "name": "stdout",
     "output_type": "stream",
     "text": [
      "===================== Validate Result =====================\n",
      "F1 score is:  0.9096045197740112\n",
      "It takes to run:  0:01:14.479967\n",
      "==================================================\n",
      "[LibLinear].....\n",
      "optimization finished, #iter = 50\n",
      "\n",
      "WARNING: reaching max number of iterations\n",
      "Using -s 2 may be faster (also see FAQ)\n",
      "\n",
      "Objective value = -36.400209\n",
      "nSV = 2812\n",
      "===================== Validate Result =====================\n",
      "F1 score is:  0.8700564971751411\n",
      "It takes to run:  0:00:11.023756\n",
      "==================================================\n"
     ]
    },
    {
     "name": "stderr",
     "output_type": "stream",
     "text": [
      "/usr/local/lib/python3.8/dist-packages/sklearn/svm/_base.py:1206: ConvergenceWarning: Liblinear failed to converge, increase the number of iterations.\n",
      "  warnings.warn(\n"
     ]
    },
    {
     "name": "stdout",
     "output_type": "stream",
     "text": [
      "[LibLinear].*\n",
      "optimization finished, #iter = 11\n",
      "Objective value = -0.314552\n",
      "nSV = 8194\n",
      "[LibLinear].*\n",
      "optimization finished, #iter = 11\n",
      "Objective value = -0.403805\n",
      "nSV = 8593\n",
      "[LibLinear].\n",
      "optimization finished, #iter = 10\n",
      "Objective value = -0.412834\n",
      "nSV = 8643\n",
      "[LibLinear]\n",
      "optimization finished, #iter = 9\n",
      "Objective value = -0.432213\n",
      "nSV = 8643\n",
      "[LibLinear]\n",
      "optimization finished, #iter = 9\n",
      "Objective value = -0.447963\n",
      "nSV = 8643\n",
      "===================== Validate Result =====================\n",
      "F1 score is:  0.8926553672316384\n",
      "It takes to run:  0:01:09.945478\n",
      "==================================================\n",
      "      Iter       Train Loss      OOB Improve   Remaining Time \n",
      "         1           0.9808           0.0442           22.34s\n",
      "         2           0.8682          -0.0172           19.97s\n",
      "         3           1.0214           0.0222           18.17s\n",
      "         4           0.7769          -0.0559           15.19s\n",
      "         5           0.8573          -0.0372           12.62s\n",
      "         6           0.7977          -0.0425           10.03s\n",
      "         7           0.9268          -0.1432            7.61s\n",
      "         8           0.8617          -0.1817            5.11s\n",
      "         9           0.9523       -1776.4294            2.56s\n",
      "        10           1.0955       -7245.4007            0.00s\n",
      "===================== Validate Result =====================\n",
      "F1 score is:  0.7062146892655368\n",
      "It takes to run:  0:00:28.284417\n",
      "==================================================\n"
     ]
    }
   ],
   "source": [
    "# Train Logistic Regression\n",
    "\n",
    "model = LogisticRegression(penalty='l2', C=1, multi_class='multinomial', solver='lbfgs', verbose=1)\n",
    "model = ml_classifer_pipeline(model, X_train_embed_matrix, y_train, X_val_embed_matrix, y_val,word2vec_path, model_path_to_save)\n",
    "\n",
    "print(\"=\" * 50)\n",
    "\n",
    "# Train SVC\n",
    "\n",
    "model = LinearSVC(C=0.5,  max_iter=50, verbose=1)\n",
    "model = ml_classifer_pipeline(model, X_train_embed_matrix, y_train, X_val_embed_matrix, y_val,word2vec_path, model_path_to_save)\n",
    "\n",
    "\n",
    "# AdaBoost \n",
    "print(\"=\" * 50)\n",
    "\n",
    "\n",
    "model = LinearSVC(C=0.5,  verbose=1)\n",
    "model = AdaBoostClassifier(model,  algorithm=\"SAMME\", n_estimators=5)\n",
    "model = ml_classifer_pipeline(model, X_train_embed_matrix, y_train, X_val_embed_matrix, y_val,word2vec_path, model_path_to_save)\n",
    "\n",
    "#  Gradient Boosting\n",
    "print(\"=\" * 50)\n",
    "\n",
    "model = GradientBoostingClassifier(n_estimators=10, subsample=.1, learning_rate=.5,   max_depth=5, verbose=1)\n",
    "model = ml_classifer_pipeline(model, X_train_embed_matrix, y_train, X_val_embed_matrix, y_val,word2vec_path, model_path_to_save)\n",
    "print(\"=\" * 50)\n"
   ]
  },
  {
   "cell_type": "code",
   "execution_count": 18,
   "id": "ea3afb39",
   "metadata": {},
   "outputs": [],
   "source": [
    "muhammed_word2vec_model = load_word2vec_model(\"../word2vec_models/muhammed/skipgram/w2v_SG_300_3_400_10.model\")"
   ]
  },
  {
   "cell_type": "code",
   "execution_count": 19,
   "id": "65a2677f",
   "metadata": {},
   "outputs": [
    {
     "name": "stdout",
     "output_type": "stream",
     "text": [
      "==================================================\n",
      "(8643, 237, 300)\n",
      "(8643, 71100)\n",
      "==================================================\n",
      "[-0.0379  -0.1837  -0.0934  -0.0988   0.4038   0.02017  0.1588  -0.0968\n",
      " -0.1494  -0.2002   0.0888  -0.1522  -0.1013   0.298    0.1655   0.0675\n",
      " -0.01991 -0.0819   0.1672  -0.365   -0.02446  0.00798 -0.1383  -0.3484\n",
      " -0.0948  -0.2808   0.3672  -0.03967 -0.1324   0.125    0.2316   0.1189\n",
      " -0.2778  -0.2646   0.1465   0.339   -0.2235   0.3135  -0.2786   0.2595\n",
      " -0.3696   0.186   -0.0839  -0.2432   0.01162 -0.1598  -0.00777  0.1766\n",
      " -0.3286  -0.2349 ]\n",
      "==================================================\n",
      "(177, 237, 300)\n",
      "(177, 71100)\n",
      "==================================================\n",
      "[-6.3599e-02  1.1377e-01 -5.6458e-02 -1.2177e-01 -4.0186e-01  7.7271e-02\n",
      "  9.2407e-02 -2.4673e-02  1.9073e-04 -2.8735e-01 -2.4353e-01 -2.0984e-01\n",
      " -2.2192e-01  1.0034e-01  8.5388e-02  4.5105e-02  1.1462e-01 -3.9600e-01\n",
      "  4.9561e-02  1.4832e-02  1.7871e-01 -4.1406e-01 -4.2694e-02 -1.1284e-02\n",
      "  4.4922e-01 -4.5459e-01  9.7168e-02  2.2858e-02 -1.6089e-01  4.5825e-01\n",
      " -1.0907e-01 -1.7554e-01 -3.3173e-02 -1.7285e-01 -2.6147e-01 -5.1971e-02\n",
      " -2.4927e-01  2.1008e-01  6.9336e-02  3.2788e-01  2.8345e-01 -2.2986e-01\n",
      "  1.9165e-01  8.6609e-02 -2.8336e-02  5.1123e-01  1.5088e-01  6.0913e-02\n",
      "  5.8044e-02 -1.9714e-01]\n",
      "(8643, 71100)\n",
      "==================================================\n",
      "(177, 71100)\n",
      "==================================================\n"
     ]
    }
   ],
   "source": [
    "word2vec_path = \"muhammed/skipgram/\"\n",
    "model_path_to_save = \"../ml_models_saved/\"\n",
    "estimators = voting_models()\n",
    "\n",
    "X_train_embed_matrix = text_to_matrix_using_word2vec(muhammed_word2vec_model, fullgram_x_train_text_tokenized, max_len_str)\n",
    "X_val_embed_matrix = text_to_matrix_using_word2vec(muhammed_word2vec_model, fullgram_x_val_text_tokenized, max_len_str)\n",
    "\n",
    "print(X_train_embed_matrix.shape)\n",
    "print(\"=\"*50)\n",
    "print(X_val_embed_matrix.shape)\n",
    "print(\"=\"*50)"
   ]
  },
  {
   "cell_type": "code",
   "execution_count": 20,
   "id": "e416d3f4",
   "metadata": {},
   "outputs": [
    {
     "name": "stderr",
     "output_type": "stream",
     "text": [
      "[Parallel(n_jobs=1)]: Using backend SequentialBackend with 1 concurrent workers.\n"
     ]
    },
    {
     "name": "stdout",
     "output_type": "stream",
     "text": [
      "RUNNING THE L-BFGS-B CODE\n",
      "\n",
      "           * * *\n",
      "\n",
      "Machine precision = 2.220D-16\n",
      " N =       142202     M =           10\n",
      "\n",
      "At X0         0 variables are exactly at the bounds\n",
      "\n",
      "At iterate    0    f=  5.99087D+03    |proj g|=  4.53500D+02\n"
     ]
    },
    {
     "name": "stderr",
     "output_type": "stream",
     "text": [
      " This problem is unconstrained.\n"
     ]
    },
    {
     "name": "stdout",
     "output_type": "stream",
     "text": [
      "\n",
      "At iterate   50    f=  4.24345D+02    |proj g|=  1.40192D+00\n",
      "\n",
      "At iterate  100    f=  4.17833D+02    |proj g|=  1.13962D-01\n",
      "\n",
      "           * * *\n",
      "\n",
      "Tit   = total number of iterations\n",
      "Tnf   = total number of function evaluations\n",
      "Tnint = total number of segments explored during Cauchy searches\n",
      "Skip  = number of BFGS updates skipped\n",
      "Nact  = number of active bounds at final generalized Cauchy point\n",
      "Projg = norm of the final projected gradient\n",
      "F     = final function value\n",
      "\n",
      "           * * *\n",
      "\n",
      "   N    Tit     Tnf  Tnint  Skip  Nact     Projg        F\n",
      "*****    100    111      1     0     0   1.140D-01   4.178D+02\n",
      "  F =   417.83264932043767     \n",
      "\n",
      "STOP: TOTAL NO. of ITERATIONS REACHED LIMIT                 \n"
     ]
    },
    {
     "name": "stderr",
     "output_type": "stream",
     "text": [
      "/usr/local/lib/python3.8/dist-packages/sklearn/linear_model/_logistic.py:814: ConvergenceWarning: lbfgs failed to converge (status=1):\n",
      "STOP: TOTAL NO. of ITERATIONS REACHED LIMIT.\n",
      "\n",
      "Increase the number of iterations (max_iter) or scale the data as shown in:\n",
      "    https://scikit-learn.org/stable/modules/preprocessing.html\n",
      "Please also refer to the documentation for alternative solver options:\n",
      "    https://scikit-learn.org/stable/modules/linear_model.html#logistic-regression\n",
      "  n_iter_i = _check_optimize_result(\n",
      "[Parallel(n_jobs=1)]: Done   1 out of   1 | elapsed:  1.3min finished\n"
     ]
    },
    {
     "name": "stdout",
     "output_type": "stream",
     "text": [
      "===================== Validate Result =====================\n",
      "F1 score is:  0.8587570621468926\n",
      "It takes to run:  0:01:19.257946\n",
      "==================================================\n",
      "[LibLinear].....\n",
      "optimization finished, #iter = 50\n",
      "\n",
      "WARNING: reaching max number of iterations\n",
      "Using -s 2 may be faster (also see FAQ)\n",
      "\n",
      "Objective value = -100.079583\n",
      "nSV = 3015\n",
      "===================== Validate Result =====================\n",
      "F1 score is:  0.8418079096045198\n",
      "It takes to run:  0:00:10.088058\n",
      "==================================================\n"
     ]
    },
    {
     "name": "stderr",
     "output_type": "stream",
     "text": [
      "/usr/local/lib/python3.8/dist-packages/sklearn/svm/_base.py:1206: ConvergenceWarning: Liblinear failed to converge, increase the number of iterations.\n",
      "  warnings.warn(\n"
     ]
    },
    {
     "name": "stdout",
     "output_type": "stream",
     "text": [
      "[LibLinear].*\n",
      "optimization finished, #iter = 11\n",
      "Objective value = -0.352785\n",
      "nSV = 8527\n",
      "[LibLinear].*\n",
      "optimization finished, #iter = 11\n",
      "Objective value = -0.433959\n",
      "nSV = 8640\n",
      "[LibLinear]\n",
      "optimization finished, #iter = 9\n",
      "Objective value = -0.440444\n",
      "nSV = 8643\n",
      "[LibLinear].\n",
      "optimization finished, #iter = 10\n",
      "Objective value = -0.456796\n",
      "nSV = 8643\n",
      "[LibLinear].\n",
      "optimization finished, #iter = 10\n",
      "Objective value = -0.468298\n",
      "nSV = 8643\n",
      "===================== Validate Result =====================\n",
      "F1 score is:  0.847457627118644\n",
      "It takes to run:  0:01:12.320355\n",
      "==================================================\n",
      "      Iter       Train Loss      OOB Improve   Remaining Time \n",
      "         1           0.9916           0.0284           17.73s\n",
      "         2           0.9685           0.0177           16.62s\n",
      "         3           1.0013           0.0272           15.03s\n",
      "         4           0.8883          -0.0231           12.83s\n",
      "         5           0.9354          -0.4394           10.70s\n",
      "         6           1.1884          -0.0770            8.58s\n",
      "         7           0.8145          -0.1370            6.39s\n",
      "         8           0.9883          -0.0556            4.28s\n",
      "         9           1.8014          -0.1822            2.16s\n",
      "        10           1.8145          -0.3651            0.00s\n",
      "===================== Validate Result =====================\n",
      "F1 score is:  0.7344632768361582\n",
      "It takes to run:  0:00:25.020960\n",
      "==================================================\n"
     ]
    }
   ],
   "source": [
    "# Train Logistic Regression\n",
    "\n",
    "model = LogisticRegression(penalty='l2', C=1, multi_class='multinomial', solver='lbfgs', verbose=1)\n",
    "model = ml_classifer_pipeline(model, X_train_embed_matrix, y_train, X_val_embed_matrix, y_val,word2vec_path, model_path_to_save)\n",
    "\n",
    "print(\"=\" * 50)\n",
    "\n",
    "# Train SVC\n",
    "\n",
    "model = LinearSVC(C=0.5,  max_iter=50, verbose=1)\n",
    "model = ml_classifer_pipeline(model, X_train_embed_matrix, y_train, X_val_embed_matrix, y_val,word2vec_path, model_path_to_save)\n",
    "\n",
    " \n",
    "\n",
    "print(\"=\" * 50)\n",
    "\n",
    "model = LinearSVC(C=0.5,  verbose=1)\n",
    "model = AdaBoostClassifier(model,  algorithm=\"SAMME\", n_estimators=5)\n",
    "model = ml_classifer_pipeline(model, X_train_embed_matrix, y_train, X_val_embed_matrix, y_val,word2vec_path, model_path_to_save)\n",
    "print(\"=\" * 50)\n",
    "\n",
    "#  Gradient Boosting\n",
    "\n",
    "model = GradientBoostingClassifier(n_estimators=10, subsample=.1, learning_rate=.5,   max_depth=5, verbose=1)\n",
    "model = ml_classifer_pipeline(model, X_train_embed_matrix, y_train, X_val_embed_matrix, y_val,word2vec_path, model_path_to_save)\n",
    "print(\"=\" * 50)\n"
   ]
  },
  {
   "cell_type": "markdown",
   "id": "93a5966c",
   "metadata": {},
   "source": [
    "# Load best model & predict test set"
   ]
  },
  {
   "cell_type": "code",
   "execution_count": 21,
   "id": "0e4ce74c",
   "metadata": {},
   "outputs": [
    {
     "data": {
      "text/html": [
       "<div>\n",
       "<style scoped>\n",
       "    .dataframe tbody tr th:only-of-type {\n",
       "        vertical-align: middle;\n",
       "    }\n",
       "\n",
       "    .dataframe tbody tr th {\n",
       "        vertical-align: top;\n",
       "    }\n",
       "\n",
       "    .dataframe thead th {\n",
       "        text-align: right;\n",
       "    }\n",
       "</style>\n",
       "<table border=\"1\" class=\"dataframe\">\n",
       "  <thead>\n",
       "    <tr style=\"text-align: right;\">\n",
       "      <th></th>\n",
       "      <th>label</th>\n",
       "      <th>text</th>\n",
       "    </tr>\n",
       "  </thead>\n",
       "  <tbody>\n",
       "    <tr>\n",
       "      <th>0</th>\n",
       "      <td>1</td>\n",
       "      <td>حساء خفافيش الصين ابداع القرف يعني</td>\n",
       "    </tr>\n",
       "    <tr>\n",
       "      <th>1</th>\n",
       "      <td>1</td>\n",
       "      <td>اجراءات هكذا استعدت مصر لمواجهه فيروس كورونا م...</td>\n",
       "    </tr>\n",
       "    <tr>\n",
       "      <th>2</th>\n",
       "      <td>1</td>\n",
       "      <td>ايش الفايده لابس كمامات ومو لابس قفازات</td>\n",
       "    </tr>\n",
       "    <tr>\n",
       "      <th>3</th>\n",
       "      <td>0</td>\n",
       "      <td>الجدير بالذكر ان في الصين بيستخدموا ال في كل ح...</td>\n",
       "    </tr>\n",
       "    <tr>\n",
       "      <th>4</th>\n",
       "      <td>0</td>\n",
       "      <td>ولو ترسل صواريخ الصين وقفنا دون برج الفيصليه</td>\n",
       "    </tr>\n",
       "  </tbody>\n",
       "</table>\n",
       "</div>"
      ],
      "text/plain": [
       "   label                                               text\n",
       "0      1                 حساء خفافيش الصين ابداع القرف يعني\n",
       "1      1  اجراءات هكذا استعدت مصر لمواجهه فيروس كورونا م...\n",
       "2      1            ايش الفايده لابس كمامات ومو لابس قفازات\n",
       "3      0  الجدير بالذكر ان في الصين بيستخدموا ال في كل ح...\n",
       "4      0       ولو ترسل صواريخ الصين وقفنا دون برج الفيصليه"
      ]
     },
     "execution_count": 21,
     "metadata": {},
     "output_type": "execute_result"
    }
   ],
   "source": [
    "strat_test_set = read_file(\"test/strat_test_set.csv\")\n",
    "strat_test_set.head()"
   ]
  },
  {
   "cell_type": "code",
   "execution_count": 22,
   "id": "b48adffe",
   "metadata": {},
   "outputs": [],
   "source": [
    "X_test_text = list(strat_test_set['text'])\n",
    "y_test = strat_test_set['label'].values"
   ]
  },
  {
   "cell_type": "code",
   "execution_count": 23,
   "id": "f0e45dd5",
   "metadata": {},
   "outputs": [
    {
     "name": "stdout",
     "output_type": "stream",
     "text": [
      "Before Tokenization : \n",
      " ['حساء خفافيش الصين ابداع القرف يعني', 'اجراءات هكذا استعدت مصر لمواجهه فيروس كورونا مرايتي', 'ايش الفايده لابس كمامات ومو لابس قفازات']\n",
      "==================================================\n",
      "After Tokenization : \n",
      " [['حساء', 'خفافيش', 'الصين', 'ابداع', 'القرف', 'يعني'], ['اجراءات', 'هكذا', 'استعدت', 'مصر', 'لمواجهه', 'فيروس', 'كورونا', 'مرايتي'], ['ايش', 'الفايده', 'لابس', 'كمامات', 'ومو', 'لابس', 'قفازات']]\n",
      "==================================================\n",
      "full gram tokenization : \n",
      " [['حساء', 'خفافيش', 'الصين', 'ابداع', 'القرف', 'يعني', 'حساء_خفافيش', 'خفافيش_الصين', 'الصين_ابداع', 'ابداع_القرف', 'القرف_يعني', 'حساء_خفافيش_الصين', 'خفافيش_الصين_ابداع', 'الصين_ابداع_القرف', 'ابداع_القرف_يعني'], ['اجراءات', 'هكذا', 'استعدت', 'مصر', 'لمواجهه', 'فيروس', 'كورونا', 'مرايتي', 'اجراءات_هكذا', 'هكذا_استعدت', 'استعدت_مصر', 'مصر_لمواجهه', 'لمواجهه_فيروس', 'فيروس_كورونا', 'كورونا_مرايتي', 'اجراءات_هكذا_استعدت', 'هكذا_استعدت_مصر', 'استعدت_مصر_لمواجهه', 'مصر_لمواجهه_فيروس', 'لمواجهه_فيروس_كورونا', 'فيروس_كورونا_مرايتي'], ['ايش', 'الفايده', 'لابس', 'كمامات', 'ومو', 'لابس', 'قفازات', 'ايش_الفايده', 'الفايده_لابس', 'لابس_كمامات', 'كمامات_ومو', 'ومو_لابس', 'لابس_قفازات', 'ايش_الفايده_لابس', 'الفايده_لابس_كمامات', 'لابس_كمامات_ومو', 'كمامات_ومو_لابس', 'ومو_لابس_قفازات']]\n",
      "==================================================\n"
     ]
    }
   ],
   "source": [
    "X_test_text_tokenized = tokenize_using_nltk_TreebankWordTokenizer(X_test_text)\n",
    "\n",
    "print(\"Before Tokenization : \\n\", X_test_text[:3])\n",
    "print(\"=\"*50)\n",
    "print(\"After Tokenization : \\n\", X_test_text_tokenized[:3])\n",
    "print(\"=\"*50)\n",
    "\n",
    "fullgram_X_test_text_tokenized = get_all_ngrams(X_test_text_tokenized)\n",
    "print(\"full gram tokenization : \\n\", fullgram_X_test_text_tokenized[:3])\n",
    "print(\"=\"*50)"
   ]
  },
  {
   "cell_type": "code",
   "execution_count": 26,
   "id": "a13e47c7",
   "metadata": {},
   "outputs": [
    {
     "name": "stdout",
     "output_type": "stream",
     "text": [
      "==================================================\n",
      "(180, 237, 300)\n",
      "(180, 71100)\n",
      "==================================================\n",
      "[-0.3037    0.03827  -0.004025 -0.0968    0.05286  -0.00997  -0.06903\n",
      " -0.06433   0.02005   0.07227  -0.1332   -0.07794   0.1536    0.04587\n",
      "  0.08704   0.0472    0.2114    0.06976   0.2278   -0.05112  -0.1252\n",
      "  0.2245   -0.074    -0.0952   -0.0999    0.3381    0.1605    0.1802\n",
      " -0.1344    0.2656    0.2656   -0.06714   0.04456  -0.3032   -0.2637\n",
      " -0.1727   -0.0866   -0.02652  -0.136     0.2303   -0.4177   -0.06604\n",
      "  0.0807    0.1836    0.02768   0.22     -0.131    -0.1024   -0.163\n",
      " -0.0965  ]\n",
      "===================== Validate Result =====================\n",
      "F1 score is:  0.8722222222222223\n",
      "==================================================\n",
      "==================================================\n",
      "(180, 237, 300)\n",
      "(180, 71100)\n",
      "==================================================\n",
      "[-0.5947  -0.3875   0.5137   0.441   -0.2095   0.1722   0.611    0.2908\n",
      " -0.1891  -0.28    -0.459    0.5054   0.1313   0.4534   0.3525  -0.589\n",
      " -0.4766   0.01225 -0.6724   0.137    0.1708  -0.4487  -0.03247 -0.1746\n",
      " -0.3828  -0.334    0.2788  -0.09674  0.01059  0.1343  -0.0972   0.2827\n",
      " -0.0361  -0.1512  -0.4792  -0.02391  0.3184   0.394    0.4019   0.3706\n",
      " -0.4138   0.3862  -0.7173  -0.0617  -0.875    0.613    0.068    0.4062\n",
      " -0.4165  -0.10876]\n",
      "===================== Validate Result =====================\n",
      "F1 score is:  0.8555555555555555\n",
      "==================================================\n",
      "==================================================\n",
      "(180, 237, 300)\n",
      "(180, 71100)\n",
      "==================================================\n",
      "[ 0.05963   0.1537   -0.0631    0.1009    0.249     0.0832    0.2057\n",
      "  0.061    -0.1798   -0.2876    0.07056   0.1555    0.01968   0.0661\n",
      "  0.02441  -0.322    -0.485    -0.03632   0.1968    0.1539    0.3604\n",
      "  0.201     0.09235  -0.1164   -0.1547   -0.174     0.287     0.0234\n",
      " -0.03113   0.2126    0.09705   0.1458    0.278     0.1037   -0.014084\n",
      "  0.3333   -0.06116   0.4065    0.1012   -0.03183  -0.093    -0.10675\n",
      "  0.2744    0.3447   -0.11316  -0.2179   -0.03937  -0.06152  -0.2888\n",
      "  0.06726 ]\n",
      "===================== Validate Result =====================\n",
      "F1 score is:  0.8388888888888889\n"
     ]
    },
    {
     "data": {
      "text/plain": [
       "0.839"
      ]
     },
     "execution_count": 26,
     "metadata": {},
     "output_type": "execute_result"
    }
   ],
   "source": [
    "rezk_model = pickle_load_model(\"../ml_models_saved/rezk/skipgram/LinearSVC__f1_0.915_ml.sav\"  )\n",
    "bakr_model = pickle_load_model(\"../ml_models_saved/bakr/skipgram/LinearSVC__f1_0.87_ml.sav\"  )\n",
    "muhammed_model = pickle_load_model(\"../ml_models_saved/muhammed/skipgram/LinearSVC__f1_0.842_ml.sav\"  )\n",
    "\n",
    "X_test_embed_matrix = text_to_matrix_using_word2vec(our_word2vec_model, fullgram_X_test_text_tokenized, max_len_str)\n",
    "f1_score_result(rezk_model, X_test_embed_matrix, y_test)\n",
    "print(\"=\"*50)\n",
    "\n",
    "X_test_embed_matrix = text_to_matrix_using_word2vec(bakr_word2vec_model, fullgram_X_test_text_tokenized, max_len_str)\n",
    "f1_score_result(bakr_model, X_test_embed_matrix, y_test)\n",
    "print(\"=\"*50)\n",
    "\n",
    "X_test_embed_matrix = text_to_matrix_using_word2vec(muhammed_word2vec_model, fullgram_X_test_text_tokenized, max_len_str)\n",
    "f1_score_result(muhammed_model, X_test_embed_matrix, y_test)"
   ]
  },
  {
   "cell_type": "markdown",
   "id": "176a1b6e",
   "metadata": {},
   "source": [
    "# Qualitative Evaluation"
   ]
  },
  {
   "cell_type": "code",
   "execution_count": 27,
   "id": "b1244429",
   "metadata": {},
   "outputs": [
    {
     "name": "stdout",
     "output_type": "stream",
     "text": [
      "The number of words the model learn from your dataset are: 2027042\n",
      "The number of words the model learn from your dataset are: 1476715\n",
      "The number of words the model learn from your dataset are: 49555\n"
     ]
    }
   ],
   "source": [
    "print(\"The number of words the model learn from your dataset are:\", len(list(our_word2vec_model.wv.index_to_key)))\n",
    "print(\"The number of words the model learn from your dataset are:\", len(list(bakr_word2vec_model.wv.index_to_key)))\n",
    "print(\"The number of words the model learn from your dataset are:\", len(list(muhammed_word2vec_model.wv.index_to_key)))"
   ]
  },
  {
   "cell_type": "code",
   "execution_count": 28,
   "id": "da68d517",
   "metadata": {},
   "outputs": [
    {
     "data": {
      "text/plain": [
       "[('بحري', 0.5477318167686462),\n",
       " ('مخزن', 0.5447487831115723),\n",
       " ('شاحنات', 0.5261797308921814),\n",
       " ('خرطوم', 0.5093061923980713),\n",
       " ('غاز', 0.5068048238754272),\n",
       " ('انبوب', 0.5056734085083008),\n",
       " ('عربات', 0.5041817426681519),\n",
       " ('عمارات', 0.5010378956794739),\n",
       " ('الخرطوم', 0.5004208087921143),\n",
       " ('عربه', 0.4997750222682953)]"
      ]
     },
     "execution_count": 28,
     "metadata": {},
     "output_type": "execute_result"
    }
   ],
   "source": [
    "our_word2vec_model.wv.most_similar('قابس')"
   ]
  },
  {
   "cell_type": "code",
   "execution_count": 29,
   "id": "f16b6064",
   "metadata": {},
   "outputs": [
    {
     "data": {
      "text/plain": [
       "[('جندوبه', 0.6397514939308167),\n",
       " ('تطاوين', 0.6282303929328918),\n",
       " ('صفاقس', 0.6072751879692078),\n",
       " ('المنستير', 0.5866954922676086),\n",
       " ('قرمده', 0.58547443151474),\n",
       " ('سليانه', 0.5802640318870544),\n",
       " ('اكادير', 0.5801235437393188),\n",
       " ('بالقصرين', 0.5779569745063782),\n",
       " ('سيدي_بوزيد', 0.5738011002540588),\n",
       " ('بنقردان', 0.572603702545166)]"
      ]
     },
     "execution_count": 29,
     "metadata": {},
     "output_type": "execute_result"
    }
   ],
   "source": [
    "bakr_word2vec_model.wv.most_similar('قابس')"
   ]
  },
  {
   "cell_type": "code",
   "execution_count": 30,
   "id": "6220d066",
   "metadata": {},
   "outputs": [
    {
     "ename": "KeyError",
     "evalue": "\"Key 'قابس' not present in vocabulary\"",
     "output_type": "error",
     "traceback": [
      "\u001b[0;31m---------------------------------------------------------------------------\u001b[0m",
      "\u001b[0;31mKeyError\u001b[0m                                  Traceback (most recent call last)",
      "Input \u001b[0;32mIn [30]\u001b[0m, in \u001b[0;36m<cell line: 1>\u001b[0;34m()\u001b[0m\n\u001b[0;32m----> 1\u001b[0m \u001b[43mmuhammed_word2vec_model\u001b[49m\u001b[38;5;241;43m.\u001b[39;49m\u001b[43mwv\u001b[49m\u001b[38;5;241;43m.\u001b[39;49m\u001b[43mmost_similar\u001b[49m\u001b[43m(\u001b[49m\u001b[38;5;124;43m'\u001b[39;49m\u001b[38;5;124;43mقابس\u001b[39;49m\u001b[38;5;124;43m'\u001b[39;49m\u001b[43m)\u001b[49m\n",
      "File \u001b[0;32m/usr/local/lib/python3.8/dist-packages/gensim/models/keyedvectors.py:842\u001b[0m, in \u001b[0;36mKeyedVectors.most_similar\u001b[0;34m(self, positive, negative, topn, clip_start, clip_end, restrict_vocab, indexer)\u001b[0m\n\u001b[1;32m    839\u001b[0m         weight[idx] \u001b[38;5;241m=\u001b[39m item[\u001b[38;5;241m1\u001b[39m]\n\u001b[1;32m    841\u001b[0m \u001b[38;5;66;03m# compute the weighted average of all keys\u001b[39;00m\n\u001b[0;32m--> 842\u001b[0m mean \u001b[38;5;241m=\u001b[39m \u001b[38;5;28;43mself\u001b[39;49m\u001b[38;5;241;43m.\u001b[39;49m\u001b[43mget_mean_vector\u001b[49m\u001b[43m(\u001b[49m\u001b[43mkeys\u001b[49m\u001b[43m,\u001b[49m\u001b[43m \u001b[49m\u001b[43mweight\u001b[49m\u001b[43m,\u001b[49m\u001b[43m \u001b[49m\u001b[43mpre_normalize\u001b[49m\u001b[38;5;241;43m=\u001b[39;49m\u001b[38;5;28;43;01mTrue\u001b[39;49;00m\u001b[43m,\u001b[49m\u001b[43m \u001b[49m\u001b[43mpost_normalize\u001b[49m\u001b[38;5;241;43m=\u001b[39;49m\u001b[38;5;28;43;01mTrue\u001b[39;49;00m\u001b[43m,\u001b[49m\u001b[43m \u001b[49m\u001b[43mignore_missing\u001b[49m\u001b[38;5;241;43m=\u001b[39;49m\u001b[38;5;28;43;01mFalse\u001b[39;49;00m\u001b[43m)\u001b[49m\n\u001b[1;32m    843\u001b[0m all_keys \u001b[38;5;241m=\u001b[39m [\n\u001b[1;32m    844\u001b[0m     \u001b[38;5;28mself\u001b[39m\u001b[38;5;241m.\u001b[39mget_index(key) \u001b[38;5;28;01mfor\u001b[39;00m key \u001b[38;5;129;01min\u001b[39;00m keys \u001b[38;5;28;01mif\u001b[39;00m \u001b[38;5;28misinstance\u001b[39m(key, _KEY_TYPES) \u001b[38;5;129;01mand\u001b[39;00m \u001b[38;5;28mself\u001b[39m\u001b[38;5;241m.\u001b[39mhas_index_for(key)\n\u001b[1;32m    845\u001b[0m ]\n\u001b[1;32m    847\u001b[0m \u001b[38;5;28;01mif\u001b[39;00m indexer \u001b[38;5;129;01mis\u001b[39;00m \u001b[38;5;129;01mnot\u001b[39;00m \u001b[38;5;28;01mNone\u001b[39;00m \u001b[38;5;129;01mand\u001b[39;00m \u001b[38;5;28misinstance\u001b[39m(topn, \u001b[38;5;28mint\u001b[39m):\n",
      "File \u001b[0;32m/usr/local/lib/python3.8/dist-packages/gensim/models/keyedvectors.py:519\u001b[0m, in \u001b[0;36mKeyedVectors.get_mean_vector\u001b[0;34m(self, keys, weights, pre_normalize, post_normalize, ignore_missing)\u001b[0m\n\u001b[1;32m    517\u001b[0m         total_weight \u001b[38;5;241m+\u001b[39m\u001b[38;5;241m=\u001b[39m \u001b[38;5;28mabs\u001b[39m(weights[idx])\n\u001b[1;32m    518\u001b[0m     \u001b[38;5;28;01melif\u001b[39;00m \u001b[38;5;129;01mnot\u001b[39;00m ignore_missing:\n\u001b[0;32m--> 519\u001b[0m         \u001b[38;5;28;01mraise\u001b[39;00m \u001b[38;5;167;01mKeyError\u001b[39;00m(\u001b[38;5;124mf\u001b[39m\u001b[38;5;124m\"\u001b[39m\u001b[38;5;124mKey \u001b[39m\u001b[38;5;124m'\u001b[39m\u001b[38;5;132;01m{\u001b[39;00mkey\u001b[38;5;132;01m}\u001b[39;00m\u001b[38;5;124m'\u001b[39m\u001b[38;5;124m not present in vocabulary\u001b[39m\u001b[38;5;124m\"\u001b[39m)\n\u001b[1;32m    521\u001b[0m \u001b[38;5;28;01mif\u001b[39;00m(total_weight \u001b[38;5;241m>\u001b[39m \u001b[38;5;241m0\u001b[39m):\n\u001b[1;32m    522\u001b[0m     mean \u001b[38;5;241m=\u001b[39m mean \u001b[38;5;241m/\u001b[39m total_weight\n",
      "\u001b[0;31mKeyError\u001b[0m: \"Key 'قابس' not present in vocabulary\""
     ]
    }
   ],
   "source": [
    "muhammed_word2vec_model.wv.most_similar('قابس')"
   ]
  },
  {
   "cell_type": "code",
   "execution_count": null,
   "id": "270ee157",
   "metadata": {},
   "outputs": [],
   "source": [
    "our_word2vec_model.wv.most_similar('طنطا')"
   ]
  },
  {
   "cell_type": "code",
   "execution_count": null,
   "id": "44326716",
   "metadata": {},
   "outputs": [],
   "source": [
    "bakr_word2vec_model.wv.most_similar('طنطا')"
   ]
  },
  {
   "cell_type": "code",
   "execution_count": null,
   "id": "df3357bd",
   "metadata": {},
   "outputs": [],
   "source": [
    "muhammed_word2vec_model.wv.most_similar('طنطا')"
   ]
  },
  {
   "cell_type": "code",
   "execution_count": null,
   "id": "3274e1ca",
   "metadata": {},
   "outputs": [],
   "source": [
    "our_word2vec_model.wv.most_similar('فندق')"
   ]
  },
  {
   "cell_type": "code",
   "execution_count": null,
   "id": "d9cc6cc4",
   "metadata": {},
   "outputs": [],
   "source": [
    "bakr_word2vec_model.wv.most_similar('فندق')"
   ]
  },
  {
   "cell_type": "code",
   "execution_count": null,
   "id": "30b89ac4",
   "metadata": {},
   "outputs": [],
   "source": [
    "muhammed_word2vec_model.wv.most_similar('فندق')"
   ]
  },
  {
   "cell_type": "code",
   "execution_count": null,
   "id": "ddd1f571",
   "metadata": {},
   "outputs": [],
   "source": [
    "our_word2vec_model.wv.most_similar('🤣')"
   ]
  },
  {
   "cell_type": "code",
   "execution_count": null,
   "id": "de331067",
   "metadata": {},
   "outputs": [],
   "source": [
    "bakr_word2vec_model.wv.most_similar('🤣')"
   ]
  },
  {
   "cell_type": "code",
   "execution_count": 31,
   "id": "6abadf61",
   "metadata": {},
   "outputs": [
    {
     "ename": "KeyError",
     "evalue": "\"Key '🤣' not present in vocabulary\"",
     "output_type": "error",
     "traceback": [
      "\u001b[0;31m---------------------------------------------------------------------------\u001b[0m",
      "\u001b[0;31mKeyError\u001b[0m                                  Traceback (most recent call last)",
      "Input \u001b[0;32mIn [31]\u001b[0m, in \u001b[0;36m<cell line: 1>\u001b[0;34m()\u001b[0m\n\u001b[0;32m----> 1\u001b[0m \u001b[43mmuhammed_word2vec_model\u001b[49m\u001b[38;5;241;43m.\u001b[39;49m\u001b[43mwv\u001b[49m\u001b[38;5;241;43m.\u001b[39;49m\u001b[43mmost_similar\u001b[49m\u001b[43m(\u001b[49m\u001b[38;5;124;43m'\u001b[39;49m\u001b[38;5;124;43m🤣\u001b[39;49m\u001b[38;5;124;43m'\u001b[39;49m\u001b[43m)\u001b[49m\n",
      "File \u001b[0;32m/usr/local/lib/python3.8/dist-packages/gensim/models/keyedvectors.py:842\u001b[0m, in \u001b[0;36mKeyedVectors.most_similar\u001b[0;34m(self, positive, negative, topn, clip_start, clip_end, restrict_vocab, indexer)\u001b[0m\n\u001b[1;32m    839\u001b[0m         weight[idx] \u001b[38;5;241m=\u001b[39m item[\u001b[38;5;241m1\u001b[39m]\n\u001b[1;32m    841\u001b[0m \u001b[38;5;66;03m# compute the weighted average of all keys\u001b[39;00m\n\u001b[0;32m--> 842\u001b[0m mean \u001b[38;5;241m=\u001b[39m \u001b[38;5;28;43mself\u001b[39;49m\u001b[38;5;241;43m.\u001b[39;49m\u001b[43mget_mean_vector\u001b[49m\u001b[43m(\u001b[49m\u001b[43mkeys\u001b[49m\u001b[43m,\u001b[49m\u001b[43m \u001b[49m\u001b[43mweight\u001b[49m\u001b[43m,\u001b[49m\u001b[43m \u001b[49m\u001b[43mpre_normalize\u001b[49m\u001b[38;5;241;43m=\u001b[39;49m\u001b[38;5;28;43;01mTrue\u001b[39;49;00m\u001b[43m,\u001b[49m\u001b[43m \u001b[49m\u001b[43mpost_normalize\u001b[49m\u001b[38;5;241;43m=\u001b[39;49m\u001b[38;5;28;43;01mTrue\u001b[39;49;00m\u001b[43m,\u001b[49m\u001b[43m \u001b[49m\u001b[43mignore_missing\u001b[49m\u001b[38;5;241;43m=\u001b[39;49m\u001b[38;5;28;43;01mFalse\u001b[39;49;00m\u001b[43m)\u001b[49m\n\u001b[1;32m    843\u001b[0m all_keys \u001b[38;5;241m=\u001b[39m [\n\u001b[1;32m    844\u001b[0m     \u001b[38;5;28mself\u001b[39m\u001b[38;5;241m.\u001b[39mget_index(key) \u001b[38;5;28;01mfor\u001b[39;00m key \u001b[38;5;129;01min\u001b[39;00m keys \u001b[38;5;28;01mif\u001b[39;00m \u001b[38;5;28misinstance\u001b[39m(key, _KEY_TYPES) \u001b[38;5;129;01mand\u001b[39;00m \u001b[38;5;28mself\u001b[39m\u001b[38;5;241m.\u001b[39mhas_index_for(key)\n\u001b[1;32m    845\u001b[0m ]\n\u001b[1;32m    847\u001b[0m \u001b[38;5;28;01mif\u001b[39;00m indexer \u001b[38;5;129;01mis\u001b[39;00m \u001b[38;5;129;01mnot\u001b[39;00m \u001b[38;5;28;01mNone\u001b[39;00m \u001b[38;5;129;01mand\u001b[39;00m \u001b[38;5;28misinstance\u001b[39m(topn, \u001b[38;5;28mint\u001b[39m):\n",
      "File \u001b[0;32m/usr/local/lib/python3.8/dist-packages/gensim/models/keyedvectors.py:519\u001b[0m, in \u001b[0;36mKeyedVectors.get_mean_vector\u001b[0;34m(self, keys, weights, pre_normalize, post_normalize, ignore_missing)\u001b[0m\n\u001b[1;32m    517\u001b[0m         total_weight \u001b[38;5;241m+\u001b[39m\u001b[38;5;241m=\u001b[39m \u001b[38;5;28mabs\u001b[39m(weights[idx])\n\u001b[1;32m    518\u001b[0m     \u001b[38;5;28;01melif\u001b[39;00m \u001b[38;5;129;01mnot\u001b[39;00m ignore_missing:\n\u001b[0;32m--> 519\u001b[0m         \u001b[38;5;28;01mraise\u001b[39;00m \u001b[38;5;167;01mKeyError\u001b[39;00m(\u001b[38;5;124mf\u001b[39m\u001b[38;5;124m\"\u001b[39m\u001b[38;5;124mKey \u001b[39m\u001b[38;5;124m'\u001b[39m\u001b[38;5;132;01m{\u001b[39;00mkey\u001b[38;5;132;01m}\u001b[39;00m\u001b[38;5;124m'\u001b[39m\u001b[38;5;124m not present in vocabulary\u001b[39m\u001b[38;5;124m\"\u001b[39m)\n\u001b[1;32m    521\u001b[0m \u001b[38;5;28;01mif\u001b[39;00m(total_weight \u001b[38;5;241m>\u001b[39m \u001b[38;5;241m0\u001b[39m):\n\u001b[1;32m    522\u001b[0m     mean \u001b[38;5;241m=\u001b[39m mean \u001b[38;5;241m/\u001b[39m total_weight\n",
      "\u001b[0;31mKeyError\u001b[0m: \"Key '🤣' not present in vocabulary\""
     ]
    }
   ],
   "source": [
    "muhammed_word2vec_model.wv.most_similar('🤣')"
   ]
  },
  {
   "cell_type": "code",
   "execution_count": 32,
   "id": "cf40f3b3",
   "metadata": {},
   "outputs": [
    {
     "data": {
      "text/plain": [
       "[('العيد_الوطني_الكويتي', 0.7552661299705505),\n",
       " ('🇴🇲', 0.7520380616188049),\n",
       " ('🇧🇭', 0.7141936421394348),\n",
       " ('🇦🇪', 0.7132868766784668),\n",
       " ('كويت', 0.6831528544425964),\n",
       " ('اليوم_الوطني_الكويتي', 0.6795424222946167),\n",
       " ('🇶🇦', 0.6780518889427185),\n",
       " ('🇸🇦', 0.6583344340324402),\n",
       " ('🇯🇴', 0.6091884970664978),\n",
       " ('الحبيبه', 0.6050938367843628)]"
      ]
     },
     "execution_count": 32,
     "metadata": {},
     "output_type": "execute_result"
    }
   ],
   "source": [
    "our_word2vec_model.wv.most_similar('🇰🇼')"
   ]
  },
  {
   "cell_type": "code",
   "execution_count": 33,
   "id": "41030615",
   "metadata": {},
   "outputs": [
    {
     "data": {
      "text/plain": [
       "[('الكويت', 0.5591772198677063),\n",
       " ('ومثلتم', 0.5206083059310913),\n",
       " ('احفظ_الكويت_واميرها', 0.5198094844818115),\n",
       " ('واميرها_وشعبها_من', 0.5154067873954773),\n",
       " ('🇰🇼🇰🇼🇰🇼', 0.5022031664848328),\n",
       " ('الكويت_قويه', 0.49817347526550293),\n",
       " ('الكويت🇰🇼', 0.4951614737510681),\n",
       " ('الكويت_الحبيبه', 0.4922771155834198),\n",
       " ('لعضويتنا', 0.4853020906448364),\n",
       " ('الكويت_واهلها', 0.4852806329727173)]"
      ]
     },
     "execution_count": 33,
     "metadata": {},
     "output_type": "execute_result"
    }
   ],
   "source": [
    "bakr_word2vec_model.wv.most_similar('🇰🇼')"
   ]
  },
  {
   "cell_type": "code",
   "execution_count": 34,
   "id": "c8499cd0",
   "metadata": {},
   "outputs": [
    {
     "ename": "KeyError",
     "evalue": "\"Key '🇰🇼' not present in vocabulary\"",
     "output_type": "error",
     "traceback": [
      "\u001b[0;31m---------------------------------------------------------------------------\u001b[0m",
      "\u001b[0;31mKeyError\u001b[0m                                  Traceback (most recent call last)",
      "Input \u001b[0;32mIn [34]\u001b[0m, in \u001b[0;36m<cell line: 1>\u001b[0;34m()\u001b[0m\n\u001b[0;32m----> 1\u001b[0m \u001b[43mmuhammed_word2vec_model\u001b[49m\u001b[38;5;241;43m.\u001b[39;49m\u001b[43mwv\u001b[49m\u001b[38;5;241;43m.\u001b[39;49m\u001b[43mmost_similar\u001b[49m\u001b[43m(\u001b[49m\u001b[38;5;124;43m'\u001b[39;49m\u001b[38;5;124;43m🇰🇼\u001b[39;49m\u001b[38;5;124;43m'\u001b[39;49m\u001b[43m)\u001b[49m\n",
      "File \u001b[0;32m/usr/local/lib/python3.8/dist-packages/gensim/models/keyedvectors.py:842\u001b[0m, in \u001b[0;36mKeyedVectors.most_similar\u001b[0;34m(self, positive, negative, topn, clip_start, clip_end, restrict_vocab, indexer)\u001b[0m\n\u001b[1;32m    839\u001b[0m         weight[idx] \u001b[38;5;241m=\u001b[39m item[\u001b[38;5;241m1\u001b[39m]\n\u001b[1;32m    841\u001b[0m \u001b[38;5;66;03m# compute the weighted average of all keys\u001b[39;00m\n\u001b[0;32m--> 842\u001b[0m mean \u001b[38;5;241m=\u001b[39m \u001b[38;5;28;43mself\u001b[39;49m\u001b[38;5;241;43m.\u001b[39;49m\u001b[43mget_mean_vector\u001b[49m\u001b[43m(\u001b[49m\u001b[43mkeys\u001b[49m\u001b[43m,\u001b[49m\u001b[43m \u001b[49m\u001b[43mweight\u001b[49m\u001b[43m,\u001b[49m\u001b[43m \u001b[49m\u001b[43mpre_normalize\u001b[49m\u001b[38;5;241;43m=\u001b[39;49m\u001b[38;5;28;43;01mTrue\u001b[39;49;00m\u001b[43m,\u001b[49m\u001b[43m \u001b[49m\u001b[43mpost_normalize\u001b[49m\u001b[38;5;241;43m=\u001b[39;49m\u001b[38;5;28;43;01mTrue\u001b[39;49;00m\u001b[43m,\u001b[49m\u001b[43m \u001b[49m\u001b[43mignore_missing\u001b[49m\u001b[38;5;241;43m=\u001b[39;49m\u001b[38;5;28;43;01mFalse\u001b[39;49;00m\u001b[43m)\u001b[49m\n\u001b[1;32m    843\u001b[0m all_keys \u001b[38;5;241m=\u001b[39m [\n\u001b[1;32m    844\u001b[0m     \u001b[38;5;28mself\u001b[39m\u001b[38;5;241m.\u001b[39mget_index(key) \u001b[38;5;28;01mfor\u001b[39;00m key \u001b[38;5;129;01min\u001b[39;00m keys \u001b[38;5;28;01mif\u001b[39;00m \u001b[38;5;28misinstance\u001b[39m(key, _KEY_TYPES) \u001b[38;5;129;01mand\u001b[39;00m \u001b[38;5;28mself\u001b[39m\u001b[38;5;241m.\u001b[39mhas_index_for(key)\n\u001b[1;32m    845\u001b[0m ]\n\u001b[1;32m    847\u001b[0m \u001b[38;5;28;01mif\u001b[39;00m indexer \u001b[38;5;129;01mis\u001b[39;00m \u001b[38;5;129;01mnot\u001b[39;00m \u001b[38;5;28;01mNone\u001b[39;00m \u001b[38;5;129;01mand\u001b[39;00m \u001b[38;5;28misinstance\u001b[39m(topn, \u001b[38;5;28mint\u001b[39m):\n",
      "File \u001b[0;32m/usr/local/lib/python3.8/dist-packages/gensim/models/keyedvectors.py:519\u001b[0m, in \u001b[0;36mKeyedVectors.get_mean_vector\u001b[0;34m(self, keys, weights, pre_normalize, post_normalize, ignore_missing)\u001b[0m\n\u001b[1;32m    517\u001b[0m         total_weight \u001b[38;5;241m+\u001b[39m\u001b[38;5;241m=\u001b[39m \u001b[38;5;28mabs\u001b[39m(weights[idx])\n\u001b[1;32m    518\u001b[0m     \u001b[38;5;28;01melif\u001b[39;00m \u001b[38;5;129;01mnot\u001b[39;00m ignore_missing:\n\u001b[0;32m--> 519\u001b[0m         \u001b[38;5;28;01mraise\u001b[39;00m \u001b[38;5;167;01mKeyError\u001b[39;00m(\u001b[38;5;124mf\u001b[39m\u001b[38;5;124m\"\u001b[39m\u001b[38;5;124mKey \u001b[39m\u001b[38;5;124m'\u001b[39m\u001b[38;5;132;01m{\u001b[39;00mkey\u001b[38;5;132;01m}\u001b[39;00m\u001b[38;5;124m'\u001b[39m\u001b[38;5;124m not present in vocabulary\u001b[39m\u001b[38;5;124m\"\u001b[39m)\n\u001b[1;32m    521\u001b[0m \u001b[38;5;28;01mif\u001b[39;00m(total_weight \u001b[38;5;241m>\u001b[39m \u001b[38;5;241m0\u001b[39m):\n\u001b[1;32m    522\u001b[0m     mean \u001b[38;5;241m=\u001b[39m mean \u001b[38;5;241m/\u001b[39m total_weight\n",
      "\u001b[0;31mKeyError\u001b[0m: \"Key '🇰🇼' not present in vocabulary\""
     ]
    }
   ],
   "source": [
    "muhammed_word2vec_model.wv.most_similar('🇰🇼')"
   ]
  },
  {
   "cell_type": "code",
   "execution_count": 35,
   "id": "6b92816a",
   "metadata": {},
   "outputs": [
    {
     "data": {
      "text/plain": [
       "[('تخصص', 0.6530670523643494),\n",
       " ('HR', 0.6461331844329834),\n",
       " ('تخصصات', 0.645728349685669),\n",
       " ('الهندسه', 0.6386619806289673),\n",
       " ('البرمجه', 0.6241384148597717),\n",
       " ('دبلوم', 0.6186401844024658),\n",
       " ('AI', 0.6148325204849243),\n",
       " ('تخصصي', 0.6145172119140625),\n",
       " ('كورس', 0.6139078736305237),\n",
       " ('marketing', 0.6092138886451721)]"
      ]
     },
     "execution_count": 35,
     "metadata": {},
     "output_type": "execute_result"
    }
   ],
   "source": [
    "our_word2vec_model.wv.most_similar('IT')"
   ]
  },
  {
   "cell_type": "code",
   "execution_count": 36,
   "id": "560b389c",
   "metadata": {},
   "outputs": [
    {
     "ename": "KeyError",
     "evalue": "\"Key 'IT' not present in vocabulary\"",
     "output_type": "error",
     "traceback": [
      "\u001b[0;31m---------------------------------------------------------------------------\u001b[0m",
      "\u001b[0;31mKeyError\u001b[0m                                  Traceback (most recent call last)",
      "Input \u001b[0;32mIn [36]\u001b[0m, in \u001b[0;36m<cell line: 1>\u001b[0;34m()\u001b[0m\n\u001b[0;32m----> 1\u001b[0m \u001b[43mbakr_word2vec_model\u001b[49m\u001b[38;5;241;43m.\u001b[39;49m\u001b[43mwv\u001b[49m\u001b[38;5;241;43m.\u001b[39;49m\u001b[43mmost_similar\u001b[49m\u001b[43m(\u001b[49m\u001b[38;5;124;43m'\u001b[39;49m\u001b[38;5;124;43mIT\u001b[39;49m\u001b[38;5;124;43m'\u001b[39;49m\u001b[43m)\u001b[49m\n",
      "File \u001b[0;32m/usr/local/lib/python3.8/dist-packages/gensim/models/keyedvectors.py:842\u001b[0m, in \u001b[0;36mKeyedVectors.most_similar\u001b[0;34m(self, positive, negative, topn, clip_start, clip_end, restrict_vocab, indexer)\u001b[0m\n\u001b[1;32m    839\u001b[0m         weight[idx] \u001b[38;5;241m=\u001b[39m item[\u001b[38;5;241m1\u001b[39m]\n\u001b[1;32m    841\u001b[0m \u001b[38;5;66;03m# compute the weighted average of all keys\u001b[39;00m\n\u001b[0;32m--> 842\u001b[0m mean \u001b[38;5;241m=\u001b[39m \u001b[38;5;28;43mself\u001b[39;49m\u001b[38;5;241;43m.\u001b[39;49m\u001b[43mget_mean_vector\u001b[49m\u001b[43m(\u001b[49m\u001b[43mkeys\u001b[49m\u001b[43m,\u001b[49m\u001b[43m \u001b[49m\u001b[43mweight\u001b[49m\u001b[43m,\u001b[49m\u001b[43m \u001b[49m\u001b[43mpre_normalize\u001b[49m\u001b[38;5;241;43m=\u001b[39;49m\u001b[38;5;28;43;01mTrue\u001b[39;49;00m\u001b[43m,\u001b[49m\u001b[43m \u001b[49m\u001b[43mpost_normalize\u001b[49m\u001b[38;5;241;43m=\u001b[39;49m\u001b[38;5;28;43;01mTrue\u001b[39;49;00m\u001b[43m,\u001b[49m\u001b[43m \u001b[49m\u001b[43mignore_missing\u001b[49m\u001b[38;5;241;43m=\u001b[39;49m\u001b[38;5;28;43;01mFalse\u001b[39;49;00m\u001b[43m)\u001b[49m\n\u001b[1;32m    843\u001b[0m all_keys \u001b[38;5;241m=\u001b[39m [\n\u001b[1;32m    844\u001b[0m     \u001b[38;5;28mself\u001b[39m\u001b[38;5;241m.\u001b[39mget_index(key) \u001b[38;5;28;01mfor\u001b[39;00m key \u001b[38;5;129;01min\u001b[39;00m keys \u001b[38;5;28;01mif\u001b[39;00m \u001b[38;5;28misinstance\u001b[39m(key, _KEY_TYPES) \u001b[38;5;129;01mand\u001b[39;00m \u001b[38;5;28mself\u001b[39m\u001b[38;5;241m.\u001b[39mhas_index_for(key)\n\u001b[1;32m    845\u001b[0m ]\n\u001b[1;32m    847\u001b[0m \u001b[38;5;28;01mif\u001b[39;00m indexer \u001b[38;5;129;01mis\u001b[39;00m \u001b[38;5;129;01mnot\u001b[39;00m \u001b[38;5;28;01mNone\u001b[39;00m \u001b[38;5;129;01mand\u001b[39;00m \u001b[38;5;28misinstance\u001b[39m(topn, \u001b[38;5;28mint\u001b[39m):\n",
      "File \u001b[0;32m/usr/local/lib/python3.8/dist-packages/gensim/models/keyedvectors.py:519\u001b[0m, in \u001b[0;36mKeyedVectors.get_mean_vector\u001b[0;34m(self, keys, weights, pre_normalize, post_normalize, ignore_missing)\u001b[0m\n\u001b[1;32m    517\u001b[0m         total_weight \u001b[38;5;241m+\u001b[39m\u001b[38;5;241m=\u001b[39m \u001b[38;5;28mabs\u001b[39m(weights[idx])\n\u001b[1;32m    518\u001b[0m     \u001b[38;5;28;01melif\u001b[39;00m \u001b[38;5;129;01mnot\u001b[39;00m ignore_missing:\n\u001b[0;32m--> 519\u001b[0m         \u001b[38;5;28;01mraise\u001b[39;00m \u001b[38;5;167;01mKeyError\u001b[39;00m(\u001b[38;5;124mf\u001b[39m\u001b[38;5;124m\"\u001b[39m\u001b[38;5;124mKey \u001b[39m\u001b[38;5;124m'\u001b[39m\u001b[38;5;132;01m{\u001b[39;00mkey\u001b[38;5;132;01m}\u001b[39;00m\u001b[38;5;124m'\u001b[39m\u001b[38;5;124m not present in vocabulary\u001b[39m\u001b[38;5;124m\"\u001b[39m)\n\u001b[1;32m    521\u001b[0m \u001b[38;5;28;01mif\u001b[39;00m(total_weight \u001b[38;5;241m>\u001b[39m \u001b[38;5;241m0\u001b[39m):\n\u001b[1;32m    522\u001b[0m     mean \u001b[38;5;241m=\u001b[39m mean \u001b[38;5;241m/\u001b[39m total_weight\n",
      "\u001b[0;31mKeyError\u001b[0m: \"Key 'IT' not present in vocabulary\""
     ]
    }
   ],
   "source": [
    "bakr_word2vec_model.wv.most_similar('IT')"
   ]
  },
  {
   "cell_type": "code",
   "execution_count": 37,
   "id": "d966fe92",
   "metadata": {},
   "outputs": [
    {
     "ename": "KeyError",
     "evalue": "\"Key 'IT' not present in vocabulary\"",
     "output_type": "error",
     "traceback": [
      "\u001b[0;31m---------------------------------------------------------------------------\u001b[0m",
      "\u001b[0;31mKeyError\u001b[0m                                  Traceback (most recent call last)",
      "Input \u001b[0;32mIn [37]\u001b[0m, in \u001b[0;36m<cell line: 1>\u001b[0;34m()\u001b[0m\n\u001b[0;32m----> 1\u001b[0m \u001b[43mmuhammed_word2vec_model\u001b[49m\u001b[38;5;241;43m.\u001b[39;49m\u001b[43mwv\u001b[49m\u001b[38;5;241;43m.\u001b[39;49m\u001b[43mmost_similar\u001b[49m\u001b[43m(\u001b[49m\u001b[38;5;124;43m'\u001b[39;49m\u001b[38;5;124;43mIT\u001b[39;49m\u001b[38;5;124;43m'\u001b[39;49m\u001b[43m)\u001b[49m\n",
      "File \u001b[0;32m/usr/local/lib/python3.8/dist-packages/gensim/models/keyedvectors.py:842\u001b[0m, in \u001b[0;36mKeyedVectors.most_similar\u001b[0;34m(self, positive, negative, topn, clip_start, clip_end, restrict_vocab, indexer)\u001b[0m\n\u001b[1;32m    839\u001b[0m         weight[idx] \u001b[38;5;241m=\u001b[39m item[\u001b[38;5;241m1\u001b[39m]\n\u001b[1;32m    841\u001b[0m \u001b[38;5;66;03m# compute the weighted average of all keys\u001b[39;00m\n\u001b[0;32m--> 842\u001b[0m mean \u001b[38;5;241m=\u001b[39m \u001b[38;5;28;43mself\u001b[39;49m\u001b[38;5;241;43m.\u001b[39;49m\u001b[43mget_mean_vector\u001b[49m\u001b[43m(\u001b[49m\u001b[43mkeys\u001b[49m\u001b[43m,\u001b[49m\u001b[43m \u001b[49m\u001b[43mweight\u001b[49m\u001b[43m,\u001b[49m\u001b[43m \u001b[49m\u001b[43mpre_normalize\u001b[49m\u001b[38;5;241;43m=\u001b[39;49m\u001b[38;5;28;43;01mTrue\u001b[39;49;00m\u001b[43m,\u001b[49m\u001b[43m \u001b[49m\u001b[43mpost_normalize\u001b[49m\u001b[38;5;241;43m=\u001b[39;49m\u001b[38;5;28;43;01mTrue\u001b[39;49;00m\u001b[43m,\u001b[49m\u001b[43m \u001b[49m\u001b[43mignore_missing\u001b[49m\u001b[38;5;241;43m=\u001b[39;49m\u001b[38;5;28;43;01mFalse\u001b[39;49;00m\u001b[43m)\u001b[49m\n\u001b[1;32m    843\u001b[0m all_keys \u001b[38;5;241m=\u001b[39m [\n\u001b[1;32m    844\u001b[0m     \u001b[38;5;28mself\u001b[39m\u001b[38;5;241m.\u001b[39mget_index(key) \u001b[38;5;28;01mfor\u001b[39;00m key \u001b[38;5;129;01min\u001b[39;00m keys \u001b[38;5;28;01mif\u001b[39;00m \u001b[38;5;28misinstance\u001b[39m(key, _KEY_TYPES) \u001b[38;5;129;01mand\u001b[39;00m \u001b[38;5;28mself\u001b[39m\u001b[38;5;241m.\u001b[39mhas_index_for(key)\n\u001b[1;32m    845\u001b[0m ]\n\u001b[1;32m    847\u001b[0m \u001b[38;5;28;01mif\u001b[39;00m indexer \u001b[38;5;129;01mis\u001b[39;00m \u001b[38;5;129;01mnot\u001b[39;00m \u001b[38;5;28;01mNone\u001b[39;00m \u001b[38;5;129;01mand\u001b[39;00m \u001b[38;5;28misinstance\u001b[39m(topn, \u001b[38;5;28mint\u001b[39m):\n",
      "File \u001b[0;32m/usr/local/lib/python3.8/dist-packages/gensim/models/keyedvectors.py:519\u001b[0m, in \u001b[0;36mKeyedVectors.get_mean_vector\u001b[0;34m(self, keys, weights, pre_normalize, post_normalize, ignore_missing)\u001b[0m\n\u001b[1;32m    517\u001b[0m         total_weight \u001b[38;5;241m+\u001b[39m\u001b[38;5;241m=\u001b[39m \u001b[38;5;28mabs\u001b[39m(weights[idx])\n\u001b[1;32m    518\u001b[0m     \u001b[38;5;28;01melif\u001b[39;00m \u001b[38;5;129;01mnot\u001b[39;00m ignore_missing:\n\u001b[0;32m--> 519\u001b[0m         \u001b[38;5;28;01mraise\u001b[39;00m \u001b[38;5;167;01mKeyError\u001b[39;00m(\u001b[38;5;124mf\u001b[39m\u001b[38;5;124m\"\u001b[39m\u001b[38;5;124mKey \u001b[39m\u001b[38;5;124m'\u001b[39m\u001b[38;5;132;01m{\u001b[39;00mkey\u001b[38;5;132;01m}\u001b[39;00m\u001b[38;5;124m'\u001b[39m\u001b[38;5;124m not present in vocabulary\u001b[39m\u001b[38;5;124m\"\u001b[39m)\n\u001b[1;32m    521\u001b[0m \u001b[38;5;28;01mif\u001b[39;00m(total_weight \u001b[38;5;241m>\u001b[39m \u001b[38;5;241m0\u001b[39m):\n\u001b[1;32m    522\u001b[0m     mean \u001b[38;5;241m=\u001b[39m mean \u001b[38;5;241m/\u001b[39m total_weight\n",
      "\u001b[0;31mKeyError\u001b[0m: \"Key 'IT' not present in vocabulary\""
     ]
    }
   ],
   "source": [
    "muhammed_word2vec_model.wv.most_similar('IT')"
   ]
  },
  {
   "cell_type": "code",
   "execution_count": 38,
   "id": "d62c17a5",
   "metadata": {},
   "outputs": [
    {
     "data": {
      "text/plain": [
       "[('🤔', 0.859015166759491),\n",
       " ('!', 0.8566986322402954),\n",
       " ('ايش', 0.7453765869140625),\n",
       " ('كيف', 0.7345700860023499),\n",
       " ('بالضبط', 0.7344685792922974),\n",
       " ('🙄', 0.7337287068367004),\n",
       " ('😕', 0.7293244004249573),\n",
       " ('هل', 0.7286097407341003),\n",
       " ('ليش', 0.7276320457458496),\n",
       " ('وين', 0.7253206968307495)]"
      ]
     },
     "execution_count": 38,
     "metadata": {},
     "output_type": "execute_result"
    }
   ],
   "source": [
    "our_word2vec_model.wv.most_similar('؟')"
   ]
  },
  {
   "cell_type": "code",
   "execution_count": 39,
   "id": "ac0262a0",
   "metadata": {},
   "outputs": [
    {
     "data": {
      "text/plain": [
       "[('!', 0.6516785025596619),\n",
       " ('وجعوج', 0.5592733025550842),\n",
       " ('`والمستغفرين', 0.5453335642814636),\n",
       " ('😳', 0.5365201830863953),\n",
       " ('عربي_بالمدارس_☺', 0.5336927175521851),\n",
       " ('شايفينا_هنود☺', 0.5334914326667786),\n",
       " ('اسامحك👨', 0.5334856510162354),\n",
       " ('الجنانذات', 0.5273258686065674),\n",
       " ('ذنوبك☁', 0.52655428647995),\n",
       " ('خانوج', 0.5256090760231018)]"
      ]
     },
     "execution_count": 39,
     "metadata": {},
     "output_type": "execute_result"
    }
   ],
   "source": [
    "bakr_word2vec_model.wv.most_similar('؟')"
   ]
  },
  {
   "cell_type": "code",
   "execution_count": 40,
   "id": "079f6425",
   "metadata": {},
   "outputs": [
    {
     "ename": "KeyError",
     "evalue": "\"Key '؟' not present in vocabulary\"",
     "output_type": "error",
     "traceback": [
      "\u001b[0;31m---------------------------------------------------------------------------\u001b[0m",
      "\u001b[0;31mKeyError\u001b[0m                                  Traceback (most recent call last)",
      "Input \u001b[0;32mIn [40]\u001b[0m, in \u001b[0;36m<cell line: 1>\u001b[0;34m()\u001b[0m\n\u001b[0;32m----> 1\u001b[0m \u001b[43mmuhammed_word2vec_model\u001b[49m\u001b[38;5;241;43m.\u001b[39;49m\u001b[43mwv\u001b[49m\u001b[38;5;241;43m.\u001b[39;49m\u001b[43mmost_similar\u001b[49m\u001b[43m(\u001b[49m\u001b[38;5;124;43m'\u001b[39;49m\u001b[38;5;124;43m؟\u001b[39;49m\u001b[38;5;124;43m'\u001b[39;49m\u001b[43m)\u001b[49m\n",
      "File \u001b[0;32m/usr/local/lib/python3.8/dist-packages/gensim/models/keyedvectors.py:842\u001b[0m, in \u001b[0;36mKeyedVectors.most_similar\u001b[0;34m(self, positive, negative, topn, clip_start, clip_end, restrict_vocab, indexer)\u001b[0m\n\u001b[1;32m    839\u001b[0m         weight[idx] \u001b[38;5;241m=\u001b[39m item[\u001b[38;5;241m1\u001b[39m]\n\u001b[1;32m    841\u001b[0m \u001b[38;5;66;03m# compute the weighted average of all keys\u001b[39;00m\n\u001b[0;32m--> 842\u001b[0m mean \u001b[38;5;241m=\u001b[39m \u001b[38;5;28;43mself\u001b[39;49m\u001b[38;5;241;43m.\u001b[39;49m\u001b[43mget_mean_vector\u001b[49m\u001b[43m(\u001b[49m\u001b[43mkeys\u001b[49m\u001b[43m,\u001b[49m\u001b[43m \u001b[49m\u001b[43mweight\u001b[49m\u001b[43m,\u001b[49m\u001b[43m \u001b[49m\u001b[43mpre_normalize\u001b[49m\u001b[38;5;241;43m=\u001b[39;49m\u001b[38;5;28;43;01mTrue\u001b[39;49;00m\u001b[43m,\u001b[49m\u001b[43m \u001b[49m\u001b[43mpost_normalize\u001b[49m\u001b[38;5;241;43m=\u001b[39;49m\u001b[38;5;28;43;01mTrue\u001b[39;49;00m\u001b[43m,\u001b[49m\u001b[43m \u001b[49m\u001b[43mignore_missing\u001b[49m\u001b[38;5;241;43m=\u001b[39;49m\u001b[38;5;28;43;01mFalse\u001b[39;49;00m\u001b[43m)\u001b[49m\n\u001b[1;32m    843\u001b[0m all_keys \u001b[38;5;241m=\u001b[39m [\n\u001b[1;32m    844\u001b[0m     \u001b[38;5;28mself\u001b[39m\u001b[38;5;241m.\u001b[39mget_index(key) \u001b[38;5;28;01mfor\u001b[39;00m key \u001b[38;5;129;01min\u001b[39;00m keys \u001b[38;5;28;01mif\u001b[39;00m \u001b[38;5;28misinstance\u001b[39m(key, _KEY_TYPES) \u001b[38;5;129;01mand\u001b[39;00m \u001b[38;5;28mself\u001b[39m\u001b[38;5;241m.\u001b[39mhas_index_for(key)\n\u001b[1;32m    845\u001b[0m ]\n\u001b[1;32m    847\u001b[0m \u001b[38;5;28;01mif\u001b[39;00m indexer \u001b[38;5;129;01mis\u001b[39;00m \u001b[38;5;129;01mnot\u001b[39;00m \u001b[38;5;28;01mNone\u001b[39;00m \u001b[38;5;129;01mand\u001b[39;00m \u001b[38;5;28misinstance\u001b[39m(topn, \u001b[38;5;28mint\u001b[39m):\n",
      "File \u001b[0;32m/usr/local/lib/python3.8/dist-packages/gensim/models/keyedvectors.py:519\u001b[0m, in \u001b[0;36mKeyedVectors.get_mean_vector\u001b[0;34m(self, keys, weights, pre_normalize, post_normalize, ignore_missing)\u001b[0m\n\u001b[1;32m    517\u001b[0m         total_weight \u001b[38;5;241m+\u001b[39m\u001b[38;5;241m=\u001b[39m \u001b[38;5;28mabs\u001b[39m(weights[idx])\n\u001b[1;32m    518\u001b[0m     \u001b[38;5;28;01melif\u001b[39;00m \u001b[38;5;129;01mnot\u001b[39;00m ignore_missing:\n\u001b[0;32m--> 519\u001b[0m         \u001b[38;5;28;01mraise\u001b[39;00m \u001b[38;5;167;01mKeyError\u001b[39;00m(\u001b[38;5;124mf\u001b[39m\u001b[38;5;124m\"\u001b[39m\u001b[38;5;124mKey \u001b[39m\u001b[38;5;124m'\u001b[39m\u001b[38;5;132;01m{\u001b[39;00mkey\u001b[38;5;132;01m}\u001b[39;00m\u001b[38;5;124m'\u001b[39m\u001b[38;5;124m not present in vocabulary\u001b[39m\u001b[38;5;124m\"\u001b[39m)\n\u001b[1;32m    521\u001b[0m \u001b[38;5;28;01mif\u001b[39;00m(total_weight \u001b[38;5;241m>\u001b[39m \u001b[38;5;241m0\u001b[39m):\n\u001b[1;32m    522\u001b[0m     mean \u001b[38;5;241m=\u001b[39m mean \u001b[38;5;241m/\u001b[39m total_weight\n",
      "\u001b[0;31mKeyError\u001b[0m: \"Key '؟' not present in vocabulary\""
     ]
    }
   ],
   "source": [
    "muhammed_word2vec_model.wv.most_similar('؟')"
   ]
  },
  {
   "cell_type": "code",
   "execution_count": 41,
   "id": "375e47ea",
   "metadata": {},
   "outputs": [
    {
     "data": {
      "text/plain": [
       "[('🌷', 0.883251965045929),\n",
       " ('🌹', 0.8779526352882385),\n",
       " ('🌼', 0.8770474791526794),\n",
       " ('🌺', 0.8738604784011841),\n",
       " ('🌻', 0.8657661080360413),\n",
       " ('🕊', 0.8314341306686401),\n",
       " ('🍃', 0.8309021592140198),\n",
       " ('💞', 0.8259140849113464),\n",
       " ('🕊️', 0.8252202868461609),\n",
       " ('🌿', 0.8031659126281738)]"
      ]
     },
     "execution_count": 41,
     "metadata": {},
     "output_type": "execute_result"
    }
   ],
   "source": [
    "our_word2vec_model.wv.most_similar('🌸')"
   ]
  },
  {
   "cell_type": "code",
   "execution_count": 42,
   "id": "d090cd85",
   "metadata": {},
   "outputs": [
    {
     "data": {
      "text/plain": [
       "[('🍃', 0.8955678343772888),\n",
       " ('💜', 0.8774383068084717),\n",
       " ('💕', 0.8764846324920654),\n",
       " ('💗', 0.8685916662216187),\n",
       " ('✨', 0.8499574661254883),\n",
       " ('🍁', 0.8428829312324524),\n",
       " ('💞', 0.839942455291748),\n",
       " ('🌿', 0.839326024055481),\n",
       " ('🍂', 0.8385370373725891),\n",
       " ('💓', 0.8380874395370483)]"
      ]
     },
     "execution_count": 42,
     "metadata": {},
     "output_type": "execute_result"
    }
   ],
   "source": [
    "bakr_word2vec_model.wv.most_similar('🌸')"
   ]
  },
  {
   "cell_type": "code",
   "execution_count": 43,
   "id": "3dc5579d",
   "metadata": {},
   "outputs": [
    {
     "ename": "KeyError",
     "evalue": "\"Key '🌸' not present in vocabulary\"",
     "output_type": "error",
     "traceback": [
      "\u001b[0;31m---------------------------------------------------------------------------\u001b[0m",
      "\u001b[0;31mKeyError\u001b[0m                                  Traceback (most recent call last)",
      "Input \u001b[0;32mIn [43]\u001b[0m, in \u001b[0;36m<cell line: 1>\u001b[0;34m()\u001b[0m\n\u001b[0;32m----> 1\u001b[0m \u001b[43mmuhammed_word2vec_model\u001b[49m\u001b[38;5;241;43m.\u001b[39;49m\u001b[43mwv\u001b[49m\u001b[38;5;241;43m.\u001b[39;49m\u001b[43mmost_similar\u001b[49m\u001b[43m(\u001b[49m\u001b[38;5;124;43m'\u001b[39;49m\u001b[38;5;124;43m🌸\u001b[39;49m\u001b[38;5;124;43m'\u001b[39;49m\u001b[43m)\u001b[49m\n",
      "File \u001b[0;32m/usr/local/lib/python3.8/dist-packages/gensim/models/keyedvectors.py:842\u001b[0m, in \u001b[0;36mKeyedVectors.most_similar\u001b[0;34m(self, positive, negative, topn, clip_start, clip_end, restrict_vocab, indexer)\u001b[0m\n\u001b[1;32m    839\u001b[0m         weight[idx] \u001b[38;5;241m=\u001b[39m item[\u001b[38;5;241m1\u001b[39m]\n\u001b[1;32m    841\u001b[0m \u001b[38;5;66;03m# compute the weighted average of all keys\u001b[39;00m\n\u001b[0;32m--> 842\u001b[0m mean \u001b[38;5;241m=\u001b[39m \u001b[38;5;28;43mself\u001b[39;49m\u001b[38;5;241;43m.\u001b[39;49m\u001b[43mget_mean_vector\u001b[49m\u001b[43m(\u001b[49m\u001b[43mkeys\u001b[49m\u001b[43m,\u001b[49m\u001b[43m \u001b[49m\u001b[43mweight\u001b[49m\u001b[43m,\u001b[49m\u001b[43m \u001b[49m\u001b[43mpre_normalize\u001b[49m\u001b[38;5;241;43m=\u001b[39;49m\u001b[38;5;28;43;01mTrue\u001b[39;49;00m\u001b[43m,\u001b[49m\u001b[43m \u001b[49m\u001b[43mpost_normalize\u001b[49m\u001b[38;5;241;43m=\u001b[39;49m\u001b[38;5;28;43;01mTrue\u001b[39;49;00m\u001b[43m,\u001b[49m\u001b[43m \u001b[49m\u001b[43mignore_missing\u001b[49m\u001b[38;5;241;43m=\u001b[39;49m\u001b[38;5;28;43;01mFalse\u001b[39;49;00m\u001b[43m)\u001b[49m\n\u001b[1;32m    843\u001b[0m all_keys \u001b[38;5;241m=\u001b[39m [\n\u001b[1;32m    844\u001b[0m     \u001b[38;5;28mself\u001b[39m\u001b[38;5;241m.\u001b[39mget_index(key) \u001b[38;5;28;01mfor\u001b[39;00m key \u001b[38;5;129;01min\u001b[39;00m keys \u001b[38;5;28;01mif\u001b[39;00m \u001b[38;5;28misinstance\u001b[39m(key, _KEY_TYPES) \u001b[38;5;129;01mand\u001b[39;00m \u001b[38;5;28mself\u001b[39m\u001b[38;5;241m.\u001b[39mhas_index_for(key)\n\u001b[1;32m    845\u001b[0m ]\n\u001b[1;32m    847\u001b[0m \u001b[38;5;28;01mif\u001b[39;00m indexer \u001b[38;5;129;01mis\u001b[39;00m \u001b[38;5;129;01mnot\u001b[39;00m \u001b[38;5;28;01mNone\u001b[39;00m \u001b[38;5;129;01mand\u001b[39;00m \u001b[38;5;28misinstance\u001b[39m(topn, \u001b[38;5;28mint\u001b[39m):\n",
      "File \u001b[0;32m/usr/local/lib/python3.8/dist-packages/gensim/models/keyedvectors.py:519\u001b[0m, in \u001b[0;36mKeyedVectors.get_mean_vector\u001b[0;34m(self, keys, weights, pre_normalize, post_normalize, ignore_missing)\u001b[0m\n\u001b[1;32m    517\u001b[0m         total_weight \u001b[38;5;241m+\u001b[39m\u001b[38;5;241m=\u001b[39m \u001b[38;5;28mabs\u001b[39m(weights[idx])\n\u001b[1;32m    518\u001b[0m     \u001b[38;5;28;01melif\u001b[39;00m \u001b[38;5;129;01mnot\u001b[39;00m ignore_missing:\n\u001b[0;32m--> 519\u001b[0m         \u001b[38;5;28;01mraise\u001b[39;00m \u001b[38;5;167;01mKeyError\u001b[39;00m(\u001b[38;5;124mf\u001b[39m\u001b[38;5;124m\"\u001b[39m\u001b[38;5;124mKey \u001b[39m\u001b[38;5;124m'\u001b[39m\u001b[38;5;132;01m{\u001b[39;00mkey\u001b[38;5;132;01m}\u001b[39;00m\u001b[38;5;124m'\u001b[39m\u001b[38;5;124m not present in vocabulary\u001b[39m\u001b[38;5;124m\"\u001b[39m)\n\u001b[1;32m    521\u001b[0m \u001b[38;5;28;01mif\u001b[39;00m(total_weight \u001b[38;5;241m>\u001b[39m \u001b[38;5;241m0\u001b[39m):\n\u001b[1;32m    522\u001b[0m     mean \u001b[38;5;241m=\u001b[39m mean \u001b[38;5;241m/\u001b[39m total_weight\n",
      "\u001b[0;31mKeyError\u001b[0m: \"Key '🌸' not present in vocabulary\""
     ]
    }
   ],
   "source": [
    "muhammed_word2vec_model.wv.most_similar('🌸')"
   ]
  },
  {
   "cell_type": "code",
   "execution_count": 44,
   "id": "3b902cfb",
   "metadata": {},
   "outputs": [
    {
     "data": {
      "text/plain": [
       "[('لقاح_فايزر', 0.8071855306625366),\n",
       " ('لقاح_استرازينيكا', 0.8052717447280884),\n",
       " ('لقاح_اكسفورد', 0.8028921484947205),\n",
       " ('لقاح_#', 0.7768087983131409),\n",
       " ('من_لقاح', 0.7750630378723145),\n",
       " ('لقاحات_كورونا', 0.7649125456809998),\n",
       " ('لقاح_استرازينكا', 0.7414705753326416),\n",
       " ('لفيروس_كورونا', 0.7378163933753967),\n",
       " ('تطعيم_كورونا', 0.7282854318618774),\n",
       " ('ضد_كورونا', 0.7269201874732971)]"
      ]
     },
     "execution_count": 44,
     "metadata": {},
     "output_type": "execute_result"
    }
   ],
   "source": [
    "our_word2vec_model.wv.most_similar('لقاح_كورونا')"
   ]
  },
  {
   "cell_type": "code",
   "execution_count": 45,
   "id": "48d3e222",
   "metadata": {},
   "outputs": [
    {
     "ename": "KeyError",
     "evalue": "\"Key 'لقاح_كورونا' not present in vocabulary\"",
     "output_type": "error",
     "traceback": [
      "\u001b[0;31m---------------------------------------------------------------------------\u001b[0m",
      "\u001b[0;31mKeyError\u001b[0m                                  Traceback (most recent call last)",
      "Input \u001b[0;32mIn [45]\u001b[0m, in \u001b[0;36m<cell line: 1>\u001b[0;34m()\u001b[0m\n\u001b[0;32m----> 1\u001b[0m \u001b[43mbakr_word2vec_model\u001b[49m\u001b[38;5;241;43m.\u001b[39;49m\u001b[43mwv\u001b[49m\u001b[38;5;241;43m.\u001b[39;49m\u001b[43mmost_similar\u001b[49m\u001b[43m(\u001b[49m\u001b[38;5;124;43m'\u001b[39;49m\u001b[38;5;124;43mلقاح_كورونا\u001b[39;49m\u001b[38;5;124;43m'\u001b[39;49m\u001b[43m)\u001b[49m\n",
      "File \u001b[0;32m/usr/local/lib/python3.8/dist-packages/gensim/models/keyedvectors.py:842\u001b[0m, in \u001b[0;36mKeyedVectors.most_similar\u001b[0;34m(self, positive, negative, topn, clip_start, clip_end, restrict_vocab, indexer)\u001b[0m\n\u001b[1;32m    839\u001b[0m         weight[idx] \u001b[38;5;241m=\u001b[39m item[\u001b[38;5;241m1\u001b[39m]\n\u001b[1;32m    841\u001b[0m \u001b[38;5;66;03m# compute the weighted average of all keys\u001b[39;00m\n\u001b[0;32m--> 842\u001b[0m mean \u001b[38;5;241m=\u001b[39m \u001b[38;5;28;43mself\u001b[39;49m\u001b[38;5;241;43m.\u001b[39;49m\u001b[43mget_mean_vector\u001b[49m\u001b[43m(\u001b[49m\u001b[43mkeys\u001b[49m\u001b[43m,\u001b[49m\u001b[43m \u001b[49m\u001b[43mweight\u001b[49m\u001b[43m,\u001b[49m\u001b[43m \u001b[49m\u001b[43mpre_normalize\u001b[49m\u001b[38;5;241;43m=\u001b[39;49m\u001b[38;5;28;43;01mTrue\u001b[39;49;00m\u001b[43m,\u001b[49m\u001b[43m \u001b[49m\u001b[43mpost_normalize\u001b[49m\u001b[38;5;241;43m=\u001b[39;49m\u001b[38;5;28;43;01mTrue\u001b[39;49;00m\u001b[43m,\u001b[49m\u001b[43m \u001b[49m\u001b[43mignore_missing\u001b[49m\u001b[38;5;241;43m=\u001b[39;49m\u001b[38;5;28;43;01mFalse\u001b[39;49;00m\u001b[43m)\u001b[49m\n\u001b[1;32m    843\u001b[0m all_keys \u001b[38;5;241m=\u001b[39m [\n\u001b[1;32m    844\u001b[0m     \u001b[38;5;28mself\u001b[39m\u001b[38;5;241m.\u001b[39mget_index(key) \u001b[38;5;28;01mfor\u001b[39;00m key \u001b[38;5;129;01min\u001b[39;00m keys \u001b[38;5;28;01mif\u001b[39;00m \u001b[38;5;28misinstance\u001b[39m(key, _KEY_TYPES) \u001b[38;5;129;01mand\u001b[39;00m \u001b[38;5;28mself\u001b[39m\u001b[38;5;241m.\u001b[39mhas_index_for(key)\n\u001b[1;32m    845\u001b[0m ]\n\u001b[1;32m    847\u001b[0m \u001b[38;5;28;01mif\u001b[39;00m indexer \u001b[38;5;129;01mis\u001b[39;00m \u001b[38;5;129;01mnot\u001b[39;00m \u001b[38;5;28;01mNone\u001b[39;00m \u001b[38;5;129;01mand\u001b[39;00m \u001b[38;5;28misinstance\u001b[39m(topn, \u001b[38;5;28mint\u001b[39m):\n",
      "File \u001b[0;32m/usr/local/lib/python3.8/dist-packages/gensim/models/keyedvectors.py:519\u001b[0m, in \u001b[0;36mKeyedVectors.get_mean_vector\u001b[0;34m(self, keys, weights, pre_normalize, post_normalize, ignore_missing)\u001b[0m\n\u001b[1;32m    517\u001b[0m         total_weight \u001b[38;5;241m+\u001b[39m\u001b[38;5;241m=\u001b[39m \u001b[38;5;28mabs\u001b[39m(weights[idx])\n\u001b[1;32m    518\u001b[0m     \u001b[38;5;28;01melif\u001b[39;00m \u001b[38;5;129;01mnot\u001b[39;00m ignore_missing:\n\u001b[0;32m--> 519\u001b[0m         \u001b[38;5;28;01mraise\u001b[39;00m \u001b[38;5;167;01mKeyError\u001b[39;00m(\u001b[38;5;124mf\u001b[39m\u001b[38;5;124m\"\u001b[39m\u001b[38;5;124mKey \u001b[39m\u001b[38;5;124m'\u001b[39m\u001b[38;5;132;01m{\u001b[39;00mkey\u001b[38;5;132;01m}\u001b[39;00m\u001b[38;5;124m'\u001b[39m\u001b[38;5;124m not present in vocabulary\u001b[39m\u001b[38;5;124m\"\u001b[39m)\n\u001b[1;32m    521\u001b[0m \u001b[38;5;28;01mif\u001b[39;00m(total_weight \u001b[38;5;241m>\u001b[39m \u001b[38;5;241m0\u001b[39m):\n\u001b[1;32m    522\u001b[0m     mean \u001b[38;5;241m=\u001b[39m mean \u001b[38;5;241m/\u001b[39m total_weight\n",
      "\u001b[0;31mKeyError\u001b[0m: \"Key 'لقاح_كورونا' not present in vocabulary\""
     ]
    }
   ],
   "source": [
    "bakr_word2vec_model.wv.most_similar('لقاح_كورونا')"
   ]
  },
  {
   "cell_type": "code",
   "execution_count": 46,
   "id": "bc34a289",
   "metadata": {},
   "outputs": [
    {
     "ename": "KeyError",
     "evalue": "\"Key 'لقاح_كورونا' not present in vocabulary\"",
     "output_type": "error",
     "traceback": [
      "\u001b[0;31m---------------------------------------------------------------------------\u001b[0m",
      "\u001b[0;31mKeyError\u001b[0m                                  Traceback (most recent call last)",
      "Input \u001b[0;32mIn [46]\u001b[0m, in \u001b[0;36m<cell line: 1>\u001b[0;34m()\u001b[0m\n\u001b[0;32m----> 1\u001b[0m \u001b[43mmuhammed_word2vec_model\u001b[49m\u001b[38;5;241;43m.\u001b[39;49m\u001b[43mwv\u001b[49m\u001b[38;5;241;43m.\u001b[39;49m\u001b[43mmost_similar\u001b[49m\u001b[43m(\u001b[49m\u001b[38;5;124;43m'\u001b[39;49m\u001b[38;5;124;43mلقاح_كورونا\u001b[39;49m\u001b[38;5;124;43m'\u001b[39;49m\u001b[43m)\u001b[49m\n",
      "File \u001b[0;32m/usr/local/lib/python3.8/dist-packages/gensim/models/keyedvectors.py:842\u001b[0m, in \u001b[0;36mKeyedVectors.most_similar\u001b[0;34m(self, positive, negative, topn, clip_start, clip_end, restrict_vocab, indexer)\u001b[0m\n\u001b[1;32m    839\u001b[0m         weight[idx] \u001b[38;5;241m=\u001b[39m item[\u001b[38;5;241m1\u001b[39m]\n\u001b[1;32m    841\u001b[0m \u001b[38;5;66;03m# compute the weighted average of all keys\u001b[39;00m\n\u001b[0;32m--> 842\u001b[0m mean \u001b[38;5;241m=\u001b[39m \u001b[38;5;28;43mself\u001b[39;49m\u001b[38;5;241;43m.\u001b[39;49m\u001b[43mget_mean_vector\u001b[49m\u001b[43m(\u001b[49m\u001b[43mkeys\u001b[49m\u001b[43m,\u001b[49m\u001b[43m \u001b[49m\u001b[43mweight\u001b[49m\u001b[43m,\u001b[49m\u001b[43m \u001b[49m\u001b[43mpre_normalize\u001b[49m\u001b[38;5;241;43m=\u001b[39;49m\u001b[38;5;28;43;01mTrue\u001b[39;49;00m\u001b[43m,\u001b[49m\u001b[43m \u001b[49m\u001b[43mpost_normalize\u001b[49m\u001b[38;5;241;43m=\u001b[39;49m\u001b[38;5;28;43;01mTrue\u001b[39;49;00m\u001b[43m,\u001b[49m\u001b[43m \u001b[49m\u001b[43mignore_missing\u001b[49m\u001b[38;5;241;43m=\u001b[39;49m\u001b[38;5;28;43;01mFalse\u001b[39;49;00m\u001b[43m)\u001b[49m\n\u001b[1;32m    843\u001b[0m all_keys \u001b[38;5;241m=\u001b[39m [\n\u001b[1;32m    844\u001b[0m     \u001b[38;5;28mself\u001b[39m\u001b[38;5;241m.\u001b[39mget_index(key) \u001b[38;5;28;01mfor\u001b[39;00m key \u001b[38;5;129;01min\u001b[39;00m keys \u001b[38;5;28;01mif\u001b[39;00m \u001b[38;5;28misinstance\u001b[39m(key, _KEY_TYPES) \u001b[38;5;129;01mand\u001b[39;00m \u001b[38;5;28mself\u001b[39m\u001b[38;5;241m.\u001b[39mhas_index_for(key)\n\u001b[1;32m    845\u001b[0m ]\n\u001b[1;32m    847\u001b[0m \u001b[38;5;28;01mif\u001b[39;00m indexer \u001b[38;5;129;01mis\u001b[39;00m \u001b[38;5;129;01mnot\u001b[39;00m \u001b[38;5;28;01mNone\u001b[39;00m \u001b[38;5;129;01mand\u001b[39;00m \u001b[38;5;28misinstance\u001b[39m(topn, \u001b[38;5;28mint\u001b[39m):\n",
      "File \u001b[0;32m/usr/local/lib/python3.8/dist-packages/gensim/models/keyedvectors.py:519\u001b[0m, in \u001b[0;36mKeyedVectors.get_mean_vector\u001b[0;34m(self, keys, weights, pre_normalize, post_normalize, ignore_missing)\u001b[0m\n\u001b[1;32m    517\u001b[0m         total_weight \u001b[38;5;241m+\u001b[39m\u001b[38;5;241m=\u001b[39m \u001b[38;5;28mabs\u001b[39m(weights[idx])\n\u001b[1;32m    518\u001b[0m     \u001b[38;5;28;01melif\u001b[39;00m \u001b[38;5;129;01mnot\u001b[39;00m ignore_missing:\n\u001b[0;32m--> 519\u001b[0m         \u001b[38;5;28;01mraise\u001b[39;00m \u001b[38;5;167;01mKeyError\u001b[39;00m(\u001b[38;5;124mf\u001b[39m\u001b[38;5;124m\"\u001b[39m\u001b[38;5;124mKey \u001b[39m\u001b[38;5;124m'\u001b[39m\u001b[38;5;132;01m{\u001b[39;00mkey\u001b[38;5;132;01m}\u001b[39;00m\u001b[38;5;124m'\u001b[39m\u001b[38;5;124m not present in vocabulary\u001b[39m\u001b[38;5;124m\"\u001b[39m)\n\u001b[1;32m    521\u001b[0m \u001b[38;5;28;01mif\u001b[39;00m(total_weight \u001b[38;5;241m>\u001b[39m \u001b[38;5;241m0\u001b[39m):\n\u001b[1;32m    522\u001b[0m     mean \u001b[38;5;241m=\u001b[39m mean \u001b[38;5;241m/\u001b[39m total_weight\n",
      "\u001b[0;31mKeyError\u001b[0m: \"Key 'لقاح_كورونا' not present in vocabulary\""
     ]
    }
   ],
   "source": [
    "muhammed_word2vec_model.wv.most_similar('لقاح_كورونا')"
   ]
  },
  {
   "cell_type": "code",
   "execution_count": 47,
   "id": "72de3c7f",
   "metadata": {},
   "outputs": [
    {
     "data": {
      "text/plain": [
       "[('Covid', 0.723892867565155),\n",
       " ('كوفيد_', 0.7223595976829529),\n",
       " ('كوفيد', 0.639966607093811),\n",
       " ('coronavirus', 0.6211643815040588),\n",
       " ('كوفيد-', 0.6099029779434204),\n",
       " ('19', 0.5965123176574707),\n",
       " ('فيروس', 0.5947990417480469),\n",
       " ('كورونا', 0.5896413922309875),\n",
       " ('Pfizer', 0.587608277797699),\n",
       " ('COVID', 0.5793454647064209)]"
      ]
     },
     "execution_count": 47,
     "metadata": {},
     "output_type": "execute_result"
    }
   ],
   "source": [
    "our_word2vec_model.wv.most_similar('covid')"
   ]
  },
  {
   "cell_type": "code",
   "execution_count": 48,
   "id": "b0e72830",
   "metadata": {},
   "outputs": [
    {
     "ename": "KeyError",
     "evalue": "\"Key 'covid' not present in vocabulary\"",
     "output_type": "error",
     "traceback": [
      "\u001b[0;31m---------------------------------------------------------------------------\u001b[0m",
      "\u001b[0;31mKeyError\u001b[0m                                  Traceback (most recent call last)",
      "Input \u001b[0;32mIn [48]\u001b[0m, in \u001b[0;36m<cell line: 1>\u001b[0;34m()\u001b[0m\n\u001b[0;32m----> 1\u001b[0m \u001b[43mbakr_word2vec_model\u001b[49m\u001b[38;5;241;43m.\u001b[39;49m\u001b[43mwv\u001b[49m\u001b[38;5;241;43m.\u001b[39;49m\u001b[43mmost_similar\u001b[49m\u001b[43m(\u001b[49m\u001b[38;5;124;43m'\u001b[39;49m\u001b[38;5;124;43mcovid\u001b[39;49m\u001b[38;5;124;43m'\u001b[39;49m\u001b[43m)\u001b[49m\n",
      "File \u001b[0;32m/usr/local/lib/python3.8/dist-packages/gensim/models/keyedvectors.py:842\u001b[0m, in \u001b[0;36mKeyedVectors.most_similar\u001b[0;34m(self, positive, negative, topn, clip_start, clip_end, restrict_vocab, indexer)\u001b[0m\n\u001b[1;32m    839\u001b[0m         weight[idx] \u001b[38;5;241m=\u001b[39m item[\u001b[38;5;241m1\u001b[39m]\n\u001b[1;32m    841\u001b[0m \u001b[38;5;66;03m# compute the weighted average of all keys\u001b[39;00m\n\u001b[0;32m--> 842\u001b[0m mean \u001b[38;5;241m=\u001b[39m \u001b[38;5;28;43mself\u001b[39;49m\u001b[38;5;241;43m.\u001b[39;49m\u001b[43mget_mean_vector\u001b[49m\u001b[43m(\u001b[49m\u001b[43mkeys\u001b[49m\u001b[43m,\u001b[49m\u001b[43m \u001b[49m\u001b[43mweight\u001b[49m\u001b[43m,\u001b[49m\u001b[43m \u001b[49m\u001b[43mpre_normalize\u001b[49m\u001b[38;5;241;43m=\u001b[39;49m\u001b[38;5;28;43;01mTrue\u001b[39;49;00m\u001b[43m,\u001b[49m\u001b[43m \u001b[49m\u001b[43mpost_normalize\u001b[49m\u001b[38;5;241;43m=\u001b[39;49m\u001b[38;5;28;43;01mTrue\u001b[39;49;00m\u001b[43m,\u001b[49m\u001b[43m \u001b[49m\u001b[43mignore_missing\u001b[49m\u001b[38;5;241;43m=\u001b[39;49m\u001b[38;5;28;43;01mFalse\u001b[39;49;00m\u001b[43m)\u001b[49m\n\u001b[1;32m    843\u001b[0m all_keys \u001b[38;5;241m=\u001b[39m [\n\u001b[1;32m    844\u001b[0m     \u001b[38;5;28mself\u001b[39m\u001b[38;5;241m.\u001b[39mget_index(key) \u001b[38;5;28;01mfor\u001b[39;00m key \u001b[38;5;129;01min\u001b[39;00m keys \u001b[38;5;28;01mif\u001b[39;00m \u001b[38;5;28misinstance\u001b[39m(key, _KEY_TYPES) \u001b[38;5;129;01mand\u001b[39;00m \u001b[38;5;28mself\u001b[39m\u001b[38;5;241m.\u001b[39mhas_index_for(key)\n\u001b[1;32m    845\u001b[0m ]\n\u001b[1;32m    847\u001b[0m \u001b[38;5;28;01mif\u001b[39;00m indexer \u001b[38;5;129;01mis\u001b[39;00m \u001b[38;5;129;01mnot\u001b[39;00m \u001b[38;5;28;01mNone\u001b[39;00m \u001b[38;5;129;01mand\u001b[39;00m \u001b[38;5;28misinstance\u001b[39m(topn, \u001b[38;5;28mint\u001b[39m):\n",
      "File \u001b[0;32m/usr/local/lib/python3.8/dist-packages/gensim/models/keyedvectors.py:519\u001b[0m, in \u001b[0;36mKeyedVectors.get_mean_vector\u001b[0;34m(self, keys, weights, pre_normalize, post_normalize, ignore_missing)\u001b[0m\n\u001b[1;32m    517\u001b[0m         total_weight \u001b[38;5;241m+\u001b[39m\u001b[38;5;241m=\u001b[39m \u001b[38;5;28mabs\u001b[39m(weights[idx])\n\u001b[1;32m    518\u001b[0m     \u001b[38;5;28;01melif\u001b[39;00m \u001b[38;5;129;01mnot\u001b[39;00m ignore_missing:\n\u001b[0;32m--> 519\u001b[0m         \u001b[38;5;28;01mraise\u001b[39;00m \u001b[38;5;167;01mKeyError\u001b[39;00m(\u001b[38;5;124mf\u001b[39m\u001b[38;5;124m\"\u001b[39m\u001b[38;5;124mKey \u001b[39m\u001b[38;5;124m'\u001b[39m\u001b[38;5;132;01m{\u001b[39;00mkey\u001b[38;5;132;01m}\u001b[39;00m\u001b[38;5;124m'\u001b[39m\u001b[38;5;124m not present in vocabulary\u001b[39m\u001b[38;5;124m\"\u001b[39m)\n\u001b[1;32m    521\u001b[0m \u001b[38;5;28;01mif\u001b[39;00m(total_weight \u001b[38;5;241m>\u001b[39m \u001b[38;5;241m0\u001b[39m):\n\u001b[1;32m    522\u001b[0m     mean \u001b[38;5;241m=\u001b[39m mean \u001b[38;5;241m/\u001b[39m total_weight\n",
      "\u001b[0;31mKeyError\u001b[0m: \"Key 'covid' not present in vocabulary\""
     ]
    }
   ],
   "source": [
    "bakr_word2vec_model.wv.most_similar('covid')"
   ]
  },
  {
   "cell_type": "code",
   "execution_count": 49,
   "id": "0e013611",
   "metadata": {},
   "outputs": [
    {
     "ename": "KeyError",
     "evalue": "\"Key 'covid' not present in vocabulary\"",
     "output_type": "error",
     "traceback": [
      "\u001b[0;31m---------------------------------------------------------------------------\u001b[0m",
      "\u001b[0;31mKeyError\u001b[0m                                  Traceback (most recent call last)",
      "Input \u001b[0;32mIn [49]\u001b[0m, in \u001b[0;36m<cell line: 1>\u001b[0;34m()\u001b[0m\n\u001b[0;32m----> 1\u001b[0m \u001b[43mmuhammed_word2vec_model\u001b[49m\u001b[38;5;241;43m.\u001b[39;49m\u001b[43mwv\u001b[49m\u001b[38;5;241;43m.\u001b[39;49m\u001b[43mmost_similar\u001b[49m\u001b[43m(\u001b[49m\u001b[38;5;124;43m'\u001b[39;49m\u001b[38;5;124;43mcovid\u001b[39;49m\u001b[38;5;124;43m'\u001b[39;49m\u001b[43m)\u001b[49m\n",
      "File \u001b[0;32m/usr/local/lib/python3.8/dist-packages/gensim/models/keyedvectors.py:842\u001b[0m, in \u001b[0;36mKeyedVectors.most_similar\u001b[0;34m(self, positive, negative, topn, clip_start, clip_end, restrict_vocab, indexer)\u001b[0m\n\u001b[1;32m    839\u001b[0m         weight[idx] \u001b[38;5;241m=\u001b[39m item[\u001b[38;5;241m1\u001b[39m]\n\u001b[1;32m    841\u001b[0m \u001b[38;5;66;03m# compute the weighted average of all keys\u001b[39;00m\n\u001b[0;32m--> 842\u001b[0m mean \u001b[38;5;241m=\u001b[39m \u001b[38;5;28;43mself\u001b[39;49m\u001b[38;5;241;43m.\u001b[39;49m\u001b[43mget_mean_vector\u001b[49m\u001b[43m(\u001b[49m\u001b[43mkeys\u001b[49m\u001b[43m,\u001b[49m\u001b[43m \u001b[49m\u001b[43mweight\u001b[49m\u001b[43m,\u001b[49m\u001b[43m \u001b[49m\u001b[43mpre_normalize\u001b[49m\u001b[38;5;241;43m=\u001b[39;49m\u001b[38;5;28;43;01mTrue\u001b[39;49;00m\u001b[43m,\u001b[49m\u001b[43m \u001b[49m\u001b[43mpost_normalize\u001b[49m\u001b[38;5;241;43m=\u001b[39;49m\u001b[38;5;28;43;01mTrue\u001b[39;49;00m\u001b[43m,\u001b[49m\u001b[43m \u001b[49m\u001b[43mignore_missing\u001b[49m\u001b[38;5;241;43m=\u001b[39;49m\u001b[38;5;28;43;01mFalse\u001b[39;49;00m\u001b[43m)\u001b[49m\n\u001b[1;32m    843\u001b[0m all_keys \u001b[38;5;241m=\u001b[39m [\n\u001b[1;32m    844\u001b[0m     \u001b[38;5;28mself\u001b[39m\u001b[38;5;241m.\u001b[39mget_index(key) \u001b[38;5;28;01mfor\u001b[39;00m key \u001b[38;5;129;01min\u001b[39;00m keys \u001b[38;5;28;01mif\u001b[39;00m \u001b[38;5;28misinstance\u001b[39m(key, _KEY_TYPES) \u001b[38;5;129;01mand\u001b[39;00m \u001b[38;5;28mself\u001b[39m\u001b[38;5;241m.\u001b[39mhas_index_for(key)\n\u001b[1;32m    845\u001b[0m ]\n\u001b[1;32m    847\u001b[0m \u001b[38;5;28;01mif\u001b[39;00m indexer \u001b[38;5;129;01mis\u001b[39;00m \u001b[38;5;129;01mnot\u001b[39;00m \u001b[38;5;28;01mNone\u001b[39;00m \u001b[38;5;129;01mand\u001b[39;00m \u001b[38;5;28misinstance\u001b[39m(topn, \u001b[38;5;28mint\u001b[39m):\n",
      "File \u001b[0;32m/usr/local/lib/python3.8/dist-packages/gensim/models/keyedvectors.py:519\u001b[0m, in \u001b[0;36mKeyedVectors.get_mean_vector\u001b[0;34m(self, keys, weights, pre_normalize, post_normalize, ignore_missing)\u001b[0m\n\u001b[1;32m    517\u001b[0m         total_weight \u001b[38;5;241m+\u001b[39m\u001b[38;5;241m=\u001b[39m \u001b[38;5;28mabs\u001b[39m(weights[idx])\n\u001b[1;32m    518\u001b[0m     \u001b[38;5;28;01melif\u001b[39;00m \u001b[38;5;129;01mnot\u001b[39;00m ignore_missing:\n\u001b[0;32m--> 519\u001b[0m         \u001b[38;5;28;01mraise\u001b[39;00m \u001b[38;5;167;01mKeyError\u001b[39;00m(\u001b[38;5;124mf\u001b[39m\u001b[38;5;124m\"\u001b[39m\u001b[38;5;124mKey \u001b[39m\u001b[38;5;124m'\u001b[39m\u001b[38;5;132;01m{\u001b[39;00mkey\u001b[38;5;132;01m}\u001b[39;00m\u001b[38;5;124m'\u001b[39m\u001b[38;5;124m not present in vocabulary\u001b[39m\u001b[38;5;124m\"\u001b[39m)\n\u001b[1;32m    521\u001b[0m \u001b[38;5;28;01mif\u001b[39;00m(total_weight \u001b[38;5;241m>\u001b[39m \u001b[38;5;241m0\u001b[39m):\n\u001b[1;32m    522\u001b[0m     mean \u001b[38;5;241m=\u001b[39m mean \u001b[38;5;241m/\u001b[39m total_weight\n",
      "\u001b[0;31mKeyError\u001b[0m: \"Key 'covid' not present in vocabulary\""
     ]
    }
   ],
   "source": [
    "muhammed_word2vec_model.wv.most_similar('covid')"
   ]
  },
  {
   "cell_type": "code",
   "execution_count": 50,
   "id": "2b95c452",
   "metadata": {},
   "outputs": [
    {
     "data": {
      "text/plain": [
       "[('#_كوفيد_', 0.7184076905250549),\n",
       " ('كوفيد__19', 0.6838507056236267),\n",
       " ('COVID_19', 0.6617117524147034),\n",
       " ('كورونا_#', 0.6430616974830627),\n",
       " ('#_لقاح_كورونا', 0.6309927701950073),\n",
       " ('كوفيد_19', 0.6203495264053345),\n",
       " ('#_كورونا', 0.6153684854507446),\n",
       " ('#_كوفيد', 0.6150749325752258),\n",
       " ('19_#', 0.6079955697059631),\n",
       " ('covid__', 0.6055033802986145)]"
      ]
     },
     "execution_count": 50,
     "metadata": {},
     "output_type": "execute_result"
    }
   ],
   "source": [
    "our_word2vec_model.wv.most_similar('covid_19')"
   ]
  },
  {
   "cell_type": "code",
   "execution_count": 51,
   "id": "eab47c70",
   "metadata": {},
   "outputs": [
    {
     "ename": "KeyError",
     "evalue": "\"Key 'covid_19' not present in vocabulary\"",
     "output_type": "error",
     "traceback": [
      "\u001b[0;31m---------------------------------------------------------------------------\u001b[0m",
      "\u001b[0;31mKeyError\u001b[0m                                  Traceback (most recent call last)",
      "Input \u001b[0;32mIn [51]\u001b[0m, in \u001b[0;36m<cell line: 1>\u001b[0;34m()\u001b[0m\n\u001b[0;32m----> 1\u001b[0m \u001b[43mbakr_word2vec_model\u001b[49m\u001b[38;5;241;43m.\u001b[39;49m\u001b[43mwv\u001b[49m\u001b[38;5;241;43m.\u001b[39;49m\u001b[43mmost_similar\u001b[49m\u001b[43m(\u001b[49m\u001b[38;5;124;43m'\u001b[39;49m\u001b[38;5;124;43mcovid_19\u001b[39;49m\u001b[38;5;124;43m'\u001b[39;49m\u001b[43m)\u001b[49m\n",
      "File \u001b[0;32m/usr/local/lib/python3.8/dist-packages/gensim/models/keyedvectors.py:842\u001b[0m, in \u001b[0;36mKeyedVectors.most_similar\u001b[0;34m(self, positive, negative, topn, clip_start, clip_end, restrict_vocab, indexer)\u001b[0m\n\u001b[1;32m    839\u001b[0m         weight[idx] \u001b[38;5;241m=\u001b[39m item[\u001b[38;5;241m1\u001b[39m]\n\u001b[1;32m    841\u001b[0m \u001b[38;5;66;03m# compute the weighted average of all keys\u001b[39;00m\n\u001b[0;32m--> 842\u001b[0m mean \u001b[38;5;241m=\u001b[39m \u001b[38;5;28;43mself\u001b[39;49m\u001b[38;5;241;43m.\u001b[39;49m\u001b[43mget_mean_vector\u001b[49m\u001b[43m(\u001b[49m\u001b[43mkeys\u001b[49m\u001b[43m,\u001b[49m\u001b[43m \u001b[49m\u001b[43mweight\u001b[49m\u001b[43m,\u001b[49m\u001b[43m \u001b[49m\u001b[43mpre_normalize\u001b[49m\u001b[38;5;241;43m=\u001b[39;49m\u001b[38;5;28;43;01mTrue\u001b[39;49;00m\u001b[43m,\u001b[49m\u001b[43m \u001b[49m\u001b[43mpost_normalize\u001b[49m\u001b[38;5;241;43m=\u001b[39;49m\u001b[38;5;28;43;01mTrue\u001b[39;49;00m\u001b[43m,\u001b[49m\u001b[43m \u001b[49m\u001b[43mignore_missing\u001b[49m\u001b[38;5;241;43m=\u001b[39;49m\u001b[38;5;28;43;01mFalse\u001b[39;49;00m\u001b[43m)\u001b[49m\n\u001b[1;32m    843\u001b[0m all_keys \u001b[38;5;241m=\u001b[39m [\n\u001b[1;32m    844\u001b[0m     \u001b[38;5;28mself\u001b[39m\u001b[38;5;241m.\u001b[39mget_index(key) \u001b[38;5;28;01mfor\u001b[39;00m key \u001b[38;5;129;01min\u001b[39;00m keys \u001b[38;5;28;01mif\u001b[39;00m \u001b[38;5;28misinstance\u001b[39m(key, _KEY_TYPES) \u001b[38;5;129;01mand\u001b[39;00m \u001b[38;5;28mself\u001b[39m\u001b[38;5;241m.\u001b[39mhas_index_for(key)\n\u001b[1;32m    845\u001b[0m ]\n\u001b[1;32m    847\u001b[0m \u001b[38;5;28;01mif\u001b[39;00m indexer \u001b[38;5;129;01mis\u001b[39;00m \u001b[38;5;129;01mnot\u001b[39;00m \u001b[38;5;28;01mNone\u001b[39;00m \u001b[38;5;129;01mand\u001b[39;00m \u001b[38;5;28misinstance\u001b[39m(topn, \u001b[38;5;28mint\u001b[39m):\n",
      "File \u001b[0;32m/usr/local/lib/python3.8/dist-packages/gensim/models/keyedvectors.py:519\u001b[0m, in \u001b[0;36mKeyedVectors.get_mean_vector\u001b[0;34m(self, keys, weights, pre_normalize, post_normalize, ignore_missing)\u001b[0m\n\u001b[1;32m    517\u001b[0m         total_weight \u001b[38;5;241m+\u001b[39m\u001b[38;5;241m=\u001b[39m \u001b[38;5;28mabs\u001b[39m(weights[idx])\n\u001b[1;32m    518\u001b[0m     \u001b[38;5;28;01melif\u001b[39;00m \u001b[38;5;129;01mnot\u001b[39;00m ignore_missing:\n\u001b[0;32m--> 519\u001b[0m         \u001b[38;5;28;01mraise\u001b[39;00m \u001b[38;5;167;01mKeyError\u001b[39;00m(\u001b[38;5;124mf\u001b[39m\u001b[38;5;124m\"\u001b[39m\u001b[38;5;124mKey \u001b[39m\u001b[38;5;124m'\u001b[39m\u001b[38;5;132;01m{\u001b[39;00mkey\u001b[38;5;132;01m}\u001b[39;00m\u001b[38;5;124m'\u001b[39m\u001b[38;5;124m not present in vocabulary\u001b[39m\u001b[38;5;124m\"\u001b[39m)\n\u001b[1;32m    521\u001b[0m \u001b[38;5;28;01mif\u001b[39;00m(total_weight \u001b[38;5;241m>\u001b[39m \u001b[38;5;241m0\u001b[39m):\n\u001b[1;32m    522\u001b[0m     mean \u001b[38;5;241m=\u001b[39m mean \u001b[38;5;241m/\u001b[39m total_weight\n",
      "\u001b[0;31mKeyError\u001b[0m: \"Key 'covid_19' not present in vocabulary\""
     ]
    }
   ],
   "source": [
    "bakr_word2vec_model.wv.most_similar('covid_19')"
   ]
  },
  {
   "cell_type": "code",
   "execution_count": 52,
   "id": "2a9c9ed6",
   "metadata": {},
   "outputs": [
    {
     "ename": "KeyError",
     "evalue": "\"Key 'covid_19' not present in vocabulary\"",
     "output_type": "error",
     "traceback": [
      "\u001b[0;31m---------------------------------------------------------------------------\u001b[0m",
      "\u001b[0;31mKeyError\u001b[0m                                  Traceback (most recent call last)",
      "Input \u001b[0;32mIn [52]\u001b[0m, in \u001b[0;36m<cell line: 1>\u001b[0;34m()\u001b[0m\n\u001b[0;32m----> 1\u001b[0m \u001b[43mmuhammed_word2vec_model\u001b[49m\u001b[38;5;241;43m.\u001b[39;49m\u001b[43mwv\u001b[49m\u001b[38;5;241;43m.\u001b[39;49m\u001b[43mmost_similar\u001b[49m\u001b[43m(\u001b[49m\u001b[38;5;124;43m'\u001b[39;49m\u001b[38;5;124;43mcovid_19\u001b[39;49m\u001b[38;5;124;43m'\u001b[39;49m\u001b[43m)\u001b[49m\n",
      "File \u001b[0;32m/usr/local/lib/python3.8/dist-packages/gensim/models/keyedvectors.py:842\u001b[0m, in \u001b[0;36mKeyedVectors.most_similar\u001b[0;34m(self, positive, negative, topn, clip_start, clip_end, restrict_vocab, indexer)\u001b[0m\n\u001b[1;32m    839\u001b[0m         weight[idx] \u001b[38;5;241m=\u001b[39m item[\u001b[38;5;241m1\u001b[39m]\n\u001b[1;32m    841\u001b[0m \u001b[38;5;66;03m# compute the weighted average of all keys\u001b[39;00m\n\u001b[0;32m--> 842\u001b[0m mean \u001b[38;5;241m=\u001b[39m \u001b[38;5;28;43mself\u001b[39;49m\u001b[38;5;241;43m.\u001b[39;49m\u001b[43mget_mean_vector\u001b[49m\u001b[43m(\u001b[49m\u001b[43mkeys\u001b[49m\u001b[43m,\u001b[49m\u001b[43m \u001b[49m\u001b[43mweight\u001b[49m\u001b[43m,\u001b[49m\u001b[43m \u001b[49m\u001b[43mpre_normalize\u001b[49m\u001b[38;5;241;43m=\u001b[39;49m\u001b[38;5;28;43;01mTrue\u001b[39;49;00m\u001b[43m,\u001b[49m\u001b[43m \u001b[49m\u001b[43mpost_normalize\u001b[49m\u001b[38;5;241;43m=\u001b[39;49m\u001b[38;5;28;43;01mTrue\u001b[39;49;00m\u001b[43m,\u001b[49m\u001b[43m \u001b[49m\u001b[43mignore_missing\u001b[49m\u001b[38;5;241;43m=\u001b[39;49m\u001b[38;5;28;43;01mFalse\u001b[39;49;00m\u001b[43m)\u001b[49m\n\u001b[1;32m    843\u001b[0m all_keys \u001b[38;5;241m=\u001b[39m [\n\u001b[1;32m    844\u001b[0m     \u001b[38;5;28mself\u001b[39m\u001b[38;5;241m.\u001b[39mget_index(key) \u001b[38;5;28;01mfor\u001b[39;00m key \u001b[38;5;129;01min\u001b[39;00m keys \u001b[38;5;28;01mif\u001b[39;00m \u001b[38;5;28misinstance\u001b[39m(key, _KEY_TYPES) \u001b[38;5;129;01mand\u001b[39;00m \u001b[38;5;28mself\u001b[39m\u001b[38;5;241m.\u001b[39mhas_index_for(key)\n\u001b[1;32m    845\u001b[0m ]\n\u001b[1;32m    847\u001b[0m \u001b[38;5;28;01mif\u001b[39;00m indexer \u001b[38;5;129;01mis\u001b[39;00m \u001b[38;5;129;01mnot\u001b[39;00m \u001b[38;5;28;01mNone\u001b[39;00m \u001b[38;5;129;01mand\u001b[39;00m \u001b[38;5;28misinstance\u001b[39m(topn, \u001b[38;5;28mint\u001b[39m):\n",
      "File \u001b[0;32m/usr/local/lib/python3.8/dist-packages/gensim/models/keyedvectors.py:519\u001b[0m, in \u001b[0;36mKeyedVectors.get_mean_vector\u001b[0;34m(self, keys, weights, pre_normalize, post_normalize, ignore_missing)\u001b[0m\n\u001b[1;32m    517\u001b[0m         total_weight \u001b[38;5;241m+\u001b[39m\u001b[38;5;241m=\u001b[39m \u001b[38;5;28mabs\u001b[39m(weights[idx])\n\u001b[1;32m    518\u001b[0m     \u001b[38;5;28;01melif\u001b[39;00m \u001b[38;5;129;01mnot\u001b[39;00m ignore_missing:\n\u001b[0;32m--> 519\u001b[0m         \u001b[38;5;28;01mraise\u001b[39;00m \u001b[38;5;167;01mKeyError\u001b[39;00m(\u001b[38;5;124mf\u001b[39m\u001b[38;5;124m\"\u001b[39m\u001b[38;5;124mKey \u001b[39m\u001b[38;5;124m'\u001b[39m\u001b[38;5;132;01m{\u001b[39;00mkey\u001b[38;5;132;01m}\u001b[39;00m\u001b[38;5;124m'\u001b[39m\u001b[38;5;124m not present in vocabulary\u001b[39m\u001b[38;5;124m\"\u001b[39m)\n\u001b[1;32m    521\u001b[0m \u001b[38;5;28;01mif\u001b[39;00m(total_weight \u001b[38;5;241m>\u001b[39m \u001b[38;5;241m0\u001b[39m):\n\u001b[1;32m    522\u001b[0m     mean \u001b[38;5;241m=\u001b[39m mean \u001b[38;5;241m/\u001b[39m total_weight\n",
      "\u001b[0;31mKeyError\u001b[0m: \"Key 'covid_19' not present in vocabulary\""
     ]
    }
   ],
   "source": [
    "muhammed_word2vec_model.wv.most_similar('covid_19')"
   ]
  },
  {
   "cell_type": "code",
   "execution_count": 53,
   "id": "26058ac2",
   "metadata": {},
   "outputs": [
    {
     "data": {
      "text/plain": [
       "[('ترامب', 0.8898261189460754),\n",
       " ('ترمب', 0.8642411231994629),\n",
       " ('نتنياهو', 0.849520206451416),\n",
       " ('بوتين', 0.8475865721702576),\n",
       " ('اردوغان', 0.8198335766792297),\n",
       " ('الاميركي', 0.8120449781417847),\n",
       " ('ماكرون', 0.8070845007896423),\n",
       " ('بايدن،', 0.8035918474197388),\n",
       " ('الكونغرس', 0.79802006483078),\n",
       " ('واشنطن', 0.7959909439086914)]"
      ]
     },
     "execution_count": 53,
     "metadata": {},
     "output_type": "execute_result"
    }
   ],
   "source": [
    "our_word2vec_model.wv.most_similar('بايدن')"
   ]
  },
  {
   "cell_type": "code",
   "execution_count": 54,
   "id": "c7fd1233",
   "metadata": {},
   "outputs": [
    {
     "data": {
      "text/plain": [
       "[('نائب_الرئيس_الاميركي', 0.6508957743644714),\n",
       " ('فيسترفيلله', 0.6415755152702332),\n",
       " ('اوباما', 0.6287881135940552),\n",
       " ('بارزاني', 0.6216580271720886),\n",
       " ('سولانا', 0.6143020391464233),\n",
       " ('شتاينماير', 0.6121611595153809),\n",
       " ('كلينتون', 0.6094216704368591),\n",
       " ('بسالفا', 0.6073554754257202),\n",
       " ('الرئيس_الاميركي', 0.6065713763237),\n",
       " ('كرزاي', 0.6018709540367126)]"
      ]
     },
     "execution_count": 54,
     "metadata": {},
     "output_type": "execute_result"
    }
   ],
   "source": [
    "bakr_word2vec_model.wv.most_similar('بايدن')"
   ]
  },
  {
   "cell_type": "code",
   "execution_count": 55,
   "id": "fa856adc",
   "metadata": {},
   "outputs": [
    {
     "ename": "KeyError",
     "evalue": "\"Key 'بايدن' not present in vocabulary\"",
     "output_type": "error",
     "traceback": [
      "\u001b[0;31m---------------------------------------------------------------------------\u001b[0m",
      "\u001b[0;31mKeyError\u001b[0m                                  Traceback (most recent call last)",
      "Input \u001b[0;32mIn [55]\u001b[0m, in \u001b[0;36m<cell line: 1>\u001b[0;34m()\u001b[0m\n\u001b[0;32m----> 1\u001b[0m \u001b[43mmuhammed_word2vec_model\u001b[49m\u001b[38;5;241;43m.\u001b[39;49m\u001b[43mwv\u001b[49m\u001b[38;5;241;43m.\u001b[39;49m\u001b[43mmost_similar\u001b[49m\u001b[43m(\u001b[49m\u001b[38;5;124;43m'\u001b[39;49m\u001b[38;5;124;43mبايدن\u001b[39;49m\u001b[38;5;124;43m'\u001b[39;49m\u001b[43m)\u001b[49m\n",
      "File \u001b[0;32m/usr/local/lib/python3.8/dist-packages/gensim/models/keyedvectors.py:842\u001b[0m, in \u001b[0;36mKeyedVectors.most_similar\u001b[0;34m(self, positive, negative, topn, clip_start, clip_end, restrict_vocab, indexer)\u001b[0m\n\u001b[1;32m    839\u001b[0m         weight[idx] \u001b[38;5;241m=\u001b[39m item[\u001b[38;5;241m1\u001b[39m]\n\u001b[1;32m    841\u001b[0m \u001b[38;5;66;03m# compute the weighted average of all keys\u001b[39;00m\n\u001b[0;32m--> 842\u001b[0m mean \u001b[38;5;241m=\u001b[39m \u001b[38;5;28;43mself\u001b[39;49m\u001b[38;5;241;43m.\u001b[39;49m\u001b[43mget_mean_vector\u001b[49m\u001b[43m(\u001b[49m\u001b[43mkeys\u001b[49m\u001b[43m,\u001b[49m\u001b[43m \u001b[49m\u001b[43mweight\u001b[49m\u001b[43m,\u001b[49m\u001b[43m \u001b[49m\u001b[43mpre_normalize\u001b[49m\u001b[38;5;241;43m=\u001b[39;49m\u001b[38;5;28;43;01mTrue\u001b[39;49;00m\u001b[43m,\u001b[49m\u001b[43m \u001b[49m\u001b[43mpost_normalize\u001b[49m\u001b[38;5;241;43m=\u001b[39;49m\u001b[38;5;28;43;01mTrue\u001b[39;49;00m\u001b[43m,\u001b[49m\u001b[43m \u001b[49m\u001b[43mignore_missing\u001b[49m\u001b[38;5;241;43m=\u001b[39;49m\u001b[38;5;28;43;01mFalse\u001b[39;49;00m\u001b[43m)\u001b[49m\n\u001b[1;32m    843\u001b[0m all_keys \u001b[38;5;241m=\u001b[39m [\n\u001b[1;32m    844\u001b[0m     \u001b[38;5;28mself\u001b[39m\u001b[38;5;241m.\u001b[39mget_index(key) \u001b[38;5;28;01mfor\u001b[39;00m key \u001b[38;5;129;01min\u001b[39;00m keys \u001b[38;5;28;01mif\u001b[39;00m \u001b[38;5;28misinstance\u001b[39m(key, _KEY_TYPES) \u001b[38;5;129;01mand\u001b[39;00m \u001b[38;5;28mself\u001b[39m\u001b[38;5;241m.\u001b[39mhas_index_for(key)\n\u001b[1;32m    845\u001b[0m ]\n\u001b[1;32m    847\u001b[0m \u001b[38;5;28;01mif\u001b[39;00m indexer \u001b[38;5;129;01mis\u001b[39;00m \u001b[38;5;129;01mnot\u001b[39;00m \u001b[38;5;28;01mNone\u001b[39;00m \u001b[38;5;129;01mand\u001b[39;00m \u001b[38;5;28misinstance\u001b[39m(topn, \u001b[38;5;28mint\u001b[39m):\n",
      "File \u001b[0;32m/usr/local/lib/python3.8/dist-packages/gensim/models/keyedvectors.py:519\u001b[0m, in \u001b[0;36mKeyedVectors.get_mean_vector\u001b[0;34m(self, keys, weights, pre_normalize, post_normalize, ignore_missing)\u001b[0m\n\u001b[1;32m    517\u001b[0m         total_weight \u001b[38;5;241m+\u001b[39m\u001b[38;5;241m=\u001b[39m \u001b[38;5;28mabs\u001b[39m(weights[idx])\n\u001b[1;32m    518\u001b[0m     \u001b[38;5;28;01melif\u001b[39;00m \u001b[38;5;129;01mnot\u001b[39;00m ignore_missing:\n\u001b[0;32m--> 519\u001b[0m         \u001b[38;5;28;01mraise\u001b[39;00m \u001b[38;5;167;01mKeyError\u001b[39;00m(\u001b[38;5;124mf\u001b[39m\u001b[38;5;124m\"\u001b[39m\u001b[38;5;124mKey \u001b[39m\u001b[38;5;124m'\u001b[39m\u001b[38;5;132;01m{\u001b[39;00mkey\u001b[38;5;132;01m}\u001b[39;00m\u001b[38;5;124m'\u001b[39m\u001b[38;5;124m not present in vocabulary\u001b[39m\u001b[38;5;124m\"\u001b[39m)\n\u001b[1;32m    521\u001b[0m \u001b[38;5;28;01mif\u001b[39;00m(total_weight \u001b[38;5;241m>\u001b[39m \u001b[38;5;241m0\u001b[39m):\n\u001b[1;32m    522\u001b[0m     mean \u001b[38;5;241m=\u001b[39m mean \u001b[38;5;241m/\u001b[39m total_weight\n",
      "\u001b[0;31mKeyError\u001b[0m: \"Key 'بايدن' not present in vocabulary\""
     ]
    }
   ],
   "source": [
    "muhammed_word2vec_model.wv.most_similar('بايدن')"
   ]
  },
  {
   "cell_type": "code",
   "execution_count": 56,
   "id": "39147bdc",
   "metadata": {},
   "outputs": [
    {
     "data": {
      "text/plain": [
       "[('من_اهل_العلم', 0.5882464647293091),\n",
       " ('في_الحديث_الصحيح', 0.5836180448532104),\n",
       " ('رضي_الله_عنه،', 0.5819680094718933),\n",
       " ('من_رسول_الله', 0.5724356770515442),\n",
       " ('رضي_الله_عنهم', 0.5712218880653381),\n",
       " ('قال_:_(', 0.5698107481002808),\n",
       " ('النبي_صلي_الله', 0.5636171698570251),\n",
       " ('رسول_الله_صلي', 0.563256025314331),\n",
       " ('كما_جاء_في', 0.5609081983566284),\n",
       " ('عبد_الله_بن', 0.560250461101532)]"
      ]
     },
     "execution_count": 56,
     "metadata": {},
     "output_type": "execute_result"
    }
   ],
   "source": [
    "our_word2vec_model.wv.most_similar('في_صحيح_البخاري')"
   ]
  },
  {
   "cell_type": "code",
   "execution_count": 57,
   "id": "61a84b70",
   "metadata": {},
   "outputs": [
    {
     "ename": "KeyError",
     "evalue": "\"Key 'في_صحيح_البخاري' not present in vocabulary\"",
     "output_type": "error",
     "traceback": [
      "\u001b[0;31m---------------------------------------------------------------------------\u001b[0m",
      "\u001b[0;31mKeyError\u001b[0m                                  Traceback (most recent call last)",
      "Input \u001b[0;32mIn [57]\u001b[0m, in \u001b[0;36m<cell line: 1>\u001b[0;34m()\u001b[0m\n\u001b[0;32m----> 1\u001b[0m \u001b[43mbakr_word2vec_model\u001b[49m\u001b[38;5;241;43m.\u001b[39;49m\u001b[43mwv\u001b[49m\u001b[38;5;241;43m.\u001b[39;49m\u001b[43mmost_similar\u001b[49m\u001b[43m(\u001b[49m\u001b[38;5;124;43m'\u001b[39;49m\u001b[38;5;124;43mفي_صحيح_البخاري\u001b[39;49m\u001b[38;5;124;43m'\u001b[39;49m\u001b[43m)\u001b[49m\n",
      "File \u001b[0;32m/usr/local/lib/python3.8/dist-packages/gensim/models/keyedvectors.py:842\u001b[0m, in \u001b[0;36mKeyedVectors.most_similar\u001b[0;34m(self, positive, negative, topn, clip_start, clip_end, restrict_vocab, indexer)\u001b[0m\n\u001b[1;32m    839\u001b[0m         weight[idx] \u001b[38;5;241m=\u001b[39m item[\u001b[38;5;241m1\u001b[39m]\n\u001b[1;32m    841\u001b[0m \u001b[38;5;66;03m# compute the weighted average of all keys\u001b[39;00m\n\u001b[0;32m--> 842\u001b[0m mean \u001b[38;5;241m=\u001b[39m \u001b[38;5;28;43mself\u001b[39;49m\u001b[38;5;241;43m.\u001b[39;49m\u001b[43mget_mean_vector\u001b[49m\u001b[43m(\u001b[49m\u001b[43mkeys\u001b[49m\u001b[43m,\u001b[49m\u001b[43m \u001b[49m\u001b[43mweight\u001b[49m\u001b[43m,\u001b[49m\u001b[43m \u001b[49m\u001b[43mpre_normalize\u001b[49m\u001b[38;5;241;43m=\u001b[39;49m\u001b[38;5;28;43;01mTrue\u001b[39;49;00m\u001b[43m,\u001b[49m\u001b[43m \u001b[49m\u001b[43mpost_normalize\u001b[49m\u001b[38;5;241;43m=\u001b[39;49m\u001b[38;5;28;43;01mTrue\u001b[39;49;00m\u001b[43m,\u001b[49m\u001b[43m \u001b[49m\u001b[43mignore_missing\u001b[49m\u001b[38;5;241;43m=\u001b[39;49m\u001b[38;5;28;43;01mFalse\u001b[39;49;00m\u001b[43m)\u001b[49m\n\u001b[1;32m    843\u001b[0m all_keys \u001b[38;5;241m=\u001b[39m [\n\u001b[1;32m    844\u001b[0m     \u001b[38;5;28mself\u001b[39m\u001b[38;5;241m.\u001b[39mget_index(key) \u001b[38;5;28;01mfor\u001b[39;00m key \u001b[38;5;129;01min\u001b[39;00m keys \u001b[38;5;28;01mif\u001b[39;00m \u001b[38;5;28misinstance\u001b[39m(key, _KEY_TYPES) \u001b[38;5;129;01mand\u001b[39;00m \u001b[38;5;28mself\u001b[39m\u001b[38;5;241m.\u001b[39mhas_index_for(key)\n\u001b[1;32m    845\u001b[0m ]\n\u001b[1;32m    847\u001b[0m \u001b[38;5;28;01mif\u001b[39;00m indexer \u001b[38;5;129;01mis\u001b[39;00m \u001b[38;5;129;01mnot\u001b[39;00m \u001b[38;5;28;01mNone\u001b[39;00m \u001b[38;5;129;01mand\u001b[39;00m \u001b[38;5;28misinstance\u001b[39m(topn, \u001b[38;5;28mint\u001b[39m):\n",
      "File \u001b[0;32m/usr/local/lib/python3.8/dist-packages/gensim/models/keyedvectors.py:519\u001b[0m, in \u001b[0;36mKeyedVectors.get_mean_vector\u001b[0;34m(self, keys, weights, pre_normalize, post_normalize, ignore_missing)\u001b[0m\n\u001b[1;32m    517\u001b[0m         total_weight \u001b[38;5;241m+\u001b[39m\u001b[38;5;241m=\u001b[39m \u001b[38;5;28mabs\u001b[39m(weights[idx])\n\u001b[1;32m    518\u001b[0m     \u001b[38;5;28;01melif\u001b[39;00m \u001b[38;5;129;01mnot\u001b[39;00m ignore_missing:\n\u001b[0;32m--> 519\u001b[0m         \u001b[38;5;28;01mraise\u001b[39;00m \u001b[38;5;167;01mKeyError\u001b[39;00m(\u001b[38;5;124mf\u001b[39m\u001b[38;5;124m\"\u001b[39m\u001b[38;5;124mKey \u001b[39m\u001b[38;5;124m'\u001b[39m\u001b[38;5;132;01m{\u001b[39;00mkey\u001b[38;5;132;01m}\u001b[39;00m\u001b[38;5;124m'\u001b[39m\u001b[38;5;124m not present in vocabulary\u001b[39m\u001b[38;5;124m\"\u001b[39m)\n\u001b[1;32m    521\u001b[0m \u001b[38;5;28;01mif\u001b[39;00m(total_weight \u001b[38;5;241m>\u001b[39m \u001b[38;5;241m0\u001b[39m):\n\u001b[1;32m    522\u001b[0m     mean \u001b[38;5;241m=\u001b[39m mean \u001b[38;5;241m/\u001b[39m total_weight\n",
      "\u001b[0;31mKeyError\u001b[0m: \"Key 'في_صحيح_البخاري' not present in vocabulary\""
     ]
    }
   ],
   "source": [
    "bakr_word2vec_model.wv.most_similar('في_صحيح_البخاري')"
   ]
  },
  {
   "cell_type": "code",
   "execution_count": 58,
   "id": "76cb4bf1",
   "metadata": {},
   "outputs": [
    {
     "ename": "KeyError",
     "evalue": "\"Key 'في_صحيح_البخاري' not present in vocabulary\"",
     "output_type": "error",
     "traceback": [
      "\u001b[0;31m---------------------------------------------------------------------------\u001b[0m",
      "\u001b[0;31mKeyError\u001b[0m                                  Traceback (most recent call last)",
      "Input \u001b[0;32mIn [58]\u001b[0m, in \u001b[0;36m<cell line: 1>\u001b[0;34m()\u001b[0m\n\u001b[0;32m----> 1\u001b[0m \u001b[43mmuhammed_word2vec_model\u001b[49m\u001b[38;5;241;43m.\u001b[39;49m\u001b[43mwv\u001b[49m\u001b[38;5;241;43m.\u001b[39;49m\u001b[43mmost_similar\u001b[49m\u001b[43m(\u001b[49m\u001b[38;5;124;43m'\u001b[39;49m\u001b[38;5;124;43mفي_صحيح_البخاري\u001b[39;49m\u001b[38;5;124;43m'\u001b[39;49m\u001b[43m)\u001b[49m\n",
      "File \u001b[0;32m/usr/local/lib/python3.8/dist-packages/gensim/models/keyedvectors.py:842\u001b[0m, in \u001b[0;36mKeyedVectors.most_similar\u001b[0;34m(self, positive, negative, topn, clip_start, clip_end, restrict_vocab, indexer)\u001b[0m\n\u001b[1;32m    839\u001b[0m         weight[idx] \u001b[38;5;241m=\u001b[39m item[\u001b[38;5;241m1\u001b[39m]\n\u001b[1;32m    841\u001b[0m \u001b[38;5;66;03m# compute the weighted average of all keys\u001b[39;00m\n\u001b[0;32m--> 842\u001b[0m mean \u001b[38;5;241m=\u001b[39m \u001b[38;5;28;43mself\u001b[39;49m\u001b[38;5;241;43m.\u001b[39;49m\u001b[43mget_mean_vector\u001b[49m\u001b[43m(\u001b[49m\u001b[43mkeys\u001b[49m\u001b[43m,\u001b[49m\u001b[43m \u001b[49m\u001b[43mweight\u001b[49m\u001b[43m,\u001b[49m\u001b[43m \u001b[49m\u001b[43mpre_normalize\u001b[49m\u001b[38;5;241;43m=\u001b[39;49m\u001b[38;5;28;43;01mTrue\u001b[39;49;00m\u001b[43m,\u001b[49m\u001b[43m \u001b[49m\u001b[43mpost_normalize\u001b[49m\u001b[38;5;241;43m=\u001b[39;49m\u001b[38;5;28;43;01mTrue\u001b[39;49;00m\u001b[43m,\u001b[49m\u001b[43m \u001b[49m\u001b[43mignore_missing\u001b[49m\u001b[38;5;241;43m=\u001b[39;49m\u001b[38;5;28;43;01mFalse\u001b[39;49;00m\u001b[43m)\u001b[49m\n\u001b[1;32m    843\u001b[0m all_keys \u001b[38;5;241m=\u001b[39m [\n\u001b[1;32m    844\u001b[0m     \u001b[38;5;28mself\u001b[39m\u001b[38;5;241m.\u001b[39mget_index(key) \u001b[38;5;28;01mfor\u001b[39;00m key \u001b[38;5;129;01min\u001b[39;00m keys \u001b[38;5;28;01mif\u001b[39;00m \u001b[38;5;28misinstance\u001b[39m(key, _KEY_TYPES) \u001b[38;5;129;01mand\u001b[39;00m \u001b[38;5;28mself\u001b[39m\u001b[38;5;241m.\u001b[39mhas_index_for(key)\n\u001b[1;32m    845\u001b[0m ]\n\u001b[1;32m    847\u001b[0m \u001b[38;5;28;01mif\u001b[39;00m indexer \u001b[38;5;129;01mis\u001b[39;00m \u001b[38;5;129;01mnot\u001b[39;00m \u001b[38;5;28;01mNone\u001b[39;00m \u001b[38;5;129;01mand\u001b[39;00m \u001b[38;5;28misinstance\u001b[39m(topn, \u001b[38;5;28mint\u001b[39m):\n",
      "File \u001b[0;32m/usr/local/lib/python3.8/dist-packages/gensim/models/keyedvectors.py:519\u001b[0m, in \u001b[0;36mKeyedVectors.get_mean_vector\u001b[0;34m(self, keys, weights, pre_normalize, post_normalize, ignore_missing)\u001b[0m\n\u001b[1;32m    517\u001b[0m         total_weight \u001b[38;5;241m+\u001b[39m\u001b[38;5;241m=\u001b[39m \u001b[38;5;28mabs\u001b[39m(weights[idx])\n\u001b[1;32m    518\u001b[0m     \u001b[38;5;28;01melif\u001b[39;00m \u001b[38;5;129;01mnot\u001b[39;00m ignore_missing:\n\u001b[0;32m--> 519\u001b[0m         \u001b[38;5;28;01mraise\u001b[39;00m \u001b[38;5;167;01mKeyError\u001b[39;00m(\u001b[38;5;124mf\u001b[39m\u001b[38;5;124m\"\u001b[39m\u001b[38;5;124mKey \u001b[39m\u001b[38;5;124m'\u001b[39m\u001b[38;5;132;01m{\u001b[39;00mkey\u001b[38;5;132;01m}\u001b[39;00m\u001b[38;5;124m'\u001b[39m\u001b[38;5;124m not present in vocabulary\u001b[39m\u001b[38;5;124m\"\u001b[39m)\n\u001b[1;32m    521\u001b[0m \u001b[38;5;28;01mif\u001b[39;00m(total_weight \u001b[38;5;241m>\u001b[39m \u001b[38;5;241m0\u001b[39m):\n\u001b[1;32m    522\u001b[0m     mean \u001b[38;5;241m=\u001b[39m mean \u001b[38;5;241m/\u001b[39m total_weight\n",
      "\u001b[0;31mKeyError\u001b[0m: \"Key 'في_صحيح_البخاري' not present in vocabulary\""
     ]
    }
   ],
   "source": [
    "muhammed_word2vec_model.wv.most_similar('في_صحيح_البخاري')"
   ]
  },
  {
   "cell_type": "code",
   "execution_count": 59,
   "id": "e54cb149",
   "metadata": {},
   "outputs": [
    {
     "data": {
      "text/plain": [
       "[('الله_يوم_القيامه', 0.6776920557022095),\n",
       " ('يوم_القيامه_و', 0.6676861047744751),\n",
       " ('يوم_القيامه_.', 0.6396552324295044),\n",
       " ('يوم_القيامه_رابطويب', 0.6324991583824158),\n",
       " ('يوم_القيامه_#', 0.6315894722938538),\n",
       " ('القيامه_._.', 0.6287968754768372),\n",
       " ('يوم_القيامه_،', 0.6215853691101074),\n",
       " ('حتي_يوم_القيامه', 0.6007744669914246),\n",
       " ('له_يوم_القيامه', 0.5959672927856445),\n",
       " ('ص_)_:', 0.5819828510284424)]"
      ]
     },
     "execution_count": 59,
     "metadata": {},
     "output_type": "execute_result"
    }
   ],
   "source": [
    "our_word2vec_model.wv.most_similar('الي_يوم_القيامه')"
   ]
  },
  {
   "cell_type": "code",
   "execution_count": 60,
   "id": "efce325a",
   "metadata": {},
   "outputs": [
    {
     "ename": "KeyError",
     "evalue": "\"Key 'الي_يوم_القيامه' not present in vocabulary\"",
     "output_type": "error",
     "traceback": [
      "\u001b[0;31m---------------------------------------------------------------------------\u001b[0m",
      "\u001b[0;31mKeyError\u001b[0m                                  Traceback (most recent call last)",
      "Input \u001b[0;32mIn [60]\u001b[0m, in \u001b[0;36m<cell line: 1>\u001b[0;34m()\u001b[0m\n\u001b[0;32m----> 1\u001b[0m \u001b[43mbakr_word2vec_model\u001b[49m\u001b[38;5;241;43m.\u001b[39;49m\u001b[43mwv\u001b[49m\u001b[38;5;241;43m.\u001b[39;49m\u001b[43mmost_similar\u001b[49m\u001b[43m(\u001b[49m\u001b[38;5;124;43m'\u001b[39;49m\u001b[38;5;124;43mالي_يوم_القيامه\u001b[39;49m\u001b[38;5;124;43m'\u001b[39;49m\u001b[43m)\u001b[49m\n",
      "File \u001b[0;32m/usr/local/lib/python3.8/dist-packages/gensim/models/keyedvectors.py:842\u001b[0m, in \u001b[0;36mKeyedVectors.most_similar\u001b[0;34m(self, positive, negative, topn, clip_start, clip_end, restrict_vocab, indexer)\u001b[0m\n\u001b[1;32m    839\u001b[0m         weight[idx] \u001b[38;5;241m=\u001b[39m item[\u001b[38;5;241m1\u001b[39m]\n\u001b[1;32m    841\u001b[0m \u001b[38;5;66;03m# compute the weighted average of all keys\u001b[39;00m\n\u001b[0;32m--> 842\u001b[0m mean \u001b[38;5;241m=\u001b[39m \u001b[38;5;28;43mself\u001b[39;49m\u001b[38;5;241;43m.\u001b[39;49m\u001b[43mget_mean_vector\u001b[49m\u001b[43m(\u001b[49m\u001b[43mkeys\u001b[49m\u001b[43m,\u001b[49m\u001b[43m \u001b[49m\u001b[43mweight\u001b[49m\u001b[43m,\u001b[49m\u001b[43m \u001b[49m\u001b[43mpre_normalize\u001b[49m\u001b[38;5;241;43m=\u001b[39;49m\u001b[38;5;28;43;01mTrue\u001b[39;49;00m\u001b[43m,\u001b[49m\u001b[43m \u001b[49m\u001b[43mpost_normalize\u001b[49m\u001b[38;5;241;43m=\u001b[39;49m\u001b[38;5;28;43;01mTrue\u001b[39;49;00m\u001b[43m,\u001b[49m\u001b[43m \u001b[49m\u001b[43mignore_missing\u001b[49m\u001b[38;5;241;43m=\u001b[39;49m\u001b[38;5;28;43;01mFalse\u001b[39;49;00m\u001b[43m)\u001b[49m\n\u001b[1;32m    843\u001b[0m all_keys \u001b[38;5;241m=\u001b[39m [\n\u001b[1;32m    844\u001b[0m     \u001b[38;5;28mself\u001b[39m\u001b[38;5;241m.\u001b[39mget_index(key) \u001b[38;5;28;01mfor\u001b[39;00m key \u001b[38;5;129;01min\u001b[39;00m keys \u001b[38;5;28;01mif\u001b[39;00m \u001b[38;5;28misinstance\u001b[39m(key, _KEY_TYPES) \u001b[38;5;129;01mand\u001b[39;00m \u001b[38;5;28mself\u001b[39m\u001b[38;5;241m.\u001b[39mhas_index_for(key)\n\u001b[1;32m    845\u001b[0m ]\n\u001b[1;32m    847\u001b[0m \u001b[38;5;28;01mif\u001b[39;00m indexer \u001b[38;5;129;01mis\u001b[39;00m \u001b[38;5;129;01mnot\u001b[39;00m \u001b[38;5;28;01mNone\u001b[39;00m \u001b[38;5;129;01mand\u001b[39;00m \u001b[38;5;28misinstance\u001b[39m(topn, \u001b[38;5;28mint\u001b[39m):\n",
      "File \u001b[0;32m/usr/local/lib/python3.8/dist-packages/gensim/models/keyedvectors.py:519\u001b[0m, in \u001b[0;36mKeyedVectors.get_mean_vector\u001b[0;34m(self, keys, weights, pre_normalize, post_normalize, ignore_missing)\u001b[0m\n\u001b[1;32m    517\u001b[0m         total_weight \u001b[38;5;241m+\u001b[39m\u001b[38;5;241m=\u001b[39m \u001b[38;5;28mabs\u001b[39m(weights[idx])\n\u001b[1;32m    518\u001b[0m     \u001b[38;5;28;01melif\u001b[39;00m \u001b[38;5;129;01mnot\u001b[39;00m ignore_missing:\n\u001b[0;32m--> 519\u001b[0m         \u001b[38;5;28;01mraise\u001b[39;00m \u001b[38;5;167;01mKeyError\u001b[39;00m(\u001b[38;5;124mf\u001b[39m\u001b[38;5;124m\"\u001b[39m\u001b[38;5;124mKey \u001b[39m\u001b[38;5;124m'\u001b[39m\u001b[38;5;132;01m{\u001b[39;00mkey\u001b[38;5;132;01m}\u001b[39;00m\u001b[38;5;124m'\u001b[39m\u001b[38;5;124m not present in vocabulary\u001b[39m\u001b[38;5;124m\"\u001b[39m)\n\u001b[1;32m    521\u001b[0m \u001b[38;5;28;01mif\u001b[39;00m(total_weight \u001b[38;5;241m>\u001b[39m \u001b[38;5;241m0\u001b[39m):\n\u001b[1;32m    522\u001b[0m     mean \u001b[38;5;241m=\u001b[39m mean \u001b[38;5;241m/\u001b[39m total_weight\n",
      "\u001b[0;31mKeyError\u001b[0m: \"Key 'الي_يوم_القيامه' not present in vocabulary\""
     ]
    }
   ],
   "source": [
    "bakr_word2vec_model.wv.most_similar('الي_يوم_القيامه')"
   ]
  },
  {
   "cell_type": "code",
   "execution_count": null,
   "id": "d729e757",
   "metadata": {},
   "outputs": [],
   "source": [
    "muhammed_word2vec_model.wv.most_similar('الي_يوم_القيامه')"
   ]
  },
  {
   "cell_type": "code",
   "execution_count": null,
   "id": "a307eeff",
   "metadata": {},
   "outputs": [],
   "source": [
    "our_word2vec_model.wv.most_similar('اليهود_الصهاينه')"
   ]
  },
  {
   "cell_type": "code",
   "execution_count": null,
   "id": "ff516b2b",
   "metadata": {},
   "outputs": [],
   "source": [
    "bakr_word2vec_model.wv.most_similar('اليهود_الصهاينه')"
   ]
  },
  {
   "cell_type": "code",
   "execution_count": 61,
   "id": "801d7767",
   "metadata": {},
   "outputs": [
    {
     "ename": "KeyError",
     "evalue": "\"Key 'اليهود_الصهاينه' not present in vocabulary\"",
     "output_type": "error",
     "traceback": [
      "\u001b[0;31m---------------------------------------------------------------------------\u001b[0m",
      "\u001b[0;31mKeyError\u001b[0m                                  Traceback (most recent call last)",
      "Input \u001b[0;32mIn [61]\u001b[0m, in \u001b[0;36m<cell line: 1>\u001b[0;34m()\u001b[0m\n\u001b[0;32m----> 1\u001b[0m \u001b[43mmuhammed_word2vec_model\u001b[49m\u001b[38;5;241;43m.\u001b[39;49m\u001b[43mwv\u001b[49m\u001b[38;5;241;43m.\u001b[39;49m\u001b[43mmost_similar\u001b[49m\u001b[43m(\u001b[49m\u001b[38;5;124;43m'\u001b[39;49m\u001b[38;5;124;43mاليهود_الصهاينه\u001b[39;49m\u001b[38;5;124;43m'\u001b[39;49m\u001b[43m)\u001b[49m\n",
      "File \u001b[0;32m/usr/local/lib/python3.8/dist-packages/gensim/models/keyedvectors.py:842\u001b[0m, in \u001b[0;36mKeyedVectors.most_similar\u001b[0;34m(self, positive, negative, topn, clip_start, clip_end, restrict_vocab, indexer)\u001b[0m\n\u001b[1;32m    839\u001b[0m         weight[idx] \u001b[38;5;241m=\u001b[39m item[\u001b[38;5;241m1\u001b[39m]\n\u001b[1;32m    841\u001b[0m \u001b[38;5;66;03m# compute the weighted average of all keys\u001b[39;00m\n\u001b[0;32m--> 842\u001b[0m mean \u001b[38;5;241m=\u001b[39m \u001b[38;5;28;43mself\u001b[39;49m\u001b[38;5;241;43m.\u001b[39;49m\u001b[43mget_mean_vector\u001b[49m\u001b[43m(\u001b[49m\u001b[43mkeys\u001b[49m\u001b[43m,\u001b[49m\u001b[43m \u001b[49m\u001b[43mweight\u001b[49m\u001b[43m,\u001b[49m\u001b[43m \u001b[49m\u001b[43mpre_normalize\u001b[49m\u001b[38;5;241;43m=\u001b[39;49m\u001b[38;5;28;43;01mTrue\u001b[39;49;00m\u001b[43m,\u001b[49m\u001b[43m \u001b[49m\u001b[43mpost_normalize\u001b[49m\u001b[38;5;241;43m=\u001b[39;49m\u001b[38;5;28;43;01mTrue\u001b[39;49;00m\u001b[43m,\u001b[49m\u001b[43m \u001b[49m\u001b[43mignore_missing\u001b[49m\u001b[38;5;241;43m=\u001b[39;49m\u001b[38;5;28;43;01mFalse\u001b[39;49;00m\u001b[43m)\u001b[49m\n\u001b[1;32m    843\u001b[0m all_keys \u001b[38;5;241m=\u001b[39m [\n\u001b[1;32m    844\u001b[0m     \u001b[38;5;28mself\u001b[39m\u001b[38;5;241m.\u001b[39mget_index(key) \u001b[38;5;28;01mfor\u001b[39;00m key \u001b[38;5;129;01min\u001b[39;00m keys \u001b[38;5;28;01mif\u001b[39;00m \u001b[38;5;28misinstance\u001b[39m(key, _KEY_TYPES) \u001b[38;5;129;01mand\u001b[39;00m \u001b[38;5;28mself\u001b[39m\u001b[38;5;241m.\u001b[39mhas_index_for(key)\n\u001b[1;32m    845\u001b[0m ]\n\u001b[1;32m    847\u001b[0m \u001b[38;5;28;01mif\u001b[39;00m indexer \u001b[38;5;129;01mis\u001b[39;00m \u001b[38;5;129;01mnot\u001b[39;00m \u001b[38;5;28;01mNone\u001b[39;00m \u001b[38;5;129;01mand\u001b[39;00m \u001b[38;5;28misinstance\u001b[39m(topn, \u001b[38;5;28mint\u001b[39m):\n",
      "File \u001b[0;32m/usr/local/lib/python3.8/dist-packages/gensim/models/keyedvectors.py:519\u001b[0m, in \u001b[0;36mKeyedVectors.get_mean_vector\u001b[0;34m(self, keys, weights, pre_normalize, post_normalize, ignore_missing)\u001b[0m\n\u001b[1;32m    517\u001b[0m         total_weight \u001b[38;5;241m+\u001b[39m\u001b[38;5;241m=\u001b[39m \u001b[38;5;28mabs\u001b[39m(weights[idx])\n\u001b[1;32m    518\u001b[0m     \u001b[38;5;28;01melif\u001b[39;00m \u001b[38;5;129;01mnot\u001b[39;00m ignore_missing:\n\u001b[0;32m--> 519\u001b[0m         \u001b[38;5;28;01mraise\u001b[39;00m \u001b[38;5;167;01mKeyError\u001b[39;00m(\u001b[38;5;124mf\u001b[39m\u001b[38;5;124m\"\u001b[39m\u001b[38;5;124mKey \u001b[39m\u001b[38;5;124m'\u001b[39m\u001b[38;5;132;01m{\u001b[39;00mkey\u001b[38;5;132;01m}\u001b[39;00m\u001b[38;5;124m'\u001b[39m\u001b[38;5;124m not present in vocabulary\u001b[39m\u001b[38;5;124m\"\u001b[39m)\n\u001b[1;32m    521\u001b[0m \u001b[38;5;28;01mif\u001b[39;00m(total_weight \u001b[38;5;241m>\u001b[39m \u001b[38;5;241m0\u001b[39m):\n\u001b[1;32m    522\u001b[0m     mean \u001b[38;5;241m=\u001b[39m mean \u001b[38;5;241m/\u001b[39m total_weight\n",
      "\u001b[0;31mKeyError\u001b[0m: \"Key 'اليهود_الصهاينه' not present in vocabulary\""
     ]
    }
   ],
   "source": [
    "muhammed_word2vec_model.wv.most_similar('اليهود_الصهاينه')"
   ]
  },
  {
   "cell_type": "code",
   "execution_count": 62,
   "id": "29ea4932",
   "metadata": {},
   "outputs": [
    {
     "data": {
      "text/plain": [
       "[('ابن_خلدون', 0.5176362991333008),\n",
       " ('يوسف_بن', 0.5077011585235596),\n",
       " ('نسبه_الي', 0.5056132078170776),\n",
       " ('بن_نصير', 0.5010973215103149),\n",
       " ('بن_زياد', 0.4948781430721283),\n",
       " ('بن_سليمان', 0.4913366138935089),\n",
       " ('بن_عيسي', 0.48702308535575867),\n",
       " ('بن_مسلم', 0.4860471487045288),\n",
       " ('في_عهد', 0.4858626425266266),\n",
       " ('الحسن_الثاني', 0.48367419838905334)]"
      ]
     },
     "execution_count": 62,
     "metadata": {},
     "output_type": "execute_result"
    }
   ],
   "source": [
    "our_word2vec_model.wv.most_similar('بن_خلدون')"
   ]
  },
  {
   "cell_type": "code",
   "execution_count": 63,
   "id": "6c41f43c",
   "metadata": {},
   "outputs": [
    {
     "ename": "KeyError",
     "evalue": "\"Key 'بن_خلدون' not present in vocabulary\"",
     "output_type": "error",
     "traceback": [
      "\u001b[0;31m---------------------------------------------------------------------------\u001b[0m",
      "\u001b[0;31mKeyError\u001b[0m                                  Traceback (most recent call last)",
      "Input \u001b[0;32mIn [63]\u001b[0m, in \u001b[0;36m<cell line: 1>\u001b[0;34m()\u001b[0m\n\u001b[0;32m----> 1\u001b[0m \u001b[43mbakr_word2vec_model\u001b[49m\u001b[38;5;241;43m.\u001b[39;49m\u001b[43mwv\u001b[49m\u001b[38;5;241;43m.\u001b[39;49m\u001b[43mmost_similar\u001b[49m\u001b[43m(\u001b[49m\u001b[38;5;124;43m'\u001b[39;49m\u001b[38;5;124;43mبن_خلدون\u001b[39;49m\u001b[38;5;124;43m'\u001b[39;49m\u001b[43m)\u001b[49m\n",
      "File \u001b[0;32m/usr/local/lib/python3.8/dist-packages/gensim/models/keyedvectors.py:842\u001b[0m, in \u001b[0;36mKeyedVectors.most_similar\u001b[0;34m(self, positive, negative, topn, clip_start, clip_end, restrict_vocab, indexer)\u001b[0m\n\u001b[1;32m    839\u001b[0m         weight[idx] \u001b[38;5;241m=\u001b[39m item[\u001b[38;5;241m1\u001b[39m]\n\u001b[1;32m    841\u001b[0m \u001b[38;5;66;03m# compute the weighted average of all keys\u001b[39;00m\n\u001b[0;32m--> 842\u001b[0m mean \u001b[38;5;241m=\u001b[39m \u001b[38;5;28;43mself\u001b[39;49m\u001b[38;5;241;43m.\u001b[39;49m\u001b[43mget_mean_vector\u001b[49m\u001b[43m(\u001b[49m\u001b[43mkeys\u001b[49m\u001b[43m,\u001b[49m\u001b[43m \u001b[49m\u001b[43mweight\u001b[49m\u001b[43m,\u001b[49m\u001b[43m \u001b[49m\u001b[43mpre_normalize\u001b[49m\u001b[38;5;241;43m=\u001b[39;49m\u001b[38;5;28;43;01mTrue\u001b[39;49;00m\u001b[43m,\u001b[49m\u001b[43m \u001b[49m\u001b[43mpost_normalize\u001b[49m\u001b[38;5;241;43m=\u001b[39;49m\u001b[38;5;28;43;01mTrue\u001b[39;49;00m\u001b[43m,\u001b[49m\u001b[43m \u001b[49m\u001b[43mignore_missing\u001b[49m\u001b[38;5;241;43m=\u001b[39;49m\u001b[38;5;28;43;01mFalse\u001b[39;49;00m\u001b[43m)\u001b[49m\n\u001b[1;32m    843\u001b[0m all_keys \u001b[38;5;241m=\u001b[39m [\n\u001b[1;32m    844\u001b[0m     \u001b[38;5;28mself\u001b[39m\u001b[38;5;241m.\u001b[39mget_index(key) \u001b[38;5;28;01mfor\u001b[39;00m key \u001b[38;5;129;01min\u001b[39;00m keys \u001b[38;5;28;01mif\u001b[39;00m \u001b[38;5;28misinstance\u001b[39m(key, _KEY_TYPES) \u001b[38;5;129;01mand\u001b[39;00m \u001b[38;5;28mself\u001b[39m\u001b[38;5;241m.\u001b[39mhas_index_for(key)\n\u001b[1;32m    845\u001b[0m ]\n\u001b[1;32m    847\u001b[0m \u001b[38;5;28;01mif\u001b[39;00m indexer \u001b[38;5;129;01mis\u001b[39;00m \u001b[38;5;129;01mnot\u001b[39;00m \u001b[38;5;28;01mNone\u001b[39;00m \u001b[38;5;129;01mand\u001b[39;00m \u001b[38;5;28misinstance\u001b[39m(topn, \u001b[38;5;28mint\u001b[39m):\n",
      "File \u001b[0;32m/usr/local/lib/python3.8/dist-packages/gensim/models/keyedvectors.py:519\u001b[0m, in \u001b[0;36mKeyedVectors.get_mean_vector\u001b[0;34m(self, keys, weights, pre_normalize, post_normalize, ignore_missing)\u001b[0m\n\u001b[1;32m    517\u001b[0m         total_weight \u001b[38;5;241m+\u001b[39m\u001b[38;5;241m=\u001b[39m \u001b[38;5;28mabs\u001b[39m(weights[idx])\n\u001b[1;32m    518\u001b[0m     \u001b[38;5;28;01melif\u001b[39;00m \u001b[38;5;129;01mnot\u001b[39;00m ignore_missing:\n\u001b[0;32m--> 519\u001b[0m         \u001b[38;5;28;01mraise\u001b[39;00m \u001b[38;5;167;01mKeyError\u001b[39;00m(\u001b[38;5;124mf\u001b[39m\u001b[38;5;124m\"\u001b[39m\u001b[38;5;124mKey \u001b[39m\u001b[38;5;124m'\u001b[39m\u001b[38;5;132;01m{\u001b[39;00mkey\u001b[38;5;132;01m}\u001b[39;00m\u001b[38;5;124m'\u001b[39m\u001b[38;5;124m not present in vocabulary\u001b[39m\u001b[38;5;124m\"\u001b[39m)\n\u001b[1;32m    521\u001b[0m \u001b[38;5;28;01mif\u001b[39;00m(total_weight \u001b[38;5;241m>\u001b[39m \u001b[38;5;241m0\u001b[39m):\n\u001b[1;32m    522\u001b[0m     mean \u001b[38;5;241m=\u001b[39m mean \u001b[38;5;241m/\u001b[39m total_weight\n",
      "\u001b[0;31mKeyError\u001b[0m: \"Key 'بن_خلدون' not present in vocabulary\""
     ]
    }
   ],
   "source": [
    "bakr_word2vec_model.wv.most_similar('بن_خلدون')"
   ]
  },
  {
   "cell_type": "code",
   "execution_count": 64,
   "id": "2b07956a",
   "metadata": {},
   "outputs": [
    {
     "ename": "KeyError",
     "evalue": "\"Key 'بن_خلدون' not present in vocabulary\"",
     "output_type": "error",
     "traceback": [
      "\u001b[0;31m---------------------------------------------------------------------------\u001b[0m",
      "\u001b[0;31mKeyError\u001b[0m                                  Traceback (most recent call last)",
      "Input \u001b[0;32mIn [64]\u001b[0m, in \u001b[0;36m<cell line: 1>\u001b[0;34m()\u001b[0m\n\u001b[0;32m----> 1\u001b[0m \u001b[43mmuhammed_word2vec_model\u001b[49m\u001b[38;5;241;43m.\u001b[39;49m\u001b[43mwv\u001b[49m\u001b[38;5;241;43m.\u001b[39;49m\u001b[43mmost_similar\u001b[49m\u001b[43m(\u001b[49m\u001b[38;5;124;43m'\u001b[39;49m\u001b[38;5;124;43mبن_خلدون\u001b[39;49m\u001b[38;5;124;43m'\u001b[39;49m\u001b[43m)\u001b[49m\n",
      "File \u001b[0;32m/usr/local/lib/python3.8/dist-packages/gensim/models/keyedvectors.py:842\u001b[0m, in \u001b[0;36mKeyedVectors.most_similar\u001b[0;34m(self, positive, negative, topn, clip_start, clip_end, restrict_vocab, indexer)\u001b[0m\n\u001b[1;32m    839\u001b[0m         weight[idx] \u001b[38;5;241m=\u001b[39m item[\u001b[38;5;241m1\u001b[39m]\n\u001b[1;32m    841\u001b[0m \u001b[38;5;66;03m# compute the weighted average of all keys\u001b[39;00m\n\u001b[0;32m--> 842\u001b[0m mean \u001b[38;5;241m=\u001b[39m \u001b[38;5;28;43mself\u001b[39;49m\u001b[38;5;241;43m.\u001b[39;49m\u001b[43mget_mean_vector\u001b[49m\u001b[43m(\u001b[49m\u001b[43mkeys\u001b[49m\u001b[43m,\u001b[49m\u001b[43m \u001b[49m\u001b[43mweight\u001b[49m\u001b[43m,\u001b[49m\u001b[43m \u001b[49m\u001b[43mpre_normalize\u001b[49m\u001b[38;5;241;43m=\u001b[39;49m\u001b[38;5;28;43;01mTrue\u001b[39;49;00m\u001b[43m,\u001b[49m\u001b[43m \u001b[49m\u001b[43mpost_normalize\u001b[49m\u001b[38;5;241;43m=\u001b[39;49m\u001b[38;5;28;43;01mTrue\u001b[39;49;00m\u001b[43m,\u001b[49m\u001b[43m \u001b[49m\u001b[43mignore_missing\u001b[49m\u001b[38;5;241;43m=\u001b[39;49m\u001b[38;5;28;43;01mFalse\u001b[39;49;00m\u001b[43m)\u001b[49m\n\u001b[1;32m    843\u001b[0m all_keys \u001b[38;5;241m=\u001b[39m [\n\u001b[1;32m    844\u001b[0m     \u001b[38;5;28mself\u001b[39m\u001b[38;5;241m.\u001b[39mget_index(key) \u001b[38;5;28;01mfor\u001b[39;00m key \u001b[38;5;129;01min\u001b[39;00m keys \u001b[38;5;28;01mif\u001b[39;00m \u001b[38;5;28misinstance\u001b[39m(key, _KEY_TYPES) \u001b[38;5;129;01mand\u001b[39;00m \u001b[38;5;28mself\u001b[39m\u001b[38;5;241m.\u001b[39mhas_index_for(key)\n\u001b[1;32m    845\u001b[0m ]\n\u001b[1;32m    847\u001b[0m \u001b[38;5;28;01mif\u001b[39;00m indexer \u001b[38;5;129;01mis\u001b[39;00m \u001b[38;5;129;01mnot\u001b[39;00m \u001b[38;5;28;01mNone\u001b[39;00m \u001b[38;5;129;01mand\u001b[39;00m \u001b[38;5;28misinstance\u001b[39m(topn, \u001b[38;5;28mint\u001b[39m):\n",
      "File \u001b[0;32m/usr/local/lib/python3.8/dist-packages/gensim/models/keyedvectors.py:519\u001b[0m, in \u001b[0;36mKeyedVectors.get_mean_vector\u001b[0;34m(self, keys, weights, pre_normalize, post_normalize, ignore_missing)\u001b[0m\n\u001b[1;32m    517\u001b[0m         total_weight \u001b[38;5;241m+\u001b[39m\u001b[38;5;241m=\u001b[39m \u001b[38;5;28mabs\u001b[39m(weights[idx])\n\u001b[1;32m    518\u001b[0m     \u001b[38;5;28;01melif\u001b[39;00m \u001b[38;5;129;01mnot\u001b[39;00m ignore_missing:\n\u001b[0;32m--> 519\u001b[0m         \u001b[38;5;28;01mraise\u001b[39;00m \u001b[38;5;167;01mKeyError\u001b[39;00m(\u001b[38;5;124mf\u001b[39m\u001b[38;5;124m\"\u001b[39m\u001b[38;5;124mKey \u001b[39m\u001b[38;5;124m'\u001b[39m\u001b[38;5;132;01m{\u001b[39;00mkey\u001b[38;5;132;01m}\u001b[39;00m\u001b[38;5;124m'\u001b[39m\u001b[38;5;124m not present in vocabulary\u001b[39m\u001b[38;5;124m\"\u001b[39m)\n\u001b[1;32m    521\u001b[0m \u001b[38;5;28;01mif\u001b[39;00m(total_weight \u001b[38;5;241m>\u001b[39m \u001b[38;5;241m0\u001b[39m):\n\u001b[1;32m    522\u001b[0m     mean \u001b[38;5;241m=\u001b[39m mean \u001b[38;5;241m/\u001b[39m total_weight\n",
      "\u001b[0;31mKeyError\u001b[0m: \"Key 'بن_خلدون' not present in vocabulary\""
     ]
    }
   ],
   "source": [
    "muhammed_word2vec_model.wv.most_similar('بن_خلدون')"
   ]
  },
  {
   "cell_type": "code",
   "execution_count": 65,
   "id": "fb387411",
   "metadata": {},
   "outputs": [],
   "source": [
    "from word2vec_results import *"
   ]
  },
  {
   "cell_type": "code",
   "execution_count": 66,
   "id": "635091e6",
   "metadata": {},
   "outputs": [
    {
     "name": "stdout",
     "output_type": "stream",
     "text": [
      "[t-SNE] Computing 18 nearest neighbors...\n",
      "[t-SNE] Indexed 19 samples in 0.000s...\n",
      "[t-SNE] Computed neighbors for 19 samples in 0.001s...\n",
      "[t-SNE] Computed conditional probabilities for sample 19 / 19\n",
      "[t-SNE] Mean sigma: 1.454016\n",
      "[t-SNE] KL divergence after 100 iterations with early exaggeration: 35.981827\n",
      "[t-SNE] KL divergence after 150 iterations: 0.531279\n",
      "The shape of our word_features is: (19, 2)\n"
     ]
    },
    {
     "name": "stderr",
     "output_type": "stream",
     "text": [
      "/usr/local/lib/python3.8/dist-packages/sklearn/manifold/_t_sne.py:780: FutureWarning: The default initialization in TSNE will change from 'random' to 'pca' in 1.2.\n",
      "  warnings.warn(\n"
     ]
    },
    {
     "data": {
      "image/png": "[encoded data removed]",
      "text/plain": [
       "<Figure size 720x576 with 1 Axes>"
      ]
     },
     "metadata": {},
     "output_type": "display_data"
    }
   ],
   "source": [
    "# Reduce the dimension of SENTIMENT_WORDS\n",
    "tsne_df_scale = tsne_graph(our_word2vec_model, SENTIMENT_WORDS, 500, .03)\n",
    "\n",
    "_ = init_graph_style()\n",
    "\n",
    "plt.scatter(tsne_df_scale.iloc[:, 0], tsne_df_scale.iloc[:, 1], marker='P',s=9, c=\"red\") \n",
    "\n",
    "for i, word in enumerate(SENTIMENT_WORDS):\n",
    "    # handle Arabic words to display from right to left and as complete word not just separate chars\n",
    "    word = arabic_reshaper.reshape(word) # handle arabic words on ploting\n",
    "    word = get_display(word)\n",
    "    # plot each word beside its point\n",
    "    plt.annotate(word, xy=(tsne_df_scale.iloc[i, 0], tsne_df_scale.iloc[i, 1]),fontsize=15, color='white')\n",
    "# plt.savefig('images/' + \"image1.png\")"
   ]
  },
  {
   "cell_type": "code",
   "execution_count": 67,
   "id": "3bba9bb4",
   "metadata": {},
   "outputs": [
    {
     "ename": "KeyError",
     "evalue": "\"Key 'خائن' not present\"",
     "output_type": "error",
     "traceback": [
      "\u001b[0;31m---------------------------------------------------------------------------\u001b[0m",
      "\u001b[0;31mKeyError\u001b[0m                                  Traceback (most recent call last)",
      "Input \u001b[0;32mIn [67]\u001b[0m, in \u001b[0;36m<cell line: 2>\u001b[0;34m()\u001b[0m\n\u001b[1;32m      1\u001b[0m \u001b[38;5;66;03m# Reduce the dimension of SENTIMENT_WORDS\u001b[39;00m\n\u001b[0;32m----> 2\u001b[0m tsne_df_scale \u001b[38;5;241m=\u001b[39m \u001b[43mtsne_graph\u001b[49m\u001b[43m(\u001b[49m\u001b[43mmuhammed_word2vec_model\u001b[49m\u001b[43m,\u001b[49m\u001b[43m \u001b[49m\u001b[43mSENTIMENT_WORDS\u001b[49m\u001b[43m,\u001b[49m\u001b[43m \u001b[49m\u001b[38;5;241;43m500\u001b[39;49m\u001b[43m,\u001b[49m\u001b[43m \u001b[49m\u001b[38;5;241;43m.03\u001b[39;49m\u001b[43m)\u001b[49m\n\u001b[1;32m      4\u001b[0m _ \u001b[38;5;241m=\u001b[39m init_graph_style()\n\u001b[1;32m      6\u001b[0m plt\u001b[38;5;241m.\u001b[39mscatter(tsne_df_scale\u001b[38;5;241m.\u001b[39miloc[:, \u001b[38;5;241m0\u001b[39m], tsne_df_scale\u001b[38;5;241m.\u001b[39miloc[:, \u001b[38;5;241m1\u001b[39m], marker\u001b[38;5;241m=\u001b[39m\u001b[38;5;124m'\u001b[39m\u001b[38;5;124mP\u001b[39m\u001b[38;5;124m'\u001b[39m,s\u001b[38;5;241m=\u001b[39m\u001b[38;5;241m9\u001b[39m, c\u001b[38;5;241m=\u001b[39m\u001b[38;5;124m\"\u001b[39m\u001b[38;5;124mred\u001b[39m\u001b[38;5;124m\"\u001b[39m) \n",
      "File \u001b[0;32m~/AraETEWordVec/test_models/covid_prediction/../../preprocess_assets/word2vec_results.py:49\u001b[0m, in \u001b[0;36mtsne_graph\u001b[0;34m(model, symbols, n_iter, learning_rate)\u001b[0m\n\u001b[1;32m     46\u001b[0m tsne \u001b[38;5;241m=\u001b[39m TSNE(n_components\u001b[38;5;241m=\u001b[39m\u001b[38;5;241m2\u001b[39m, verbose\u001b[38;5;241m=\u001b[39m\u001b[38;5;241m1\u001b[39m, perplexity\u001b[38;5;241m=\u001b[39m\u001b[38;5;241m10\u001b[39m, n_iter\u001b[38;5;241m=\u001b[39mn_iter, learning_rate\u001b[38;5;241m=\u001b[39mlearning_rate)\n\u001b[1;32m     48\u001b[0m \u001b[38;5;66;03m# retrieve the representation of each symbol in the list\u001b[39;00m\n\u001b[0;32m---> 49\u001b[0m symbols_representation \u001b[38;5;241m=\u001b[39m \u001b[43mmodel\u001b[49m\u001b[38;5;241;43m.\u001b[39;49m\u001b[43mwv\u001b[49m\u001b[43m[\u001b[49m\u001b[43msymbols\u001b[49m\u001b[43m]\u001b[49m\n\u001b[1;32m     51\u001b[0m \u001b[38;5;66;03m# fit and transform these high-dimension representation into 2-dimension representation\u001b[39;00m\n\u001b[1;32m     52\u001b[0m tsne_scale_results \u001b[38;5;241m=\u001b[39m tsne\u001b[38;5;241m.\u001b[39mfit_transform(symbols_representation)\n",
      "File \u001b[0;32m/usr/local/lib/python3.8/dist-packages/gensim/models/keyedvectors.py:406\u001b[0m, in \u001b[0;36mKeyedVectors.__getitem__\u001b[0;34m(self, key_or_keys)\u001b[0m\n\u001b[1;32m    403\u001b[0m \u001b[38;5;28;01mif\u001b[39;00m \u001b[38;5;28misinstance\u001b[39m(key_or_keys, _KEY_TYPES):\n\u001b[1;32m    404\u001b[0m     \u001b[38;5;28;01mreturn\u001b[39;00m \u001b[38;5;28mself\u001b[39m\u001b[38;5;241m.\u001b[39mget_vector(key_or_keys)\n\u001b[0;32m--> 406\u001b[0m \u001b[38;5;28;01mreturn\u001b[39;00m vstack([\u001b[38;5;28mself\u001b[39m\u001b[38;5;241m.\u001b[39mget_vector(key) \u001b[38;5;28;01mfor\u001b[39;00m key \u001b[38;5;129;01min\u001b[39;00m key_or_keys])\n",
      "File \u001b[0;32m/usr/local/lib/python3.8/dist-packages/gensim/models/keyedvectors.py:406\u001b[0m, in \u001b[0;36m<listcomp>\u001b[0;34m(.0)\u001b[0m\n\u001b[1;32m    403\u001b[0m \u001b[38;5;28;01mif\u001b[39;00m \u001b[38;5;28misinstance\u001b[39m(key_or_keys, _KEY_TYPES):\n\u001b[1;32m    404\u001b[0m     \u001b[38;5;28;01mreturn\u001b[39;00m \u001b[38;5;28mself\u001b[39m\u001b[38;5;241m.\u001b[39mget_vector(key_or_keys)\n\u001b[0;32m--> 406\u001b[0m \u001b[38;5;28;01mreturn\u001b[39;00m vstack([\u001b[38;5;28;43mself\u001b[39;49m\u001b[38;5;241;43m.\u001b[39;49m\u001b[43mget_vector\u001b[49m\u001b[43m(\u001b[49m\u001b[43mkey\u001b[49m\u001b[43m)\u001b[49m \u001b[38;5;28;01mfor\u001b[39;00m key \u001b[38;5;129;01min\u001b[39;00m key_or_keys])\n",
      "File \u001b[0;32m/usr/local/lib/python3.8/dist-packages/gensim/models/keyedvectors.py:447\u001b[0m, in \u001b[0;36mKeyedVectors.get_vector\u001b[0;34m(self, key, norm)\u001b[0m\n\u001b[1;32m    423\u001b[0m \u001b[38;5;28;01mdef\u001b[39;00m \u001b[38;5;21mget_vector\u001b[39m(\u001b[38;5;28mself\u001b[39m, key, norm\u001b[38;5;241m=\u001b[39m\u001b[38;5;28;01mFalse\u001b[39;00m):\n\u001b[1;32m    424\u001b[0m     \u001b[38;5;124;03m\"\"\"Get the key's vector, as a 1D numpy array.\u001b[39;00m\n\u001b[1;32m    425\u001b[0m \n\u001b[1;32m    426\u001b[0m \u001b[38;5;124;03m    Parameters\u001b[39;00m\n\u001b[0;32m   (...)\u001b[0m\n\u001b[1;32m    445\u001b[0m \n\u001b[1;32m    446\u001b[0m \u001b[38;5;124;03m    \"\"\"\u001b[39;00m\n\u001b[0;32m--> 447\u001b[0m     index \u001b[38;5;241m=\u001b[39m \u001b[38;5;28;43mself\u001b[39;49m\u001b[38;5;241;43m.\u001b[39;49m\u001b[43mget_index\u001b[49m\u001b[43m(\u001b[49m\u001b[43mkey\u001b[49m\u001b[43m)\u001b[49m\n\u001b[1;32m    448\u001b[0m     \u001b[38;5;28;01mif\u001b[39;00m norm:\n\u001b[1;32m    449\u001b[0m         \u001b[38;5;28mself\u001b[39m\u001b[38;5;241m.\u001b[39mfill_norms()\n",
      "File \u001b[0;32m/usr/local/lib/python3.8/dist-packages/gensim/models/keyedvectors.py:421\u001b[0m, in \u001b[0;36mKeyedVectors.get_index\u001b[0;34m(self, key, default)\u001b[0m\n\u001b[1;32m    419\u001b[0m     \u001b[38;5;28;01mreturn\u001b[39;00m default\n\u001b[1;32m    420\u001b[0m \u001b[38;5;28;01melse\u001b[39;00m:\n\u001b[0;32m--> 421\u001b[0m     \u001b[38;5;28;01mraise\u001b[39;00m \u001b[38;5;167;01mKeyError\u001b[39;00m(\u001b[38;5;124mf\u001b[39m\u001b[38;5;124m\"\u001b[39m\u001b[38;5;124mKey \u001b[39m\u001b[38;5;124m'\u001b[39m\u001b[38;5;132;01m{\u001b[39;00mkey\u001b[38;5;132;01m}\u001b[39;00m\u001b[38;5;124m'\u001b[39m\u001b[38;5;124m not present\u001b[39m\u001b[38;5;124m\"\u001b[39m)\n",
      "\u001b[0;31mKeyError\u001b[0m: \"Key 'خائن' not present\""
     ]
    }
   ],
   "source": [
    "# Reduce the dimension of SENTIMENT_WORDS\n",
    "tsne_df_scale = tsne_graph(muhammed_word2vec_model, SENTIMENT_WORDS, 500, .03)\n",
    "\n",
    "_ = init_graph_style()\n",
    "\n",
    "plt.scatter(tsne_df_scale.iloc[:, 0], tsne_df_scale.iloc[:, 1], marker='P',s=9, c=\"red\") \n",
    "\n",
    "for i, word in enumerate(SENTIMENT_WORDS):\n",
    "    # handle Arabic words to display from right to left and as complete word not just separate chars\n",
    "    word = arabic_reshaper.reshape(word) # handle arabic words on ploting\n",
    "    word = get_display(word)\n",
    "    # plot each word beside its point\n",
    "    plt.annotate(word, xy=(tsne_df_scale.iloc[i, 0], tsne_df_scale.iloc[i, 1]),fontsize=15, color='white')\n",
    "# plt.savefig('images/' + \"image1.png\")"
   ]
  },
  {
   "cell_type": "code",
   "execution_count": 68,
   "id": "ed6a88d5",
   "metadata": {},
   "outputs": [
    {
     "name": "stderr",
     "output_type": "stream",
     "text": [
      "/usr/local/lib/python3.8/dist-packages/sklearn/manifold/_t_sne.py:780: FutureWarning: The default initialization in TSNE will change from 'random' to 'pca' in 1.2.\n",
      "  warnings.warn(\n"
     ]
    },
    {
     "name": "stdout",
     "output_type": "stream",
     "text": [
      "[t-SNE] Computing 18 nearest neighbors...\n",
      "[t-SNE] Indexed 19 samples in 0.000s...\n",
      "[t-SNE] Computed neighbors for 19 samples in 0.001s...\n",
      "[t-SNE] Computed conditional probabilities for sample 19 / 19\n",
      "[t-SNE] Mean sigma: 2.240841\n",
      "[t-SNE] KL divergence after 50 iterations with early exaggeration: 36.060547\n",
      "[t-SNE] KL divergence after 500 iterations: 0.046975\n",
      "The shape of our word_features is: (19, 2)\n"
     ]
    },
    {
     "data": {
      "image/png": "[encoded data removed]",
      "text/plain": [
       "<Figure size 720x576 with 1 Axes>"
      ]
     },
     "metadata": {},
     "output_type": "display_data"
    }
   ],
   "source": [
    "# Reduce the dimension of SENTIMENT_WORDS\n",
    "tsne_df_scale = tsne_graph(bakr_word2vec_model, SENTIMENT_WORDS, 500, .03)\n",
    "\n",
    "_ = init_graph_style()\n",
    "\n",
    "plt.scatter(tsne_df_scale.iloc[:, 0], tsne_df_scale.iloc[:, 1], marker='P',s=9, c=\"red\") \n",
    "\n",
    "for i, word in enumerate(SENTIMENT_WORDS):\n",
    "    # handle Arabic words to display from right to left and as complete word not just separate chars\n",
    "    word = arabic_reshaper.reshape(word) # handle arabic words on ploting\n",
    "    word = get_display(word)\n",
    "    # plot each word beside its point\n",
    "    plt.annotate(word, xy=(tsne_df_scale.iloc[i, 0], tsne_df_scale.iloc[i, 1]),fontsize=15, color='white')\n",
    "# plt.savefig('images/' + \"image1.png\")"
   ]
  },
  {
   "cell_type": "code",
   "execution_count": 69,
   "id": "71546132",
   "metadata": {},
   "outputs": [
    {
     "name": "stderr",
     "output_type": "stream",
     "text": [
      "/usr/local/lib/python3.8/dist-packages/sklearn/manifold/_t_sne.py:780: FutureWarning: The default initialization in TSNE will change from 'random' to 'pca' in 1.2.\n",
      "  warnings.warn(\n"
     ]
    },
    {
     "name": "stdout",
     "output_type": "stream",
     "text": [
      "[t-SNE] Computing 31 nearest neighbors...\n",
      "[t-SNE] Indexed 65 samples in 0.000s...\n",
      "[t-SNE] Computed neighbors for 65 samples in 0.002s...\n",
      "[t-SNE] Computed conditional probabilities for sample 65 / 65\n",
      "[t-SNE] Mean sigma: 1.246671\n",
      "[t-SNE] KL divergence after 250 iterations with early exaggeration: 50.159286\n",
      "[t-SNE] KL divergence after 1400 iterations: 0.188104\n",
      "The shape of our word_features is: (65, 2)\n"
     ]
    },
    {
     "data": {
      "image/png": "[encoded data removed]",
      "text/plain": [
       "<Figure size 1152x720 with 1 Axes>"
      ]
     },
     "metadata": {},
     "output_type": "display_data"
    }
   ],
   "source": [
    "# Reduce the dimension of NER_WORDS\n",
    "tsne_df_scale = tsne_graph(our_word2vec_model, NER_WORDS, 1400, .06)\n",
    "\n",
    "_ = init_graph_style(figsize=(16, 10))\n",
    "\n",
    "plt.scatter(tsne_df_scale.iloc[:, 0], tsne_df_scale.iloc[:, 1], marker='P',s=9, c=\"red\") \n",
    "\n",
    "for i, word in enumerate(NER_WORDS):\n",
    "    # handle Arabic words to display from right to left and as complete word not just separate chars\n",
    "    word = arabic_reshaper.reshape(word) # handle arabic words on ploting\n",
    "    word = get_display(word)\n",
    "    # plot each word beside its point\n",
    "    plt.annotate(word, xy=(tsne_df_scale.iloc[i, 0], tsne_df_scale.iloc[i, 1]),fontsize=15, color='white')\n",
    "# plt.savefig('images/' + \"image1.png\")"
   ]
  },
  {
   "cell_type": "code",
   "execution_count": 70,
   "id": "7bc9b1f2",
   "metadata": {},
   "outputs": [
    {
     "ename": "KeyError",
     "evalue": "\"Key 'IT' not present\"",
     "output_type": "error",
     "traceback": [
      "\u001b[0;31m---------------------------------------------------------------------------\u001b[0m",
      "\u001b[0;31mKeyError\u001b[0m                                  Traceback (most recent call last)",
      "Input \u001b[0;32mIn [70]\u001b[0m, in \u001b[0;36m<cell line: 2>\u001b[0;34m()\u001b[0m\n\u001b[1;32m      1\u001b[0m \u001b[38;5;66;03m# Reduce the dimension of NER_WORDS\u001b[39;00m\n\u001b[0;32m----> 2\u001b[0m tsne_df_scale \u001b[38;5;241m=\u001b[39m \u001b[43mtsne_graph\u001b[49m\u001b[43m(\u001b[49m\u001b[43mbakr_word2vec_model\u001b[49m\u001b[43m,\u001b[49m\u001b[43m \u001b[49m\u001b[43mNER_WORDS\u001b[49m\u001b[43m,\u001b[49m\u001b[43m \u001b[49m\u001b[38;5;241;43m1400\u001b[39;49m\u001b[43m,\u001b[49m\u001b[43m \u001b[49m\u001b[38;5;241;43m.06\u001b[39;49m\u001b[43m)\u001b[49m\n\u001b[1;32m      4\u001b[0m _ \u001b[38;5;241m=\u001b[39m init_graph_style(figsize\u001b[38;5;241m=\u001b[39m(\u001b[38;5;241m16\u001b[39m, \u001b[38;5;241m10\u001b[39m))\n\u001b[1;32m      6\u001b[0m plt\u001b[38;5;241m.\u001b[39mscatter(tsne_df_scale\u001b[38;5;241m.\u001b[39miloc[:, \u001b[38;5;241m0\u001b[39m], tsne_df_scale\u001b[38;5;241m.\u001b[39miloc[:, \u001b[38;5;241m1\u001b[39m], marker\u001b[38;5;241m=\u001b[39m\u001b[38;5;124m'\u001b[39m\u001b[38;5;124mP\u001b[39m\u001b[38;5;124m'\u001b[39m,s\u001b[38;5;241m=\u001b[39m\u001b[38;5;241m9\u001b[39m, c\u001b[38;5;241m=\u001b[39m\u001b[38;5;124m\"\u001b[39m\u001b[38;5;124mred\u001b[39m\u001b[38;5;124m\"\u001b[39m) \n",
      "File \u001b[0;32m~/AraETEWordVec/test_models/covid_prediction/../../preprocess_assets/word2vec_results.py:49\u001b[0m, in \u001b[0;36mtsne_graph\u001b[0;34m(model, symbols, n_iter, learning_rate)\u001b[0m\n\u001b[1;32m     46\u001b[0m tsne \u001b[38;5;241m=\u001b[39m TSNE(n_components\u001b[38;5;241m=\u001b[39m\u001b[38;5;241m2\u001b[39m, verbose\u001b[38;5;241m=\u001b[39m\u001b[38;5;241m1\u001b[39m, perplexity\u001b[38;5;241m=\u001b[39m\u001b[38;5;241m10\u001b[39m, n_iter\u001b[38;5;241m=\u001b[39mn_iter, learning_rate\u001b[38;5;241m=\u001b[39mlearning_rate)\n\u001b[1;32m     48\u001b[0m \u001b[38;5;66;03m# retrieve the representation of each symbol in the list\u001b[39;00m\n\u001b[0;32m---> 49\u001b[0m symbols_representation \u001b[38;5;241m=\u001b[39m \u001b[43mmodel\u001b[49m\u001b[38;5;241;43m.\u001b[39;49m\u001b[43mwv\u001b[49m\u001b[43m[\u001b[49m\u001b[43msymbols\u001b[49m\u001b[43m]\u001b[49m\n\u001b[1;32m     51\u001b[0m \u001b[38;5;66;03m# fit and transform these high-dimension representation into 2-dimension representation\u001b[39;00m\n\u001b[1;32m     52\u001b[0m tsne_scale_results \u001b[38;5;241m=\u001b[39m tsne\u001b[38;5;241m.\u001b[39mfit_transform(symbols_representation)\n",
      "File \u001b[0;32m/usr/local/lib/python3.8/dist-packages/gensim/models/keyedvectors.py:406\u001b[0m, in \u001b[0;36mKeyedVectors.__getitem__\u001b[0;34m(self, key_or_keys)\u001b[0m\n\u001b[1;32m    403\u001b[0m \u001b[38;5;28;01mif\u001b[39;00m \u001b[38;5;28misinstance\u001b[39m(key_or_keys, _KEY_TYPES):\n\u001b[1;32m    404\u001b[0m     \u001b[38;5;28;01mreturn\u001b[39;00m \u001b[38;5;28mself\u001b[39m\u001b[38;5;241m.\u001b[39mget_vector(key_or_keys)\n\u001b[0;32m--> 406\u001b[0m \u001b[38;5;28;01mreturn\u001b[39;00m vstack([\u001b[38;5;28mself\u001b[39m\u001b[38;5;241m.\u001b[39mget_vector(key) \u001b[38;5;28;01mfor\u001b[39;00m key \u001b[38;5;129;01min\u001b[39;00m key_or_keys])\n",
      "File \u001b[0;32m/usr/local/lib/python3.8/dist-packages/gensim/models/keyedvectors.py:406\u001b[0m, in \u001b[0;36m<listcomp>\u001b[0;34m(.0)\u001b[0m\n\u001b[1;32m    403\u001b[0m \u001b[38;5;28;01mif\u001b[39;00m \u001b[38;5;28misinstance\u001b[39m(key_or_keys, _KEY_TYPES):\n\u001b[1;32m    404\u001b[0m     \u001b[38;5;28;01mreturn\u001b[39;00m \u001b[38;5;28mself\u001b[39m\u001b[38;5;241m.\u001b[39mget_vector(key_or_keys)\n\u001b[0;32m--> 406\u001b[0m \u001b[38;5;28;01mreturn\u001b[39;00m vstack([\u001b[38;5;28;43mself\u001b[39;49m\u001b[38;5;241;43m.\u001b[39;49m\u001b[43mget_vector\u001b[49m\u001b[43m(\u001b[49m\u001b[43mkey\u001b[49m\u001b[43m)\u001b[49m \u001b[38;5;28;01mfor\u001b[39;00m key \u001b[38;5;129;01min\u001b[39;00m key_or_keys])\n",
      "File \u001b[0;32m/usr/local/lib/python3.8/dist-packages/gensim/models/keyedvectors.py:447\u001b[0m, in \u001b[0;36mKeyedVectors.get_vector\u001b[0;34m(self, key, norm)\u001b[0m\n\u001b[1;32m    423\u001b[0m \u001b[38;5;28;01mdef\u001b[39;00m \u001b[38;5;21mget_vector\u001b[39m(\u001b[38;5;28mself\u001b[39m, key, norm\u001b[38;5;241m=\u001b[39m\u001b[38;5;28;01mFalse\u001b[39;00m):\n\u001b[1;32m    424\u001b[0m     \u001b[38;5;124;03m\"\"\"Get the key's vector, as a 1D numpy array.\u001b[39;00m\n\u001b[1;32m    425\u001b[0m \n\u001b[1;32m    426\u001b[0m \u001b[38;5;124;03m    Parameters\u001b[39;00m\n\u001b[0;32m   (...)\u001b[0m\n\u001b[1;32m    445\u001b[0m \n\u001b[1;32m    446\u001b[0m \u001b[38;5;124;03m    \"\"\"\u001b[39;00m\n\u001b[0;32m--> 447\u001b[0m     index \u001b[38;5;241m=\u001b[39m \u001b[38;5;28;43mself\u001b[39;49m\u001b[38;5;241;43m.\u001b[39;49m\u001b[43mget_index\u001b[49m\u001b[43m(\u001b[49m\u001b[43mkey\u001b[49m\u001b[43m)\u001b[49m\n\u001b[1;32m    448\u001b[0m     \u001b[38;5;28;01mif\u001b[39;00m norm:\n\u001b[1;32m    449\u001b[0m         \u001b[38;5;28mself\u001b[39m\u001b[38;5;241m.\u001b[39mfill_norms()\n",
      "File \u001b[0;32m/usr/local/lib/python3.8/dist-packages/gensim/models/keyedvectors.py:421\u001b[0m, in \u001b[0;36mKeyedVectors.get_index\u001b[0;34m(self, key, default)\u001b[0m\n\u001b[1;32m    419\u001b[0m     \u001b[38;5;28;01mreturn\u001b[39;00m default\n\u001b[1;32m    420\u001b[0m \u001b[38;5;28;01melse\u001b[39;00m:\n\u001b[0;32m--> 421\u001b[0m     \u001b[38;5;28;01mraise\u001b[39;00m \u001b[38;5;167;01mKeyError\u001b[39;00m(\u001b[38;5;124mf\u001b[39m\u001b[38;5;124m\"\u001b[39m\u001b[38;5;124mKey \u001b[39m\u001b[38;5;124m'\u001b[39m\u001b[38;5;132;01m{\u001b[39;00mkey\u001b[38;5;132;01m}\u001b[39;00m\u001b[38;5;124m'\u001b[39m\u001b[38;5;124m not present\u001b[39m\u001b[38;5;124m\"\u001b[39m)\n",
      "\u001b[0;31mKeyError\u001b[0m: \"Key 'IT' not present\""
     ]
    }
   ],
   "source": [
    "# Reduce the dimension of NER_WORDS\n",
    "tsne_df_scale = tsne_graph(bakr_word2vec_model, NER_WORDS, 1400, .06)\n",
    "\n",
    "_ = init_graph_style(figsize=(16, 10))\n",
    "\n",
    "plt.scatter(tsne_df_scale.iloc[:, 0], tsne_df_scale.iloc[:, 1], marker='P',s=9, c=\"red\") \n",
    "\n",
    "for i, word in enumerate(NER_WORDS):\n",
    "    # handle Arabic words to display from right to left and as complete word not just separate chars\n",
    "    word = arabic_reshaper.reshape(word) # handle arabic words on ploting\n",
    "    word = get_display(word)\n",
    "    # plot each word beside its point\n",
    "    plt.annotate(word, xy=(tsne_df_scale.iloc[i, 0], tsne_df_scale.iloc[i, 1]),fontsize=15, color='white')\n",
    "# plt.savefig('images/' + \"image1.png\")"
   ]
  },
  {
   "cell_type": "code",
   "execution_count": 71,
   "id": "7d4a0b9e",
   "metadata": {
    "scrolled": true
   },
   "outputs": [
    {
     "ename": "KeyError",
     "evalue": "\"Key 'IT' not present\"",
     "output_type": "error",
     "traceback": [
      "\u001b[0;31m---------------------------------------------------------------------------\u001b[0m",
      "\u001b[0;31mKeyError\u001b[0m                                  Traceback (most recent call last)",
      "Input \u001b[0;32mIn [71]\u001b[0m, in \u001b[0;36m<cell line: 2>\u001b[0;34m()\u001b[0m\n\u001b[1;32m      1\u001b[0m \u001b[38;5;66;03m# Reduce the dimension of NER_WORDS\u001b[39;00m\n\u001b[0;32m----> 2\u001b[0m tsne_df_scale \u001b[38;5;241m=\u001b[39m \u001b[43mtsne_graph\u001b[49m\u001b[43m(\u001b[49m\u001b[43mmuhammed_word2vec_model\u001b[49m\u001b[43m,\u001b[49m\u001b[43m \u001b[49m\u001b[43mNER_WORDS\u001b[49m\u001b[43m,\u001b[49m\u001b[43m \u001b[49m\u001b[38;5;241;43m1400\u001b[39;49m\u001b[43m,\u001b[49m\u001b[43m \u001b[49m\u001b[38;5;241;43m.06\u001b[39;49m\u001b[43m)\u001b[49m\n\u001b[1;32m      4\u001b[0m _ \u001b[38;5;241m=\u001b[39m init_graph_style(figsize\u001b[38;5;241m=\u001b[39m(\u001b[38;5;241m16\u001b[39m, \u001b[38;5;241m10\u001b[39m))\n\u001b[1;32m      6\u001b[0m plt\u001b[38;5;241m.\u001b[39mscatter(tsne_df_scale\u001b[38;5;241m.\u001b[39miloc[:, \u001b[38;5;241m0\u001b[39m], tsne_df_scale\u001b[38;5;241m.\u001b[39miloc[:, \u001b[38;5;241m1\u001b[39m], marker\u001b[38;5;241m=\u001b[39m\u001b[38;5;124m'\u001b[39m\u001b[38;5;124mP\u001b[39m\u001b[38;5;124m'\u001b[39m,s\u001b[38;5;241m=\u001b[39m\u001b[38;5;241m9\u001b[39m, c\u001b[38;5;241m=\u001b[39m\u001b[38;5;124m\"\u001b[39m\u001b[38;5;124mred\u001b[39m\u001b[38;5;124m\"\u001b[39m) \n",
      "File \u001b[0;32m~/AraETEWordVec/test_models/covid_prediction/../../preprocess_assets/word2vec_results.py:49\u001b[0m, in \u001b[0;36mtsne_graph\u001b[0;34m(model, symbols, n_iter, learning_rate)\u001b[0m\n\u001b[1;32m     46\u001b[0m tsne \u001b[38;5;241m=\u001b[39m TSNE(n_components\u001b[38;5;241m=\u001b[39m\u001b[38;5;241m2\u001b[39m, verbose\u001b[38;5;241m=\u001b[39m\u001b[38;5;241m1\u001b[39m, perplexity\u001b[38;5;241m=\u001b[39m\u001b[38;5;241m10\u001b[39m, n_iter\u001b[38;5;241m=\u001b[39mn_iter, learning_rate\u001b[38;5;241m=\u001b[39mlearning_rate)\n\u001b[1;32m     48\u001b[0m \u001b[38;5;66;03m# retrieve the representation of each symbol in the list\u001b[39;00m\n\u001b[0;32m---> 49\u001b[0m symbols_representation \u001b[38;5;241m=\u001b[39m \u001b[43mmodel\u001b[49m\u001b[38;5;241;43m.\u001b[39;49m\u001b[43mwv\u001b[49m\u001b[43m[\u001b[49m\u001b[43msymbols\u001b[49m\u001b[43m]\u001b[49m\n\u001b[1;32m     51\u001b[0m \u001b[38;5;66;03m# fit and transform these high-dimension representation into 2-dimension representation\u001b[39;00m\n\u001b[1;32m     52\u001b[0m tsne_scale_results \u001b[38;5;241m=\u001b[39m tsne\u001b[38;5;241m.\u001b[39mfit_transform(symbols_representation)\n",
      "File \u001b[0;32m/usr/local/lib/python3.8/dist-packages/gensim/models/keyedvectors.py:406\u001b[0m, in \u001b[0;36mKeyedVectors.__getitem__\u001b[0;34m(self, key_or_keys)\u001b[0m\n\u001b[1;32m    403\u001b[0m \u001b[38;5;28;01mif\u001b[39;00m \u001b[38;5;28misinstance\u001b[39m(key_or_keys, _KEY_TYPES):\n\u001b[1;32m    404\u001b[0m     \u001b[38;5;28;01mreturn\u001b[39;00m \u001b[38;5;28mself\u001b[39m\u001b[38;5;241m.\u001b[39mget_vector(key_or_keys)\n\u001b[0;32m--> 406\u001b[0m \u001b[38;5;28;01mreturn\u001b[39;00m vstack([\u001b[38;5;28mself\u001b[39m\u001b[38;5;241m.\u001b[39mget_vector(key) \u001b[38;5;28;01mfor\u001b[39;00m key \u001b[38;5;129;01min\u001b[39;00m key_or_keys])\n",
      "File \u001b[0;32m/usr/local/lib/python3.8/dist-packages/gensim/models/keyedvectors.py:406\u001b[0m, in \u001b[0;36m<listcomp>\u001b[0;34m(.0)\u001b[0m\n\u001b[1;32m    403\u001b[0m \u001b[38;5;28;01mif\u001b[39;00m \u001b[38;5;28misinstance\u001b[39m(key_or_keys, _KEY_TYPES):\n\u001b[1;32m    404\u001b[0m     \u001b[38;5;28;01mreturn\u001b[39;00m \u001b[38;5;28mself\u001b[39m\u001b[38;5;241m.\u001b[39mget_vector(key_or_keys)\n\u001b[0;32m--> 406\u001b[0m \u001b[38;5;28;01mreturn\u001b[39;00m vstack([\u001b[38;5;28;43mself\u001b[39;49m\u001b[38;5;241;43m.\u001b[39;49m\u001b[43mget_vector\u001b[49m\u001b[43m(\u001b[49m\u001b[43mkey\u001b[49m\u001b[43m)\u001b[49m \u001b[38;5;28;01mfor\u001b[39;00m key \u001b[38;5;129;01min\u001b[39;00m key_or_keys])\n",
      "File \u001b[0;32m/usr/local/lib/python3.8/dist-packages/gensim/models/keyedvectors.py:447\u001b[0m, in \u001b[0;36mKeyedVectors.get_vector\u001b[0;34m(self, key, norm)\u001b[0m\n\u001b[1;32m    423\u001b[0m \u001b[38;5;28;01mdef\u001b[39;00m \u001b[38;5;21mget_vector\u001b[39m(\u001b[38;5;28mself\u001b[39m, key, norm\u001b[38;5;241m=\u001b[39m\u001b[38;5;28;01mFalse\u001b[39;00m):\n\u001b[1;32m    424\u001b[0m     \u001b[38;5;124;03m\"\"\"Get the key's vector, as a 1D numpy array.\u001b[39;00m\n\u001b[1;32m    425\u001b[0m \n\u001b[1;32m    426\u001b[0m \u001b[38;5;124;03m    Parameters\u001b[39;00m\n\u001b[0;32m   (...)\u001b[0m\n\u001b[1;32m    445\u001b[0m \n\u001b[1;32m    446\u001b[0m \u001b[38;5;124;03m    \"\"\"\u001b[39;00m\n\u001b[0;32m--> 447\u001b[0m     index \u001b[38;5;241m=\u001b[39m \u001b[38;5;28;43mself\u001b[39;49m\u001b[38;5;241;43m.\u001b[39;49m\u001b[43mget_index\u001b[49m\u001b[43m(\u001b[49m\u001b[43mkey\u001b[49m\u001b[43m)\u001b[49m\n\u001b[1;32m    448\u001b[0m     \u001b[38;5;28;01mif\u001b[39;00m norm:\n\u001b[1;32m    449\u001b[0m         \u001b[38;5;28mself\u001b[39m\u001b[38;5;241m.\u001b[39mfill_norms()\n",
      "File \u001b[0;32m/usr/local/lib/python3.8/dist-packages/gensim/models/keyedvectors.py:421\u001b[0m, in \u001b[0;36mKeyedVectors.get_index\u001b[0;34m(self, key, default)\u001b[0m\n\u001b[1;32m    419\u001b[0m     \u001b[38;5;28;01mreturn\u001b[39;00m default\n\u001b[1;32m    420\u001b[0m \u001b[38;5;28;01melse\u001b[39;00m:\n\u001b[0;32m--> 421\u001b[0m     \u001b[38;5;28;01mraise\u001b[39;00m \u001b[38;5;167;01mKeyError\u001b[39;00m(\u001b[38;5;124mf\u001b[39m\u001b[38;5;124m\"\u001b[39m\u001b[38;5;124mKey \u001b[39m\u001b[38;5;124m'\u001b[39m\u001b[38;5;132;01m{\u001b[39;00mkey\u001b[38;5;132;01m}\u001b[39;00m\u001b[38;5;124m'\u001b[39m\u001b[38;5;124m not present\u001b[39m\u001b[38;5;124m\"\u001b[39m)\n",
      "\u001b[0;31mKeyError\u001b[0m: \"Key 'IT' not present\""
     ]
    }
   ],
   "source": [
    "# Reduce the dimension of NER_WORDS\n",
    "tsne_df_scale = tsne_graph(muhammed_word2vec_model, NER_WORDS, 1400, .06)\n",
    "\n",
    "_ = init_graph_style(figsize=(16, 10))\n",
    "\n",
    "plt.scatter(tsne_df_scale.iloc[:, 0], tsne_df_scale.iloc[:, 1], marker='P',s=9, c=\"red\") \n",
    "\n",
    "for i, word in enumerate(NER_WORDS):\n",
    "    # handle Arabic words to display from right to left and as complete word not just separate chars\n",
    "    word = arabic_reshaper.reshape(word) # handle arabic words on ploting\n",
    "    word = get_display(word)\n",
    "    # plot each word beside its point\n",
    "    plt.annotate(word, xy=(tsne_df_scale.iloc[i, 0], tsne_df_scale.iloc[i, 1]),fontsize=15, color='white')\n",
    "# plt.savefig('images/' + \"image1.png\")"
   ]
  },
  {
   "cell_type": "code",
   "execution_count": null,
   "id": "7635b9b2",
   "metadata": {},
   "outputs": [],
   "source": []
  }
 ],
 "metadata": {
  "kernelspec": {
   "display_name": "Python 3 (ipykernel)",
   "language": "python",
   "name": "python3"
  },
  "language_info": {
   "codemirror_mode": {
    "name": "ipython",
    "version": 3
   },
   "file_extension": ".py",
   "mimetype": "text/x-python",
   "name": "python",
   "nbconvert_exporter": "python",
   "pygments_lexer": "ipython3",
   "version": "3.8.10"
  }
 },
 "nbformat": 4,
 "nbformat_minor": 5
}
