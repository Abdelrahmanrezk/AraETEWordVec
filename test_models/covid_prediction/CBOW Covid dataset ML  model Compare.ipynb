{
 "cells": [
  {
   "cell_type": "code",
   "execution_count": 1,
   "id": "c9958664",
   "metadata": {},
   "outputs": [],
   "source": [
    "import sys\n",
    "sys.path.append('../../preprocess_assets/')"
   ]
  },
  {
   "cell_type": "code",
   "execution_count": 2,
   "id": "a24a9351",
   "metadata": {},
   "outputs": [],
   "source": [
    "# Main libraries \n",
    "from sklearn.ensemble import BaggingClassifier, AdaBoostClassifier, GradientBoostingClassifier\n",
    "from sklearn.linear_model import LogisticRegression\n",
    "from sklearn.ensemble import ExtraTreesClassifier \n",
    "from sklearn.tree import DecisionTreeClassifier\n",
    "from sklearn.svm import LinearSVC\n",
    "import matplotlib.pyplot as plt\n",
    "\n",
    "# Our files\n",
    "from data_shuffling_split import *\n",
    "from features_extraction import *\n",
    "from ara_vec_preprocess_configs import *\n",
    "from ml_modeling import *"
   ]
  },
  {
   "cell_type": "code",
   "execution_count": null,
   "id": "c14a4432",
   "metadata": {},
   "outputs": [],
   "source": [
    "strat_train_set = read_file(\"train/strat_train_set.csv\")\n",
    "strat_train_set.head()"
   ]
  },
  {
   "cell_type": "code",
   "execution_count": null,
   "id": "a32e257d",
   "metadata": {},
   "outputs": [],
   "source": [
    "x_train_text, x_val_text, y_train, y_val = prepare_data(strat_train_set)"
   ]
  },
  {
   "cell_type": "code",
   "execution_count": null,
   "id": "27cd9ab6",
   "metadata": {},
   "outputs": [],
   "source": [
    "x_train_text_tokenized = tokenize_using_nltk_TreebankWordTokenizer(x_train_text)\n",
    "\n",
    "print(\"Before Tokenization : \\n\", x_train_text[:3])\n",
    "print(\"=\"*50)\n",
    "print(\"After Tokenization : \\n\", x_train_text_tokenized[:3])\n",
    "print(\"=\"*50)\n",
    "\n",
    "x_val_text_tokenized = tokenize_using_nltk_TreebankWordTokenizer(x_val_text)\n",
    "\n",
    "print(\"Before Tokenization : \\n\", x_val_text[:3])\n",
    "print(\"=\"*50)\n",
    "print(\"After Tokenization : \\n\", x_val_text_tokenized[:3])\n",
    "\n",
    "fullgram_x_train_text_tokenized = get_all_ngrams(x_train_text_tokenized)\n",
    "print(\"full gram tokenization : \\n\", fullgram_x_train_text_tokenized[:3])\n",
    "print(\"=\"*50)\n",
    "fullgram_x_val_text_tokenized = get_all_ngrams(x_val_text_tokenized)\n",
    "print(\"full gram tokenization : \\n\", fullgram_x_val_text_tokenized[:3])\n",
    "print(\"=\"*50)"
   ]
  },
  {
   "cell_type": "code",
   "execution_count": null,
   "id": "fa9d0771",
   "metadata": {},
   "outputs": [],
   "source": [
    "# Get how many words inside each text after tokenization\n",
    "num_of_words_in_each_text = [len(text) for text in fullgram_x_train_text_tokenized]\n",
    "max_len = max(num_of_words_in_each_text)\n",
    "print(\"The max length is: \", max_len)\n",
    "num_of_words_in_each_text[:10]"
   ]
  },
  {
   "cell_type": "code",
   "execution_count": null,
   "id": "7ebd58c1",
   "metadata": {},
   "outputs": [],
   "source": [
    "# count how many times these value repeated and sort them\n",
    "new_dicts = get_keys_that_val_gr_than_num(num_of_words_in_each_text, 1000)\n",
    "keys = list(new_dicts.keys())\n",
    "values = list(new_dicts.values())\n",
    "plt.style.use('dark_background')\n",
    "fig = plt.gcf()\n",
    "fig.set_size_inches(18.5, 6)\n",
    "plt.bar(range(len(new_dicts)), values, tick_label=keys)\n",
    "plt.show()"
   ]
  },
  {
   "cell_type": "markdown",
   "id": "e4862c74",
   "metadata": {},
   "source": [
    "# Our CBOW Word2Vec Model"
   ]
  },
  {
   "cell_type": "code",
   "execution_count": null,
   "id": "ea1f2ae4",
   "metadata": {},
   "outputs": [],
   "source": [
    "our_word2vec_model = load_word2vec_model(\"../word2vec_models/rezk_unigram_CBOW_model/train_word2vec_cbow__window_3_min_count_300\")"
   ]
  },
  {
   "cell_type": "code",
   "execution_count": null,
   "id": "bb9a549c",
   "metadata": {},
   "outputs": [],
   "source": [
    "number_of_features = 300\n",
    "max_len_str = 128\n",
    "word2vec_path = \"rezk/\"\n",
    "model_path_to_save = \"../ml_models_saved/\"\n",
    "estimators = voting_models()\n",
    "\n",
    "X_train_embed_matrix = text_to_matrix_using_word2vec(our_word2vec_model, fullgram_x_train_text_tokenized, max_len_str)\n",
    "X_val_embed_matrix = text_to_matrix_using_word2vec(our_word2vec_model, fullgram_x_val_text_tokenized, max_len_str)\n",
    "\n",
    "print(X_train_embed_matrix.shape)\n",
    "print(\"=\"*50)\n",
    "print(X_val_embed_matrix.shape)\n",
    "print(\"=\"*50)"
   ]
  },
  {
   "cell_type": "code",
   "execution_count": null,
   "id": "05472054",
   "metadata": {},
   "outputs": [],
   "source": [
    "# Train Logistic Regression\n",
    "\n",
    "model = LogisticRegression(penalty='l2', C=1, multi_class='multinomial', solver='lbfgs', verbose=1)\n",
    "model = ml_classifer_pipeline(model, X_train_embed_matrix, y_train, X_val_embed_matrix, y_val,word2vec_path, model_path_to_save)\n",
    "\n",
    "print(\"=\" * 50)\n",
    "\n",
    "# Train SVC\n",
    "\n",
    "model = LinearSVC(C=0.5,  max_iter=50, verbose=1)\n",
    "model = ml_classifer_pipeline(model, X_train_embed_matrix, y_train, X_val_embed_matrix, y_val,word2vec_path, model_path_to_save)\n",
    "\n",
    "# Hard Voting\n",
    "\n",
    "print(\"=\" * 50)\n",
    "\n",
    "model = VotingClassifier(estimators, voting=\"hard\")\n",
    "model = ml_classifer_pipeline(model, X_train_embed_matrix, y_train, X_val_embed_matrix, y_val,word2vec_path, model_path_to_save)\n",
    "\n",
    "# AdaBoost \n",
    "print(\"=\" * 50)\n",
    "\n",
    "\n",
    "model = LinearSVC(C=0.5,  verbose=1)\n",
    "model = AdaBoostClassifier(model,  algorithm=\"SAMME\", n_estimators=5)\n",
    "model = ml_classifer_pipeline(model, X_train_embed_matrix, y_train, X_val_embed_matrix, y_val,word2vec_path, model_path_to_save)\n",
    "\n",
    "#  Gradient Boosting\n",
    "print(\"=\" * 50)\n",
    "\n",
    "model = GradientBoostingClassifier(n_estimators=10, subsample=.1, learning_rate=.5,   max_depth=5, verbose=1)\n",
    "model = ml_classifer_pipeline(model, X_train_embed_matrix, y_train, X_val_embed_matrix, y_val,word2vec_path, model_path_to_save)\n",
    "print(\"=\" * 50)\n"
   ]
  },
  {
   "cell_type": "code",
   "execution_count": null,
   "id": "a28c83e5",
   "metadata": {},
   "outputs": [],
   "source": [
    "bakr_word2vec_model = load_word2vec_model(\"../word2vec_models/rezk_unigram_CBOW_model/train_word2vec_cbow__window_3_min_count_300\")"
   ]
  },
  {
   "cell_type": "code",
   "execution_count": null,
   "id": "740f74b9",
   "metadata": {},
   "outputs": [],
   "source": [
    "word2vec_path = \"bakr/\"\n",
    "model_path_to_save = \"../ml_models_saved/\"\n",
    "estimators = voting_models()\n",
    "\n",
    "X_train_embed_matrix = text_to_matrix_using_word2vec(bakr_word2vec_model, fullgram_x_train_text_tokenized, max_len_str)\n",
    "X_val_embed_matrix = text_to_matrix_using_word2vec(bakr_word2vec_model, fullgram_x_val_text_tokenized, max_len_str)\n",
    "\n",
    "print(X_train_embed_matrix.shape)\n",
    "print(\"=\"*50)\n",
    "print(X_val_embed_matrix.shape)\n",
    "print(\"=\"*50)"
   ]
  },
  {
   "cell_type": "code",
   "execution_count": null,
   "id": "2ec61f70",
   "metadata": {},
   "outputs": [],
   "source": [
    "# Train Logistic Regression\n",
    "\n",
    "model = LogisticRegression(penalty='l2', C=1, multi_class='multinomial', solver='lbfgs', verbose=1)\n",
    "model = ml_classifer_pipeline(model, X_train_embed_matrix, y_train, X_val_embed_matrix, y_val,word2vec_path, model_path_to_save)\n",
    "\n",
    "print(\"=\" * 50)\n",
    "\n",
    "# Train SVC\n",
    "\n",
    "model = LinearSVC(C=0.5,  max_iter=50, verbose=1)\n",
    "model = ml_classifer_pipeline(model, X_train_embed_matrix, y_train, X_val_embed_matrix, y_val,word2vec_path, model_path_to_save)\n",
    "\n",
    "# Hard Voting\n",
    "\n",
    "print(\"=\" * 50)\n",
    "\n",
    "model = VotingClassifier(estimators, voting=\"hard\")\n",
    "model = ml_classifer_pipeline(model, X_train_embed_matrix, y_train, X_val_embed_matrix, y_val,word2vec_path, model_path_to_save)\n",
    "\n",
    "# AdaBoost \n",
    "\n",
    "print(\"=\" * 50)\n",
    "\n",
    "model = LinearSVC(C=0.5,  verbose=1)\n",
    "model = AdaBoostClassifier(model,  algorithm=\"SAMME\", n_estimators=5)\n",
    "model = ml_classifer_pipeline(model, X_train_embed_matrix, y_train, X_val_embed_matrix, y_val,word2vec_path, model_path_to_save)\n",
    "print(\"=\" * 50)\n",
    "\n",
    "#  Gradient Boosting\n",
    "\n",
    "model = GradientBoostingClassifier(n_estimators=10, subsample=.1, learning_rate=.5,   max_depth=5, verbose=1)\n",
    "model = ml_classifer_pipeline(model, X_train_embed_matrix, y_train, X_val_embed_matrix, y_val,word2vec_path, model_path_to_save)\n",
    "print(\"=\" * 50)\n"
   ]
  },
  {
   "cell_type": "code",
   "execution_count": null,
   "id": "01a6c673",
   "metadata": {},
   "outputs": [],
   "source": [
    "muhammed_word2vec_model = load_word2vec_model(\"../word2vec_models/rezk_unigram_CBOW_model/train_word2vec_cbow__window_3_min_count_300\")"
   ]
  },
  {
   "cell_type": "code",
   "execution_count": null,
   "id": "e2e5cf35",
   "metadata": {},
   "outputs": [],
   "source": [
    "word2vec_path = \"muhammed/\"\n",
    "model_path_to_save = \"../ml_models_saved/\"\n",
    "estimators = voting_models()\n",
    "\n",
    "X_train_embed_matrix = text_to_matrix_using_word2vec(muhammed_word2vec_model, fullgram_x_train_text_tokenized, max_len_str)\n",
    "X_val_embed_matrix = text_to_matrix_using_word2vec(muhammed_word2vec_model, fullgram_x_val_text_tokenized, max_len_str)\n",
    "\n",
    "print(X_train_embed_matrix.shape)\n",
    "print(\"=\"*50)\n",
    "print(X_val_embed_matrix.shape)\n",
    "print(\"=\"*50)"
   ]
  },
  {
   "cell_type": "code",
   "execution_count": null,
   "id": "c4dca6c4",
   "metadata": {},
   "outputs": [],
   "source": [
    "# Train Logistic Regression\n",
    "\n",
    "model = LogisticRegression(penalty='l2', C=1, multi_class='multinomial', solver='lbfgs', verbose=1)\n",
    "model = ml_classifer_pipeline(model, X_train_embed_matrix, y_train, X_val_embed_matrix, y_val,word2vec_path, model_path_to_save)\n",
    "\n",
    "print(\"=\" * 50)\n",
    "\n",
    "# Train SVC\n",
    "\n",
    "model = LinearSVC(C=0.5,  max_iter=50, verbose=1)\n",
    "model = ml_classifer_pipeline(model, X_train_embed_matrix, y_train, X_val_embed_matrix, y_val,word2vec_path, model_path_to_save)\n",
    "\n",
    "# Hard Voting\n",
    "\n",
    "print(\"=\" * 50)\n",
    "\n",
    "model = VotingClassifier(estimators, voting=\"hard\")\n",
    "model = ml_classifer_pipeline(model, X_train_embed_matrix, y_train, X_val_embed_matrix, y_val,word2vec_path, model_path_to_save)\n",
    "\n",
    "# AdaBoost \n",
    "\n",
    "print(\"=\" * 50)\n",
    "\n",
    "model = LinearSVC(C=0.5,  verbose=1)\n",
    "model = AdaBoostClassifier(model,  algorithm=\"SAMME\", n_estimators=5)\n",
    "model = ml_classifer_pipeline(model, X_train_embed_matrix, y_train, X_val_embed_matrix, y_val,word2vec_path, model_path_to_save)\n",
    "print(\"=\" * 50)\n",
    "\n",
    "#  Gradient Boosting\n",
    "\n",
    "model = GradientBoostingClassifier(n_estimators=10, subsample=.1, learning_rate=.5,   max_depth=5, verbose=1)\n",
    "model = ml_classifer_pipeline(model, X_train_embed_matrix, y_train, X_val_embed_matrix, y_val,word2vec_path, model_path_to_save)\n",
    "print(\"=\" * 50)\n"
   ]
  },
  {
   "cell_type": "markdown",
   "id": "0e60a57f",
   "metadata": {},
   "source": [
    "# Load best model & predict test set"
   ]
  },
  {
   "cell_type": "code",
   "execution_count": null,
   "id": "eb550c5f",
   "metadata": {},
   "outputs": [],
   "source": [
    "strat_test_set = read_file(\"test/strat_test_set.csv\")\n",
    "strat_test_set.head()"
   ]
  },
  {
   "cell_type": "code",
   "execution_count": null,
   "id": "39dd25e9",
   "metadata": {},
   "outputs": [],
   "source": [
    "X_test_text = list(strat_test_set['text'])\n",
    "y_test = strat_test_set['label'].values"
   ]
  },
  {
   "cell_type": "code",
   "execution_count": null,
   "id": "6864cc49",
   "metadata": {},
   "outputs": [],
   "source": [
    "X_test_text_tokenized = tokenize_using_nltk_TreebankWordTokenizer(X_test_text)\n",
    "\n",
    "print(\"Before Tokenization : \\n\", X_test_text[:3])\n",
    "print(\"=\"*50)\n",
    "print(\"After Tokenization : \\n\", X_test_text_tokenized[:3])\n",
    "print(\"=\"*50)\n",
    "\n",
    "fullgram_X_test_text_tokenized = get_all_ngrams(X_test_text_tokenized)\n",
    "print(\"full gram tokenization : \\n\", fullgram_X_test_text_tokenized[:3])\n",
    "print(\"=\"*50)\n",
    "\n",
    "X_test_embed_matrix = text_to_matrix_using_word2vec(our_word2vec_model, fullgram_X_test_text_tokenized, max_len_str)\n",
    "\n",
    "print(X_test_embed_matrix.shape)\n",
    "print(\"=\"*50)"
   ]
  },
  {
   "cell_type": "code",
   "execution_count": null,
   "id": "c998c09b",
   "metadata": {},
   "outputs": [],
   "source": [
    "rezk_model = pickle_load_model(\"ml_models_saved/bakr/\" + )\n",
    "bakr_model = pickle_load_model(\"ml_models_saved/rezk/\" + )\n",
    "muhammed_model = pickle_load_model(\"ml_models_saved/muhammed/\" + )\n",
    "\n",
    "X_test_embed_matrix = text_to_matrix_using_word2vec(our_word2vec_model, fullgram_X_test_text_tokenized, max_len_str)\n",
    "f1_score_result(rezk_model, X_test_embed_matrix, y_test)\n",
    "print(\"=\"*50)\n",
    "\n",
    "X_test_embed_matrix = text_to_matrix_using_word2vec(bakr_word2vec_model, fullgram_X_test_text_tokenized, max_len_str)\n",
    "f1_score_result(bakr_model, X_test_embed_matrix, y_test)\n",
    "print(\"=\"*50)\n",
    "\n",
    "X_test_embed_matrix = text_to_matrix_using_word2vec(muhammed_word2vec_model, fullgram_X_test_text_tokenized, max_len_str)\n",
    "f1_score_result(muhammed_model, X_test_embed_matrix, y_test)"
   ]
  },
  {
   "cell_type": "markdown",
   "id": "7570359d",
   "metadata": {},
   "source": [
    "# Qualitative Evaluation"
   ]
  },
  {
   "cell_type": "code",
   "execution_count": null,
   "id": "d4b9ad96",
   "metadata": {},
   "outputs": [],
   "source": [
    "print(\"The number of words the model learn from your dataset are:\", len(list(our_word2vec_model.wv.index_to_key)))\n",
    "print(\"The number of words the model learn from your dataset are:\", len(list(bakr_word2vec_model.wv.index_to_key)))\n",
    "print(\"The number of words the model learn from your dataset are:\", len(list(muhammed_word2vec_model.wv.index_to_key)))"
   ]
  },
  {
   "cell_type": "code",
   "execution_count": null,
   "id": "cc2cf1f4",
   "metadata": {},
   "outputs": [],
   "source": [
    "our_word2vec_model.wv.most_similar('قابس')"
   ]
  },
  {
   "cell_type": "code",
   "execution_count": null,
   "id": "67e7d1dd",
   "metadata": {},
   "outputs": [],
   "source": [
    "bakr_word2vec_model.wv.most_similar('قابس')"
   ]
  },
  {
   "cell_type": "code",
   "execution_count": null,
   "id": "9943f372",
   "metadata": {},
   "outputs": [],
   "source": [
    "muhammed_word2vec_model.wv.most_similar('قابس')"
   ]
  },
  {
   "cell_type": "code",
   "execution_count": null,
   "id": "8db2cfb9",
   "metadata": {},
   "outputs": [],
   "source": [
    "our_word2vec_model.wv.most_similar('طنطا')"
   ]
  },
  {
   "cell_type": "code",
   "execution_count": null,
   "id": "ab480f81",
   "metadata": {},
   "outputs": [],
   "source": [
    "bakr_word2vec_model.wv.most_similar('طنطا')"
   ]
  },
  {
   "cell_type": "code",
   "execution_count": null,
   "id": "41f2a763",
   "metadata": {},
   "outputs": [],
   "source": [
    "muhammed_word2vec_model.wv.most_similar('طنطا')"
   ]
  },
  {
   "cell_type": "code",
   "execution_count": null,
   "id": "6cbbeb26",
   "metadata": {},
   "outputs": [],
   "source": [
    "our_word2vec_model.wv.most_similar('فندق')"
   ]
  },
  {
   "cell_type": "code",
   "execution_count": null,
   "id": "f2892422",
   "metadata": {},
   "outputs": [],
   "source": [
    "bakr_word2vec_model.wv.most_similar('فندق')"
   ]
  },
  {
   "cell_type": "code",
   "execution_count": null,
   "id": "a60bc03b",
   "metadata": {},
   "outputs": [],
   "source": [
    "muhammed_word2vec_model.wv.most_similar('فندق')"
   ]
  },
  {
   "cell_type": "code",
   "execution_count": null,
   "id": "dd00cb48",
   "metadata": {},
   "outputs": [],
   "source": [
    "our_word2vec_model.wv.most_similar('🤣')"
   ]
  },
  {
   "cell_type": "code",
   "execution_count": null,
   "id": "a88f441b",
   "metadata": {},
   "outputs": [],
   "source": [
    "bakr_word2vec_model.wv.most_similar('🤣')"
   ]
  },
  {
   "cell_type": "code",
   "execution_count": null,
   "id": "a11fb01d",
   "metadata": {},
   "outputs": [],
   "source": [
    "muhammed_word2vec_model.wv.most_similar('🤣')"
   ]
  },
  {
   "cell_type": "code",
   "execution_count": null,
   "id": "134c09cd",
   "metadata": {},
   "outputs": [],
   "source": [
    "our_word2vec_model.wv.most_similar('🇰🇼')"
   ]
  },
  {
   "cell_type": "code",
   "execution_count": null,
   "id": "6ea797fc",
   "metadata": {},
   "outputs": [],
   "source": [
    "bakr_word2vec_model.wv.most_similar('🇰🇼')"
   ]
  },
  {
   "cell_type": "code",
   "execution_count": null,
   "id": "bba1d07d",
   "metadata": {},
   "outputs": [],
   "source": [
    "muhammed_word2vec_model.wv.most_similar('🇰🇼')"
   ]
  },
  {
   "cell_type": "code",
   "execution_count": null,
   "id": "281e6e01",
   "metadata": {},
   "outputs": [],
   "source": [
    "our_word2vec_model.wv.most_similar('IT')"
   ]
  },
  {
   "cell_type": "code",
   "execution_count": null,
   "id": "36cf1282",
   "metadata": {},
   "outputs": [],
   "source": [
    "bakr_word2vec_model.wv.most_similar('IT')"
   ]
  },
  {
   "cell_type": "code",
   "execution_count": null,
   "id": "3156acf9",
   "metadata": {},
   "outputs": [],
   "source": [
    "muhammed_word2vec_model.wv.most_similar('IT')"
   ]
  },
  {
   "cell_type": "code",
   "execution_count": null,
   "id": "ed58495f",
   "metadata": {},
   "outputs": [],
   "source": [
    "our_word2vec_model.wv.most_similar('؟')"
   ]
  },
  {
   "cell_type": "code",
   "execution_count": null,
   "id": "cf3e2bb0",
   "metadata": {},
   "outputs": [],
   "source": [
    "bakr_word2vec_model.wv.most_similar('؟')"
   ]
  },
  {
   "cell_type": "code",
   "execution_count": null,
   "id": "7a53bcee",
   "metadata": {},
   "outputs": [],
   "source": [
    "muhammed_word2vec_model.wv.most_similar('؟')"
   ]
  },
  {
   "cell_type": "code",
   "execution_count": null,
   "id": "d5b4e45d",
   "metadata": {},
   "outputs": [],
   "source": [
    "our_word2vec_model.wv.most_similar('🌸')"
   ]
  },
  {
   "cell_type": "code",
   "execution_count": null,
   "id": "7bf5359e",
   "metadata": {},
   "outputs": [],
   "source": [
    "bakr_word2vec_model.wv.most_similar('🌸')"
   ]
  },
  {
   "cell_type": "code",
   "execution_count": null,
   "id": "7460755a",
   "metadata": {},
   "outputs": [],
   "source": [
    "muhammed_word2vec_model.wv.most_similar('🌸')"
   ]
  },
  {
   "cell_type": "code",
   "execution_count": null,
   "id": "bb8e5b30",
   "metadata": {},
   "outputs": [],
   "source": [
    "our_word2vec_model.wv.most_similar('كورونا')"
   ]
  },
  {
   "cell_type": "code",
   "execution_count": null,
   "id": "8f342197",
   "metadata": {},
   "outputs": [],
   "source": [
    "bakr_word2vec_model.wv.most_similar('كورونا')"
   ]
  },
  {
   "cell_type": "code",
   "execution_count": null,
   "id": "765135e1",
   "metadata": {},
   "outputs": [],
   "source": [
    "muhammed_word2vec_model.wv.most_similar('كورونا')"
   ]
  },
  {
   "cell_type": "code",
   "execution_count": null,
   "id": "46e4aead",
   "metadata": {},
   "outputs": [],
   "source": [
    "our_word2vec_model.wv.most_similar('كرونا')"
   ]
  },
  {
   "cell_type": "code",
   "execution_count": null,
   "id": "b6010850",
   "metadata": {},
   "outputs": [],
   "source": [
    "bakr_word2vec_model.wv.most_similar('كرونا')"
   ]
  },
  {
   "cell_type": "code",
   "execution_count": null,
   "id": "8c3a302d",
   "metadata": {},
   "outputs": [],
   "source": [
    "muhammed_word2vec_model.wv.most_similar('كرونا')"
   ]
  },
  {
   "cell_type": "code",
   "execution_count": null,
   "id": "56958f4b",
   "metadata": {},
   "outputs": [],
   "source": [
    "our_word2vec_model.wv.most_similar('covid')"
   ]
  },
  {
   "cell_type": "code",
   "execution_count": null,
   "id": "e78b4461",
   "metadata": {},
   "outputs": [],
   "source": [
    "bakr_word2vec_model.wv.most_similar('covid')"
   ]
  },
  {
   "cell_type": "code",
   "execution_count": null,
   "id": "3b0777a3",
   "metadata": {},
   "outputs": [],
   "source": [
    "muhammed_word2vec_model.wv.most_similar('covid')"
   ]
  },
  {
   "cell_type": "code",
   "execution_count": null,
   "id": "b80b608d",
   "metadata": {},
   "outputs": [],
   "source": [
    "our_word2vec_model.wv.most_similar('covid_19')"
   ]
  },
  {
   "cell_type": "code",
   "execution_count": null,
   "id": "06b2c437",
   "metadata": {},
   "outputs": [],
   "source": [
    "bakr_word2vec_model.wv.most_similar('covid_19')"
   ]
  },
  {
   "cell_type": "code",
   "execution_count": null,
   "id": "4daf15b9",
   "metadata": {},
   "outputs": [],
   "source": [
    "muhammed_word2vec_model.wv.most_similar('covid_19')"
   ]
  },
  {
   "cell_type": "code",
   "execution_count": null,
   "id": "0339832a",
   "metadata": {},
   "outputs": [],
   "source": [
    "our_word2vec_model.wv.most_similar('بايدن')"
   ]
  },
  {
   "cell_type": "code",
   "execution_count": null,
   "id": "04d3a114",
   "metadata": {},
   "outputs": [],
   "source": [
    "bakr_word2vec_model.wv.most_similar('بايدن')"
   ]
  },
  {
   "cell_type": "code",
   "execution_count": null,
   "id": "6bb67267",
   "metadata": {},
   "outputs": [],
   "source": [
    "muhammed_word2vec_model.wv.most_similar('بايدن')"
   ]
  },
  {
   "cell_type": "code",
   "execution_count": null,
   "id": "5b3ae4db",
   "metadata": {},
   "outputs": [],
   "source": [
    "our_word2vec_model.wv.most_similar('عمر_بن_الخطاب')"
   ]
  },
  {
   "cell_type": "code",
   "execution_count": null,
   "id": "23d818cb",
   "metadata": {},
   "outputs": [],
   "source": [
    "bakr_word2vec_model.wv.most_similar('عمر_بن_الخطاب')"
   ]
  },
  {
   "cell_type": "code",
   "execution_count": null,
   "id": "603aa513",
   "metadata": {},
   "outputs": [],
   "source": [
    "muhammed_word2vec_model.wv.most_similar('عمر_بن_الخطاب')"
   ]
  },
  {
   "cell_type": "code",
   "execution_count": null,
   "id": "69fcd8af",
   "metadata": {},
   "outputs": [],
   "source": [
    "our_word2vec_model.wv.most_similar('ابو_تريكه')"
   ]
  },
  {
   "cell_type": "code",
   "execution_count": null,
   "id": "9b27bb5c",
   "metadata": {},
   "outputs": [],
   "source": [
    "word2vec_model.wv.most_similar('ابو_تريكه')"
   ]
  },
  {
   "cell_type": "code",
   "execution_count": null,
   "id": "e1ee1dd6",
   "metadata": {},
   "outputs": [],
   "source": [
    "muhammed_word2vec_model.wv.most_similar('ابو_تريكه')"
   ]
  },
  {
   "cell_type": "code",
   "execution_count": null,
   "id": "35b6dee3",
   "metadata": {},
   "outputs": [],
   "source": [
    "our_word2vec_model.wv.most_similar('بن_خلدون')"
   ]
  },
  {
   "cell_type": "code",
   "execution_count": null,
   "id": "357325ac",
   "metadata": {},
   "outputs": [],
   "source": [
    "bakr_word2vec_model.wv.most_similar('بن_خلدون')"
   ]
  },
  {
   "cell_type": "code",
   "execution_count": null,
   "id": "a8f5c37b",
   "metadata": {},
   "outputs": [],
   "source": [
    "muhammed_word2vec_model.wv.most_similar('بن_خلدون')"
   ]
  },
  {
   "cell_type": "code",
   "execution_count": null,
   "id": "96c0eeec",
   "metadata": {},
   "outputs": [],
   "source": [
    "# Reduce the dimension of SENTIMENT_WORDS\n",
    "tsne_df_scale = tsne_graph(our_word2vec_model, SENTIMENT_WORDS, 500, .03)\n",
    "\n",
    "_ = init_graph_style()\n",
    "\n",
    "_ = word_display(tsne_df_scale, SENTIMENT_WORDS, \"SENTIMENT_WORDS.png\")"
   ]
  },
  {
   "cell_type": "code",
   "execution_count": null,
   "id": "aade78c7",
   "metadata": {},
   "outputs": [],
   "source": [
    "# Reduce the dimension of SENTIMENT_WORDS\n",
    "tsne_df_scale = tsne_graph(muhammed_word2vec_model, SENTIMENT_WORDS, 500, .03)\n",
    "\n",
    "_ = init_graph_style()\n",
    "\n",
    "_ = word_display(tsne_df_scale, SENTIMENT_WORDS, \"SENTIMENT_WORDS.png\")"
   ]
  },
  {
   "cell_type": "code",
   "execution_count": null,
   "id": "c5918caa",
   "metadata": {},
   "outputs": [],
   "source": [
    "# Reduce the dimension of SENTIMENT_WORDS\n",
    "tsne_df_scale = tsne_graph(bakr_word2vec_model, SENTIMENT_WORDS, 500, .03)\n",
    "\n",
    "_ = init_graph_style()\n",
    "\n",
    "_ = word_display(tsne_df_scale, SENTIMENT_WORDS, \"SENTIMENT_WORDS.png\")"
   ]
  },
  {
   "cell_type": "code",
   "execution_count": null,
   "id": "030ad10a",
   "metadata": {},
   "outputs": [],
   "source": [
    "# Reduce the dimension of NER_WORDS\n",
    "tsne_df_scale = tsne_graph(our_word2vec_model, NER_WORDS, 1400, .06)\n",
    "\n",
    "_ = init_graph_style(figsize=(16, 10))\n",
    "\n",
    "_ = word_display(tsne_df_scale, NER_WORDS, \"NER_WORDS.png\")"
   ]
  },
  {
   "cell_type": "code",
   "execution_count": null,
   "id": "c1ab70c5",
   "metadata": {},
   "outputs": [],
   "source": [
    "# Reduce the dimension of NER_WORDS\n",
    "tsne_df_scale = tsne_graph(bakr_word2vec_model, NER_WORDS, 1400, .06)\n",
    "\n",
    "_ = init_graph_style(figsize=(16, 10))\n",
    "\n",
    "_ = word_display(tsne_df_scale, NER_WORDS, \"NER_WORDS.png\")"
   ]
  },
  {
   "cell_type": "code",
   "execution_count": null,
   "id": "1d4c5b7e",
   "metadata": {},
   "outputs": [],
   "source": [
    "# Reduce the dimension of NER_WORDS\n",
    "tsne_df_scale = tsne_graph(muhammed_word2vec_model, NER_WORDS, 1400, .06)\n",
    "\n",
    "_ = init_graph_style(figsize=(16, 10))\n",
    "\n",
    "_ = word_display(tsne_df_scale, NER_WORDS, \"NER_WORDS.png\")"
   ]
  }
 ],
 "metadata": {
  "kernelspec": {
   "display_name": "Python 3",
   "language": "python",
   "name": "python3"
  },
  "language_info": {
   "codemirror_mode": {
    "name": "ipython",
    "version": 3
   },
   "file_extension": ".py",
   "mimetype": "text/x-python",
   "name": "python",
   "nbconvert_exporter": "python",
   "pygments_lexer": "ipython3",
   "version": "3.6.9"
  }
 },
 "nbformat": 4,
 "nbformat_minor": 5
}
