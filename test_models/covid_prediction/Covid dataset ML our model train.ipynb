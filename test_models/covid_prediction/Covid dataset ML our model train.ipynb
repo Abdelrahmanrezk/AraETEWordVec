{
 "cells": [
  {
   "cell_type": "code",
   "execution_count": null,
   "id": "f8c38b05",
   "metadata": {},
   "outputs": [],
   "source": [
    "import sys\n",
    "sys.path.append('../../preprocess_assets/')"
   ]
  },
  {
   "cell_type": "code",
   "execution_count": null,
   "id": "b7ce1444",
   "metadata": {},
   "outputs": [],
   "source": [
    "# Main libraries \n",
    "from sklearn.ensemble import BaggingClassifier, AdaBoostClassifier, GradientBoostingClassifier\n",
    "from sklearn.linear_model import LogisticRegression\n",
    "from sklearn.ensemble import ExtraTreesClassifier \n",
    "from sklearn.tree import DecisionTreeClassifier\n",
    "from sklearn.svm import LinearSVC\n",
    "import matplotlib.pyplot as plt\n",
    "\n",
    "# Our files\n",
    "from data_shuffling_split import *\n",
    "from features_extraction import *\n",
    "from ara_vec_preprocess_configs import *\n",
    "from ml_modeling import *"
   ]
  },
  {
   "cell_type": "code",
   "execution_count": null,
   "id": "52b125bf",
   "metadata": {},
   "outputs": [],
   "source": [
    "strat_train_set = read_file(\"train/strat_train_set.csv\")\n",
    "strat_train_set.head()"
   ]
  },
  {
   "cell_type": "code",
   "execution_count": null,
   "id": "8adb7157",
   "metadata": {},
   "outputs": [],
   "source": [
    "x_train_text, x_val_text, y_train, y_val = prepare_data(strat_train_set)"
   ]
  },
  {
   "cell_type": "code",
   "execution_count": null,
   "id": "3d443a8e",
   "metadata": {},
   "outputs": [],
   "source": [
    "x_train_text_tokenized = tokenize_using_nltk_TreebankWordTokenizer(x_train_text)\n",
    "\n",
    "print(\"Before Tokenization : \\n\", x_train_text[:3])\n",
    "print(\"=\"*50)\n",
    "print(\"After Tokenization : \\n\", x_train_text_tokenized[:3])\n",
    "print(\"=\"*50)\n",
    "\n",
    "x_val_text_tokenized = tokenize_using_nltk_TreebankWordTokenizer(x_val_text)\n",
    "\n",
    "print(\"Before Tokenization : \\n\", x_val_text[:3])\n",
    "print(\"=\"*50)\n",
    "print(\"After Tokenization : \\n\", x_val_text_tokenized[:3])\n",
    "\n",
    "fullgram_x_train_text_tokenized = get_all_ngrams(x_train_text_tokenized)\n",
    "print(\"full gram tokenization : \\n\", fullgram_x_train_text_tokenized[:3])\n",
    "print(\"=\"*50)\n",
    "fullgram_x_val_text_tokenized = get_all_ngrams(x_val_text_tokenized)\n",
    "print(\"full gram tokenization : \\n\", fullgram_x_val_text_tokenized[:3])\n",
    "print(\"=\"*50)"
   ]
  },
  {
   "cell_type": "code",
   "execution_count": null,
   "id": "a7b574d6",
   "metadata": {},
   "outputs": [],
   "source": [
    "# Get how many words inside each text after tokenization\n",
    "num_of_words_in_each_text = [len(text) for text in fullgram_x_train_text_tokenized]\n",
    "max_len = max(num_of_words_in_each_text)\n",
    "print(\"The max length is: \", max_len)\n",
    "num_of_words_in_each_text[:10]"
   ]
  },
  {
   "cell_type": "code",
   "execution_count": null,
   "id": "3442734c",
   "metadata": {},
   "outputs": [],
   "source": [
    "# count how many times these value repeated and sort them\n",
    "new_dicts = get_keys_that_val_gr_than_num(num_of_words_in_each_text, 1000)\n",
    "keys = list(new_dicts.keys())\n",
    "values = list(new_dicts.values())\n",
    "plt.style.use('dark_background')\n",
    "fig = plt.gcf()\n",
    "fig.set_size_inches(18.5, 6)\n",
    "plt.bar(range(len(new_dicts)), values, tick_label=keys)\n",
    "plt.show()"
   ]
  },
  {
   "cell_type": "code",
   "execution_count": null,
   "id": "65d666b9",
   "metadata": {},
   "outputs": [],
   "source": [
    "word2vec_model = load_word2vec_model(\"../word2vec_models/rezk_unigram_CBOW_model/train_word2vec_cbow__window_3_min_count_300\")"
   ]
  },
  {
   "cell_type": "code",
   "execution_count": null,
   "id": "9f12845c",
   "metadata": {},
   "outputs": [],
   "source": [
    "number_of_features = 300\n",
    "max_len_str = 128\n",
    "word2vec_path = \"rezk/\"\n",
    "model_path_to_save = \"../ml_models_saved/\"\n",
    "estimators = voting_models()\n",
    "\n",
    "X_train_embed_matrix = text_to_matrix_using_word2vec(word2vec_model, fullgram_x_train_text_tokenized, max_len_str)\n",
    "X_val_embed_matrix = text_to_matrix_using_word2vec(word2vec_model, fullgram_x_val_text_tokenized, max_len_str)\n",
    "\n",
    "print(X_train_embed_matrix.shape)\n",
    "print(\"=\"*50)\n",
    "print(X_val_embed_matrix.shape)\n",
    "print(\"=\"*50)"
   ]
  },
  {
   "cell_type": "markdown",
   "id": "4b7fc860",
   "metadata": {},
   "source": [
    "# Train Logistic Regression"
   ]
  },
  {
   "cell_type": "code",
   "execution_count": null,
   "id": "b5b7cca0",
   "metadata": {},
   "outputs": [],
   "source": [
    "model = LogisticRegression(penalty='l2', C=1, multi_class='multinomial', solver='lbfgs', verbose=1)\n",
    "model = ml_classifer_pipeline(model, X_train_embed_matrix, y_train, X_val_embed_matrix, y_val,word2vec_path, model_path_to_save)"
   ]
  },
  {
   "cell_type": "markdown",
   "id": "03d088a7",
   "metadata": {},
   "source": [
    "# Train SVC"
   ]
  },
  {
   "cell_type": "code",
   "execution_count": null,
   "id": "240589b5",
   "metadata": {},
   "outputs": [],
   "source": [
    "model = LinearSVC(C=0.5,  max_iter=50, verbose=1)\n",
    "model = ml_classifer_pipeline(model, X_train_embed_matrix, y_train, X_val_embed_matrix, y_val,word2vec_path, model_path_to_save)"
   ]
  },
  {
   "cell_type": "markdown",
   "id": "25ef9bae",
   "metadata": {},
   "source": [
    "# Hard Voting"
   ]
  },
  {
   "cell_type": "code",
   "execution_count": null,
   "id": "37c04c54",
   "metadata": {},
   "outputs": [],
   "source": [
    "model = VotingClassifier(estimators, voting=\"hard\")\n",
    "model = ml_classifer_pipeline(model, X_train_embed_matrix, y_train, X_val_embed_matrix, y_val,word2vec_path, model_path_to_save)"
   ]
  },
  {
   "cell_type": "markdown",
   "id": "188d2aa4",
   "metadata": {},
   "source": [
    "# AdaBoost "
   ]
  },
  {
   "cell_type": "code",
   "execution_count": null,
   "id": "75f861c7",
   "metadata": {},
   "outputs": [],
   "source": [
    "model = LinearSVC(C=0.5,  verbose=1)\n",
    "model = AdaBoostClassifier(model,  algorithm=\"SAMME\", n_estimators=5)\n",
    "model = ml_classifer_pipeline(model, X_train_embed_matrix, y_train, X_val_embed_matrix, y_val,word2vec_path, model_path_to_save)"
   ]
  },
  {
   "cell_type": "markdown",
   "id": "693af6be",
   "metadata": {},
   "source": [
    "#  Gradient Boosting"
   ]
  },
  {
   "cell_type": "code",
   "execution_count": null,
   "id": "43bc7ca3",
   "metadata": {},
   "outputs": [],
   "source": [
    "model = GradientBoostingClassifier(n_estimators=10, subsample=.1, learning_rate=.5,   max_depth=5, verbose=1)\n",
    "model = ml_classifer_pipeline(model, X_train_embed_matrix, y_train, X_val_embed_matrix, y_val,word2vec_path, model_path_to_save)"
   ]
  },
  {
   "cell_type": "markdown",
   "id": "301441b6",
   "metadata": {},
   "source": [
    "# Load best model & predict test set"
   ]
  },
  {
   "cell_type": "code",
   "execution_count": null,
   "id": "e5622579",
   "metadata": {},
   "outputs": [],
   "source": [
    "strat_test_set = read_file(\"test/strat_test_set.csv\")\n",
    "strat_test_set.head()"
   ]
  },
  {
   "cell_type": "code",
   "execution_count": null,
   "id": "9b68d7ec",
   "metadata": {},
   "outputs": [],
   "source": [
    "X_test_text = list(strat_test_set['text'])\n",
    "y_test = strat_test_set['label'].values"
   ]
  },
  {
   "cell_type": "code",
   "execution_count": null,
   "id": "68a69c22",
   "metadata": {},
   "outputs": [],
   "source": [
    "X_test_text_tokenized = tokenize_using_nltk_TreebankWordTokenizer(X_test_text)\n",
    "\n",
    "print(\"Before Tokenization : \\n\", X_test_text[:3])\n",
    "print(\"=\"*50)\n",
    "print(\"After Tokenization : \\n\", X_test_text_tokenized[:3])\n",
    "print(\"=\"*50)\n",
    "\n",
    "fullgram_X_test_text_tokenized = get_all_ngrams(X_test_text_tokenized)\n",
    "print(\"full gram tokenization : \\n\", fullgram_X_test_text_tokenized[:3])\n",
    "print(\"=\"*50)"
   ]
  },
  {
   "cell_type": "code",
   "execution_count": null,
   "id": "f5e0680a",
   "metadata": {},
   "outputs": [],
   "source": [
    "X_test_embed_matrix = text_to_matrix_using_word2vec(word2vec_model, fullgram_X_test_text_tokenized, max_len_str)\n",
    "\n",
    "print(X_test_embed_matrix.shape)\n",
    "print(\"=\"*50)"
   ]
  },
  {
   "cell_type": "code",
   "execution_count": null,
   "id": "1eab0ac4",
   "metadata": {},
   "outputs": [],
   "source": [
    "model = pickle_load_model(\"ml_models_saved/rezk/\" + )\n",
    "f1_score_result(model, X_test_embed_matrix, y_test):"
   ]
  },
  {
   "cell_type": "markdown",
   "id": "bac87e03",
   "metadata": {},
   "source": [
    "# Qualitative Evaluation"
   ]
  },
  {
   "cell_type": "code",
   "execution_count": 4,
   "id": "93c9669d",
   "metadata": {},
   "outputs": [
    {
     "name": "stdout",
     "output_type": "stream",
     "text": [
      "Collecting manimce\n",
      "  Using cached manimce-0.1.1.post2-py3-none-any.whl (249 kB)\n",
      "Collecting cairocffi<2.0.0,>=1.1.0\n",
      "  Using cached cairocffi-1.3.0-py3-none-any.whl\n",
      "Requirement already satisfied: tqdm in /home/abdelrahman/anaconda3/lib/python3.9/site-packages (from manimce) (4.62.3)\n",
      "Collecting colour\n",
      "  Using cached colour-0.1.5-py2.py3-none-any.whl (23 kB)\n",
      "Collecting pangocairocffi<0.5.0,>=0.4.0\n",
      "  Using cached pangocairocffi-0.4.0-py3-none-any.whl\n",
      "Requirement already satisfied: scipy in /home/abdelrahman/anaconda3/lib/python3.9/site-packages (from manimce) (1.7.1)\n",
      "Collecting progressbar\n",
      "  Using cached progressbar-2.5-py3-none-any.whl\n",
      "Requirement already satisfied: numpy in /home/abdelrahman/anaconda3/lib/python3.9/site-packages (from manimce) (1.20.3)\n",
      "Collecting rich<7.0,>=6.0\n",
      "  Using cached rich-6.2.0-py3-none-any.whl (150 kB)\n",
      "Collecting pangocffi<0.9.0,>=0.8.0\n",
      "  Using cached pangocffi-0.8.0-py3-none-any.whl\n",
      "Requirement already satisfied: Pillow in /home/abdelrahman/anaconda3/lib/python3.9/site-packages (from manimce) (8.4.0)\n",
      "Requirement already satisfied: pygments in /home/abdelrahman/anaconda3/lib/python3.9/site-packages (from manimce) (2.10.0)\n",
      "Collecting pydub\n",
      "  Using cached pydub-0.25.1-py2.py3-none-any.whl (32 kB)\n",
      "Collecting pycairo<2.0,>=1.19\n",
      "  Using cached pycairo-1.21.0.tar.gz (340 kB)\n",
      "  Installing build dependencies ... \u001b[?25ldone\n",
      "\u001b[?25h  Getting requirements to build wheel ... \u001b[?25ldone\n",
      "\u001b[?25h  Preparing metadata (pyproject.toml) ... \u001b[?25ldone\n",
      "\u001b[?25hRequirement already satisfied: cffi>=1.1.0 in /home/abdelrahman/anaconda3/lib/python3.9/site-packages (from cairocffi<2.0.0,>=1.1.0->manimce) (1.14.6)\n",
      "Requirement already satisfied: colorama<0.5.0,>=0.4.0 in /home/abdelrahman/anaconda3/lib/python3.9/site-packages (from rich<7.0,>=6.0->manimce) (0.4.4)\n",
      "Requirement already satisfied: typing-extensions<4.0.0,>=3.7.4 in /home/abdelrahman/anaconda3/lib/python3.9/site-packages (from rich<7.0,>=6.0->manimce) (3.10.0.2)\n",
      "Collecting commonmark<0.10.0,>=0.9.0\n",
      "  Using cached commonmark-0.9.1-py2.py3-none-any.whl (51 kB)\n",
      "Requirement already satisfied: pycparser in /home/abdelrahman/anaconda3/lib/python3.9/site-packages (from cffi>=1.1.0->cairocffi<2.0.0,>=1.1.0->manimce) (2.20)\n",
      "Building wheels for collected packages: pycairo\n",
      "  Building wheel for pycairo (pyproject.toml) ... \u001b[?25lerror\n",
      "  \u001b[1;31merror\u001b[0m: \u001b[1msubprocess-exited-with-error\u001b[0m\n",
      "  \n",
      "  \u001b[31m×\u001b[0m \u001b[32mBuilding wheel for pycairo \u001b[0m\u001b[1;32m(\u001b[0m\u001b[32mpyproject.toml\u001b[0m\u001b[1;32m)\u001b[0m did not run successfully.\n",
      "  \u001b[31m│\u001b[0m exit code: \u001b[1;36m1\u001b[0m\n",
      "  \u001b[31m╰─>\u001b[0m \u001b[31m[15 lines of output]\u001b[0m\n",
      "  \u001b[31m   \u001b[0m running bdist_wheel\n",
      "  \u001b[31m   \u001b[0m running build\n",
      "  \u001b[31m   \u001b[0m running build_py\n",
      "  \u001b[31m   \u001b[0m creating build\n",
      "  \u001b[31m   \u001b[0m creating build/lib.linux-x86_64-cpython-39\n",
      "  \u001b[31m   \u001b[0m creating build/lib.linux-x86_64-cpython-39/cairo\n",
      "  \u001b[31m   \u001b[0m copying cairo/__init__.py -> build/lib.linux-x86_64-cpython-39/cairo\n",
      "  \u001b[31m   \u001b[0m copying cairo/__init__.pyi -> build/lib.linux-x86_64-cpython-39/cairo\n",
      "  \u001b[31m   \u001b[0m copying cairo/py.typed -> build/lib.linux-x86_64-cpython-39/cairo\n",
      "  \u001b[31m   \u001b[0m running build_ext\n",
      "  \u001b[31m   \u001b[0m Package cairo was not found in the pkg-config search path.\n",
      "  \u001b[31m   \u001b[0m Perhaps you should add the directory containing `cairo.pc'\n",
      "  \u001b[31m   \u001b[0m to the PKG_CONFIG_PATH environment variable\n",
      "  \u001b[31m   \u001b[0m No package 'cairo' found\n",
      "  \u001b[31m   \u001b[0m Command '['pkg-config', '--print-errors', '--exists', 'cairo >= 1.15.10']' returned non-zero exit status 1.\n",
      "  \u001b[31m   \u001b[0m \u001b[31m[end of output]\u001b[0m\n",
      "  \n",
      "  \u001b[1;35mnote\u001b[0m: This error originates from a subprocess, and is likely not a problem with pip.\n",
      "\u001b[31m  ERROR: Failed building wheel for pycairo\u001b[0m\u001b[31m\n",
      "\u001b[0m\u001b[?25hFailed to build pycairo\n",
      "\u001b[31mERROR: Could not build wheels for pycairo, which is required to install pyproject.toml-based projects\u001b[0m\u001b[31m\n",
      "\u001b[0m"
     ]
    }
   ],
   "source": [
    "!pip3 install manimce"
   ]
  },
  {
   "cell_type": "code",
   "execution_count": 2,
   "id": "be18d902",
   "metadata": {},
   "outputs": [
    {
     "name": "stdout",
     "output_type": "stream",
     "text": [
      "Collecting mplcairo\n",
      "  Using cached mplcairo-0.4-cp39-cp39-manylinux1_x86_64.whl (858 kB)\n",
      "Collecting pycairo>=1.16.0\n",
      "  Using cached pycairo-1.21.0.tar.gz (340 kB)\n",
      "  Installing build dependencies ... \u001b[?25ldone\n",
      "\u001b[?25h  Getting requirements to build wheel ... \u001b[?25ldone\n",
      "\u001b[?25h  Preparing metadata (pyproject.toml) ... \u001b[?25ldone\n",
      "\u001b[?25hRequirement already satisfied: matplotlib>=2.2 in /home/abdelrahman/anaconda3/lib/python3.9/site-packages (from mplcairo) (3.4.3)\n",
      "Requirement already satisfied: pillow in /home/abdelrahman/anaconda3/lib/python3.9/site-packages (from mplcairo) (8.4.0)\n",
      "Requirement already satisfied: pyparsing>=2.2.1 in /home/abdelrahman/anaconda3/lib/python3.9/site-packages (from matplotlib>=2.2->mplcairo) (3.0.4)\n",
      "Requirement already satisfied: kiwisolver>=1.0.1 in /home/abdelrahman/anaconda3/lib/python3.9/site-packages (from matplotlib>=2.2->mplcairo) (1.3.1)\n",
      "Requirement already satisfied: python-dateutil>=2.7 in /home/abdelrahman/anaconda3/lib/python3.9/site-packages (from matplotlib>=2.2->mplcairo) (2.8.2)\n",
      "Requirement already satisfied: numpy>=1.16 in /home/abdelrahman/anaconda3/lib/python3.9/site-packages (from matplotlib>=2.2->mplcairo) (1.20.3)\n",
      "Requirement already satisfied: cycler>=0.10 in /home/abdelrahman/anaconda3/lib/python3.9/site-packages (from matplotlib>=2.2->mplcairo) (0.10.0)\n",
      "Requirement already satisfied: six in /home/abdelrahman/anaconda3/lib/python3.9/site-packages (from cycler>=0.10->matplotlib>=2.2->mplcairo) (1.16.0)\n",
      "Building wheels for collected packages: pycairo\n",
      "  Building wheel for pycairo (pyproject.toml) ... \u001b[?25lerror\n",
      "  \u001b[1;31merror\u001b[0m: \u001b[1msubprocess-exited-with-error\u001b[0m\n",
      "  \n",
      "  \u001b[31m×\u001b[0m \u001b[32mBuilding wheel for pycairo \u001b[0m\u001b[1;32m(\u001b[0m\u001b[32mpyproject.toml\u001b[0m\u001b[1;32m)\u001b[0m did not run successfully.\n",
      "  \u001b[31m│\u001b[0m exit code: \u001b[1;36m1\u001b[0m\n",
      "  \u001b[31m╰─>\u001b[0m \u001b[31m[15 lines of output]\u001b[0m\n",
      "  \u001b[31m   \u001b[0m running bdist_wheel\n",
      "  \u001b[31m   \u001b[0m running build\n",
      "  \u001b[31m   \u001b[0m running build_py\n",
      "  \u001b[31m   \u001b[0m creating build\n",
      "  \u001b[31m   \u001b[0m creating build/lib.linux-x86_64-cpython-39\n",
      "  \u001b[31m   \u001b[0m creating build/lib.linux-x86_64-cpython-39/cairo\n",
      "  \u001b[31m   \u001b[0m copying cairo/__init__.py -> build/lib.linux-x86_64-cpython-39/cairo\n",
      "  \u001b[31m   \u001b[0m copying cairo/__init__.pyi -> build/lib.linux-x86_64-cpython-39/cairo\n",
      "  \u001b[31m   \u001b[0m copying cairo/py.typed -> build/lib.linux-x86_64-cpython-39/cairo\n",
      "  \u001b[31m   \u001b[0m running build_ext\n",
      "  \u001b[31m   \u001b[0m Package cairo was not found in the pkg-config search path.\n",
      "  \u001b[31m   \u001b[0m Perhaps you should add the directory containing `cairo.pc'\n",
      "  \u001b[31m   \u001b[0m to the PKG_CONFIG_PATH environment variable\n",
      "  \u001b[31m   \u001b[0m No package 'cairo' found\n",
      "  \u001b[31m   \u001b[0m Command '['pkg-config', '--print-errors', '--exists', 'cairo >= 1.15.10']' returned non-zero exit status 1.\n",
      "  \u001b[31m   \u001b[0m \u001b[31m[end of output]\u001b[0m\n",
      "  \n",
      "  \u001b[1;35mnote\u001b[0m: This error originates from a subprocess, and is likely not a problem with pip.\n",
      "\u001b[31m  ERROR: Failed building wheel for pycairo\u001b[0m\u001b[31m\n",
      "\u001b[0m\u001b[?25hFailed to build pycairo\n",
      "\u001b[31mERROR: Could not build wheels for pycairo, which is required to install pyproject.toml-based projects\u001b[0m\u001b[31m\n",
      "\u001b[0m"
     ]
    }
   ],
   "source": [
    "!pip3 install mplcairo"
   ]
  },
  {
   "cell_type": "code",
   "execution_count": 1,
   "id": "51412c27",
   "metadata": {},
   "outputs": [
    {
     "ename": "ModuleNotFoundError",
     "evalue": "No module named 'mplcairo'",
     "output_type": "error",
     "traceback": [
      "\u001b[0;31m---------------------------------------------------------------------------\u001b[0m",
      "\u001b[0;31mModuleNotFoundError\u001b[0m                       Traceback (most recent call last)",
      "\u001b[0;32m/tmp/ipykernel_32731/538860326.py\u001b[0m in \u001b[0;36m<module>\u001b[0;34m\u001b[0m\n\u001b[0;32m----> 1\u001b[0;31m \u001b[0;32mimport\u001b[0m \u001b[0mmatplotlib\u001b[0m\u001b[0;34m,\u001b[0m \u001b[0mmplcairo\u001b[0m\u001b[0;34m\u001b[0m\u001b[0;34m\u001b[0m\u001b[0m\n\u001b[0m\u001b[1;32m      2\u001b[0m \u001b[0mprint\u001b[0m\u001b[0;34m(\u001b[0m\u001b[0;34m'Default backend: '\u001b[0m \u001b[0;34m+\u001b[0m \u001b[0mmatplotlib\u001b[0m\u001b[0;34m.\u001b[0m\u001b[0mget_backend\u001b[0m\u001b[0;34m(\u001b[0m\u001b[0;34m)\u001b[0m\u001b[0;34m)\u001b[0m\u001b[0;34m\u001b[0m\u001b[0;34m\u001b[0m\u001b[0m\n\u001b[1;32m      3\u001b[0m \u001b[0mmatplotlib\u001b[0m\u001b[0;34m.\u001b[0m\u001b[0muse\u001b[0m\u001b[0;34m(\u001b[0m\u001b[0;34m\"module://mplcairo.macosx\"\u001b[0m\u001b[0;34m)\u001b[0m\u001b[0;34m\u001b[0m\u001b[0;34m\u001b[0m\u001b[0m\n\u001b[1;32m      4\u001b[0m \u001b[0mprint\u001b[0m\u001b[0;34m(\u001b[0m\u001b[0;34m'Backend is now '\u001b[0m \u001b[0;34m+\u001b[0m \u001b[0mmatplotlib\u001b[0m\u001b[0;34m.\u001b[0m\u001b[0mget_backend\u001b[0m\u001b[0;34m(\u001b[0m\u001b[0;34m)\u001b[0m\u001b[0;34m)\u001b[0m\u001b[0;34m\u001b[0m\u001b[0;34m\u001b[0m\u001b[0m\n",
      "\u001b[0;31mModuleNotFoundError\u001b[0m: No module named 'mplcairo'"
     ]
    }
   ],
   "source": [
    "import matplotlib, mplcairo\n",
    "print('Default backend: ' + matplotlib.get_backend()) \n",
    "matplotlib.use(\"module://mplcairo.macosx\")\n",
    "print('Backend is now ' + matplotlib.get_backend())"
   ]
  },
  {
   "cell_type": "code",
   "execution_count": null,
   "id": "ccbf6e4f",
   "metadata": {},
   "outputs": [],
   "source": []
  }
 ],
 "metadata": {
  "kernelspec": {
   "display_name": "Python 3",
   "language": "python",
   "name": "python3"
  },
  "language_info": {
   "codemirror_mode": {
    "name": "ipython",
    "version": 3
   },
   "file_extension": ".py",
   "mimetype": "text/x-python",
   "name": "python",
   "nbconvert_exporter": "python",
   "pygments_lexer": "ipython3",
   "version": "3.9.7"
  }
 },
 "nbformat": 4,
 "nbformat_minor": 5
}
