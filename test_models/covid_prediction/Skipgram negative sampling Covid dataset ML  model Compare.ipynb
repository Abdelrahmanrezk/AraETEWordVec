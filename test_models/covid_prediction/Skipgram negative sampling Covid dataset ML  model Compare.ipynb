{
 "cells": [
  {
   "cell_type": "code",
   "execution_count": 1,
   "id": "b885da5a",
   "metadata": {},
   "outputs": [],
   "source": [
    "import sys\n",
    "sys.path.append('../../preprocess_assets/')"
   ]
  },
  {
   "cell_type": "code",
   "execution_count": 2,
   "id": "4751a123",
   "metadata": {},
   "outputs": [
    {
     "name": "stderr",
     "output_type": "stream",
     "text": [
      "/usr/lib/python3/dist-packages/requests/__init__.py:89: RequestsDependencyWarning: urllib3 (1.26.9) or chardet (3.0.4) doesn't match a supported version!\n",
      "  warnings.warn(\"urllib3 ({}) or chardet ({}) doesn't match a supported \"\n"
     ]
    }
   ],
   "source": [
    "# Main libraries \n",
    "from sklearn.ensemble import BaggingClassifier, AdaBoostClassifier, GradientBoostingClassifier\n",
    "from sklearn.linear_model import LogisticRegression\n",
    "from sklearn.ensemble import ExtraTreesClassifier \n",
    "from sklearn.tree import DecisionTreeClassifier\n",
    "from sklearn.svm import LinearSVC\n",
    "import matplotlib.pyplot as plt\n",
    "\n",
    "# Our files\n",
    "from data_shuffling_split import *\n",
    "from features_extraction import *\n",
    "from ara_vec_preprocess_configs import *\n",
    "from ml_modeling import *"
   ]
  },
  {
   "cell_type": "code",
   "execution_count": 3,
   "id": "fc7d63e1",
   "metadata": {},
   "outputs": [
    {
     "data": {
      "text/html": [
       "<div>\n",
       "<style scoped>\n",
       "    .dataframe tbody tr th:only-of-type {\n",
       "        vertical-align: middle;\n",
       "    }\n",
       "\n",
       "    .dataframe tbody tr th {\n",
       "        vertical-align: top;\n",
       "    }\n",
       "\n",
       "    .dataframe thead th {\n",
       "        text-align: right;\n",
       "    }\n",
       "</style>\n",
       "<table border=\"1\" class=\"dataframe\">\n",
       "  <thead>\n",
       "    <tr style=\"text-align: right;\">\n",
       "      <th></th>\n",
       "      <th>label</th>\n",
       "      <th>text</th>\n",
       "    </tr>\n",
       "  </thead>\n",
       "  <tbody>\n",
       "    <tr>\n",
       "      <th>0</th>\n",
       "      <td>1</td>\n",
       "      <td>مع انتشار الامراض ومنها الكورونا اليكم النصيحه...</td>\n",
       "    </tr>\n",
       "    <tr>\n",
       "      <th>1</th>\n",
       "      <td>0</td>\n",
       "      <td>1 دراسه بحثيه صادره معهد الدراسات الاستراتيجي...</td>\n",
       "    </tr>\n",
       "    <tr>\n",
       "      <th>2</th>\n",
       "      <td>1</td>\n",
       "      <td>بدات في مدينه وهان في الصين انتقلت لبعض المقاط...</td>\n",
       "    </tr>\n",
       "    <tr>\n",
       "      <th>3</th>\n",
       "      <td>1</td>\n",
       "      <td>coronarvirus CoronaOutbreak فيروس_كورونا</td>\n",
       "    </tr>\n",
       "    <tr>\n",
       "      <th>4</th>\n",
       "      <td>1</td>\n",
       "      <td>الاداره_العامه_للطيران_المدني اجراءات وقاءيه ح...</td>\n",
       "    </tr>\n",
       "  </tbody>\n",
       "</table>\n",
       "</div>"
      ],
      "text/plain": [
       "   label                                               text\n",
       "0      1  مع انتشار الامراض ومنها الكورونا اليكم النصيحه...\n",
       "1      0   1 دراسه بحثيه صادره معهد الدراسات الاستراتيجي...\n",
       "2      1  بدات في مدينه وهان في الصين انتقلت لبعض المقاط...\n",
       "3      1           coronarvirus CoronaOutbreak فيروس_كورونا\n",
       "4      1  الاداره_العامه_للطيران_المدني اجراءات وقاءيه ح..."
      ]
     },
     "execution_count": 3,
     "metadata": {},
     "output_type": "execute_result"
    }
   ],
   "source": [
    "strat_train_set = read_file(\"train/strat_train_set.csv\")\n",
    "strat_train_set.head()"
   ]
  },
  {
   "cell_type": "code",
   "execution_count": 4,
   "id": "5a66e2f2",
   "metadata": {},
   "outputs": [
    {
     "name": "stdout",
     "output_type": "stream",
     "text": [
      "The number of instances in the training data after StratifiedShuffleSplit are:  8643\n",
      "The number of instances in the testing data after StratifiedShuffleSplit are:   177\n",
      "The number of trainin instances:  8643\n",
      "The number of validation instances:  177\n",
      "The number of trainin labels :  8643\n",
      "The number of validation labels :  177\n"
     ]
    }
   ],
   "source": [
    "x_train_text, x_val_text, y_train, y_val = prepare_data(strat_train_set)"
   ]
  },
  {
   "cell_type": "code",
   "execution_count": 5,
   "id": "6d6f35a2",
   "metadata": {},
   "outputs": [
    {
     "name": "stdout",
     "output_type": "stream",
     "text": [
      "Before Tokenization : \n",
      " ['ما جاوبتني نفس الوجوه نفس الحكومه شمعني مره ما حتبوك الفلوس اكبر نغوله عبالك شنو الصين حتحاسبهم ', 'خلي روحك رياضيه لا ايران ولا امريكا جلبو الديمقراطيه للعراق الاساس والازمه العراقيه مستمره في ظل غياب المشروع الوطني ينهض كما نهضت الصين وكوريا واليابان العرب خارج العصر الايدولجيات المنتهيه الصلاحيه ونخبهم المغروره', 'نبيهم ينزلون ريفيليشنز ثري ويعطونا قصه ماتكون في جزيره تكرار ولا في مدينه ولله خلاص نبي نشوف عن واحد له منصب كبير في ويكون متعاون مع امبريلا ويخطط معها يسبب في تفشي الوباء في المقر حقهم عاد يكملون هم بقيه السيناريو يعني اكشن ٢٠ ']\n",
      "==================================================\n",
      "After Tokenization : \n",
      " [['ما', 'جاوبتني', 'نفس', 'الوجوه', 'نفس', 'الحكومه', 'شمعني', 'مره', 'ما', 'حتبوك', 'الفلوس', 'اكبر', 'نغوله', 'عبالك', 'شنو', 'الصين', 'حتحاسبهم'], ['خلي', 'روحك', 'رياضيه', 'لا', 'ايران', 'ولا', 'امريكا', 'جلبو', 'الديمقراطيه', 'للعراق', 'الاساس', 'والازمه', 'العراقيه', 'مستمره', 'في', 'ظل', 'غياب', 'المشروع', 'الوطني', 'ينهض', 'كما', 'نهضت', 'الصين', 'وكوريا', 'واليابان', 'العرب', 'خارج', 'العصر', 'الايدولجيات', 'المنتهيه', 'الصلاحيه', 'ونخبهم', 'المغروره'], ['نبيهم', 'ينزلون', 'ريفيليشنز', 'ثري', 'ويعطونا', 'قصه', 'ماتكون', 'في', 'جزيره', 'تكرار', 'ولا', 'في', 'مدينه', 'ولله', 'خلاص', 'نبي', 'نشوف', 'عن', 'واحد', 'له', 'منصب', 'كبير', 'في', 'ويكون', 'متعاون', 'مع', 'امبريلا', 'ويخطط', 'معها', 'يسبب', 'في', 'تفشي', 'الوباء', 'في', 'المقر', 'حقهم', 'عاد', 'يكملون', 'هم', 'بقيه', 'السيناريو', 'يعني', 'اكشن', '٢٠']]\n",
      "==================================================\n",
      "Before Tokenization : \n",
      " ['هه الصين ماعندها طاءرات ولا تعرف تصنعها روسيا والصين السعوديه جويا اقوي منهم هم اقوياء في الصواريخ فقط جويا تعبانين', 'خبراء فيروس كورونا سيصيب عشرات الالاف وسيستمر لاشهر', 'هناك بضاءع تاتي الصين ونسبه الاصابه كبيره بفيروس الكرونا الموجوده في العينات فهل ياخذ موظفي البريد اللي يفتحون ويشيكون علي العينات بدل خطر بدل عدو مثلهم مثل وزاره الصحه تظلم_منسوبي_البريد_السعودي']\n",
      "==================================================\n",
      "After Tokenization : \n",
      " [['هه', 'الصين', 'ماعندها', 'طاءرات', 'ولا', 'تعرف', 'تصنعها', 'روسيا', 'والصين', 'السعوديه', 'جويا', 'اقوي', 'منهم', 'هم', 'اقوياء', 'في', 'الصواريخ', 'فقط', 'جويا', 'تعبانين'], ['خبراء', 'فيروس', 'كورونا', 'سيصيب', 'عشرات', 'الالاف', 'وسيستمر', 'لاشهر'], ['هناك', 'بضاءع', 'تاتي', 'الصين', 'ونسبه', 'الاصابه', 'كبيره', 'بفيروس', 'الكرونا', 'الموجوده', 'في', 'العينات', 'فهل', 'ياخذ', 'موظفي', 'البريد', 'اللي', 'يفتحون', 'ويشيكون', 'علي', 'العينات', 'بدل', 'خطر', 'بدل', 'عدو', 'مثلهم', 'مثل', 'وزاره', 'الصحه', 'تظلم_منسوبي_البريد_السعودي']]\n",
      "full gram tokenization : \n",
      " [['ما', 'جاوبتني', 'نفس', 'الوجوه', 'نفس', 'الحكومه', 'شمعني', 'مره', 'ما', 'حتبوك', 'الفلوس', 'اكبر', 'نغوله', 'عبالك', 'شنو', 'الصين', 'حتحاسبهم', 'ما_جاوبتني', 'جاوبتني_نفس', 'نفس_الوجوه', 'الوجوه_نفس', 'نفس_الحكومه', 'الحكومه_شمعني', 'شمعني_مره', 'مره_ما', 'ما_حتبوك', 'حتبوك_الفلوس', 'الفلوس_اكبر', 'اكبر_نغوله', 'نغوله_عبالك', 'عبالك_شنو', 'شنو_الصين', 'الصين_حتحاسبهم', 'ما_جاوبتني_نفس', 'جاوبتني_نفس_الوجوه', 'نفس_الوجوه_نفس', 'الوجوه_نفس_الحكومه', 'نفس_الحكومه_شمعني', 'الحكومه_شمعني_مره', 'شمعني_مره_ما', 'مره_ما_حتبوك', 'ما_حتبوك_الفلوس', 'حتبوك_الفلوس_اكبر', 'الفلوس_اكبر_نغوله', 'اكبر_نغوله_عبالك', 'نغوله_عبالك_شنو', 'عبالك_شنو_الصين', 'شنو_الصين_حتحاسبهم'], ['خلي', 'روحك', 'رياضيه', 'لا', 'ايران', 'ولا', 'امريكا', 'جلبو', 'الديمقراطيه', 'للعراق', 'الاساس', 'والازمه', 'العراقيه', 'مستمره', 'في', 'ظل', 'غياب', 'المشروع', 'الوطني', 'ينهض', 'كما', 'نهضت', 'الصين', 'وكوريا', 'واليابان', 'العرب', 'خارج', 'العصر', 'الايدولجيات', 'المنتهيه', 'الصلاحيه', 'ونخبهم', 'المغروره', 'خلي_روحك', 'روحك_رياضيه', 'رياضيه_لا', 'لا_ايران', 'ايران_ولا', 'ولا_امريكا', 'امريكا_جلبو', 'جلبو_الديمقراطيه', 'الديمقراطيه_للعراق', 'للعراق_الاساس', 'الاساس_والازمه', 'والازمه_العراقيه', 'العراقيه_مستمره', 'مستمره_في', 'في_ظل', 'ظل_غياب', 'غياب_المشروع', 'المشروع_الوطني', 'الوطني_ينهض', 'ينهض_كما', 'كما_نهضت', 'نهضت_الصين', 'الصين_وكوريا', 'وكوريا_واليابان', 'واليابان_العرب', 'العرب_خارج', 'خارج_العصر', 'العصر_الايدولجيات', 'الايدولجيات_المنتهيه', 'المنتهيه_الصلاحيه', 'الصلاحيه_ونخبهم', 'ونخبهم_المغروره', 'خلي_روحك_رياضيه', 'روحك_رياضيه_لا', 'رياضيه_لا_ايران', 'لا_ايران_ولا', 'ايران_ولا_امريكا', 'ولا_امريكا_جلبو', 'امريكا_جلبو_الديمقراطيه', 'جلبو_الديمقراطيه_للعراق', 'الديمقراطيه_للعراق_الاساس', 'للعراق_الاساس_والازمه', 'الاساس_والازمه_العراقيه', 'والازمه_العراقيه_مستمره', 'العراقيه_مستمره_في', 'مستمره_في_ظل', 'في_ظل_غياب', 'ظل_غياب_المشروع', 'غياب_المشروع_الوطني', 'المشروع_الوطني_ينهض', 'الوطني_ينهض_كما', 'ينهض_كما_نهضت', 'كما_نهضت_الصين', 'نهضت_الصين_وكوريا', 'الصين_وكوريا_واليابان', 'وكوريا_واليابان_العرب', 'واليابان_العرب_خارج', 'العرب_خارج_العصر', 'خارج_العصر_الايدولجيات', 'العصر_الايدولجيات_المنتهيه', 'الايدولجيات_المنتهيه_الصلاحيه', 'المنتهيه_الصلاحيه_ونخبهم', 'الصلاحيه_ونخبهم_المغروره'], ['نبيهم', 'ينزلون', 'ريفيليشنز', 'ثري', 'ويعطونا', 'قصه', 'ماتكون', 'في', 'جزيره', 'تكرار', 'ولا', 'في', 'مدينه', 'ولله', 'خلاص', 'نبي', 'نشوف', 'عن', 'واحد', 'له', 'منصب', 'كبير', 'في', 'ويكون', 'متعاون', 'مع', 'امبريلا', 'ويخطط', 'معها', 'يسبب', 'في', 'تفشي', 'الوباء', 'في', 'المقر', 'حقهم', 'عاد', 'يكملون', 'هم', 'بقيه', 'السيناريو', 'يعني', 'اكشن', '٢٠', 'نبيهم_ينزلون', 'ينزلون_ريفيليشنز', 'ريفيليشنز_ثري', 'ثري_ويعطونا', 'ويعطونا_قصه', 'قصه_ماتكون', 'ماتكون_في', 'في_جزيره', 'جزيره_تكرار', 'تكرار_ولا', 'ولا_في', 'في_مدينه', 'مدينه_ولله', 'ولله_خلاص', 'خلاص_نبي', 'نبي_نشوف', 'نشوف_عن', 'عن_واحد', 'واحد_له', 'له_منصب', 'منصب_كبير', 'كبير_في', 'في_ويكون', 'ويكون_متعاون', 'متعاون_مع', 'مع_امبريلا', 'امبريلا_ويخطط', 'ويخطط_معها', 'معها_يسبب', 'يسبب_في', 'في_تفشي', 'تفشي_الوباء', 'الوباء_في', 'في_المقر', 'المقر_حقهم', 'حقهم_عاد', 'عاد_يكملون', 'يكملون_هم', 'هم_بقيه', 'بقيه_السيناريو', 'السيناريو_يعني', 'يعني_اكشن', 'اكشن_٢٠', 'نبيهم_ينزلون_ريفيليشنز', 'ينزلون_ريفيليشنز_ثري', 'ريفيليشنز_ثري_ويعطونا', 'ثري_ويعطونا_قصه', 'ويعطونا_قصه_ماتكون', 'قصه_ماتكون_في', 'ماتكون_في_جزيره', 'في_جزيره_تكرار', 'جزيره_تكرار_ولا', 'تكرار_ولا_في', 'ولا_في_مدينه', 'في_مدينه_ولله', 'مدينه_ولله_خلاص', 'ولله_خلاص_نبي', 'خلاص_نبي_نشوف', 'نبي_نشوف_عن', 'نشوف_عن_واحد', 'عن_واحد_له', 'واحد_له_منصب', 'له_منصب_كبير', 'منصب_كبير_في', 'كبير_في_ويكون', 'في_ويكون_متعاون', 'ويكون_متعاون_مع', 'متعاون_مع_امبريلا', 'مع_امبريلا_ويخطط', 'امبريلا_ويخطط_معها', 'ويخطط_معها_يسبب', 'معها_يسبب_في', 'يسبب_في_تفشي', 'في_تفشي_الوباء', 'تفشي_الوباء_في', 'الوباء_في_المقر', 'في_المقر_حقهم', 'المقر_حقهم_عاد', 'حقهم_عاد_يكملون', 'عاد_يكملون_هم', 'يكملون_هم_بقيه', 'هم_بقيه_السيناريو', 'بقيه_السيناريو_يعني', 'السيناريو_يعني_اكشن', 'يعني_اكشن_٢٠']]\n",
      "==================================================\n",
      "full gram tokenization : \n",
      " [['هه', 'الصين', 'ماعندها', 'طاءرات', 'ولا', 'تعرف', 'تصنعها', 'روسيا', 'والصين', 'السعوديه', 'جويا', 'اقوي', 'منهم', 'هم', 'اقوياء', 'في', 'الصواريخ', 'فقط', 'جويا', 'تعبانين', 'هه_الصين', 'الصين_ماعندها', 'ماعندها_طاءرات', 'طاءرات_ولا', 'ولا_تعرف', 'تعرف_تصنعها', 'تصنعها_روسيا', 'روسيا_والصين', 'والصين_السعوديه', 'السعوديه_جويا', 'جويا_اقوي', 'اقوي_منهم', 'منهم_هم', 'هم_اقوياء', 'اقوياء_في', 'في_الصواريخ', 'الصواريخ_فقط', 'فقط_جويا', 'جويا_تعبانين', 'هه_الصين_ماعندها', 'الصين_ماعندها_طاءرات', 'ماعندها_طاءرات_ولا', 'طاءرات_ولا_تعرف', 'ولا_تعرف_تصنعها', 'تعرف_تصنعها_روسيا', 'تصنعها_روسيا_والصين', 'روسيا_والصين_السعوديه', 'والصين_السعوديه_جويا', 'السعوديه_جويا_اقوي', 'جويا_اقوي_منهم', 'اقوي_منهم_هم', 'منهم_هم_اقوياء', 'هم_اقوياء_في', 'اقوياء_في_الصواريخ', 'في_الصواريخ_فقط', 'الصواريخ_فقط_جويا', 'فقط_جويا_تعبانين'], ['خبراء', 'فيروس', 'كورونا', 'سيصيب', 'عشرات', 'الالاف', 'وسيستمر', 'لاشهر', 'خبراء_فيروس', 'فيروس_كورونا', 'كورونا_سيصيب', 'سيصيب_عشرات', 'عشرات_الالاف', 'الالاف_وسيستمر', 'وسيستمر_لاشهر', 'خبراء_فيروس_كورونا', 'فيروس_كورونا_سيصيب', 'كورونا_سيصيب_عشرات', 'سيصيب_عشرات_الالاف', 'عشرات_الالاف_وسيستمر', 'الالاف_وسيستمر_لاشهر'], ['هناك', 'بضاءع', 'تاتي', 'الصين', 'ونسبه', 'الاصابه', 'كبيره', 'بفيروس', 'الكرونا', 'الموجوده', 'في', 'العينات', 'فهل', 'ياخذ', 'موظفي', 'البريد', 'اللي', 'يفتحون', 'ويشيكون', 'علي', 'العينات', 'بدل', 'خطر', 'بدل', 'عدو', 'مثلهم', 'مثل', 'وزاره', 'الصحه', 'تظلم_منسوبي_البريد_السعودي', 'هناك_بضاءع', 'بضاءع_تاتي', 'تاتي_الصين', 'الصين_ونسبه', 'ونسبه_الاصابه', 'الاصابه_كبيره', 'كبيره_بفيروس', 'بفيروس_الكرونا', 'الكرونا_الموجوده', 'الموجوده_في', 'في_العينات', 'العينات_فهل', 'فهل_ياخذ', 'ياخذ_موظفي', 'موظفي_البريد', 'البريد_اللي', 'اللي_يفتحون', 'يفتحون_ويشيكون', 'ويشيكون_علي', 'علي_العينات', 'العينات_بدل', 'بدل_خطر', 'خطر_بدل', 'بدل_عدو', 'عدو_مثلهم', 'مثلهم_مثل', 'مثل_وزاره', 'وزاره_الصحه', 'الصحه_تظلم_منسوبي_البريد_السعودي', 'هناك_بضاءع_تاتي', 'بضاءع_تاتي_الصين', 'تاتي_الصين_ونسبه', 'الصين_ونسبه_الاصابه', 'ونسبه_الاصابه_كبيره', 'الاصابه_كبيره_بفيروس', 'كبيره_بفيروس_الكرونا', 'بفيروس_الكرونا_الموجوده', 'الكرونا_الموجوده_في', 'الموجوده_في_العينات', 'في_العينات_فهل', 'العينات_فهل_ياخذ', 'فهل_ياخذ_موظفي', 'ياخذ_موظفي_البريد', 'موظفي_البريد_اللي', 'البريد_اللي_يفتحون', 'اللي_يفتحون_ويشيكون', 'يفتحون_ويشيكون_علي', 'ويشيكون_علي_العينات', 'علي_العينات_بدل', 'العينات_بدل_خطر', 'بدل_خطر_بدل', 'خطر_بدل_عدو', 'بدل_عدو_مثلهم', 'عدو_مثلهم_مثل', 'مثلهم_مثل_وزاره', 'مثل_وزاره_الصحه', 'وزاره_الصحه_تظلم_منسوبي_البريد_السعودي']]\n",
      "==================================================\n"
     ]
    }
   ],
   "source": [
    "x_train_text_tokenized = tokenize_using_nltk_TreebankWordTokenizer(x_train_text)\n",
    "\n",
    "print(\"Before Tokenization : \\n\", x_train_text[:3])\n",
    "print(\"=\"*50)\n",
    "print(\"After Tokenization : \\n\", x_train_text_tokenized[:3])\n",
    "print(\"=\"*50)\n",
    "\n",
    "x_val_text_tokenized = tokenize_using_nltk_TreebankWordTokenizer(x_val_text)\n",
    "\n",
    "print(\"Before Tokenization : \\n\", x_val_text[:3])\n",
    "print(\"=\"*50)\n",
    "print(\"After Tokenization : \\n\", x_val_text_tokenized[:3])\n",
    "\n",
    "fullgram_x_train_text_tokenized = get_all_ngrams(x_train_text_tokenized)\n",
    "print(\"full gram tokenization : \\n\", fullgram_x_train_text_tokenized[:3])\n",
    "print(\"=\"*50)\n",
    "fullgram_x_val_text_tokenized = get_all_ngrams(x_val_text_tokenized)\n",
    "print(\"full gram tokenization : \\n\", fullgram_x_val_text_tokenized[:3])\n",
    "print(\"=\"*50)"
   ]
  },
  {
   "cell_type": "code",
   "execution_count": 6,
   "id": "ac0b94a3",
   "metadata": {},
   "outputs": [
    {
     "name": "stdout",
     "output_type": "stream",
     "text": [
      "The max length is:  237\n"
     ]
    },
    {
     "data": {
      "text/plain": [
       "[48, 96, 129, 42, 57, 126, 12, 33, 21, 36]"
      ]
     },
     "execution_count": 6,
     "metadata": {},
     "output_type": "execute_result"
    }
   ],
   "source": [
    "# Get how many words inside each text after tokenization\n",
    "num_of_words_in_each_text = [len(text) for text in fullgram_x_train_text_tokenized]\n",
    "max_len = max(num_of_words_in_each_text)\n",
    "print(\"The max length is: \", max_len)\n",
    "num_of_words_in_each_text[:10]"
   ]
  },
  {
   "cell_type": "code",
   "execution_count": 9,
   "id": "b6f3942f",
   "metadata": {},
   "outputs": [
    {
     "name": "stdout",
     "output_type": "stream",
     "text": [
      "The number of keys before removing are:  63\n",
      "==================================================\n",
      "The number of keys after removing some of them are:  47\n",
      "==================================================\n"
     ]
    },
    {
     "data": {
      "image/png": "[encoded data removed]",
      "text/plain": [
       "<Figure size 1332x432 with 1 Axes>"
      ]
     },
     "metadata": {},
     "output_type": "display_data"
    }
   ],
   "source": [
    "# count how many times these value repeated and sort them\n",
    "new_dicts = get_keys_that_val_gr_than_num(num_of_words_in_each_text, 50)\n",
    "keys = list(new_dicts.keys())\n",
    "values = list(new_dicts.values())\n",
    "plt.style.use('dark_background')\n",
    "fig = plt.gcf()\n",
    "fig.set_size_inches(18.5, 6)\n",
    "plt.bar(range(len(new_dicts)), values, tick_label=keys)\n",
    "plt.show()"
   ]
  },
  {
   "cell_type": "markdown",
   "id": "7c3eaa1b",
   "metadata": {},
   "source": [
    "# Our CBOW Word2Vec Model"
   ]
  },
  {
   "cell_type": "code",
   "execution_count": 10,
   "id": "59e2ab31",
   "metadata": {},
   "outputs": [],
   "source": [
    "our_word2vec_model = load_word2vec_model(\"../word2vec_models/rezk/skipgram_NS/sk_gr_negative_sampeling_fullgram_vec_size_300-d_min_count_100\")"
   ]
  },
  {
   "cell_type": "code",
   "execution_count": 11,
   "id": "574029fe",
   "metadata": {},
   "outputs": [
    {
     "name": "stdout",
     "output_type": "stream",
     "text": [
      "==================================================\n",
      "(8643, 237, 300)\n",
      "(8643, 71100)\n",
      "==================================================\n",
      "[-1.4209e-01 -5.7648e-02 -2.1655e-01  1.8848e-01 -1.1725e-01 -2.6367e-01\n",
      " -5.2605e-03  3.3936e-02  2.4634e-01  3.2104e-02  5.2826e-02  3.0065e-04\n",
      "  7.6904e-02 -1.0834e-01 -2.4216e-02  1.5601e-01  2.0935e-01 -2.3914e-01\n",
      " -1.2769e-01 -3.5059e-01 -2.2995e-02 -1.7297e-01 -7.0374e-02  6.0822e-02\n",
      "  2.8564e-02 -2.4683e-01  4.9469e-02  2.9282e-02 -2.6660e-01 -1.2756e-01\n",
      "  2.7124e-01 -1.6357e-01  1.7078e-01 -1.4563e-01 -6.8481e-02  1.3013e-01\n",
      "  6.5552e-02  1.4343e-01  2.7808e-01 -7.5674e-04 -2.3987e-01  2.9968e-02\n",
      " -1.0907e-01 -3.5205e-01  2.2876e-01  2.4219e-01 -3.6743e-02  2.2375e-01\n",
      " -2.0309e-02 -6.7993e-02]\n",
      "==================================================\n",
      "(177, 237, 300)\n",
      "(177, 71100)\n",
      "==================================================\n",
      "[-1.1703e-02 -1.1072e-01 -3.3203e-02  1.5625e-01 -2.6587e-01 -2.9785e-01\n",
      "  1.0144e-01  2.5903e-01 -2.5986e-02 -1.1633e-01 -1.1334e-01  1.3342e-01\n",
      "  1.1078e-01 -2.1265e-01  1.5515e-01  9.7046e-02  7.2815e-02 -3.5187e-02\n",
      "  5.2917e-02 -7.5562e-02 -1.4000e-02 -1.3708e-01 -7.4097e-02 -8.6899e-03\n",
      " -1.1009e-04 -2.6440e-01 -1.0474e-01 -1.1786e-01 -7.9529e-02 -1.1353e-01\n",
      "  1.8896e-01 -4.0833e-02  8.0139e-02  1.9577e-02 -1.2988e-01 -9.3750e-02\n",
      "  2.0129e-01  1.6541e-01  2.6880e-01  2.3328e-01 -2.3657e-01  2.0911e-01\n",
      " -1.3464e-01 -2.6147e-01  3.5938e-01 -5.2063e-02  2.0645e-02  2.9199e-01\n",
      "  5.9845e-02 -1.8677e-01]\n",
      "(8643, 71100)\n",
      "==================================================\n",
      "(177, 71100)\n",
      "==================================================\n"
     ]
    }
   ],
   "source": [
    "number_of_features = 300\n",
    "max_len_str = 237\n",
    "word2vec_path = \"rezk/skipgram_NS/\"\n",
    "model_path_to_save = \"../ml_models_saved/\"\n",
    "estimators = voting_models()\n",
    "\n",
    "X_train_embed_matrix = text_to_matrix_using_word2vec(our_word2vec_model, fullgram_x_train_text_tokenized, max_len_str)\n",
    "X_val_embed_matrix = text_to_matrix_using_word2vec(our_word2vec_model, fullgram_x_val_text_tokenized, max_len_str)\n",
    "\n",
    "print(X_train_embed_matrix.shape)\n",
    "print(\"=\"*50)\n",
    "print(X_val_embed_matrix.shape)\n",
    "print(\"=\"*50)"
   ]
  },
  {
   "cell_type": "code",
   "execution_count": 12,
   "id": "26c814a0",
   "metadata": {},
   "outputs": [
    {
     "name": "stderr",
     "output_type": "stream",
     "text": [
      "[Parallel(n_jobs=1)]: Using backend SequentialBackend with 1 concurrent workers.\n"
     ]
    },
    {
     "name": "stdout",
     "output_type": "stream",
     "text": [
      "RUNNING THE L-BFGS-B CODE\n",
      "\n",
      "           * * *\n",
      "\n",
      "Machine precision = 2.220D-16\n",
      " N =       142202     M =           10\n",
      "\n",
      "At X0         0 variables are exactly at the bounds\n",
      "\n",
      "At iterate    0    f=  5.99087D+03    |proj g|=  4.53500D+02\n"
     ]
    },
    {
     "name": "stderr",
     "output_type": "stream",
     "text": [
      " This problem is unconstrained.\n"
     ]
    },
    {
     "name": "stdout",
     "output_type": "stream",
     "text": [
      "\n",
      "At iterate   50    f=  2.09654D+02    |proj g|=  2.68755D+00\n",
      "\n",
      "At iterate  100    f=  2.01179D+02    |proj g|=  4.17258D-02\n",
      "\n",
      "           * * *\n",
      "\n",
      "Tit   = total number of iterations\n",
      "Tnf   = total number of function evaluations\n",
      "Tnint = total number of segments explored during Cauchy searches\n",
      "Skip  = number of BFGS updates skipped\n",
      "Nact  = number of active bounds at final generalized Cauchy point\n",
      "Projg = norm of the final projected gradient\n",
      "F     = final function value\n",
      "\n",
      "           * * *\n",
      "\n",
      "   N    Tit     Tnf  Tnint  Skip  Nact     Projg        F\n",
      "*****    100    112      1     0     0   4.173D-02   2.012D+02\n",
      "  F =   201.17856918411724     \n",
      "\n",
      "STOP: TOTAL NO. of ITERATIONS REACHED LIMIT                 \n",
      "===================== Validate Result =====================\n",
      "F1 score is:  0.8983050847457628\n",
      "It takes to run:  0:01:22.065151\n",
      "==================================================\n"
     ]
    },
    {
     "name": "stderr",
     "output_type": "stream",
     "text": [
      "/usr/local/lib/python3.8/dist-packages/sklearn/linear_model/_logistic.py:814: ConvergenceWarning: lbfgs failed to converge (status=1):\n",
      "STOP: TOTAL NO. of ITERATIONS REACHED LIMIT.\n",
      "\n",
      "Increase the number of iterations (max_iter) or scale the data as shown in:\n",
      "    https://scikit-learn.org/stable/modules/preprocessing.html\n",
      "Please also refer to the documentation for alternative solver options:\n",
      "    https://scikit-learn.org/stable/modules/linear_model.html#logistic-regression\n",
      "  n_iter_i = _check_optimize_result(\n",
      "[Parallel(n_jobs=1)]: Done   1 out of   1 | elapsed:  1.3min finished\n"
     ]
    },
    {
     "name": "stdout",
     "output_type": "stream",
     "text": [
      "[LibLinear].....\n",
      "optimization finished, #iter = 50\n",
      "\n",
      "WARNING: reaching max number of iterations\n",
      "Using -s 2 may be faster (also see FAQ)\n",
      "\n",
      "Objective value = -34.459328\n",
      "nSV = 2859\n",
      "===================== Validate Result =====================\n",
      "F1 score is:  0.8870056497175142\n",
      "It takes to run:  0:00:10.123377\n",
      "==================================================\n"
     ]
    },
    {
     "name": "stderr",
     "output_type": "stream",
     "text": [
      "/usr/local/lib/python3.8/dist-packages/sklearn/svm/_base.py:1206: ConvergenceWarning: Liblinear failed to converge, increase the number of iterations.\n",
      "  warnings.warn(\n"
     ]
    },
    {
     "name": "stdout",
     "output_type": "stream",
     "text": [
      "[LibLinear].*\n",
      "optimization finished, #iter = 12\n",
      "Objective value = -0.317971\n",
      "nSV = 8178\n",
      "[LibLinear].*\n",
      "optimization finished, #iter = 11\n",
      "Objective value = -0.406193\n",
      "nSV = 8562\n",
      "[LibLinear].\n",
      "optimization finished, #iter = 10\n",
      "Objective value = -0.413262\n",
      "nSV = 8643\n",
      "[LibLinear].\n",
      "optimization finished, #iter = 10\n",
      "Objective value = -0.437766\n",
      "nSV = 8643\n",
      "[LibLinear]\n",
      "optimization finished, #iter = 9\n",
      "Objective value = -0.444185\n",
      "nSV = 8643\n",
      "===================== Validate Result =====================\n",
      "F1 score is:  0.9378531073446328\n",
      "It takes to run:  0:00:59.488991\n",
      "==================================================\n",
      "      Iter       Train Loss      OOB Improve   Remaining Time \n",
      "         1           1.0090           0.0498           23.39s\n",
      "         2           0.9360           0.0145           20.48s\n",
      "         3           0.9661           0.0221           18.21s\n",
      "         4           0.8383          -0.0109           15.31s\n",
      "         5           0.8199          -0.0387           12.85s\n",
      "         6           0.8606          -0.4523           10.30s\n",
      "         7           0.8017          -0.0673            7.71s\n",
      "         8           1.3275          -0.1940            5.19s\n",
      "         9           0.9746          -1.6648            2.60s\n",
      "        10           2.4758          -0.0802            0.00s\n",
      "===================== Validate Result =====================\n",
      "F1 score is:  0.711864406779661\n",
      "It takes to run:  0:00:28.281354\n",
      "==================================================\n"
     ]
    }
   ],
   "source": [
    "# Train Logistic Regression\n",
    "\n",
    "model = LogisticRegression(penalty='l2', C=1, multi_class='multinomial', solver='lbfgs', verbose=1)\n",
    "model = ml_classifer_pipeline(model, X_train_embed_matrix, y_train, X_val_embed_matrix, y_val,word2vec_path, model_path_to_save)\n",
    "\n",
    "print(\"=\" * 50)\n",
    "\n",
    "# Train SVC\n",
    "\n",
    "model = LinearSVC(C=0.5,  max_iter=50, verbose=1)\n",
    "model = ml_classifer_pipeline(model, X_train_embed_matrix, y_train, X_val_embed_matrix, y_val,word2vec_path, model_path_to_save)\n",
    "\n",
    "\n",
    "# AdaBoost \n",
    "print(\"=\" * 50)\n",
    "\n",
    "\n",
    "model = LinearSVC(C=0.5,  verbose=1)\n",
    "model = AdaBoostClassifier(model,  algorithm=\"SAMME\", n_estimators=5)\n",
    "model = ml_classifer_pipeline(model, X_train_embed_matrix, y_train, X_val_embed_matrix, y_val,word2vec_path, model_path_to_save)\n",
    "\n",
    "#  Gradient Boosting\n",
    "print(\"=\" * 50)\n",
    "\n",
    "model = GradientBoostingClassifier(n_estimators=10, subsample=.1, learning_rate=.5,   max_depth=5, verbose=1)\n",
    "model = ml_classifer_pipeline(model, X_train_embed_matrix, y_train, X_val_embed_matrix, y_val,word2vec_path, model_path_to_save)\n",
    "print(\"=\" * 50)\n"
   ]
  },
  {
   "cell_type": "markdown",
   "id": "d725e2ea",
   "metadata": {},
   "source": [
    "# Load best model & predict test set"
   ]
  },
  {
   "cell_type": "code",
   "execution_count": 13,
   "id": "7a6fd01f",
   "metadata": {},
   "outputs": [
    {
     "data": {
      "text/html": [
       "<div>\n",
       "<style scoped>\n",
       "    .dataframe tbody tr th:only-of-type {\n",
       "        vertical-align: middle;\n",
       "    }\n",
       "\n",
       "    .dataframe tbody tr th {\n",
       "        vertical-align: top;\n",
       "    }\n",
       "\n",
       "    .dataframe thead th {\n",
       "        text-align: right;\n",
       "    }\n",
       "</style>\n",
       "<table border=\"1\" class=\"dataframe\">\n",
       "  <thead>\n",
       "    <tr style=\"text-align: right;\">\n",
       "      <th></th>\n",
       "      <th>label</th>\n",
       "      <th>text</th>\n",
       "    </tr>\n",
       "  </thead>\n",
       "  <tbody>\n",
       "    <tr>\n",
       "      <th>0</th>\n",
       "      <td>1</td>\n",
       "      <td>حساء خفافيش الصين ابداع القرف يعني</td>\n",
       "    </tr>\n",
       "    <tr>\n",
       "      <th>1</th>\n",
       "      <td>1</td>\n",
       "      <td>اجراءات هكذا استعدت مصر لمواجهه فيروس كورونا م...</td>\n",
       "    </tr>\n",
       "    <tr>\n",
       "      <th>2</th>\n",
       "      <td>1</td>\n",
       "      <td>ايش الفايده لابس كمامات ومو لابس قفازات</td>\n",
       "    </tr>\n",
       "    <tr>\n",
       "      <th>3</th>\n",
       "      <td>0</td>\n",
       "      <td>الجدير بالذكر ان في الصين بيستخدموا ال في كل ح...</td>\n",
       "    </tr>\n",
       "    <tr>\n",
       "      <th>4</th>\n",
       "      <td>0</td>\n",
       "      <td>ولو ترسل صواريخ الصين وقفنا دون برج الفيصليه</td>\n",
       "    </tr>\n",
       "  </tbody>\n",
       "</table>\n",
       "</div>"
      ],
      "text/plain": [
       "   label                                               text\n",
       "0      1                 حساء خفافيش الصين ابداع القرف يعني\n",
       "1      1  اجراءات هكذا استعدت مصر لمواجهه فيروس كورونا م...\n",
       "2      1            ايش الفايده لابس كمامات ومو لابس قفازات\n",
       "3      0  الجدير بالذكر ان في الصين بيستخدموا ال في كل ح...\n",
       "4      0       ولو ترسل صواريخ الصين وقفنا دون برج الفيصليه"
      ]
     },
     "execution_count": 13,
     "metadata": {},
     "output_type": "execute_result"
    }
   ],
   "source": [
    "strat_test_set = read_file(\"test/strat_test_set.csv\")\n",
    "strat_test_set.head()"
   ]
  },
  {
   "cell_type": "code",
   "execution_count": 14,
   "id": "3ed79471",
   "metadata": {},
   "outputs": [],
   "source": [
    "X_test_text = list(strat_test_set['text'])\n",
    "y_test = strat_test_set['label'].values"
   ]
  },
  {
   "cell_type": "code",
   "execution_count": 15,
   "id": "4e3bee62",
   "metadata": {},
   "outputs": [
    {
     "name": "stdout",
     "output_type": "stream",
     "text": [
      "Before Tokenization : \n",
      " ['حساء خفافيش الصين ابداع القرف يعني', 'اجراءات هكذا استعدت مصر لمواجهه فيروس كورونا مرايتي', 'ايش الفايده لابس كمامات ومو لابس قفازات']\n",
      "==================================================\n",
      "After Tokenization : \n",
      " [['حساء', 'خفافيش', 'الصين', 'ابداع', 'القرف', 'يعني'], ['اجراءات', 'هكذا', 'استعدت', 'مصر', 'لمواجهه', 'فيروس', 'كورونا', 'مرايتي'], ['ايش', 'الفايده', 'لابس', 'كمامات', 'ومو', 'لابس', 'قفازات']]\n",
      "==================================================\n",
      "full gram tokenization : \n",
      " [['حساء', 'خفافيش', 'الصين', 'ابداع', 'القرف', 'يعني', 'حساء_خفافيش', 'خفافيش_الصين', 'الصين_ابداع', 'ابداع_القرف', 'القرف_يعني', 'حساء_خفافيش_الصين', 'خفافيش_الصين_ابداع', 'الصين_ابداع_القرف', 'ابداع_القرف_يعني'], ['اجراءات', 'هكذا', 'استعدت', 'مصر', 'لمواجهه', 'فيروس', 'كورونا', 'مرايتي', 'اجراءات_هكذا', 'هكذا_استعدت', 'استعدت_مصر', 'مصر_لمواجهه', 'لمواجهه_فيروس', 'فيروس_كورونا', 'كورونا_مرايتي', 'اجراءات_هكذا_استعدت', 'هكذا_استعدت_مصر', 'استعدت_مصر_لمواجهه', 'مصر_لمواجهه_فيروس', 'لمواجهه_فيروس_كورونا', 'فيروس_كورونا_مرايتي'], ['ايش', 'الفايده', 'لابس', 'كمامات', 'ومو', 'لابس', 'قفازات', 'ايش_الفايده', 'الفايده_لابس', 'لابس_كمامات', 'كمامات_ومو', 'ومو_لابس', 'لابس_قفازات', 'ايش_الفايده_لابس', 'الفايده_لابس_كمامات', 'لابس_كمامات_ومو', 'كمامات_ومو_لابس', 'ومو_لابس_قفازات']]\n",
      "==================================================\n"
     ]
    }
   ],
   "source": [
    "X_test_text_tokenized = tokenize_using_nltk_TreebankWordTokenizer(X_test_text)\n",
    "\n",
    "print(\"Before Tokenization : \\n\", X_test_text[:3])\n",
    "print(\"=\"*50)\n",
    "print(\"After Tokenization : \\n\", X_test_text_tokenized[:3])\n",
    "print(\"=\"*50)\n",
    "\n",
    "fullgram_X_test_text_tokenized = get_all_ngrams(X_test_text_tokenized)\n",
    "print(\"full gram tokenization : \\n\", fullgram_X_test_text_tokenized[:3])\n",
    "print(\"=\"*50)"
   ]
  },
  {
   "cell_type": "code",
   "execution_count": 16,
   "id": "166dddee",
   "metadata": {},
   "outputs": [
    {
     "name": "stdout",
     "output_type": "stream",
     "text": [
      "==================================================\n",
      "(180, 237, 300)\n",
      "(180, 71100)\n",
      "==================================================\n",
      "[-3.567e-04 -8.929e-02  2.818e-02  2.356e-01  1.252e-01  3.792e-03\n",
      " -2.191e-02  5.156e-01  1.274e-01 -2.681e-01 -3.408e-01 -1.803e-01\n",
      " -1.157e-01  1.272e-01 -3.137e-01 -2.996e-01  1.681e-01 -7.983e-02\n",
      " -1.969e-01 -5.366e-01 -3.218e-03 -3.503e-01  2.489e-01 -1.070e-01\n",
      "  4.443e-01  1.738e-02 -2.444e-01 -5.503e-01 -3.960e-01  3.381e-01\n",
      "  1.674e-01 -5.487e-02  3.347e-01  1.087e-01  2.939e-01  1.553e-01\n",
      "  3.411e-01  2.720e-01  3.496e-03 -2.512e-01  2.664e-01  2.593e-01\n",
      "  8.331e-02 -1.775e-01  2.263e-01  1.796e-01  1.604e-01 -5.878e-02\n",
      "  2.223e-01  3.082e-02]\n",
      "===================== Validate Result =====================\n",
      "F1 score is:  0.9333333333333333\n"
     ]
    },
    {
     "data": {
      "text/plain": [
       "0.933"
      ]
     },
     "execution_count": 16,
     "metadata": {},
     "output_type": "execute_result"
    }
   ],
   "source": [
    "rezk_model = pickle_load_model(\"../ml_models_saved/rezk/skipgram_NS/AdaBoostClassifier__f1_0.938_ml.sav\"  )\n",
    "X_test_embed_matrix = text_to_matrix_using_word2vec(our_word2vec_model, fullgram_X_test_text_tokenized, max_len_str)\n",
    "f1_score_result(rezk_model, X_test_embed_matrix, y_test)"
   ]
  },
  {
   "cell_type": "markdown",
   "id": "3761c573",
   "metadata": {},
   "source": [
    "# Qualitative Evaluation"
   ]
  },
  {
   "cell_type": "code",
   "execution_count": 17,
   "id": "f9751065",
   "metadata": {},
   "outputs": [
    {
     "name": "stdout",
     "output_type": "stream",
     "text": [
      "The number of words the model learn from your dataset are: 2027042\n"
     ]
    }
   ],
   "source": [
    "print(\"The number of words the model learn from your dataset are:\", len(list(our_word2vec_model.wv.index_to_key)))"
   ]
  },
  {
   "cell_type": "code",
   "execution_count": 18,
   "id": "b50139c3",
   "metadata": {},
   "outputs": [
    {
     "data": {
      "text/plain": [
       "[('تطاوين', 0.6648058891296387),\n",
       " ('بنزرت', 0.6583719849586487),\n",
       " ('بصفاقس', 0.6510608196258545),\n",
       " ('توزر', 0.6484861969947815),\n",
       " ('بنقردان', 0.6472850441932678),\n",
       " ('الصويره', 0.6449536681175232),\n",
       " ('جندوبه', 0.6360098123550415),\n",
       " ('صفاقس', 0.6333075761795044),\n",
       " ('سبيطله', 0.6281508207321167),\n",
       " ('سليانه', 0.6279425024986267)]"
      ]
     },
     "execution_count": 18,
     "metadata": {},
     "output_type": "execute_result"
    }
   ],
   "source": [
    "our_word2vec_model.wv.most_similar('قابس')"
   ]
  },
  {
   "cell_type": "code",
   "execution_count": 19,
   "id": "ff6ee4b3",
   "metadata": {},
   "outputs": [
    {
     "data": {
      "text/plain": [
       "[('المنصوره', 0.8299264311790466),\n",
       " ('دمياط', 0.8005159497261047),\n",
       " ('اسيوط', 0.7954678535461426),\n",
       " ('اسكندريه', 0.7901728749275208),\n",
       " ('الزقازيق', 0.7898871898651123),\n",
       " ('دمنهور', 0.7801265120506287),\n",
       " ('المنوفيه', 0.7553756237030029),\n",
       " ('دكرنس', 0.7479355931282043),\n",
       " ('كفرالشيخ', 0.7469829320907593),\n",
       " ('منوف', 0.7407668828964233)]"
      ]
     },
     "execution_count": 19,
     "metadata": {},
     "output_type": "execute_result"
    }
   ],
   "source": [
    "our_word2vec_model.wv.most_similar('طنطا')"
   ]
  },
  {
   "cell_type": "code",
   "execution_count": 20,
   "id": "9beec9e2",
   "metadata": {},
   "outputs": [
    {
     "data": {
      "text/plain": [
       "[('منتجع', 0.7309461832046509),\n",
       " ('بفندق', 0.7221202850341797),\n",
       " ('الفندق', 0.7167258262634277),\n",
       " ('فنادق', 0.6945282816886902),\n",
       " ('وفندق', 0.6830044388771057),\n",
       " ('مطعم', 0.6784963607788086),\n",
       " ('اوتيل', 0.6647961139678955),\n",
       " ('ريجنسي', 0.6591891646385193),\n",
       " ('هيلتون', 0.6585381031036377),\n",
       " ('الماريوت', 0.6529659032821655)]"
      ]
     },
     "execution_count": 20,
     "metadata": {},
     "output_type": "execute_result"
    }
   ],
   "source": [
    "our_word2vec_model.wv.most_similar('فندق')"
   ]
  },
  {
   "cell_type": "code",
   "execution_count": 21,
   "id": "e4bf6f3a",
   "metadata": {},
   "outputs": [
    {
     "data": {
      "text/plain": [
       "[('😂', 0.9064841866493225),\n",
       " ('😆', 0.8982240557670593),\n",
       " ('😅', 0.8962749242782593),\n",
       " ('😁', 0.8947716355323792),\n",
       " ('😜', 0.8738267421722412),\n",
       " ('هه', 0.8605387806892395),\n",
       " ('😄', 0.8536892533302307),\n",
       " ('😀', 0.8396627902984619),\n",
       " ('😝', 0.8366069197654724),\n",
       " ('😬', 0.8360880613327026)]"
      ]
     },
     "execution_count": 21,
     "metadata": {},
     "output_type": "execute_result"
    }
   ],
   "source": [
    "our_word2vec_model.wv.most_similar('🤣')"
   ]
  },
  {
   "cell_type": "code",
   "execution_count": 22,
   "id": "4c7497fc",
   "metadata": {},
   "outputs": [
    {
     "data": {
      "text/plain": [
       "[('الكويت', 0.7159113883972168),\n",
       " ('العيد_الوطني_الكويتي', 0.7136905193328857),\n",
       " ('🇶🇦', 0.7015846967697144),\n",
       " ('🇦🇪', 0.6887887716293335),\n",
       " ('🇧🇭', 0.6830284595489502),\n",
       " ('العيد_الوطني_الكويت', 0.6595523357391357),\n",
       " ('كويت', 0.6460120677947998),\n",
       " ('🇴🇲', 0.6392191052436829),\n",
       " ('كويتنا', 0.6384673714637756),\n",
       " ('🇸🇦', 0.6337781548500061)]"
      ]
     },
     "execution_count": 22,
     "metadata": {},
     "output_type": "execute_result"
    }
   ],
   "source": [
    "our_word2vec_model.wv.most_similar('🇰🇼')"
   ]
  },
  {
   "cell_type": "code",
   "execution_count": 23,
   "id": "f199497e",
   "metadata": {},
   "outputs": [
    {
     "data": {
      "text/plain": [
       "[('Business', 0.590499758720398),\n",
       " ('students', 0.5713825821876526),\n",
       " ('تمريض', 0.5685644745826721),\n",
       " ('HR', 0.5659223198890686),\n",
       " ('manager', 0.5659052729606628),\n",
       " ('logic', 0.5651146173477173),\n",
       " ('Digital', 0.5550553798675537),\n",
       " ('AI', 0.553292989730835),\n",
       " ('bank', 0.5529889464378357),\n",
       " ('الهندسه', 0.5518815517425537)]"
      ]
     },
     "execution_count": 23,
     "metadata": {},
     "output_type": "execute_result"
    }
   ],
   "source": [
    "our_word2vec_model.wv.most_similar('IT')"
   ]
  },
  {
   "cell_type": "code",
   "execution_count": 24,
   "id": "2508f741",
   "metadata": {},
   "outputs": [
    {
     "data": {
      "text/plain": [
       "[('!', 0.8230187892913818),\n",
       " ('🤔', 0.8202351331710815),\n",
       " ('هل', 0.7557244896888733),\n",
       " ('🙄', 0.7118368744850159),\n",
       " ('يعني', 0.7100118398666382),\n",
       " ('?', 0.7048540711402893),\n",
       " ('والا', 0.6845880150794983),\n",
       " ('😕', 0.6832936406135559),\n",
       " ('وهل', 0.6822245121002197),\n",
       " ('ليه', 0.6792043447494507)]"
      ]
     },
     "execution_count": 24,
     "metadata": {},
     "output_type": "execute_result"
    }
   ],
   "source": [
    "our_word2vec_model.wv.most_similar('؟')"
   ]
  },
  {
   "cell_type": "code",
   "execution_count": 25,
   "id": "309cc92b",
   "metadata": {},
   "outputs": [
    {
     "data": {
      "text/plain": [
       "[('🌼', 0.9097651839256287),\n",
       " ('🌻', 0.8927158117294312),\n",
       " ('🌺', 0.8896058201789856),\n",
       " ('🌷', 0.8834307193756104),\n",
       " ('🍃', 0.8677099943161011),\n",
       " ('🌹', 0.8668521046638489),\n",
       " ('🌿', 0.8584415316581726),\n",
       " ('💕', 0.844450056552887),\n",
       " ('🕊️', 0.8279404640197754),\n",
       " ('🕊', 0.8244357109069824)]"
      ]
     },
     "execution_count": 25,
     "metadata": {},
     "output_type": "execute_result"
    }
   ],
   "source": [
    "our_word2vec_model.wv.most_similar('🌸')"
   ]
  },
  {
   "cell_type": "code",
   "execution_count": 26,
   "id": "f5a6a665",
   "metadata": {},
   "outputs": [
    {
     "data": {
      "text/plain": [
       "[('لقاح_فايزر', 0.7672062516212463),\n",
       " ('لقاح', 0.7458565831184387),\n",
       " ('من_لقاح', 0.7216305136680603),\n",
       " ('لقاح_كوفيد', 0.7191676497459412),\n",
       " ('اللقاح', 0.7169901728630066),\n",
       " ('الجرعه_الثانيه', 0.7037858963012695),\n",
       " ('فايزر', 0.6989876627922058),\n",
       " ('لقاح_#', 0.6949324011802673),\n",
       " ('جرعات_لقاح', 0.6942309737205505),\n",
       " ('لقاحات_كورونا', 0.6936680674552917)]"
      ]
     },
     "execution_count": 26,
     "metadata": {},
     "output_type": "execute_result"
    }
   ],
   "source": [
    "our_word2vec_model.wv.most_similar('لقاح_كورونا')"
   ]
  },
  {
   "cell_type": "code",
   "execution_count": 27,
   "id": "f2cc684a",
   "metadata": {},
   "outputs": [
    {
     "data": {
      "text/plain": [
       "[('Covid', 0.6872597336769104),\n",
       " ('كوفيد', 0.6755706667900085),\n",
       " ('كورونا', 0.674052357673645),\n",
       " ('coronavirus', 0.6679577827453613),\n",
       " ('كوفيد_', 0.6577050685882568),\n",
       " ('فيروس', 0.6268614530563354),\n",
       " ('corona', 0.62137770652771),\n",
       " ('COVID', 0.6201250553131104),\n",
       " ('Corona', 0.6114001274108887),\n",
       " ('كورونا،', 0.6103721261024475)]"
      ]
     },
     "execution_count": 27,
     "metadata": {},
     "output_type": "execute_result"
    }
   ],
   "source": [
    "our_word2vec_model.wv.most_similar('covid')"
   ]
  },
  {
   "cell_type": "code",
   "execution_count": 28,
   "id": "bcc3b27c",
   "metadata": {},
   "outputs": [
    {
     "data": {
      "text/plain": [
       "[('#_covid_19', 0.6256928443908691),\n",
       " ('#_covid', 0.6221465468406677),\n",
       " ('Corona_#', 0.6191930770874023),\n",
       " ('COVID_2019', 0.6120616793632507),\n",
       " ('COVID__', 0.6003709435462952),\n",
       " ('#_كورونا_فيروس', 0.5996192693710327),\n",
       " ('Covid__', 0.5974095463752747),\n",
       " ('#_كورونا', 0.5971654057502747),\n",
       " ('COVID_19', 0.5969985127449036),\n",
       " ('#_coronavirus', 0.5963916182518005)]"
      ]
     },
     "execution_count": 28,
     "metadata": {},
     "output_type": "execute_result"
    }
   ],
   "source": [
    "our_word2vec_model.wv.most_similar('covid_19')"
   ]
  },
  {
   "cell_type": "code",
   "execution_count": 29,
   "id": "481a7038",
   "metadata": {},
   "outputs": [
    {
     "data": {
      "text/plain": [
       "[('ترامب', 0.8512554168701172),\n",
       " ('ترمب', 0.8102423548698425),\n",
       " ('بوتين', 0.7791876196861267),\n",
       " ('نتنياهو', 0.7762749791145325),\n",
       " ('بايدن،', 0.7634655833244324),\n",
       " ('اردوغان', 0.7474371790885925),\n",
       " ('تيلرسون', 0.7437020540237427),\n",
       " ('بلينكن', 0.7419249415397644),\n",
       " ('واشنطن', 0.7402883768081665),\n",
       " ('ترامب،', 0.7355116009712219)]"
      ]
     },
     "execution_count": 29,
     "metadata": {},
     "output_type": "execute_result"
    }
   ],
   "source": [
    "our_word2vec_model.wv.most_similar('بايدن')"
   ]
  },
  {
   "cell_type": "code",
   "execution_count": 30,
   "id": "1c0e040e",
   "metadata": {},
   "outputs": [
    {
     "data": {
      "text/plain": [
       "[('صحيح_البخاري_و', 0.6662893295288086),\n",
       " ('النبي_صلي_الله', 0.6549474596977234),\n",
       " ('صحيح_مسلم_د', 0.6421710848808289),\n",
       " (':_ان_رسول', 0.6366793513298035),\n",
       " ('الرسول_صلي_الله', 0.6311498880386353),\n",
       " ('عليه_وسلم_انه', 0.6299081444740295),\n",
       " ('محمد_في_صحيح', 0.629696786403656),\n",
       " ('الله_عليه_وسلم', 0.6287017464637756),\n",
       " ('في_الحديث_الصحيح', 0.6277386546134949),\n",
       " ('عليه_وسلم_علي', 0.6264953017234802)]"
      ]
     },
     "execution_count": 30,
     "metadata": {},
     "output_type": "execute_result"
    }
   ],
   "source": [
    "our_word2vec_model.wv.most_similar('في_صحيح_البخاري')"
   ]
  },
  {
   "cell_type": "code",
   "execution_count": 31,
   "id": "8fbcb5e3",
   "metadata": {},
   "outputs": [
    {
     "data": {
      "text/plain": [
       "[('يوم_القيامه_.', 0.6319121718406677),\n",
       " ('يوم_القيامه_#', 0.6033729314804077),\n",
       " ('يوم_القيامه_)', 0.586989164352417),\n",
       " ('يوم_القيامه_و', 0.5667398571968079),\n",
       " ('اجمعين_الي_يوم', 0.5624067783355713),\n",
       " ('فعليه_لعنه_الله', 0.5587624311447144),\n",
       " ('فزع_يوم_القيامه', 0.5565203428268433),\n",
       " ('يوم_القيامه_،', 0.5538339018821716),\n",
       " ('يوم_الدين_اللهم', 0.5517250299453735),\n",
       " ('ان_تقوم_الساعه', 0.5501059889793396)]"
      ]
     },
     "execution_count": 31,
     "metadata": {},
     "output_type": "execute_result"
    }
   ],
   "source": [
    "our_word2vec_model.wv.most_similar('الي_يوم_القيامه')"
   ]
  },
  {
   "cell_type": "code",
   "execution_count": 32,
   "id": "7b3bc881",
   "metadata": {},
   "outputs": [
    {
     "data": {
      "text/plain": [
       "[('الصهاينه_و', 0.6714180111885071),\n",
       " ('اليهود_و', 0.6466207504272461),\n",
       " ('علي_اليهود_و', 0.6168356537818909),\n",
       " ('الصهاينه_المحتلين', 0.6167996525764465),\n",
       " ('و_المطبعين', 0.6118593215942383),\n",
       " ('الصهاينه_#', 0.6079138517379761),\n",
       " ('اخواننا_الفلسطينين', 0.6048346757888794),\n",
       " ('قتله_الانبياء', 0.6038330793380737),\n",
       " ('من_اليهود', 0.6000148057937622),\n",
       " ('المتصهينين_العرب', 0.5987120270729065)]"
      ]
     },
     "execution_count": 32,
     "metadata": {},
     "output_type": "execute_result"
    }
   ],
   "source": [
    "our_word2vec_model.wv.most_similar('اليهود_الصهاينه')"
   ]
  },
  {
   "cell_type": "code",
   "execution_count": 33,
   "id": "adb72da8",
   "metadata": {},
   "outputs": [
    {
     "data": {
      "text/plain": [
       "[('ابن_خلدون', 0.6284151673316956),\n",
       " ('بن_محمود', 0.5491104125976562),\n",
       " ('بن_باديس', 0.5423383712768555),\n",
       " ('في_الاندلس', 0.5416474342346191),\n",
       " ('بن_نصير', 0.5317039489746094),\n",
       " ('بن_سبا', 0.5191484689712524),\n",
       " ('يوسف_بن', 0.5127493143081665),\n",
       " ('بن_سليمان', 0.5127357244491577),\n",
       " ('عمرو_بن', 0.5123283863067627),\n",
       " ('ابن_رشد', 0.510941743850708)]"
      ]
     },
     "execution_count": 33,
     "metadata": {},
     "output_type": "execute_result"
    }
   ],
   "source": [
    "our_word2vec_model.wv.most_similar('بن_خلدون')"
   ]
  },
  {
   "cell_type": "code",
   "execution_count": 34,
   "id": "55f6097d",
   "metadata": {},
   "outputs": [],
   "source": [
    "from word2vec_results import *"
   ]
  },
  {
   "cell_type": "code",
   "execution_count": 45,
   "id": "c8239bfc",
   "metadata": {},
   "outputs": [
    {
     "name": "stderr",
     "output_type": "stream",
     "text": [
      "/usr/local/lib/python3.8/dist-packages/sklearn/manifold/_t_sne.py:780: FutureWarning: The default initialization in TSNE will change from 'random' to 'pca' in 1.2.\n",
      "  warnings.warn(\n"
     ]
    },
    {
     "name": "stdout",
     "output_type": "stream",
     "text": [
      "[t-SNE] Computing 18 nearest neighbors...\n",
      "[t-SNE] Indexed 19 samples in 0.000s...\n",
      "[t-SNE] Computed neighbors for 19 samples in 0.002s...\n",
      "[t-SNE] Computed conditional probabilities for sample 19 / 19\n",
      "[t-SNE] Mean sigma: 1.988188\n",
      "[t-SNE] KL divergence after 50 iterations with early exaggeration: 36.170048\n",
      "[t-SNE] KL divergence after 500 iterations: 0.035765\n",
      "The shape of our word_features is: (19, 2)\n"
     ]
    },
    {
     "data": {
      "image/png": "[encoded data removed]",
      "text/plain": [
       "<Figure size 720x576 with 1 Axes>"
      ]
     },
     "metadata": {},
     "output_type": "display_data"
    }
   ],
   "source": [
    "# Reduce the dimension of SENTIMENT_WORDS\n",
    "tsne_df_scale = tsne_graph(our_word2vec_model, SENTIMENT_WORDS, 500, .05)\n",
    "\n",
    "_ = init_graph_style()\n",
    "\n",
    "plt.scatter(tsne_df_scale.iloc[:, 0], tsne_df_scale.iloc[:, 1], marker='P',s=9, c=\"red\") \n",
    "\n",
    "for i, word in enumerate(SENTIMENT_WORDS):\n",
    "    # handle Arabic words to display from right to left and as complete word not just separate chars\n",
    "    word = arabic_reshaper.reshape(word) # handle arabic words on ploting\n",
    "    word = get_display(word)\n",
    "    # plot each word beside its point\n",
    "    plt.annotate(word, xy=(tsne_df_scale.iloc[i, 0], tsne_df_scale.iloc[i, 1]),fontsize=15, color='white')\n",
    "# plt.savefig('images/' + \"image1.png\")"
   ]
  },
  {
   "cell_type": "code",
   "execution_count": 39,
   "id": "f05cf4f7",
   "metadata": {},
   "outputs": [
    {
     "name": "stderr",
     "output_type": "stream",
     "text": [
      "/usr/local/lib/python3.8/dist-packages/sklearn/manifold/_t_sne.py:780: FutureWarning: The default initialization in TSNE will change from 'random' to 'pca' in 1.2.\n",
      "  warnings.warn(\n"
     ]
    },
    {
     "name": "stdout",
     "output_type": "stream",
     "text": [
      "[t-SNE] Computing 31 nearest neighbors...\n",
      "[t-SNE] Indexed 65 samples in 0.000s...\n",
      "[t-SNE] Computed neighbors for 65 samples in 0.003s...\n",
      "[t-SNE] Computed conditional probabilities for sample 65 / 65\n",
      "[t-SNE] Mean sigma: 1.739490\n",
      "[t-SNE] KL divergence after 100 iterations with early exaggeration: 50.201084\n",
      "[t-SNE] KL divergence after 1400 iterations: 0.180871\n",
      "The shape of our word_features is: (65, 2)\n"
     ]
    },
    {
     "data": {
      "image/png": "[encoded data removed]",
      "text/plain": [
       "<Figure size 1152x720 with 1 Axes>"
      ]
     },
     "metadata": {},
     "output_type": "display_data"
    }
   ],
   "source": [
    "# Reduce the dimension of NER_WORDS\n",
    "tsne_df_scale = tsne_graph(our_word2vec_model, NER_WORDS, 1400, .09)\n",
    "\n",
    "_ = init_graph_style(figsize=(16, 10))\n",
    "\n",
    "plt.scatter(tsne_df_scale.iloc[:, 0], tsne_df_scale.iloc[:, 1], marker='P',s=9, c=\"red\") \n",
    "\n",
    "for i, word in enumerate(NER_WORDS):\n",
    "    # handle Arabic words to display from right to left and as complete word not just separate chars\n",
    "    word = arabic_reshaper.reshape(word) # handle arabic words on ploting\n",
    "    word = get_display(word)\n",
    "    # plot each word beside its point\n",
    "    plt.annotate(word, xy=(tsne_df_scale.iloc[i, 0], tsne_df_scale.iloc[i, 1]),fontsize=15, color='white')\n",
    "# plt.savefig('images/' + \"image1.png\")"
   ]
  },
  {
   "cell_type": "code",
   "execution_count": null,
   "id": "49e18782",
   "metadata": {},
   "outputs": [],
   "source": []
  }
 ],
 "metadata": {
  "kernelspec": {
   "display_name": "Python 3 (ipykernel)",
   "language": "python",
   "name": "python3"
  },
  "language_info": {
   "codemirror_mode": {
    "name": "ipython",
    "version": 3
   },
   "file_extension": ".py",
   "mimetype": "text/x-python",
   "name": "python",
   "nbconvert_exporter": "python",
   "pygments_lexer": "ipython3",
   "version": "3.8.13"
  }
 },
 "nbformat": 4,
 "nbformat_minor": 5
}
