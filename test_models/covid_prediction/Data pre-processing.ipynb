{
 "cells": [
  {
   "cell_type": "code",
   "execution_count": 1,
   "id": "0fe26f41",
   "metadata": {},
   "outputs": [],
   "source": [
    "import sys\n",
    "sys.path.append('../../preprocess_assets/')"
   ]
  },
  {
   "cell_type": "code",
   "execution_count": 2,
   "id": "d1916633",
   "metadata": {},
   "outputs": [],
   "source": [
    "# Main libraries\n",
    "# from Configs import *\n",
    "from ara_vec_preprocess_configs import *\n",
    "from data_shuffling_split import *"
   ]
  },
  {
   "cell_type": "code",
   "execution_count": 3,
   "id": "248495e4",
   "metadata": {},
   "outputs": [
    {
     "data": {
      "text/html": [
       "<div>\n",
       "<style scoped>\n",
       "    .dataframe tbody tr th:only-of-type {\n",
       "        vertical-align: middle;\n",
       "    }\n",
       "\n",
       "    .dataframe tbody tr th {\n",
       "        vertical-align: top;\n",
       "    }\n",
       "\n",
       "    .dataframe thead th {\n",
       "        text-align: right;\n",
       "    }\n",
       "</style>\n",
       "<table border=\"1\" class=\"dataframe\">\n",
       "  <thead>\n",
       "    <tr style=\"text-align: right;\">\n",
       "      <th></th>\n",
       "      <th>class</th>\n",
       "      <th>tweet_text</th>\n",
       "    </tr>\n",
       "  </thead>\n",
       "  <tbody>\n",
       "    <tr>\n",
       "      <th>0</th>\n",
       "      <td>1</td>\n",
       "      <td>طب مسلمين الصين اللي بيموتو الفيرس ذنب برده  ا...</td>\n",
       "    </tr>\n",
       "    <tr>\n",
       "      <th>1</th>\n",
       "      <td>1</td>\n",
       "      <td>علي ما اذكر معظم الفيروسات  ما عدا الايبولا  ك...</td>\n",
       "    </tr>\n",
       "    <tr>\n",
       "      <th>2</th>\n",
       "      <td>1</td>\n",
       "      <td>اميركا السبب لضرب الاقتصاد الصيني وتركيع الصين...</td>\n",
       "    </tr>\n",
       "    <tr>\n",
       "      <th>3</th>\n",
       "      <td>1</td>\n",
       "      <td>قلنا نقاطع الصين    الناس قالت مش ممكن الان مق...</td>\n",
       "    </tr>\n",
       "    <tr>\n",
       "      <th>4</th>\n",
       "      <td>1</td>\n",
       "      <td>نصحيتين اقدمها لك  1  لا تتروش في البرد  2  اح...</td>\n",
       "    </tr>\n",
       "  </tbody>\n",
       "</table>\n",
       "</div>"
      ],
      "text/plain": [
       "   class                                         tweet_text\n",
       "0      1  طب مسلمين الصين اللي بيموتو الفيرس ذنب برده  ا...\n",
       "1      1  علي ما اذكر معظم الفيروسات  ما عدا الايبولا  ك...\n",
       "2      1  اميركا السبب لضرب الاقتصاد الصيني وتركيع الصين...\n",
       "3      1  قلنا نقاطع الصين    الناس قالت مش ممكن الان مق...\n",
       "4      1  نصحيتين اقدمها لك  1  لا تتروش في البرد  2  اح..."
      ]
     },
     "execution_count": 3,
     "metadata": {},
     "output_type": "execute_result"
    }
   ],
   "source": [
    "covid_dataset = read_file(\"tweet_over_10000_classified_14_12_2020.csv\")\n",
    "covid_dataset.head()"
   ]
  },
  {
   "cell_type": "code",
   "execution_count": 4,
   "id": "a0de6400",
   "metadata": {},
   "outputs": [
    {
     "data": {
      "text/html": [
       "<div>\n",
       "<style scoped>\n",
       "    .dataframe tbody tr th:only-of-type {\n",
       "        vertical-align: middle;\n",
       "    }\n",
       "\n",
       "    .dataframe tbody tr th {\n",
       "        vertical-align: top;\n",
       "    }\n",
       "\n",
       "    .dataframe thead th {\n",
       "        text-align: right;\n",
       "    }\n",
       "</style>\n",
       "<table border=\"1\" class=\"dataframe\">\n",
       "  <thead>\n",
       "    <tr style=\"text-align: right;\">\n",
       "      <th></th>\n",
       "      <th>label</th>\n",
       "      <th>text</th>\n",
       "    </tr>\n",
       "  </thead>\n",
       "  <tbody>\n",
       "    <tr>\n",
       "      <th>0</th>\n",
       "      <td>1</td>\n",
       "      <td>طب مسلمين الصين اللي بيموتو الفيرس ذنب برده  ا...</td>\n",
       "    </tr>\n",
       "    <tr>\n",
       "      <th>1</th>\n",
       "      <td>1</td>\n",
       "      <td>علي ما اذكر معظم الفيروسات  ما عدا الايبولا  ك...</td>\n",
       "    </tr>\n",
       "    <tr>\n",
       "      <th>2</th>\n",
       "      <td>1</td>\n",
       "      <td>اميركا السبب لضرب الاقتصاد الصيني وتركيع الصين...</td>\n",
       "    </tr>\n",
       "    <tr>\n",
       "      <th>3</th>\n",
       "      <td>1</td>\n",
       "      <td>قلنا نقاطع الصين    الناس قالت مش ممكن الان مق...</td>\n",
       "    </tr>\n",
       "    <tr>\n",
       "      <th>4</th>\n",
       "      <td>1</td>\n",
       "      <td>نصحيتين اقدمها لك  1  لا تتروش في البرد  2  اح...</td>\n",
       "    </tr>\n",
       "  </tbody>\n",
       "</table>\n",
       "</div>"
      ],
      "text/plain": [
       "   label                                               text\n",
       "0      1  طب مسلمين الصين اللي بيموتو الفيرس ذنب برده  ا...\n",
       "1      1  علي ما اذكر معظم الفيروسات  ما عدا الايبولا  ك...\n",
       "2      1  اميركا السبب لضرب الاقتصاد الصيني وتركيع الصين...\n",
       "3      1  قلنا نقاطع الصين    الناس قالت مش ممكن الان مق...\n",
       "4      1  نصحيتين اقدمها لك  1  لا تتروش في البرد  2  اح..."
      ]
     },
     "execution_count": 4,
     "metadata": {},
     "output_type": "execute_result"
    }
   ],
   "source": [
    "covid_dataset.columns = [\"label\", \"text\"]\n",
    "covid_dataset.head()"
   ]
  },
  {
   "cell_type": "code",
   "execution_count": 5,
   "id": "d2da2e2f",
   "metadata": {},
   "outputs": [],
   "source": [
    "covid_dataset = covid_dataset.iloc[:9000]"
   ]
  },
  {
   "cell_type": "code",
   "execution_count": 6,
   "id": "47dc47f4",
   "metadata": {},
   "outputs": [
    {
     "data": {
      "text/html": [
       "<div>\n",
       "<style scoped>\n",
       "    .dataframe tbody tr th:only-of-type {\n",
       "        vertical-align: middle;\n",
       "    }\n",
       "\n",
       "    .dataframe tbody tr th {\n",
       "        vertical-align: top;\n",
       "    }\n",
       "\n",
       "    .dataframe thead th {\n",
       "        text-align: right;\n",
       "    }\n",
       "</style>\n",
       "<table border=\"1\" class=\"dataframe\">\n",
       "  <thead>\n",
       "    <tr style=\"text-align: right;\">\n",
       "      <th></th>\n",
       "      <th>label</th>\n",
       "      <th>text</th>\n",
       "    </tr>\n",
       "  </thead>\n",
       "  <tbody>\n",
       "    <tr>\n",
       "      <th>0</th>\n",
       "      <td>1</td>\n",
       "      <td>طب مسلمين الصين اللي بيموتو الفيرس ذنب برده ال...</td>\n",
       "    </tr>\n",
       "    <tr>\n",
       "      <th>1</th>\n",
       "      <td>1</td>\n",
       "      <td>علي ما اذكر معظم الفيروسات ما عدا الايبولا كله...</td>\n",
       "    </tr>\n",
       "    <tr>\n",
       "      <th>2</th>\n",
       "      <td>1</td>\n",
       "      <td>اميركا السبب لضرب الاقتصاد الصيني وتركيع الصين...</td>\n",
       "    </tr>\n",
       "    <tr>\n",
       "      <th>3</th>\n",
       "      <td>1</td>\n",
       "      <td>قلنا نقاطع الصين الناس قالت مش ممكن الان مقاطع...</td>\n",
       "    </tr>\n",
       "    <tr>\n",
       "      <th>4</th>\n",
       "      <td>1</td>\n",
       "      <td>نصحيتين اقدمها لك 1 لا تتروش في البرد 2 احذر ا...</td>\n",
       "    </tr>\n",
       "  </tbody>\n",
       "</table>\n",
       "</div>"
      ],
      "text/plain": [
       "   label                                               text\n",
       "0      1  طب مسلمين الصين اللي بيموتو الفيرس ذنب برده ال...\n",
       "1      1  علي ما اذكر معظم الفيروسات ما عدا الايبولا كله...\n",
       "2      1  اميركا السبب لضرب الاقتصاد الصيني وتركيع الصين...\n",
       "3      1  قلنا نقاطع الصين الناس قالت مش ممكن الان مقاطع...\n",
       "4      1  نصحيتين اقدمها لك 1 لا تتروش في البرد 2 احذر ا..."
      ]
     },
     "execution_count": 6,
     "metadata": {},
     "output_type": "execute_result"
    }
   ],
   "source": [
    "covid_dataset['text']  = clean_list_of_text(list(covid_dataset['text']))\n",
    "# covid_dataset['label'] = convert_class_to_label(list(covid_dataset['dialect']))\n",
    "covid_dataset.head()"
   ]
  },
  {
   "cell_type": "markdown",
   "id": "909b54f2",
   "metadata": {},
   "source": [
    "# Shuffle and Split\n",
    "\n",
    "Instead of random shuffle using ordinal **train_test_split**, we use **StratifiedShuffleSplit**, that ensure we have proportions almost identical to the orginal. It help us to make approximate distrbution for samples per class.\n",
    "\n",
    "To do that we pass the most representative attribute of our data, and as we have the dialect column which has 18 different classes, so it will be more representative to distribute sampels per class based on that attribute.\n",
    "\n",
    "**Look at the table below to see how difference between the two method of split**"
   ]
  },
  {
   "cell_type": "code",
   "execution_count": 7,
   "id": "18bbde8a",
   "metadata": {},
   "outputs": [
    {
     "name": "stdout",
     "output_type": "stream",
     "text": [
      "The number of instances in the training data after train_test_split are:  8820\n",
      "The number of instances in the testing data after train_test_split are:   180\n",
      "The number of instances in the training data after StratifiedShuffleSplit are:  8820\n",
      "The number of instances in the testing data after StratifiedShuffleSplit are:   180\n"
     ]
    }
   ],
   "source": [
    "preprocessed_covid_dataset = covid_dataset.copy()\n",
    "train_set, test_set             = general_split_and_shuffle(preprocessed_covid_dataset,  .02)\n",
    "strat_train_set, strat_test_set = Stratified_split_and_shuffle(preprocessed_covid_dataset, \"label\", .02)"
   ]
  },
  {
   "cell_type": "code",
   "execution_count": 8,
   "id": "4b242732",
   "metadata": {},
   "outputs": [
    {
     "data": {
      "text/html": [
       "<div>\n",
       "<style scoped>\n",
       "    .dataframe tbody tr th:only-of-type {\n",
       "        vertical-align: middle;\n",
       "    }\n",
       "\n",
       "    .dataframe tbody tr th {\n",
       "        vertical-align: top;\n",
       "    }\n",
       "\n",
       "    .dataframe thead th {\n",
       "        text-align: right;\n",
       "    }\n",
       "</style>\n",
       "<table border=\"1\" class=\"dataframe\">\n",
       "  <thead>\n",
       "    <tr style=\"text-align: right;\">\n",
       "      <th></th>\n",
       "      <th>Overall</th>\n",
       "      <th>stratified_test</th>\n",
       "      <th>random_test</th>\n",
       "      <th>stratified_test. %error</th>\n",
       "      <th>random_test. %error</th>\n",
       "    </tr>\n",
       "  </thead>\n",
       "  <tbody>\n",
       "    <tr>\n",
       "      <th>1</th>\n",
       "      <td>0.552444</td>\n",
       "      <td>0.55</td>\n",
       "      <td>0.555556</td>\n",
       "      <td>-0.442478</td>\n",
       "      <td>0.563154</td>\n",
       "    </tr>\n",
       "    <tr>\n",
       "      <th>0</th>\n",
       "      <td>0.447556</td>\n",
       "      <td>0.45</td>\n",
       "      <td>0.444444</td>\n",
       "      <td>0.546177</td>\n",
       "      <td>-0.695134</td>\n",
       "    </tr>\n",
       "  </tbody>\n",
       "</table>\n",
       "</div>"
      ],
      "text/plain": [
       "    Overall  stratified_test  random_test  stratified_test. %error  \\\n",
       "1  0.552444             0.55     0.555556                -0.442478   \n",
       "0  0.447556             0.45     0.444444                 0.546177   \n",
       "\n",
       "   random_test. %error  \n",
       "1             0.563154  \n",
       "0            -0.695134  "
      ]
     },
     "execution_count": 8,
     "metadata": {},
     "output_type": "execute_result"
    }
   ],
   "source": [
    "compare_proportions = compare_random_and_stratified_split(preprocessed_covid_dataset, test_set, strat_test_set, \"label\")\n",
    "compare_proportions"
   ]
  },
  {
   "cell_type": "code",
   "execution_count": 9,
   "id": "534315d5",
   "metadata": {},
   "outputs": [
    {
     "data": {
      "text/plain": [
       "True"
      ]
     },
     "execution_count": 9,
     "metadata": {},
     "output_type": "execute_result"
    }
   ],
   "source": [
    "strat_train_set_path_to_save = \"strat_train_set.csv\"\n",
    "\n",
    "save_train_test_data(strat_train_set, \"train/\", strat_train_set_path_to_save)"
   ]
  },
  {
   "cell_type": "code",
   "execution_count": 10,
   "id": "d92268fc",
   "metadata": {},
   "outputs": [
    {
     "data": {
      "text/plain": [
       "True"
      ]
     },
     "execution_count": 10,
     "metadata": {},
     "output_type": "execute_result"
    }
   ],
   "source": [
    "strat_test_set_path_to_save  = \"strat_test_set.csv\"\n",
    "\n",
    "save_train_test_data(strat_test_set, \"test/\", strat_test_set_path_to_save)"
   ]
  },
  {
   "cell_type": "code",
   "execution_count": 11,
   "id": "904952c4",
   "metadata": {},
   "outputs": [
    {
     "data": {
      "text/html": [
       "<div>\n",
       "<style scoped>\n",
       "    .dataframe tbody tr th:only-of-type {\n",
       "        vertical-align: middle;\n",
       "    }\n",
       "\n",
       "    .dataframe tbody tr th {\n",
       "        vertical-align: top;\n",
       "    }\n",
       "\n",
       "    .dataframe thead th {\n",
       "        text-align: right;\n",
       "    }\n",
       "</style>\n",
       "<table border=\"1\" class=\"dataframe\">\n",
       "  <thead>\n",
       "    <tr style=\"text-align: right;\">\n",
       "      <th></th>\n",
       "      <th>label</th>\n",
       "      <th>text</th>\n",
       "    </tr>\n",
       "  </thead>\n",
       "  <tbody>\n",
       "    <tr>\n",
       "      <th>0</th>\n",
       "      <td>1</td>\n",
       "      <td>مع انتشار الامراض ومنها الكورونا اليكم النصيحه...</td>\n",
       "    </tr>\n",
       "    <tr>\n",
       "      <th>1</th>\n",
       "      <td>0</td>\n",
       "      <td>1 دراسه بحثيه صادره معهد الدراسات الاستراتيجي...</td>\n",
       "    </tr>\n",
       "    <tr>\n",
       "      <th>2</th>\n",
       "      <td>1</td>\n",
       "      <td>بدات في مدينه وهان في الصين انتقلت لبعض المقاط...</td>\n",
       "    </tr>\n",
       "    <tr>\n",
       "      <th>3</th>\n",
       "      <td>1</td>\n",
       "      <td>coronarvirus CoronaOutbreak فيروس_كورونا</td>\n",
       "    </tr>\n",
       "    <tr>\n",
       "      <th>4</th>\n",
       "      <td>1</td>\n",
       "      <td>الاداره_العامه_للطيران_المدني اجراءات وقاءيه ح...</td>\n",
       "    </tr>\n",
       "  </tbody>\n",
       "</table>\n",
       "</div>"
      ],
      "text/plain": [
       "   label                                               text\n",
       "0      1  مع انتشار الامراض ومنها الكورونا اليكم النصيحه...\n",
       "1      0   1 دراسه بحثيه صادره معهد الدراسات الاستراتيجي...\n",
       "2      1  بدات في مدينه وهان في الصين انتقلت لبعض المقاط...\n",
       "3      1           coronarvirus CoronaOutbreak فيروس_كورونا\n",
       "4      1  الاداره_العامه_للطيران_المدني اجراءات وقاءيه ح..."
      ]
     },
     "execution_count": 11,
     "metadata": {},
     "output_type": "execute_result"
    }
   ],
   "source": [
    "strat_train_set = read_file(\"train/strat_train_set.csv\")\n",
    "strat_train_set.head()"
   ]
  },
  {
   "cell_type": "code",
   "execution_count": 12,
   "id": "6673ecf4",
   "metadata": {},
   "outputs": [
    {
     "data": {
      "text/html": [
       "<div>\n",
       "<style scoped>\n",
       "    .dataframe tbody tr th:only-of-type {\n",
       "        vertical-align: middle;\n",
       "    }\n",
       "\n",
       "    .dataframe tbody tr th {\n",
       "        vertical-align: top;\n",
       "    }\n",
       "\n",
       "    .dataframe thead th {\n",
       "        text-align: right;\n",
       "    }\n",
       "</style>\n",
       "<table border=\"1\" class=\"dataframe\">\n",
       "  <thead>\n",
       "    <tr style=\"text-align: right;\">\n",
       "      <th></th>\n",
       "      <th>label</th>\n",
       "      <th>text</th>\n",
       "    </tr>\n",
       "  </thead>\n",
       "  <tbody>\n",
       "    <tr>\n",
       "      <th>0</th>\n",
       "      <td>1</td>\n",
       "      <td>حساء خفافيش الصين ابداع القرف يعني</td>\n",
       "    </tr>\n",
       "    <tr>\n",
       "      <th>1</th>\n",
       "      <td>1</td>\n",
       "      <td>اجراءات هكذا استعدت مصر لمواجهه فيروس كورونا م...</td>\n",
       "    </tr>\n",
       "    <tr>\n",
       "      <th>2</th>\n",
       "      <td>1</td>\n",
       "      <td>ايش الفايده لابس كمامات ومو لابس قفازات</td>\n",
       "    </tr>\n",
       "    <tr>\n",
       "      <th>3</th>\n",
       "      <td>0</td>\n",
       "      <td>الجدير بالذكر ان في الصين بيستخدموا ال في كل ح...</td>\n",
       "    </tr>\n",
       "    <tr>\n",
       "      <th>4</th>\n",
       "      <td>0</td>\n",
       "      <td>ولو ترسل صواريخ الصين وقفنا دون برج الفيصليه</td>\n",
       "    </tr>\n",
       "  </tbody>\n",
       "</table>\n",
       "</div>"
      ],
      "text/plain": [
       "   label                                               text\n",
       "0      1                 حساء خفافيش الصين ابداع القرف يعني\n",
       "1      1  اجراءات هكذا استعدت مصر لمواجهه فيروس كورونا م...\n",
       "2      1            ايش الفايده لابس كمامات ومو لابس قفازات\n",
       "3      0  الجدير بالذكر ان في الصين بيستخدموا ال في كل ح...\n",
       "4      0       ولو ترسل صواريخ الصين وقفنا دون برج الفيصليه"
      ]
     },
     "execution_count": 12,
     "metadata": {},
     "output_type": "execute_result"
    }
   ],
   "source": [
    "strat_test_set = read_file(\"test/strat_test_set.csv\")\n",
    "strat_test_set.head()"
   ]
  },
  {
   "cell_type": "code",
   "execution_count": null,
   "id": "a95509b4",
   "metadata": {},
   "outputs": [],
   "source": []
  }
 ],
 "metadata": {
  "kernelspec": {
   "display_name": "Python 3",
   "language": "python",
   "name": "python3"
  },
  "language_info": {
   "codemirror_mode": {
    "name": "ipython",
    "version": 3
   },
   "file_extension": ".py",
   "mimetype": "text/x-python",
   "name": "python",
   "nbconvert_exporter": "python",
   "pygments_lexer": "ipython3",
   "version": "3.6.9"
  }
 },
 "nbformat": 4,
 "nbformat_minor": 5
}
