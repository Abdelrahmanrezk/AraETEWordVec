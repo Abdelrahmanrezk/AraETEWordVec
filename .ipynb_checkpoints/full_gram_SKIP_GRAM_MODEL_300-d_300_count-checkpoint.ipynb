{
 "cells": [
  {
   "cell_type": "code",
   "execution_count": 1,
   "id": "37f4b406",
   "metadata": {},
   "outputs": [],
   "source": [
    "# -*- coding: utf8 -*-\n",
    "import gensim\n",
    "import re\n",
    "import numpy as np\n",
    "from nltk import ngrams\n",
    "\n",
    "from utilities import * # import utilities.py module\n",
    "from DifferentTokenization import * # import utilities.py module\n",
    "import pandas as pd\n",
    "from configs.Configs import get_ngrams\n",
    "import multiprocessing\n",
    "from multiprocessing import Process\n",
    "from train_word2vec_from_scratch import *\n",
    "from ara_vec_preprocess_configs import *\n",
    "# ============================   \n",
    "# ====== N-Grams Models ======\n",
    "import gdown\n"
   ]
  },
  {
   "cell_type": "code",
   "execution_count": 2,
   "id": "9feb8f1b",
   "metadata": {},
   "outputs": [
    {
     "name": "stdout",
     "output_type": "stream",
     "text": [
      "==================================================\n",
      "False\n",
      "Epoch #0 start\n",
      "2022-03-03 13:52:34.681778\n",
      "Epoch #0 end\n",
      "2022-03-03 13:52:37.305625\n",
      "==================================================\n",
      "Epoch #1 start\n",
      "2022-03-03 13:52:37.315492\n",
      "Epoch #1 end\n",
      "2022-03-03 13:52:40.608169\n",
      "==================================================\n",
      "Epoch #2 start\n",
      "2022-03-03 13:52:40.617789\n",
      "Epoch #2 end\n",
      "2022-03-03 13:52:43.927076\n",
      "==================================================\n",
      "Epoch #3 start\n",
      "2022-03-03 13:52:43.935965\n",
      "Epoch #3 end\n",
      "2022-03-03 13:52:46.708725\n",
      "==================================================\n",
      "Epoch #4 start\n",
      "2022-03-03 13:52:46.715250\n",
      "Epoch #4 end\n",
      "2022-03-03 13:52:49.927020\n",
      "==================================================\n",
      "Epoch #5 start\n",
      "2022-03-03 13:52:49.935809\n",
      "Epoch #5 end\n",
      "2022-03-03 13:52:53.353683\n",
      "==================================================\n",
      "Epoch #6 start\n",
      "2022-03-03 13:52:53.362272\n",
      "Epoch #6 end\n",
      "2022-03-03 13:52:56.023337\n",
      "==================================================\n",
      "0:00:24.199635\n"
     ]
    }
   ],
   "source": [
    "sentences = MyCorpus(\"arabic_filtered_tweets_of_year_2008.csv\", \"fullgram\")\n",
    "# Just start the model with first file data\n",
    "model = train_word2vec_skip_gram(\"\", False, \"fullgram\", sentences, vector_size=300, min_count=300)"
   ]
  },
  {
   "cell_type": "code",
   "execution_count": 3,
   "id": "773b4b7b",
   "metadata": {},
   "outputs": [
    {
     "name": "stdout",
     "output_type": "stream",
     "text": [
      "12583\n",
      "7\n",
      "268\n"
     ]
    }
   ],
   "source": [
    "print(model.corpus_count)\n",
    "print(model.epochs)\n",
    "print(len(model.wv.key_to_index))"
   ]
  },
  {
   "cell_type": "code",
   "execution_count": 4,
   "id": "76516e4a",
   "metadata": {},
   "outputs": [
    {
     "name": "stdout",
     "output_type": "stream",
     "text": [
      "==================================================\n",
      "==================================================\n",
      "Train on file:  arabic_filtered_tweets_of_year_2008.csv\n",
      "==================================================\n",
      "==================================================\n",
      "==================================================\n",
      "True\n",
      "Epoch #0 start\n",
      "2022-03-03 13:52:59.789845\n",
      "Epoch #0 end\n",
      "2022-03-03 13:53:03.026817\n",
      "==================================================\n",
      "Epoch #1 start\n",
      "2022-03-03 13:53:03.035164\n",
      "Epoch #1 end\n",
      "2022-03-03 13:53:05.872817\n",
      "==================================================\n",
      "Epoch #2 start\n",
      "2022-03-03 13:53:05.881790\n",
      "Epoch #2 end\n",
      "2022-03-03 13:53:09.610302\n",
      "==================================================\n",
      "Epoch #3 start\n",
      "2022-03-03 13:53:09.619245\n",
      "Epoch #3 end\n",
      "2022-03-03 13:53:13.428047\n",
      "==================================================\n",
      "Epoch #4 start\n",
      "2022-03-03 13:53:13.436776\n",
      "Epoch #4 end\n",
      "2022-03-03 13:53:15.800657\n",
      "==================================================\n",
      "Epoch #5 start\n",
      "2022-03-03 13:53:15.808484\n",
      "Epoch #5 end\n",
      "2022-03-03 13:53:19.272775\n",
      "==================================================\n",
      "Epoch #6 start\n",
      "2022-03-03 13:53:19.280779\n",
      "Epoch #6 end\n",
      "2022-03-03 13:53:22.787187\n",
      "==================================================\n",
      "0:00:26.740578\n",
      "Some model data: \n",
      "12583\n",
      "7\n",
      "268\n",
      "==================================================\n",
      "==================================================\n",
      "Train on file:  arabic_filtered_tweets_of_year_2009.csv\n",
      "==================================================\n",
      "==================================================\n",
      "==================================================\n",
      "True\n",
      "Epoch #0 start\n",
      "2022-03-03 13:54:06.920380\n",
      "Epoch #0 end\n",
      "2022-03-03 13:54:42.246623\n",
      "==================================================\n",
      "Epoch #1 start\n",
      "2022-03-03 13:54:42.378581\n",
      "Epoch #1 end\n",
      "2022-03-03 13:55:21.232979\n",
      "==================================================\n",
      "Epoch #2 start\n",
      "2022-03-03 13:55:21.354722\n",
      "Epoch #2 end\n",
      "2022-03-03 13:56:11.253723\n",
      "==================================================\n",
      "Epoch #3 start\n",
      "2022-03-03 13:56:11.417045\n",
      "Epoch #3 end\n",
      "2022-03-03 13:56:56.138574\n",
      "==================================================\n",
      "Epoch #4 start\n",
      "2022-03-03 13:56:56.293242\n",
      "Epoch #4 end\n",
      "2022-03-03 13:57:51.262288\n",
      "==================================================\n",
      "Epoch #5 start\n",
      "2022-03-03 13:57:51.453438\n",
      "Epoch #5 end\n",
      "2022-03-03 13:58:47.689215\n",
      "==================================================\n",
      "Epoch #6 start\n",
      "2022-03-03 13:58:47.873705\n",
      "Epoch #6 end\n",
      "2022-03-03 13:59:53.477834\n",
      "==================================================\n",
      "0:06:31.411194\n",
      "Some model data: \n",
      "190048\n",
      "7\n",
      "5973\n"
     ]
    }
   ],
   "source": [
    "for fname in os.listdir(ARABIC_FILTERED_DATA_DIR):\n",
    "    print(\"=\"*50)\n",
    "    print(\"=\"*50)\n",
    "    print(\"Train on file: \", fname)\n",
    "    print(\"=\"*50)\n",
    "    print(\"=\"*50)\n",
    "    sentences = MyCorpus(fname)\n",
    "    model = train_word2vec_skip_gram(model, True, \"fullgram\", sentences, vector_size=300, min_count=300)\n",
    "    print(\"Some model data: \")\n",
    "    print(model.corpus_count)\n",
    "    print(model.epochs)\n",
    "    print(len(model.wv.key_to_index))"
   ]
  },
  {
   "cell_type": "code",
   "execution_count": 5,
   "id": "9c284fbc",
   "metadata": {},
   "outputs": [
    {
     "name": "stdout",
     "output_type": "stream",
     "text": [
      "We train on number of tokens:  88019456\n"
     ]
    }
   ],
   "source": [
    "print(\"We train on number of tokens: \", sentences.VAL)"
   ]
  },
  {
   "cell_type": "code",
   "execution_count": null,
   "id": "2f28c033",
   "metadata": {},
   "outputs": [],
   "source": []
  }
 ],
 "metadata": {
  "kernelspec": {
   "display_name": "Python 3",
   "language": "python",
   "name": "python3"
  },
  "language_info": {
   "codemirror_mode": {
    "name": "ipython",
    "version": 3
   },
   "file_extension": ".py",
   "mimetype": "text/x-python",
   "name": "python",
   "nbconvert_exporter": "python",
   "pygments_lexer": "ipython3",
   "version": "3.6.9"
  }
 },
 "nbformat": 4,
 "nbformat_minor": 5
}
