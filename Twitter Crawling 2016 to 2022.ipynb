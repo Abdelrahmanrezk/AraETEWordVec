{
 "cells": [
  {
   "cell_type": "code",
   "execution_count": null,
   "id": "ee5998ec",
   "metadata": {},
   "outputs": [],
   "source": [
    "from multiprocessing import Process\n",
    "from twitter_configs import *"
   ]
  },
  {
   "cell_type": "markdown",
   "id": "0d97380c",
   "metadata": {},
   "source": [
    "# Scrapping with multiprocessing\n",
    "\n",
    "This is help us to scrap tweets from multiple year and month at same time"
   ]
  },
  {
   "cell_type": "code",
   "execution_count": null,
   "id": "d2d68bdd",
   "metadata": {},
   "outputs": [],
   "source": [
    "# Multi process scraper\n",
    "if __name__ == '__main__':\n",
    "    processes = []\n",
    "    for year in range(2008, 2022):\n",
    "        for month in range(1, 13): \n",
    "            p = Process(target=tweets_for_one_month, \n",
    "                 args=(year,month,))\n",
    "            p.start()\n",
    "            processes.append(p)     \n",
    "            \n",
    "    for p in processes:\n",
    "        p.join()"
   ]
  },
  {
   "cell_type": "code",
   "execution_count": null,
   "id": "33c2fdae",
   "metadata": {},
   "outputs": [],
   "source": []
  }
 ],
 "metadata": {
  "kernelspec": {
   "display_name": "Python 3",
   "language": "python",
   "name": "python3"
  },
  "language_info": {
   "codemirror_mode": {
    "name": "ipython",
    "version": 3
   },
   "file_extension": ".py",
   "mimetype": "text/x-python",
   "name": "python",
   "nbconvert_exporter": "python",
   "pygments_lexer": "ipython3",
   "version": "3.6.9"
  }
 },
 "nbformat": 4,
 "nbformat_minor": 5
}
