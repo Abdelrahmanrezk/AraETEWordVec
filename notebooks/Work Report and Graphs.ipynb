{
 "cells": [
  {
   "cell_type": "markdown",
   "metadata": {},
   "source": [
    "# Scraping Data\n",
    "\n",
    "<img src=\"images/scrap_pipeline.png\">\n",
    "\n",
    "For each year we get the months of that year, then find the days of that month in that specific year, next we move to handle months from 1 to 9 to be 01 to 09, required for start time of scraping, then we handle the direction of that month in that year to save the scrapped tweets inside csv file in that direction, not just for days, we have go deeper in hours of days and scrap data based on some hours of the day, and this help us scraped tweets along the day.\n",
    "\n",
    "## Work in our private repo github\n",
    "\n",
    "https://github.com/Abdelrahmanrezk/Crawling-twitter-Data-using-twint_v2/blob/main/twitter_configs.py\n",
    "\n",
    "https://github.com/Abdelrahmanrezk/Crawling-twitter-Data-using-twint_v2/blob/main/Twitter%20Crawling%202016%20to%202022.ipynb"
   ]
  },
  {
   "cell_type": "markdown",
   "metadata": {},
   "source": [
    "# Text Pre-processing\n",
    "\n",
    "<img src=\"images/Text-preprocess_pipeline.png\">\n",
    "\n",
    "Arabic language is special in its pre-process steps, beside of that the tweets has some of tokens need to handle.\n",
    "\n",
    "First of all as we get tweet text we get along with its language written in, so first step was to get just the Arabic tweets because some other language like [Urdu and Persian] shared common and have similarity with Arabic language.\n",
    "\n",
    "Next we have moved to tweets itself, and for each tweet we also detect its language from its text, and this is help us a lot to save only Arabic tweets.\n",
    "\n",
    "Once we detect that tweet is Arabic, we need to clean it from some special characters, handle more spaces and all of the required preprocessing as in graph.\n",
    "\n",
    "Lastly we move to the **tokenization**.\n",
    "\n",
    "# Tokenization\n",
    "\n",
    "The pre-process we have done before help us in this stage, when we compared different tokenizer in the first days of work, and we use these tokenizer to split our tweets.\n",
    "\n",
    "## Work in our private repo github\n",
    "\n",
    "https://github.com/Abdelrahmanrezk/Crawling-twitter-Data-using-twint_v2/blob/main/ara_vec_preprocess_configs.py\n",
    "\n",
    "https://github.com/Abdelrahmanrezk/Crawling-twitter-Data-using-twint_v2/blob/main/DifferentTokenization.py\n",
    "\n",
    "https://github.com/Abdelrahmanrezk/Crawling-twitter-Data-using-twint_v2/blob/main/Text-Preprocessing.ipynb"
   ]
  },
  {
   "cell_type": "markdown",
   "metadata": {
    "collapsed": true
   },
   "source": [
    "# Word Vector\n",
    "\n",
    "<img src=\"images/word_2vec_pipeline.png\">\n",
    "\n",
    "Previously we have deal with Bag of words either binary, count or tf-idf, all of these bag of words was ignoring the context of words, the relationship between near words and its effect on the meaning. \n",
    "\n",
    "The BOW was collect all the words into statistical bag of words, then each of these vectorization method assign just one number to the words, like the number of times word appear in sentence or just 1 or 0 if its comes in sentence or not.\n",
    "\n",
    "But is there is a similarity between words like **hotel and motel** ? in the BOW we dealing with there is zero similarity although they represent the same meaning and comes in similar context.\n",
    "\n",
    "**But Why BOW work and give us a pretty good accuracy ?**\n",
    "\n",
    "the BoW with text features model we built (bin, freq, cnt, tfidf), builds a vector per sentence, not word, so tweets(sequence of words in text) with similar words will have 1’s at the same location, so the similarity was between two tweets, document (some sequence of words), **not between words itself**, But ? what about (sparsity, missing sequence, information and context of words) ?\n",
    "\n",
    "<img src=\"images/BOW_vec1.png\">\n",
    "\n",
    "**Can you imagine this vector with all of words in your data, and all of these words are 0 because its not appear in the document you process for now and just some numbers for words comes in that document !!**\n",
    "\n",
    "## BUT Word Vector came to light\n",
    "\n",
    "Instead of this large statistical Bag of words **to represent each sentence** (with all words of data), we just compress to some fixed length may be just **50 or 100 words !** (solve the sparsity problem), and we can do that by giving each word **index** so when we need any word we get via its index **Later will know why**.\n",
    "\n",
    "<img src=\"images/word_vec2.png\">\n",
    "\n",
    "**Why using index while its as we can see has no any information or meaning about the word !?**\n",
    "\n",
    "We do not use the index its self to represent the word, we use it to get the word from the Embedding matrix we learn about the words in, and as we can see in the other side of the image the words comes from some topic that represent the word in some space, **But We can feed the words to the model** so we feed **one hot vector of all zero except the index of that word in the matrix **.\n",
    "\n",
    "\n",
    "so We want a mapping from discrete (categorical) space to Vector space, space where the value representing similar meanings are near each others! **This mapping what we called Embedding**\n",
    "\n",
    "**Word Vector are numerical representation of word semantics or meaning including literal and implied meaning. So word vector can capture the connotation of words like [Peopleness, animalness and even conceptness], and they combine all that into a dense vector(no zeros as in sparse vector with BOW) this dense vector is of floating point values, which enables us for queries and logical reasoning.**\n",
    "\n",
    "<img src=\"images/word_vec3.png\">\n",
    "- These **e** are the latten factors represent the word\n",
    "- Also its the features of the word in some space But !!\n",
    "\n",
    "**But what these Embedding represent ? how much embedding we need ?**\n",
    "\n",
    "Lets go back for few seconds in world of machine learning, where these embedding was hand wriiting (designed by people), may be from people know more about the language, or others whose have some knowledge about textual data and can give some scores for these words based on some topics, or based on the occurrence of the words together.\n",
    "\n",
    "<table>\n",
    "<tr>\n",
    "    <td><img src=\"images/word_vec4.png\"></td>\n",
    "    <td><img src=\"images/word_vec5.png\"></td>\n",
    "</tr>\n",
    "</table>\n",
    "\n",
    "But **This is Machine learning world** What about deep learning ?\n",
    "\n",
    "- DL = Learn them\n",
    "- Just set how many Hyperparameter you need (embedding, latent factors, features any of these names as you like).\n",
    "- Let the network learn these values (embedding, latent factors, features)\n",
    "\n",
    "## Semantic Queries and analogies\n",
    "\n",
    "**So let's go deeper with some word2vec models we have to see some of its pretty result.**\n",
    "\n",
    "Can you imagine that you have some of information, or words related to some topic or names of some ones you know, but you do not remember the specific name of that person or place, but you can give some ituation about, and the **Word2Vec** can give you a very approximation of what you search for your semantic query that you give the ituation about or about the analogies questions as we can see below."
   ]
  },
  {
   "cell_type": "code",
   "execution_count": 1,
   "metadata": {},
   "outputs": [],
   "source": [
    "import gensim"
   ]
  },
  {
   "cell_type": "code",
   "execution_count": 2,
   "metadata": {},
   "outputs": [],
   "source": [
    "model = gensim.models.Word2Vec.load(\"../CBOW_model/train_word2vec_cbow__window_3_min_count_300\")"
   ]
  },
  {
   "cell_type": "code",
   "execution_count": 3,
   "metadata": {},
   "outputs": [
    {
     "name": "stdout",
     "output_type": "stream",
     "text": [
      "The number of words the model learn from your dataset are: 186507\n",
      "['حسابشخصي', 'من', 'رابطويب', '#', 'في', ':', 'الله', 'علي', 'لا', '!', 'ما', 'ف', 'اللهم', 'ان', 'ب', 'ع', 'كل', 'ي', ')', '؟', 'ولا', 'انا', 'م', '(', 'اللي', 'ل', 'الي', 'الا', 'عن', 'بس', 'لي', 'مع', 'انت', 'و', 'لك', 'والله', '😂', ',', 'اني', 'هو', 'لو', 'او', 'كان', 'مش', 'هذا', 'بعد', 'اذا', 'يارب', 'يوم', 'له', 'حتي', 'الناس', ';', 'وانا', 'اي', 'فيه', 'الدنيا', '&', 'قلبي', 'عليك', 'عليه', 'شي', 'الحمد', 'وانت', 'اليوم', 'عشان', 'شيء', 'غير', 'الصباح', 'انه', 'خير', 'ا', 'ربي', 'انك', 'بين', 'محمد', 'هي', 'ربنا', 'يعني', 'لم', 'اذكار', 'حاجه', 'كنت', 'الذي', 'اله', 'احد', 'لما', 'واحد', 'وفي', 'لنا', 'بك', 'وان', 'فيها', 'قبل', 'والمساء', 'وهو', 'مره', 'الخير', 'لكن', 'رب']\n",
      "(300,)\n"
     ]
    }
   ],
   "source": [
    "vocabs = list(model.wv.index_to_key)\n",
    "print(\"The number of words the model learn from your dataset are:\", len(vocabs))\n",
    "print(vocabs[:100])\n",
    "print(model.wv['رابطويب'].shape)"
   ]
  },
  {
   "cell_type": "code",
   "execution_count": 4,
   "metadata": {},
   "outputs": [
    {
     "data": {
      "text/plain": [
       "[('القصرين', 0.6576645374298096),\n",
       " ('صفاقس', 0.5728908777236938),\n",
       " ('قفصه', 0.5371726751327515),\n",
       " ('تطاوين', 0.5305324196815491),\n",
       " ('المنستير', 0.5236865878105164),\n",
       " ('نابل', 0.5214819312095642),\n",
       " ('بنزرت', 0.5170920491218567),\n",
       " ('جندوبه', 0.5105900764465332),\n",
       " ('وهران', 0.4969269633293152),\n",
       " ('بجايه', 0.48116734623908997)]"
      ]
     },
     "execution_count": 4,
     "metadata": {},
     "output_type": "execute_result"
    }
   ],
   "source": [
    "model.wv.most_similar('قابس')"
   ]
  },
  {
   "cell_type": "code",
   "execution_count": 5,
   "metadata": {},
   "outputs": [
    {
     "data": {
      "text/plain": [
       "[('المنصوره', 0.8711553812026978),\n",
       " ('الزقازيق', 0.8422937393188477),\n",
       " ('اسوان', 0.8063880801200867),\n",
       " ('اسيوط', 0.8036909699440002),\n",
       " ('المنيا', 0.7726854681968689),\n",
       " ('اسكندريه', 0.7653614282608032),\n",
       " ('دمنهور', 0.764900803565979),\n",
       " ('الفيوم', 0.7460120916366577),\n",
       " ('المنوفيه', 0.7423815727233887),\n",
       " ('دمياط', 0.7363192439079285)]"
      ]
     },
     "execution_count": 5,
     "metadata": {},
     "output_type": "execute_result"
    }
   ],
   "source": [
    "model.wv.most_similar('طنطا')"
   ]
  },
  {
   "cell_type": "code",
   "execution_count": 6,
   "metadata": {},
   "outputs": [
    {
     "data": {
      "text/plain": [
       "[('بفندق', 0.730944812297821),\n",
       " ('منتجع', 0.6843217611312866),\n",
       " ('وفندق', 0.6325039863586426),\n",
       " ('مول', 0.614116370677948),\n",
       " ('بلازا', 0.5699888467788696),\n",
       " ('شاليه', 0.5637040734291077),\n",
       " ('لفندق', 0.5493143796920776),\n",
       " ('فنادق', 0.5271930694580078),\n",
       " ('منتزه', 0.5092812776565552),\n",
       " ('شاليهات', 0.5062549710273743)]"
      ]
     },
     "execution_count": 6,
     "metadata": {},
     "output_type": "execute_result"
    }
   ],
   "source": [
    "model.wv.most_similar('فندق')"
   ]
  },
  {
   "cell_type": "code",
   "execution_count": 7,
   "metadata": {},
   "outputs": [
    {
     "data": {
      "text/plain": [
       "[('ملكه', 0.41999077796936035),\n",
       " ('وملكه', 0.3866483271121979),\n",
       " ('وملك', 0.3825167715549469),\n",
       " ('لملك', 0.35914820432662964),\n",
       " ('ياملك', 0.3270847797393799),\n",
       " ('اميره', 0.3250289559364319),\n",
       " ('بملك', 0.32333946228027344),\n",
       " ('حبيبه', 0.3119167685508728),\n",
       " ('بملكه', 0.30744314193725586),\n",
       " ('ملوك', 0.3049042224884033)]"
      ]
     },
     "execution_count": 7,
     "metadata": {},
     "output_type": "execute_result"
    }
   ],
   "source": [
    "model.wv.most_similar(positive=['ملك', 'امراءه'], negative=['رجل'])"
   ]
  },
  {
   "cell_type": "code",
   "execution_count": 8,
   "metadata": {},
   "outputs": [
    {
     "data": {
      "text/plain": [
       "[('الدون', 0.5999741554260254),\n",
       " ('كريستيانو', 0.5968264937400818),\n",
       " ('رونالدو', 0.590907871723175),\n",
       " ('كرستيانو', 0.5784972906112671),\n",
       " ('نيمار', 0.5503805875778198),\n",
       " ('كريس', 0.5388643741607666),\n",
       " ('رونالدينهو', 0.5260710120201111),\n",
       " ('مارادونا', 0.5219584703445435),\n",
       " ('وميسي', 0.5198914408683777),\n",
       " ('راموس', 0.5197929739952087)]"
      ]
     },
     "execution_count": 8,
     "metadata": {},
     "output_type": "execute_result"
    }
   ],
   "source": [
    "model.wv.most_similar(positive=['ميسي', 'تريكه'], negative=['صلاح'])"
   ]
  },
  {
   "cell_type": "code",
   "execution_count": 9,
   "metadata": {},
   "outputs": [
    {
     "data": {
      "text/plain": [
       "[('تريزيجيه', 0.6895750164985657),\n",
       " ('النيني', 0.6815524101257324),\n",
       " ('الشناوي', 0.6730372309684753),\n",
       " ('عبدالشافي', 0.6410932540893555),\n",
       " ('السوليه', 0.6350133419036865),\n",
       " ('كاسونجو', 0.6310057640075684),\n",
       " ('جيرالدو', 0.6125296354293823),\n",
       " ('شيكابالا', 0.6099990010261536),\n",
       " ('الونش', 0.6048075556755066),\n",
       " ('دونجا', 0.601079523563385)]"
      ]
     },
     "execution_count": 9,
     "metadata": {},
     "output_type": "execute_result"
    }
   ],
   "source": [
    "# The word2vec model know that ميسي and النني at same distance as رونالدو وتريزجيه and other Egyption players\n",
    "model.wv.most_similar(positive=['النني', 'ميسي'], negative=['رونالدو'])"
   ]
  },
  {
   "cell_type": "code",
   "execution_count": 10,
   "metadata": {},
   "outputs": [
    {
     "data": {
      "text/plain": [
       "[('😩', 0.8766147494316101),\n",
       " ('☹️', 0.8408313393592834),\n",
       " ('😫', 0.8143615126609802),\n",
       " ('😔', 0.8086197972297668),\n",
       " ('💔', 0.7940607666969299),\n",
       " ('\\U0001f97a', 0.7897905111312866),\n",
       " ('🤦🏻\\u200d💔', 0.7822915315628052),\n",
       " ('🌚', 0.7778453826904297),\n",
       " ('😶', 0.777163565158844),\n",
       " ('😢', 0.768022358417511)]"
      ]
     },
     "execution_count": 10,
     "metadata": {},
     "output_type": "execute_result"
    }
   ],
   "source": [
    "model.wv.most_similar('😭')"
   ]
  },
  {
   "cell_type": "code",
   "execution_count": 11,
   "metadata": {},
   "outputs": [
    {
     "data": {
      "text/plain": [
       "[('😆', 0.802866518497467),\n",
       " ('\\U0001f92a', 0.7862435579299927),\n",
       " ('😁', 0.7819022536277771),\n",
       " ('😜', 0.7608166337013245),\n",
       " ('\\U0001f92d', 0.7607275247573853),\n",
       " ('😂', 0.7582506537437439),\n",
       " ('😅', 0.7579998970031738),\n",
       " ('😏', 0.7514066696166992),\n",
       " ('😬', 0.7476720809936523),\n",
       " ('😝', 0.7413126230239868)]"
      ]
     },
     "execution_count": 11,
     "metadata": {},
     "output_type": "execute_result"
    }
   ],
   "source": [
    "model.wv.most_similar('🤣')"
   ]
  },
  {
   "cell_type": "code",
   "execution_count": 12,
   "metadata": {},
   "outputs": [
    {
     "data": {
      "text/plain": [
       "[('🇦🇪', 0.6385013461112976),\n",
       " ('🇧🇭', 0.5806732177734375),\n",
       " ('🇴🇲', 0.5768093466758728),\n",
       " ('🇸🇦', 0.5592342615127563),\n",
       " ('🇶🇦', 0.5500586628913879),\n",
       " ('كويت', 0.5463189482688904),\n",
       " ('وشعبها', 0.4935325086116791),\n",
       " ('والكويتين', 0.48525169491767883),\n",
       " ('*KW*', 0.48066458106040955),\n",
       " ('الحبيبه', 0.46540558338165283)]"
      ]
     },
     "execution_count": 12,
     "metadata": {},
     "output_type": "execute_result"
    }
   ],
   "source": [
    "model.wv.most_similar('🇰🇼')"
   ]
  },
  {
   "cell_type": "code",
   "execution_count": 13,
   "metadata": {},
   "outputs": [
    {
     "data": {
      "text/plain": [
       "[('🏴\\U000e0067\\U000e0062\\U000e0065\\U000e006e\\U000e0067\\U000e007f',\n",
       "  0.5916234850883484),\n",
       " ('🇮🇹', 0.5404842495918274),\n",
       " ('🇫🇷', 0.5168828368186951),\n",
       " ('🇦🇷', 0.5050787925720215),\n",
       " ('🇳🇱', 0.4779300093650818),\n",
       " ('وفالنسيا', 0.4625059962272644),\n",
       " ('🇩🇪', 0.4523812234401703),\n",
       " ('🇵🇹', 0.45176205039024353),\n",
       " ('والبرتغال', 0.4514895975589752),\n",
       " ('SPORT', 0.45084479451179504)]"
      ]
     },
     "execution_count": 13,
     "metadata": {},
     "output_type": "execute_result"
    }
   ],
   "source": [
    "model.wv.most_similar('🇪🇸')"
   ]
  },
  {
   "cell_type": "code",
   "execution_count": 14,
   "metadata": {},
   "outputs": [
    {
     "data": {
      "text/plain": [
       "[('🤢', 0.8395892977714539),\n",
       " ('\\U0001f92e', 0.805376410484314),\n",
       " ('😤', 0.6982896327972412),\n",
       " ('🤧', 0.6418924331665039),\n",
       " ('😖', 0.6386275887489319),\n",
       " ('😑', 0.6216031908988953),\n",
       " ('😡', 0.6194607615470886),\n",
       " ('😫', 0.6168348789215088),\n",
       " ('🔪', 0.6117090582847595),\n",
       " ('👎🏻', 0.611698567867279)]"
      ]
     },
     "execution_count": 14,
     "metadata": {},
     "output_type": "execute_result"
    }
   ],
   "source": [
    "model.wv.most_similar('😷')"
   ]
  },
  {
   "cell_type": "code",
   "execution_count": 15,
   "metadata": {},
   "outputs": [
    {
     "data": {
      "text/plain": [
       "[('🙏🏻', 0.9190897941589355),\n",
       " ('🙏', 0.8529333472251892),\n",
       " ('🙏🏽', 0.819024384021759),\n",
       " ('🙌🏻', 0.7919767498970032),\n",
       " ('🙏🏻❤️', 0.7821568250656128),\n",
       " ('🙏🏻♥️', 0.7794980406761169),\n",
       " ('🙌🏼', 0.7552249431610107),\n",
       " ('🙏❤', 0.7476827502250671),\n",
       " ('🙏🏻💙', 0.7385942935943604),\n",
       " ('🙏🏼❤️', 0.7233009934425354)]"
      ]
     },
     "execution_count": 15,
     "metadata": {},
     "output_type": "execute_result"
    }
   ],
   "source": [
    "model.wv.most_similar('🙏🏼')"
   ]
  },
  {
   "cell_type": "code",
   "execution_count": 16,
   "metadata": {},
   "outputs": [
    {
     "data": {
      "text/plain": [
       "[('💙', 0.8877499103546143),\n",
       " ('\\U0001f90d', 0.8294982314109802),\n",
       " ('\\U0001f9e1', 0.8192111253738403),\n",
       " ('🖤', 0.8143652081489563),\n",
       " ('💜', 0.8086118698120117),\n",
       " ('❤️', 0.8010156750679016),\n",
       " ('♥️', 0.7955614328384399),\n",
       " ('💗', 0.7517227530479431),\n",
       " ('😻', 0.7355905771255493),\n",
       " ('💘', 0.7272791862487793)]"
      ]
     },
     "execution_count": 16,
     "metadata": {},
     "output_type": "execute_result"
    }
   ],
   "source": [
    "model.wv.most_similar('💛')"
   ]
  },
  {
   "cell_type": "code",
   "execution_count": 17,
   "metadata": {},
   "outputs": [
    {
     "data": {
      "text/plain": [
       "[('🌸', 0.7351401448249817),\n",
       " ('🌷', 0.7263257503509521),\n",
       " ('🌺', 0.7200062274932861),\n",
       " ('🍃', 0.7052541375160217),\n",
       " ('🌹', 0.6743341684341431),\n",
       " ('💐', 0.6151167154312134),\n",
       " ('🕊', 0.5917332768440247),\n",
       " ('🌿', 0.5900437235832214),\n",
       " ('🌹❤', 0.5851139426231384),\n",
       " ('❤🌹', 0.5674962997436523)]"
      ]
     },
     "execution_count": 17,
     "metadata": {},
     "output_type": "execute_result"
    }
   ],
   "source": [
    "model.wv.most_similar('🌻')"
   ]
  },
  {
   "cell_type": "code",
   "execution_count": 18,
   "metadata": {},
   "outputs": [
    {
     "data": {
      "text/plain": [
       "[('⏱', 0.8350520730018616),\n",
       " ('🕰', 0.6906335949897766),\n",
       " ('⌚️', 0.6744349598884583),\n",
       " ('⏱️', 0.6575110554695129),\n",
       " ('🕘', 0.627112090587616),\n",
       " ('⌚', 0.5932911038398743),\n",
       " ('🕗', 0.5850368142127991),\n",
       " ('🕒', 0.5844873785972595),\n",
       " ('🕖', 0.5667195320129395),\n",
       " ('00', 0.5319939851760864)]"
      ]
     },
     "execution_count": 18,
     "metadata": {},
     "output_type": "execute_result"
    }
   ],
   "source": [
    "model.wv.most_similar('⏰')"
   ]
  },
  {
   "cell_type": "code",
   "execution_count": 19,
   "metadata": {},
   "outputs": [
    {
     "data": {
      "text/plain": [
       "[('📱', 0.6366837620735168),\n",
       " ('📞', 0.547763466835022),\n",
       " ('واتساب', 0.5317453742027283),\n",
       " ('للتواصل', 0.5148635506629944),\n",
       " ('وتساب', 0.507297694683075),\n",
       " ('للتسجيل', 0.4896295964717865),\n",
       " ('WhatsApp', 0.4824824631214142),\n",
       " ('☎️', 0.48025646805763245),\n",
       " ('٠٠٩١٧٠٨٠٧٨٢٥٧٨', 0.47014737129211426),\n",
       " ('واتسب', 0.465564489364624)]"
      ]
     },
     "execution_count": 19,
     "metadata": {},
     "output_type": "execute_result"
    }
   ],
   "source": [
    "model.wv.most_similar('📲')"
   ]
  },
  {
   "cell_type": "code",
   "execution_count": 20,
   "metadata": {},
   "outputs": [
    {
     "data": {
      "text/plain": [
       "[('💵', 0.6109874844551086),\n",
       " ('💰', 0.6076492667198181),\n",
       " ('كاش', 0.4554022550582886),\n",
       " ('🤑', 0.4526485800743103),\n",
       " ('شهريا', 0.43424439430236816),\n",
       " ('وربح', 0.42930373549461365),\n",
       " ('🎁', 0.4238961935043335),\n",
       " ('بالمحفظه', 0.39836782217025757),\n",
       " ('مشتريات', 0.3973326086997986),\n",
       " ('بعموله', 0.396614670753479)]"
      ]
     },
     "execution_count": 20,
     "metadata": {},
     "output_type": "execute_result"
    }
   ],
   "source": [
    "model.wv.most_similar('💸')"
   ]
  },
  {
   "cell_type": "code",
   "execution_count": 21,
   "metadata": {},
   "outputs": [
    {
     "data": {
      "text/plain": [
       "[('📚', 0.5797014832496643),\n",
       " ('كتاب', 0.46504756808280945),\n",
       " ('📘', 0.4579377770423889),\n",
       " ('📕', 0.45251527428627014),\n",
       " ('📒', 0.43621087074279785),\n",
       " ('سوره', 0.4350302815437317),\n",
       " ('📗', 0.4267156720161438),\n",
       " ('وقراءه', 0.4170687794685364),\n",
       " ('رتل', 0.4137421250343323),\n",
       " ('الكهف🌸', 0.408466100692749)]"
      ]
     },
     "execution_count": 21,
     "metadata": {},
     "output_type": "execute_result"
    }
   ],
   "source": [
    "model.wv.most_similar('📖')"
   ]
  },
  {
   "cell_type": "code",
   "execution_count": 22,
   "metadata": {},
   "outputs": [
    {
     "data": {
      "text/plain": [
       "[('🗓', 0.8052121996879578),\n",
       " ('📅', 0.7049617171287537),\n",
       " ('🗓️', 0.7047621011734009),\n",
       " ('الموافق', 0.557779848575592),\n",
       " ('⏰', 0.46209901571273804),\n",
       " ('المصادف', 0.457782506942749),\n",
       " ('المقبل', 0.44337525963783264),\n",
       " ('بتاريخ', 0.4397914707660675),\n",
       " ('04', 0.43374374508857727),\n",
       " ('ذوالحجه', 0.42941543459892273)]"
      ]
     },
     "execution_count": 22,
     "metadata": {},
     "output_type": "execute_result"
    }
   ],
   "source": [
    "model.wv.most_similar('📆')"
   ]
  },
  {
   "cell_type": "code",
   "execution_count": 23,
   "metadata": {},
   "outputs": [
    {
     "data": {
      "text/plain": [
       "[('حقنه', 0.42275717854499817),\n",
       " ('انسولين', 0.4176076650619507),\n",
       " ('استرازينكا', 0.4120599031448364),\n",
       " ('💊', 0.40240922570228577),\n",
       " ('واللقاح', 0.4018620550632477),\n",
       " ('ابره', 0.38729023933410645),\n",
       " ('تطعيم', 0.38290613889694214),\n",
       " ('التطعيم', 0.3790135979652405),\n",
       " ('لعلاج', 0.3749803900718689),\n",
       " ('الايدز', 0.374743789434433),\n",
       " ('بنج', 0.3714739978313446),\n",
       " ('اللقاح', 0.36567190289497375),\n",
       " ('كعلاج', 0.3644156754016876),\n",
       " ('ابر', 0.364349365234375),\n",
       " ('الانفلونزا', 0.35881897807121277),\n",
       " ('جرعتين', 0.35615113377571106),\n",
       " ('استرازينيكا', 0.35403233766555786),\n",
       " ('علاج', 0.35213226079940796),\n",
       " ('والاشعه', 0.3516959249973297),\n",
       " ('الوقايه', 0.35025978088378906),\n",
       " ('لمرض', 0.3496297597885132),\n",
       " ('لمرضي', 0.3433901071548462),\n",
       " ('البنج', 0.3431037664413452),\n",
       " ('والتحاليل', 0.3428897261619568),\n",
       " ('والاعصاب', 0.3380063772201538),\n",
       " ('فايزر', 0.3376590311527252),\n",
       " ('الكحه', 0.33615362644195557),\n",
       " ('الحروق', 0.33608943223953247),\n",
       " ('القسطره', 0.3344672620296478),\n",
       " ('حقن', 0.3343067467212677)]"
      ]
     },
     "execution_count": 23,
     "metadata": {},
     "output_type": "execute_result"
    }
   ],
   "source": [
    "model.wv.most_similar('💉', topn=30)"
   ]
  },
  {
   "cell_type": "code",
   "execution_count": 24,
   "metadata": {},
   "outputs": [
    {
     "data": {
      "text/plain": [
       "[('الميموري', 0.41035017371177673),\n",
       " ('النوت', 0.360521525144577),\n",
       " ('هارديسك', 0.354240745306015),\n",
       " ('تابلت', 0.349079430103302),\n",
       " ('لابتوب', 0.3467143774032593),\n",
       " ('يوزر', 0.343673974275589),\n",
       " ('باسورد', 0.3390958905220032),\n",
       " ('بتقنيه', 0.33850616216659546),\n",
       " ('ديسك', 0.33043983578681946),\n",
       " ('ماسنجر', 0.32844215631484985)]"
      ]
     },
     "execution_count": 24,
     "metadata": {},
     "output_type": "execute_result"
    }
   ],
   "source": [
    "model.wv.most_similar('ميموري')\n"
   ]
  },
  {
   "cell_type": "code",
   "execution_count": 25,
   "metadata": {},
   "outputs": [
    {
     "data": {
      "text/plain": [
       "[('انترنت', 0.6124365329742432),\n",
       " ('النت', 0.5466646552085876),\n",
       " ('مودم', 0.5283547043800354),\n",
       " ('راوتر', 0.5118861198425293),\n",
       " ('اشتراك', 0.5064742565155029),\n",
       " ('رصيد', 0.48674559593200684),\n",
       " ('شبكه', 0.4828455448150635),\n",
       " ('vpn', 0.47780612111091614),\n",
       " ('رسيفر', 0.4563308656215668),\n",
       " ('تليفون', 0.4552777111530304)]"
      ]
     },
     "execution_count": 25,
     "metadata": {},
     "output_type": "execute_result"
    }
   ],
   "source": [
    "model.wv.most_similar('نت')"
   ]
  },
  {
   "cell_type": "code",
   "execution_count": 26,
   "metadata": {},
   "outputs": [
    {
     "data": {
      "text/plain": [
       "[('الدراجات', 0.5883486270904541),\n",
       " ('دراجته', 0.5175548195838928),\n",
       " ('السياره', 0.5007126331329346),\n",
       " ('السيارات', 0.45013517141342163),\n",
       " ('العربه', 0.4470364451408386),\n",
       " ('المرسيدس', 0.44348618388175964),\n",
       " ('الحافله', 0.43496739864349365),\n",
       " ('المركبه', 0.42679348587989807),\n",
       " ('سياره', 0.4107719659805298),\n",
       " ('الدباب', 0.396430104970932)]"
      ]
     },
     "execution_count": 26,
     "metadata": {},
     "output_type": "execute_result"
    }
   ],
   "source": [
    "model.wv.most_similar('الدراجه')"
   ]
  },
  {
   "cell_type": "code",
   "execution_count": 27,
   "metadata": {},
   "outputs": [
    {
     "data": {
      "text/plain": [
       "[('سامسونج', 0.7198393940925598),\n",
       " ('هواوي', 0.7125051021575928),\n",
       " ('سامسونغ', 0.657014787197113),\n",
       " ('ابل', 0.6173477172851562),\n",
       " ('اوبو', 0.6018435955047607),\n",
       " ('LG', 0.5795548558235168),\n",
       " ('سوني', 0.5480899214744568),\n",
       " ('لينوفو', 0.5480666756629944),\n",
       " ('مايكروسوفت', 0.5455424785614014),\n",
       " ('نوكيا', 0.5372706055641174)]"
      ]
     },
     "execution_count": 27,
     "metadata": {},
     "output_type": "execute_result"
    }
   ],
   "source": [
    "model.wv.most_similar('شاومي')"
   ]
  },
  {
   "cell_type": "code",
   "execution_count": 28,
   "metadata": {},
   "outputs": [
    {
     "data": {
      "text/plain": [
       "[('+A', 0.7267603874206543),\n",
       " ('B+', 0.7241740822792053),\n",
       " ('ا+', 0.6940098404884338),\n",
       " ('O+', 0.507546067237854),\n",
       " ('امتياز', 0.4989811182022095),\n",
       " ('الA', 0.49217814207077026),\n",
       " ('gpa', 0.4738493263721466),\n",
       " ('GPA', 0.47358110547065735),\n",
       " ('oral', 0.4734966456890106),\n",
       " ('mcq', 0.4452519416809082)]"
      ]
     },
     "execution_count": 28,
     "metadata": {},
     "output_type": "execute_result"
    }
   ],
   "source": [
    "model.wv.most_similar('A+')"
   ]
  },
  {
   "cell_type": "code",
   "execution_count": 29,
   "metadata": {},
   "outputs": [
    {
     "data": {
      "text/plain": [
       "[('للاجار', 0.4858027398586273),\n",
       " ('للايجار', 0.46704375743865967),\n",
       " ('للبيع', 0.4504377543926239),\n",
       " ('🏠', 0.44241032004356384),\n",
       " ('شاليه', 0.43213754892349243),\n",
       " ('لايجار', 0.4182172417640686),\n",
       " ('🏛', 0.4062213599681854),\n",
       " ('وشقه', 0.4005136787891388),\n",
       " ('ايجار', 0.3924168050289154),\n",
       " ('وايجار', 0.39238062500953674)]"
      ]
     },
     "execution_count": 29,
     "metadata": {},
     "output_type": "execute_result"
    }
   ],
   "source": [
    "model.wv.most_similar('🏡')"
   ]
  },
  {
   "cell_type": "code",
   "execution_count": 30,
   "metadata": {},
   "outputs": [
    {
     "data": {
      "text/plain": [
       "[('HR', 0.6573401689529419),\n",
       " ('ENT', 0.573662519454956),\n",
       " ('management', 0.5456481575965881),\n",
       " ('marketing', 0.5314162373542786),\n",
       " ('AI', 0.5244337320327759),\n",
       " ('business', 0.5167455077171326),\n",
       " ('system', 0.5155795812606812),\n",
       " ('math', 0.5150174498558044),\n",
       " ('team', 0.5092222094535828),\n",
       " ('research', 0.5068033337593079)]"
      ]
     },
     "execution_count": 30,
     "metadata": {},
     "output_type": "execute_result"
    }
   ],
   "source": [
    "model.wv.most_similar('IT')"
   ]
  },
  {
   "cell_type": "code",
   "execution_count": 31,
   "metadata": {},
   "outputs": [
    {
     "data": {
      "text/plain": [
       "[('الانستجرام', 0.8885126709938049),\n",
       " ('انستاجرام', 0.8573852181434631),\n",
       " ('الفيسبوك', 0.8319613933563232),\n",
       " ('فيسبوك', 0.7924776673316956),\n",
       " ('الانستغرام', 0.7459255456924438),\n",
       " ('الانستا', 0.742841899394989),\n",
       " ('انستا', 0.7374587655067444),\n",
       " ('تويتر', 0.7026540637016296),\n",
       " ('توتير', 0.6922999024391174),\n",
       " ('سنابشات', 0.6761666536331177)]"
      ]
     },
     "execution_count": 31,
     "metadata": {},
     "output_type": "execute_result"
    }
   ],
   "source": [
    "model.wv.most_similar('انستجرام')"
   ]
  },
  {
   "cell_type": "code",
   "execution_count": 32,
   "metadata": {},
   "outputs": [
    {
     "data": {
      "text/plain": [
       "[('🗝', 0.4576185345649719),\n",
       " ('🔐', 0.38109856843948364),\n",
       " ('ومفتاح', 0.37562310695648193),\n",
       " ('لابواب', 0.364055871963501),\n",
       " ('مفتاح', 0.3546719253063202),\n",
       " ('والاحتياطي', 0.3271389305591583),\n",
       " ('ويفتحه', 0.3258914351463318),\n",
       " ('وقفل', 0.32584044337272644),\n",
       " ('والمفتاح', 0.32396167516708374),\n",
       " ('♦️', 0.3178187608718872)]"
      ]
     },
     "execution_count": 32,
     "metadata": {},
     "output_type": "execute_result"
    }
   ],
   "source": [
    "model.wv.most_similar('🔑')"
   ]
  },
  {
   "cell_type": "code",
   "execution_count": 33,
   "metadata": {},
   "outputs": [
    {
     "data": {
      "text/plain": [
       "[('🤔', 0.8856027126312256),\n",
       " ('\\U0001f9d0', 0.7835210561752319),\n",
       " ('!', 0.7697850465774536),\n",
       " ('😳', 0.6982734799385071),\n",
       " ('وليش', 0.6604030132293701),\n",
       " ('🙄', 0.6550750732421875),\n",
       " ('😕', 0.6517845392227173),\n",
       " ('😮', 0.5953947305679321),\n",
       " ('ياتري', 0.594017505645752),\n",
       " ('👀', 0.5899108648300171)]"
      ]
     },
     "execution_count": 33,
     "metadata": {},
     "output_type": "execute_result"
    }
   ],
   "source": [
    "model.wv.most_similar('؟')"
   ]
  },
  {
   "cell_type": "markdown",
   "metadata": {},
   "source": [
    "# Note !\n",
    "\n",
    "No one need to mention any thing to word2vec, like these words are of places (actually cities), or whose is nearest to some player from egypt to other from Europe.\n",
    "\n",
    "So word2vec can learn that and much more than your intuition, just give it large enough data that mention all the textual or relative information you need.\n",
    "\n",
    "## Word Embeddings Look-up\n",
    "\n",
    "We have moved from the world of machine learning to deep learning to learn about these embedding as we said, just give the model how many of these embedding you need and let the model learn them. \n",
    "\n",
    "So how it can learn using the indices we have give to words, to build the Embedding Matrix (Look-up Table), which have word indices in rows and for each word (row), set how many embeddings you need (between 50 - 300 by practice).\n",
    "\n",
    "<img src=\"images/word_vec6.png\">\n",
    "\n",
    "**So each index will cause one row to be selected and learned**\n",
    "\n",
    "\n",
    "## But Who sets all these weights in the table !! ?\n",
    "\n",
    "With BOW model we was have some of text(reviews, tweets or sentence), and we have the label associated with these sentence either its negative or positive or some thing that we can compare the prediction with and test the loss then applying step by update the wieghts.\n",
    "\n",
    "But most of the data unlabeled, there is no output for each tweets, its just huge data without labeling. And this take us to the world of **unsupervised learning**, which **Word2Vec model** depends on.\n",
    "\n",
    "# Word2Vec\n",
    "\n",
    "We have two types of word2vec one of them to predict surrounding words from the center word which is called **Skip-Gram** and other one to predict the center(target word) from the surrounding word and this is called **Continuous Bag of words**\n",
    "\n",
    "# Note !!\n",
    "\n",
    "If we give it a time to read text above, we can notice that **predict !** and **from !**, the output and input, are actually from the data itself, no label is need, the model can learn from the data itself.\n",
    "\n",
    "Actually we not interest in these prediction itself, we interested about the embedding matrix (Look-Up Table) that the model build and learn from the data, which help us to learn the meaning, semantic and synonyms of words, how related words are close to each other in some spaces and other as we saw above from exampels.\n",
    "May be now you can imagine how this capability of word2vec can help in apps like [chatbot, search engine, question answering and other tasks]."
   ]
  },
  {
   "cell_type": "markdown",
   "metadata": {},
   "source": [
    "# Skip-Gram Approach\n",
    "\n",
    "In skip-gram approach we trying to predict the surrounding window of words from the center word, as we can see in image, the preidcited word words was **[claude, monet, the and grand]** while the input is just the word **painted** !\n",
    "\n",
    "<img src=\"images/skip_1.png\">\n",
    "\n",
    "Actually skip-gram are n-grams that contain gaps because we skip some tokens while we predict others.\n",
    "\n",
    "But how we feed these inputs to the network, if we skip to next window, and take the word monet as input, then the output is one word before because there is no other words before and 2 words after. !\n",
    "\n",
    "\n",
    "\n",
    "Its like simple neural network of just two layers, **hidden layer** which is build our main **Embedding Matrix**, and consisit of **n nurons as columns**, the **flatten factors(features)** that you need to represent words in, and the **M** rows which the number of **unique words** the vocabulary of your data, as well as same vector dimension of the **one-hot input vector**.\n",
    "\n",
    "The other layer is the output layer, which also consist of M neurons equal to number of unique word in our data, and we get the word that represent the max probability like in image above.\n",
    "\n",
    "**So for example if we have like this sentence:**\n",
    "\n",
    "**sentence = \"Claude Monet painted the Grand Canal of Venice in 1806.\"**\n",
    "\n",
    "We can build our target matrix like that:\n",
    "\n",
    "<img src=\"images/skip_3.png\">\n",
    "\n",
    "\n",
    "## Note !\n",
    "\n",
    "So we can notice that for word **Claude** there is no previous words, but there are two predicted words after it, and as we moved with our window of 5-words we build the table above.\n",
    "\n",
    "Each input is **one-hot-vector**, with 1 in the index of the word and 0 for all other places in the vector.\n",
    "\n",
    "Each word have the chance to be the predicted word for that input, sums all to one, and get the word with the heighest probabilty, then map to 1 to compare with the target table and so on.\n",
    "\n",
    "# What is Next !\n",
    "\n",
    "As we can see above the trained neural network of Continuous Bag of words of our model have its own Embedding table, which each word inside represent the semantic meaning of the word.\n",
    "\n",
    "Thanks to one hot vector and the idea of using index for tokens, as now each row in the weighted (Embedding matrix) represent each word from our unique vocabulary from the data we have. And after training semantically similar words will have similar vectors, **because they were trained to predict similar surrounding words**, and actually This is Purely Magical.\n",
    "\n",
    "## Note !!\n",
    "\n",
    "We should start training from begining each time we have new words because the output and input will have differernt number of words.\n",
    "\n"
   ]
  },
  {
   "cell_type": "markdown",
   "metadata": {},
   "source": [
    "# Continuous Bag-of-words Approach\n",
    "\n",
    "While skip-gram predict the surrounding words from the center words, the CBOW is the opposite and predict the center word from the neighbours. So instead of input the center word as one-hot vector, now we will pass the surrounding words as **multi-hot-vector** of ones (1) in index related to these words and 0 in all other places.\n",
    "\n",
    "\n",
    "<table>\n",
    "<tr>\n",
    "    <td><img src=\"images/cbow_1.png\"></td>\n",
    "    <td><img src=\"images/cbow_2.png\"></td>\n",
    "</tr>\n",
    "</table>\n",
    "\n",
    "**And if we look at how we feed the data into the network, it will be something like in the image below for same sentence we introduced in skip-gram and let's predict the word [painted]**\n",
    "\n",
    "<img src=\"images/cbow_3.png\">\n"
   ]
  },
  {
   "cell_type": "markdown",
   "metadata": {},
   "source": [
    "# Tricks of Word2Vec\n",
    "\n",
    "## Frequent bigrams\n",
    "\n",
    "**New York** as we can see some of words comes together a lot in the context, so we can combine these terms into one term separate them by _ like **New_York** or any symbol and let the network learn also from these n-grams, and the reason of that, these combination of words has different meaning than its individual words.\n",
    "\n",
    "## Subsampling frequent tokens\n",
    "\n",
    "As well as stop words comes a lot in any tweet or document, while they have some sharing meaning in the text, but not very important meaning, so giving these words less weights will help improve the word2vec model.\n",
    "\n",
    "## Negative Sampling\n",
    "\n",
    "To speed up the training of word2vec model, negative sampling comes to light, instead of input one word and predict the surrounding words or the opposite, negative sampling feed two words together and check its validity of these two words comes together within the window then predict 1 other wise predict 0.\n",
    "\n",
    "\n",
    "## Work in our private repo github\n",
    "\n",
    "https://github.com/Abdelrahmanrezk/Crawling-twitter-Data-using-twint_v2/blob/main/train_word2vec_from_scratch.py\n",
    "\n",
    "https://github.com/Abdelrahmanrezk/Crawling-twitter-Data-using-twint_v2/blob/main/one_gram_model.ipynb\n",
    "\n",
    "https://github.com/Abdelrahmanrezk/Crawling-twitter-Data-using-twint_v2/blob/main/full_gram_from_2_to_3.ipynb\n",
    "\n"
   ]
  },
  {
   "cell_type": "markdown",
   "metadata": {},
   "source": [
    "# Graph Results"
   ]
  },
  {
   "cell_type": "code",
   "execution_count": 34,
   "metadata": {},
   "outputs": [],
   "source": [
    "from word2vec_results import *"
   ]
  },
  {
   "cell_type": "code",
   "execution_count": 35,
   "metadata": {},
   "outputs": [
    {
     "name": "stdout",
     "output_type": "stream",
     "text": [
      "The number of emojis:  48\n",
      "The number of sentiment words:  19\n",
      "The number of named entity recognition words 65\n"
     ]
    }
   ],
   "source": [
    "print(\"The number of emojis: \", len(EMOJIS))\n",
    "print(\"The number of sentiment words: \", len(SENTIMENT_WORDS))\n",
    "print(\"The number of named entity recognition words\", len(NER_WORDS))"
   ]
  },
  {
   "cell_type": "code",
   "execution_count": 36,
   "metadata": {},
   "outputs": [
    {
     "name": "stdout",
     "output_type": "stream",
     "text": [
      "[t-SNE] Computing 18 nearest neighbors...\n",
      "[t-SNE] Indexed 19 samples in 0.001s...\n",
      "[t-SNE] Computed neighbors for 19 samples in 0.002s...\n",
      "[t-SNE] Computed conditional probabilities for sample 19 / 19\n",
      "[t-SNE] Mean sigma: 5.488573\n",
      "[t-SNE] KL divergence after 100 iterations with early exaggeration: 33.363457\n",
      "[t-SNE] KL divergence after 150 iterations: 0.533340\n",
      "The shape of our word_features is: (19, 2)\n"
     ]
    },
    {
     "data": {
      "image/png": "[encoded data removed]",
      "text/plain": [
       "<Figure size 720x576 with 1 Axes>"
      ]
     },
     "metadata": {},
     "output_type": "display_data"
    }
   ],
   "source": [
    "# Reduce the dimension of SENTIMENT_WORDS\n",
    "tsne_df_scale = tsne_graph(model, SENTIMENT_WORDS, 1500, .03)\n",
    "\n",
    "_ = init_graph_style()\n",
    "\n",
    "_ = word_display(tsne_df_scale, SENTIMENT_WORDS, \"SENTIMENT_WORDS.png\")"
   ]
  },
  {
   "cell_type": "code",
   "execution_count": 37,
   "metadata": {},
   "outputs": [
    {
     "name": "stdout",
     "output_type": "stream",
     "text": [
      "[t-SNE] Computing 31 nearest neighbors...\n",
      "[t-SNE] Indexed 65 samples in 0.001s...\n",
      "[t-SNE] Computed neighbors for 65 samples in 0.004s...\n",
      "[t-SNE] Computed conditional probabilities for sample 65 / 65\n",
      "[t-SNE] Mean sigma: 4.811332\n",
      "[t-SNE] KL divergence after 250 iterations with early exaggeration: 50.307846\n",
      "[t-SNE] KL divergence after 1400 iterations: 0.134725\n",
      "The shape of our word_features is: (65, 2)\n"
     ]
    },
    {
     "data": {
      "image/png": "[encoded data removed]",
      "text/plain": [
       "<Figure size 1152x720 with 1 Axes>"
      ]
     },
     "metadata": {},
     "output_type": "display_data"
    }
   ],
   "source": [
    "# Reduce the dimension of NER_WORDS\n",
    "tsne_df_scale = tsne_graph(model, NER_WORDS, 1400, .06)\n",
    "\n",
    "_ = init_graph_style(figsize=(16, 10))\n",
    "\n",
    "_ = word_display(tsne_df_scale, NER_WORDS, \"NER_WORDS.png\")"
   ]
  },
  {
   "cell_type": "code",
   "execution_count": null,
   "metadata": {},
   "outputs": [],
   "source": []
  }
 ],
 "metadata": {
  "kernelspec": {
   "display_name": "Python 3",
   "language": "python",
   "name": "python3"
  },
  "language_info": {
   "codemirror_mode": {
    "name": "ipython",
    "version": 3
   },
   "file_extension": ".py",
   "mimetype": "text/x-python",
   "name": "python",
   "nbconvert_exporter": "python",
   "pygments_lexer": "ipython3",
   "version": "3.6.9"
  }
 },
 "nbformat": 4,
 "nbformat_minor": 2
}
