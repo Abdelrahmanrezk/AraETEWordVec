{
 "cells": [
  {
   "cell_type": "code",
   "execution_count": 2,
   "id": "21d47962",
   "metadata": {},
   "outputs": [],
   "source": [
    "import gensim\n",
    "from sklearn.decomposition import PCA\n",
    "from bidi.algorithm import get_display\n",
    "import matplotlib.pyplot as plt\n",
    "from sklearn.manifold import TSNE\n",
    "import arabic_reshaper\n",
    "import pandas as pd\n",
    "# from word2vec_results import *"
   ]
  },
  {
   "cell_type": "code",
   "execution_count": 3,
   "id": "66cc0ddb",
   "metadata": {},
   "outputs": [
    {
     "name": "stdout",
     "output_type": "stream",
     "text": [
      "The number of words the model learn from your dataset are: 2027042\n"
     ]
    }
   ],
   "source": [
    "model_1 = gensim.models.Word2Vec.load(\"Twittert-CBOW/fullgram/CBOW_space_300/min_count_100/window_3/continuous_bow_fullgram_vec_size_300-d_min_count_100\")\n",
    "print(\"The number of words the model learn from your dataset are:\", len(list(model_1.wv.index_to_key)))"
   ]
  },
  {
   "cell_type": "code",
   "execution_count": 4,
   "id": "3ddcdc51",
   "metadata": {},
   "outputs": [
    {
     "name": "stdout",
     "output_type": "stream",
     "text": [
      "The number of words the model learn from your dataset are: 561273\n"
     ]
    }
   ],
   "source": [
    "model_2 = gensim.models.Word2Vec.load(\"Twittert-CBOW/fullgram/CBOW_space_300/min_count_300/window_3/continuous_bow_fullgram_vec_size_300-d_min_count_300\")\n",
    "print(\"The number of words the model learn from your dataset are:\", len(list(model_2.wv.index_to_key)))"
   ]
  },
  {
   "cell_type": "code",
   "execution_count": 5,
   "id": "901431c2",
   "metadata": {},
   "outputs": [
    {
     "name": "stdout",
     "output_type": "stream",
     "text": [
      "The number of words the model learn from your dataset are: 274006\n"
     ]
    }
   ],
   "source": [
    "model_3 = gensim.models.Word2Vec.load(\"Twittert-CBOW/unigram/CBOW_space_300/min_count_100/window_3/continuous_bow_unigram_vec_size_300-d_min_count_100\")\n",
    "print(\"The number of words the model learn from your dataset are:\", len(list(model_3.wv.index_to_key)))"
   ]
  },
  {
   "cell_type": "code",
   "execution_count": 6,
   "id": "34419058",
   "metadata": {},
   "outputs": [
    {
     "name": "stdout",
     "output_type": "stream",
     "text": [
      "The number of words the model learn from your dataset are: 2027042\n"
     ]
    }
   ],
   "source": [
    "model_4 = gensim.models.Word2Vec.load(\"Twittert-Skip-Gram/fullgram/Skip_Gram_space_300/min_count_100/window_3/skip_gram_fullgram_vec_size_300-d_min_count_100\")\n",
    "print(\"The number of words the model learn from your dataset are:\", len(list(model_4.wv.index_to_key)))"
   ]
  },
  {
   "cell_type": "code",
   "execution_count": 8,
   "id": "b801755e",
   "metadata": {},
   "outputs": [
    {
     "name": "stdout",
     "output_type": "stream",
     "text": [
      "The number of words the model learn from your dataset are: 561273\n"
     ]
    }
   ],
   "source": [
    "model_5 = gensim.models.Word2Vec.load(\"Twittert-Skip-Gram/fullgram/Skip_Gram_space_300/min_count_300/window_3/skip_gram_fullgram_vec_size_300-d_min_count_300\")\n",
    "print(\"The number of words the model learn from your dataset are:\", len(list(model_5.wv.index_to_key)))"
   ]
  },
  {
   "cell_type": "code",
   "execution_count": 9,
   "id": "db854352",
   "metadata": {},
   "outputs": [
    {
     "name": "stdout",
     "output_type": "stream",
     "text": [
      "The number of words the model learn from your dataset are: 274006\n"
     ]
    }
   ],
   "source": [
    "model_6 = gensim.models.Word2Vec.load(\"Twittert-Skip-Gram/unigram/Skip_Gram_space_300/min_count_100/window_3/skip_gram_unigram_vec_size_300-d_min_count_100\")\n",
    "print(\"The number of words the model learn from your dataset are:\", len(list(model_6.wv.index_to_key)))"
   ]
  },
  {
   "cell_type": "code",
   "execution_count": 12,
   "id": "e37c559a",
   "metadata": {},
   "outputs": [
    {
     "name": "stdout",
     "output_type": "stream",
     "text": [
      "The number of words the model learn from your dataset are: 2027042\n"
     ]
    }
   ],
   "source": [
    "model_4 = gensim.models.Word2Vec.load(\"Twittert-Skip-Gram-negative-sampeling/fullgram/Skip_Gram_ns_space_300/min_count_100/window_3/sk_gr_negative_sampeling_fullgram_vec_size_300-d_min_count_100\")\n",
    "print(\"The number of words the model learn from your dataset are:\", len(list(model_4.wv.index_to_key)))"
   ]
  },
  {
   "cell_type": "code",
   "execution_count": 13,
   "id": "90c6be9e",
   "metadata": {},
   "outputs": [
    {
     "name": "stdout",
     "output_type": "stream",
     "text": [
      "The number of words the model learn from your dataset are: 561273\n"
     ]
    }
   ],
   "source": [
    "model_8 = gensim.models.Word2Vec.load(\"Twittert-Skip-Gram-negative-sampeling/fullgram/Skip_Gram_ns_space_300/min_count_300/window_3/sk_gr_negative_sampeling_fullgram_vec_size_300-d_min_count_300\")\n",
    "print(\"The number of words the model learn from your dataset are:\", len(list(model_8.wv.index_to_key)))"
   ]
  },
  {
   "cell_type": "code",
   "execution_count": 14,
   "id": "ac4ebcc8",
   "metadata": {},
   "outputs": [
    {
     "name": "stdout",
     "output_type": "stream",
     "text": [
      "The number of words the model learn from your dataset are: 274006\n"
     ]
    }
   ],
   "source": [
    "model_9 = gensim.models.Word2Vec.load(\"Twittert-Skip-Gram-negative-sampeling/unigram/Skip_Gram_ns_space_300/min_count_100/window_3/sk_gr_negative_sampeling_unigram_vec_size_300-d_min_count_100\")\n",
    "print(\"The number of words the model learn from your dataset are:\", len(list(model_9.wv.index_to_key)))"
   ]
  },
  {
   "cell_type": "code",
   "execution_count": null,
   "id": "309ababf",
   "metadata": {},
   "outputs": [],
   "source": []
  }
 ],
 "metadata": {
  "kernelspec": {
   "display_name": "Python 3 (ipykernel)",
   "language": "python",
   "name": "python3"
  },
  "language_info": {
   "codemirror_mode": {
    "name": "ipython",
    "version": 3
   },
   "file_extension": ".py",
   "mimetype": "text/x-python",
   "name": "python",
   "nbconvert_exporter": "python",
   "pygments_lexer": "ipython3",
   "version": "3.8.10"
  }
 },
 "nbformat": 4,
 "nbformat_minor": 5
}
