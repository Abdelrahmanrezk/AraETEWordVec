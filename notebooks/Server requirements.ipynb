{
 "cells": [
  {
   "cell_type": "code",
   "execution_count": null,
   "id": "91e070e7",
   "metadata": {},
   "outputs": [],
   "source": [
    "# This is initialization for server"
   ]
  },
  {
   "cell_type": "code",
   "execution_count": null,
   "id": "19533f1e",
   "metadata": {},
   "outputs": [],
   "source": [
    "# !pip3 install twarc\n",
    "# !pip3 install twint\n",
    "# !pip3 install urllib3\n",
    "# !pip3 install gensim\n",
    "# !pip3 install nltk\n",
    "# !pip3 install pycld2\n",
    "# !pip3 install googletrans\n",
    "# !pip3 install emojis\n",
    "# !pip3 install emosent-py\n",
    "# !pip3 install spacy_langdetect\n",
    "\n",
    "# !pip3 install spacy\n",
    "# !pip3 install sklearn\n",
    "# !pip3 install python-bidi\n",
    "# !pip3 install matplotlib\n",
    "# !pip3 install arabic-reshaper\n",
    "# !pip3 install gdown"
   ]
  },
  {
   "cell_type": "code",
   "execution_count": null,
   "id": "bff9d6d5",
   "metadata": {},
   "outputs": [],
   "source": [
    "import gdown"
   ]
  },
  {
   "cell_type": "code",
   "execution_count": null,
   "id": "f1fc4100",
   "metadata": {},
   "outputs": [],
   "source": [
    "url = \"https://drive.google.com/u/2/uc?id=1e-q1CL09d3DYeGX2gL9tKmqcxZkkI98T&export=download\"\n",
    "output = \"cbow_ourmodel.zip\"\n",
    "gdown.download(url, output)"
   ]
  },
  {
   "cell_type": "code",
   "execution_count": null,
   "id": "326ce707",
   "metadata": {},
   "outputs": [],
   "source": [
    "url = \"https://drive.google.com/u/2/uc?id=1iM7QLJL7Ki26_7_GOw52p1Vf4ek-qNRs&export=download\"\n",
    "output = \"skipgram_ourmodel.zip\"\n",
    "gdown.download(url, output)"
   ]
  },
  {
   "cell_type": "code",
   "execution_count": null,
   "id": "a2e77631",
   "metadata": {},
   "outputs": [],
   "source": [
    "url = \"https://drive.google.com/file/d/1VAZiKFOy-YvUptRC5mjsHLbWgyGMT_ud/view?usp=sharing\"\n",
    "output = \"skipgram_NS_ourmodel.zip\"\n",
    "gdown.download(url, output)"
   ]
  },
  {
   "cell_type": "code",
   "execution_count": null,
   "id": "303cab34",
   "metadata": {},
   "outputs": [],
   "source": [
    "url = \"https://drive.google.com/u/0/uc?id=1TzlUNAIiNeOQ4Wsxy_YYFyISsxvZH7g0&export=download\"\n",
    "output = \"cbow_muhammed.zip\"\n",
    "gdown.download(url, output)"
   ]
  },
  {
   "cell_type": "code",
   "execution_count": null,
   "id": "6521c998",
   "metadata": {},
   "outputs": [],
   "source": [
    "url = \"https://drive.google.com/u/0/uc?id=1P0x5p7eM1tVYve0bpPww3wAvJeY71JEt&export=download\"\n",
    "output = \"skipgram_muhammed.zip\"\n",
    "gdown.download(url, output)"
   ]
  },
  {
   "cell_type": "code",
   "execution_count": null,
   "id": "e6c552f8",
   "metadata": {},
   "outputs": [],
   "source": [
    "url = \"https://bakrianoo.ewr1.vultrobjects.com/aravec/full_grams_cbow_300_twitter.zip\n",
    "output = \"cbow_bakr.zip\"\n",
    "gdown.download(url, output)"
   ]
  },
  {
   "cell_type": "code",
   "execution_count": null,
   "id": "5c028405",
   "metadata": {},
   "outputs": [],
   "source": [
    "url = \"https://bakrianoo.ewr1.vultrobjects.com/aravec/full_grams_sg_300_twitter.zip\"\n",
    "output = \"skipgram_bakr.zip\"\n",
    "gdown.download(url, output)"
   ]
  }
 ],
 "metadata": {
  "kernelspec": {
   "display_name": "Python 3",
   "language": "python",
   "name": "python3"
  },
  "language_info": {
   "codemirror_mode": {
    "name": "ipython",
    "version": 3
   },
   "file_extension": ".py",
   "mimetype": "text/x-python",
   "name": "python",
   "nbconvert_exporter": "python",
   "pygments_lexer": "ipython3",
   "version": "3.6.9"
  }
 },
 "nbformat": 4,
 "nbformat_minor": 5
}
