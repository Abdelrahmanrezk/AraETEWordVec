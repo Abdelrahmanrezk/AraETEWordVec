{
 "cells": [
  {
   "cell_type": "code",
   "execution_count": 1,
   "id": "2b18409a",
   "metadata": {},
   "outputs": [],
   "source": [
    "import sys\n",
    "sys.path.append('../preprocess_assets/')"
   ]
  },
  {
   "cell_type": "code",
   "execution_count": 2,
   "id": "2d2870d6",
   "metadata": {},
   "outputs": [],
   "source": [
    "import gensim\n",
    "from sklearn.decomposition import PCA\n",
    "from bidi.algorithm import get_display\n",
    "import matplotlib.pyplot as plt\n",
    "from sklearn.manifold import TSNE\n",
    "import arabic_reshaper\n",
    "import pandas as pd\n",
    "from word2vec_results import *"
   ]
  },
  {
   "cell_type": "code",
   "execution_count": 3,
   "id": "af3a0bb1",
   "metadata": {},
   "outputs": [],
   "source": [
    "rezk_model = gensim.models.Word2Vec.load(\"Twittert-CBOW/fullgram/CBOW_space_300/min_count_100/window_3/continuous_bow_fullgram_vec_size_300-d_min_count_100\")\n",
    "\n",
    "bakr_model = gensim.models.Word2Vec.load(\"full_grams_cbow_300_twitter.mdl\")\n",
    "\n",
    "muhammed_model= gensim.models.Word2Vec.load(\"w2v_CBOW_300_3_400_10.model\")\n"
   ]
  },
  {
   "cell_type": "code",
   "execution_count": 4,
   "id": "dc634e89",
   "metadata": {},
   "outputs": [
    {
     "name": "stdout",
     "output_type": "stream",
     "text": [
      "The number of words the model learn from your dataset are: 2027042\n"
     ]
    }
   ],
   "source": [
    "vocabs = list(rezk_model.wv.index_to_key)\n",
    "print(\"The number of words the model learn from your dataset are:\", len(vocabs))"
   ]
  },
  {
   "cell_type": "code",
   "execution_count": 5,
   "id": "d863969d",
   "metadata": {},
   "outputs": [
    {
     "name": "stdout",
     "output_type": "stream",
     "text": [
      "The number of words the model learn from your dataset are: 1476715\n"
     ]
    }
   ],
   "source": [
    "vocabs = list(bakr_model.wv.index_to_key)\n",
    "print(\"The number of words the model learn from your dataset are:\", len(vocabs))"
   ]
  },
  {
   "cell_type": "code",
   "execution_count": 6,
   "id": "1f604f52",
   "metadata": {},
   "outputs": [
    {
     "name": "stdout",
     "output_type": "stream",
     "text": [
      "The number of words the model learn from your dataset are: 49555\n"
     ]
    }
   ],
   "source": [
    "vocabs = list(muhammed_model.wv.index_to_key)\n",
    "print(\"The number of words the model learn from your dataset are:\", len(vocabs))"
   ]
  },
  {
   "cell_type": "code",
   "execution_count": 7,
   "id": "8a40e452-8531-4374-8992-32cc6bc31fb2",
   "metadata": {},
   "outputs": [],
   "source": [
    "tokens_to_graphs = {\n",
    "    'O_+_token': [],\n",
    "    'O_+_%': [],\n",
    "    '🤣_token': [],\n",
    "    '🤣_%': [],\n",
    "    '🇰🇼_token': [],\n",
    "    '🇰🇼_%': [],\n",
    "    '🏡_token': [],\n",
    "    '🏡_%': [],\n",
    "    'IT_token': [],\n",
    "    'IT_%': [],\n",
    "    '؟_token': [],\n",
    "    '؟_%': [],\n",
    "    'كوفيد_token': [],\n",
    "    'كوفيد_%': [],\n",
    "    'منصه_مدرستي_token': [],\n",
    "    'منصه_مدرستي_%': [],\n",
    "    'بوابه_المستقبل_token': [],\n",
    "    'بوابه_المستقبل_%': [],\n",
    "    'الدراسه_مستمره_token': [],\n",
    "    'الدراسه_مستمره_%': [],\n",
    "    'التعلم_عن_بعد_token': [],\n",
    "    'التعلم_عن_بعد_%': [],\n",
    "        'كايرو_token': [],\n",
    "    'كايرو_%': [],\n",
    "            'ينتصر_token': [],\n",
    "    'ينتصر_%': [],\n",
    "            'خريج_token': [],\n",
    "    'خريج_%': [],\n",
    "        'ويجز_token': [],\n",
    "    'ويجز_%': [],\n",
    "        '🌸_token': [],\n",
    "    '🌸_%': [],\n",
    "            '🔑_token': [],\n",
    "    '🔑_%': [],\n",
    "        'بنغازي_token': [],\n",
    "    'بنغازي_%': [],\n",
    "    'القدس_عربيه_token': [],\n",
    "    'القدس_عربيه_%': [],\n",
    "}"
   ]
  },
  {
   "cell_type": "code",
   "execution_count": 8,
   "id": "2fcf7db2-719d-43f9-bae1-650ffb71c3a1",
   "metadata": {},
   "outputs": [],
   "source": [
    "bakr_tokens_to_graphs = {\n",
    "    '🏡_token': [],\n",
    "    '🏡_%': [],\n",
    "    '؟_token': [],\n",
    "    '؟_%': [],\n",
    "    'بنغازي_token': [],\n",
    "    'بنغازي_%': [],\n",
    "    'كايرو_token': [],\n",
    "    'كايرو_%': [],\n",
    "        '🔑_token': [],\n",
    "    '🔑_%': [],\n",
    "    '🌸_token': [],\n",
    "    '🌸_%': [],\n",
    "\n",
    "        'ينتصر_token': [],\n",
    "    'ينتصر_%': [],\n",
    "            'خريج_token': [],\n",
    "    'خريج_%': [],\n",
    "        'ويجز_token': [],\n",
    "    'ويجز_%': [],\n",
    "}"
   ]
  },
  {
   "cell_type": "code",
   "execution_count": 9,
   "id": "8f9c282c-3fd6-4692-b29a-06d5dde45d9b",
   "metadata": {},
   "outputs": [],
   "source": [
    "muhammed_tokens_to_graphs = {\n",
    "        'ينتصر_token': [],\n",
    "    'ينتصر_%': [],\n",
    "            'خريج_token': [],\n",
    "    'خريج_%': [],\n",
    "}"
   ]
  },
  {
   "cell_type": "code",
   "execution_count": 10,
   "id": "c9347b91-3f19-417a-be86-c5a417f33d13",
   "metadata": {},
   "outputs": [],
   "source": [
    "similar_tokens = rezk_model.wv.most_similar('ينتصر')\n",
    "for similar in similar_tokens:\n",
    "    tokens_to_graphs['ينتصر_token'].append(similar[0])\n",
    "    tokens_to_graphs['ينتصر_%'].append(similar[1])"
   ]
  },
  {
   "cell_type": "code",
   "execution_count": 11,
   "id": "8f721d7a-b6f5-4582-b4f7-acde7cd5450e",
   "metadata": {},
   "outputs": [
    {
     "data": {
      "text/plain": [
       "[('انتصر', 0.651455283164978),\n",
       " ('يقاتل', 0.6465153098106384),\n",
       " ('يحارب', 0.5891581773757935),\n",
       " ('يواجه', 0.5724115967750549),\n",
       " ('سينتصر', 0.5710309147834778),\n",
       " ('يستسلم', 0.5659409761428833),\n",
       " ('ينهزم', 0.5622171759605408),\n",
       " ('يخسر', 0.559613823890686),\n",
       " ('يهزم', 0.5417757034301758),\n",
       " ('يسقط', 0.5411337018013)]"
      ]
     },
     "execution_count": 11,
     "metadata": {},
     "output_type": "execute_result"
    }
   ],
   "source": [
    "similar_tokens"
   ]
  },
  {
   "cell_type": "code",
   "execution_count": 12,
   "id": "1fb0b2e7-8411-48af-a51e-f788e60bfe24",
   "metadata": {},
   "outputs": [],
   "source": [
    "similar_tokens = bakr_model.wv.most_similar('ينتصر')\n",
    "for similar in similar_tokens:\n",
    "    bakr_tokens_to_graphs['ينتصر_token'].append(similar[0])\n",
    "    bakr_tokens_to_graphs['ينتصر_%'].append(similar[1])"
   ]
  },
  {
   "cell_type": "code",
   "execution_count": 13,
   "id": "188c233b-22a0-4a80-a269-f75416725214",
   "metadata": {},
   "outputs": [
    {
     "data": {
      "text/plain": [
       "[('انتصر', 0.6460888385772705),\n",
       " ('تنتصر', 0.6231251358985901),\n",
       " ('سينتصر', 0.6034882664680481),\n",
       " ('يستسلم', 0.6003603339195251),\n",
       " ('يهزم', 0.596508800983429),\n",
       " ('ننتصر', 0.5851215720176697),\n",
       " ('يتغلب', 0.5742601752281189),\n",
       " ('ينحاز', 0.5628108382225037),\n",
       " ('يرضخ', 0.5458214282989502),\n",
       " ('يقول_كلمته', 0.542996346950531)]"
      ]
     },
     "execution_count": 13,
     "metadata": {},
     "output_type": "execute_result"
    }
   ],
   "source": [
    "similar_tokens"
   ]
  },
  {
   "cell_type": "code",
   "execution_count": 14,
   "id": "0f4df55e-c277-40be-ba47-fb0da1cb9ec2",
   "metadata": {},
   "outputs": [],
   "source": [
    "similar_tokens = muhammed_model.wv.most_similar('ينتصر')\n",
    "for similar in similar_tokens:\n",
    "    muhammed_tokens_to_graphs['ينتصر_token'].append(similar[0])\n",
    "    muhammed_tokens_to_graphs['ينتصر_%'].append(similar[1])"
   ]
  },
  {
   "cell_type": "code",
   "execution_count": 15,
   "id": "ad728e9f-9378-49fd-8f2b-feb9e0a82d26",
   "metadata": {},
   "outputs": [
    {
     "data": {
      "text/plain": [
       "[('ينتص', 0.6200209856033325),\n",
       " ('ينت', 0.556247353553772),\n",
       " ('يحارب', 0.4712071418762207),\n",
       " ('ين', 0.34299731254577637),\n",
       " ('انتصر', 0.3315746486186981),\n",
       " ('تنتصر', 0.33046194911003113),\n",
       " ('يعود', 0.3167138993740082),\n",
       " ('انتصرت', 0.3106973469257355),\n",
       " ('تءتي', 0.30553698539733887),\n",
       " ('سلمان', 0.3003996014595032)]"
      ]
     },
     "execution_count": 15,
     "metadata": {},
     "output_type": "execute_result"
    }
   ],
   "source": [
    "similar_tokens"
   ]
  },
  {
   "cell_type": "code",
   "execution_count": 16,
   "id": "c881b03c-33ba-49ba-8253-ba0390667b96",
   "metadata": {},
   "outputs": [],
   "source": [
    "similar_tokens = rezk_model.wv.most_similar('خريج')\n",
    "for similar in similar_tokens:\n",
    "    tokens_to_graphs['خريج_token'].append(similar[0])\n",
    "    tokens_to_graphs['خريج_%'].append(similar[1])"
   ]
  },
  {
   "cell_type": "code",
   "execution_count": 17,
   "id": "55123305-a039-41b6-b16e-38013e056889",
   "metadata": {},
   "outputs": [
    {
     "data": {
      "text/plain": [
       "[('تخصص', 0.7142242789268494),\n",
       " ('هندسه', 0.7090756893157959),\n",
       " ('دبلوم', 0.6927738785743713),\n",
       " ('متخرج', 0.6869535446166992),\n",
       " ('كليه', 0.6784682273864746),\n",
       " ('جامعه', 0.6749193668365479),\n",
       " ('دارس', 0.6581009030342102),\n",
       " ('خريجه', 0.6541006565093994),\n",
       " ('مدرس', 0.6437668204307556),\n",
       " ('بكالوريوس', 0.6400926113128662)]"
      ]
     },
     "execution_count": 17,
     "metadata": {},
     "output_type": "execute_result"
    }
   ],
   "source": [
    "similar_tokens"
   ]
  },
  {
   "cell_type": "code",
   "execution_count": 18,
   "id": "ef27881a-fe51-477a-838a-87b9c9200936",
   "metadata": {},
   "outputs": [],
   "source": [
    "similar_tokens = bakr_model.wv.most_similar('خريج')\n",
    "for similar in similar_tokens:\n",
    "    bakr_tokens_to_graphs['خريج_token'].append(similar[0])\n",
    "    bakr_tokens_to_graphs['خريج_%'].append(similar[1])"
   ]
  },
  {
   "cell_type": "code",
   "execution_count": 19,
   "id": "db4208df-5c7c-48e4-ade9-c158ca32851b",
   "metadata": {},
   "outputs": [
    {
     "data": {
      "text/plain": [
       "[('متخرج', 0.7290518879890442),\n",
       " ('خريج_كليه', 0.6631026864051819),\n",
       " ('وخريج', 0.6372433304786682),\n",
       " ('بكلوريوس', 0.6184447407722473),\n",
       " ('مهندس', 0.6107056736946106),\n",
       " ('كطالب', 0.599929690361023),\n",
       " ('طالب', 0.5964147448539734),\n",
       " ('ومتخرج', 0.5926499366760254),\n",
       " ('بكالريوس', 0.5886915326118469),\n",
       " ('خريجين', 0.588064968585968)]"
      ]
     },
     "execution_count": 19,
     "metadata": {},
     "output_type": "execute_result"
    }
   ],
   "source": [
    "similar_tokens"
   ]
  },
  {
   "cell_type": "code",
   "execution_count": 20,
   "id": "8898e5a5-6a32-427c-b062-363654a98b17",
   "metadata": {},
   "outputs": [],
   "source": [
    "similar_tokens = muhammed_model.wv.most_similar('خريج')\n",
    "for similar in similar_tokens:\n",
    "    muhammed_tokens_to_graphs['خريج_token'].append(similar[0])\n",
    "    muhammed_tokens_to_graphs['خريج_%'].append(similar[1])"
   ]
  },
  {
   "cell_type": "code",
   "execution_count": 21,
   "id": "d92d6088-c49b-4d3f-8ff6-c69ff0b6ea0f",
   "metadata": {},
   "outputs": [
    {
     "data": {
      "text/plain": [
       "[('متخرج', 0.7610599398612976),\n",
       " ('خريجه', 0.5955337285995483),\n",
       " ('بكالريوس', 0.5821039080619812),\n",
       " ('خريجي', 0.5499259233474731),\n",
       " ('خريجين', 0.5483648777008057),\n",
       " ('متخرجه', 0.5453131198883057),\n",
       " ('دارس', 0.5396440625190735),\n",
       " ('طالب', 0.5366575717926025),\n",
       " ('بكالوريس', 0.5298030376434326),\n",
       " ('بكالوريوس', 0.5252522230148315)]"
      ]
     },
     "execution_count": 21,
     "metadata": {},
     "output_type": "execute_result"
    }
   ],
   "source": [
    "similar_tokens"
   ]
  },
  {
   "cell_type": "code",
   "execution_count": 22,
   "id": "2d6ffe7b-6ed0-4a46-ad21-d4ec45f9b8e2",
   "metadata": {},
   "outputs": [],
   "source": [
    "similar_tokens = rezk_model.wv.most_similar('🌸')\n",
    "for similar in similar_tokens:\n",
    "    tokens_to_graphs['🌸_token'].append(similar[0])\n",
    "    tokens_to_graphs['🌸_%'].append(similar[1])"
   ]
  },
  {
   "cell_type": "code",
   "execution_count": 23,
   "id": "2e4ff3fb-0169-4e3e-9081-17e7b10ef8f3",
   "metadata": {},
   "outputs": [
    {
     "data": {
      "text/plain": [
       "[('🌼', 0.7827603816986084),\n",
       " ('🌺', 0.7816051244735718),\n",
       " ('🌷', 0.7739440202713013),\n",
       " ('🕊', 0.7702279686927795),\n",
       " ('🌹', 0.7598779201507568),\n",
       " ('🍃', 0.7443662285804749),\n",
       " ('🌿', 0.7275475859642029),\n",
       " ('⚘', 0.6947581768035889),\n",
       " ('🌻', 0.6937013268470764),\n",
       " ('💐', 0.6767349243164062)]"
      ]
     },
     "execution_count": 23,
     "metadata": {},
     "output_type": "execute_result"
    }
   ],
   "source": [
    "similar_tokens"
   ]
  },
  {
   "cell_type": "code",
   "execution_count": 24,
   "id": "bb112758-d61a-44ad-9c58-6a613ed74afd",
   "metadata": {},
   "outputs": [],
   "source": [
    "similar_tokens = bakr_model.wv.most_similar('🌸')\n",
    "for similar in similar_tokens:\n",
    "    bakr_tokens_to_graphs['🌸_token'].append(similar[0])\n",
    "    bakr_tokens_to_graphs['🌸_%'].append(similar[1])"
   ]
  },
  {
   "cell_type": "code",
   "execution_count": 25,
   "id": "6966969b-71db-46ae-9434-ad21efd39568",
   "metadata": {},
   "outputs": [
    {
     "data": {
      "text/plain": [
       "[('🍃', 0.8405100107192993),\n",
       " ('💕', 0.8223419785499573),\n",
       " ('💜', 0.8145712614059448),\n",
       " ('✨', 0.8067425489425659),\n",
       " ('💗', 0.7939425706863403),\n",
       " ('🌿', 0.7814812064170837),\n",
       " ('💓', 0.7685064077377319),\n",
       " ('🍂', 0.7592586874961853),\n",
       " ('🌸🍃', 0.755847156047821),\n",
       " ('💞', 0.7555315494537354)]"
      ]
     },
     "execution_count": 25,
     "metadata": {},
     "output_type": "execute_result"
    }
   ],
   "source": [
    "similar_tokens"
   ]
  },
  {
   "cell_type": "code",
   "execution_count": 26,
   "id": "80c14d41-53ad-4e98-97e8-c82b5a677ae2",
   "metadata": {},
   "outputs": [],
   "source": [
    "similar_tokens = rezk_model.wv.most_similar('🔑')\n",
    "for similar in similar_tokens:\n",
    "    tokens_to_graphs['🔑_token'].append(similar[0])\n",
    "    tokens_to_graphs['🔑_%'].append(similar[1])"
   ]
  },
  {
   "cell_type": "code",
   "execution_count": 27,
   "id": "b130afbf-9c40-4f65-b227-039ad164a711",
   "metadata": {},
   "outputs": [
    {
     "data": {
      "text/plain": [
       "[('مفتاح', 0.4421654939651489),\n",
       " ('🗝', 0.38557443022727966),\n",
       " ('🎯', 0.3628891706466675),\n",
       " ('🅰️', 0.34200042486190796),\n",
       " ('#_كلبه_مطيعه', 0.3347412347793579),\n",
       " ('المفتاح', 0.3305990993976593),\n",
       " ('♾', 0.32080593705177307),\n",
       " ('◉', 0.3206290006637573),\n",
       " ('✅', 0.3132442533969879),\n",
       " ('مفاتيح', 0.31249940395355225)]"
      ]
     },
     "execution_count": 27,
     "metadata": {},
     "output_type": "execute_result"
    }
   ],
   "source": [
    "similar_tokens"
   ]
  },
  {
   "cell_type": "code",
   "execution_count": 28,
   "id": "d889c054-6ebd-4e36-90ca-fdab7fdf4070",
   "metadata": {},
   "outputs": [],
   "source": [
    "similar_tokens = bakr_model.wv.most_similar('🔑')\n",
    "for similar in similar_tokens:\n",
    "    bakr_tokens_to_graphs['🔑_token'].append(similar[0])\n",
    "    bakr_tokens_to_graphs['🔑_%'].append(similar[1])"
   ]
  },
  {
   "cell_type": "code",
   "execution_count": 29,
   "id": "bb4f60a2-5c0f-4b96-9a85-96e38f5a5bb0",
   "metadata": {},
   "outputs": [
    {
     "data": {
      "text/plain": [
       "[('الفجر🔔', 0.5465772151947021),\n",
       " ('⛅', 0.49957922101020813),\n",
       " ('💞💎➍فولومي', 0.4874758720397949),\n",
       " ('فولوباك💞💞💎➏', 0.481774240732193),\n",
       " ('واغمر_قلوبنا_بمغفرتك', 0.4791150987148285),\n",
       " ('👇💫سعاده', 0.4765862226486206),\n",
       " ('وعيونك_اول_اوطاني', 0.47469842433929443),\n",
       " ('ولطف_القدر', 0.4721095860004425),\n",
       " ('💛💙┗〰〰💛💙〰〰┛💙', 0.4708101451396942),\n",
       " ('~🌸', 0.4677566587924957)]"
      ]
     },
     "execution_count": 29,
     "metadata": {},
     "output_type": "execute_result"
    }
   ],
   "source": [
    "similar_tokens"
   ]
  },
  {
   "cell_type": "code",
   "execution_count": 30,
   "id": "7082f697-207e-49ef-a5da-a6fea0d9b687",
   "metadata": {},
   "outputs": [],
   "source": [
    "similar_tokens = rezk_model.wv.most_similar('كايرو')\n",
    "for similar in similar_tokens:\n",
    "    tokens_to_graphs['كايرو_token'].append(similar[0])\n",
    "    tokens_to_graphs['كايرو_%'].append(similar[1])"
   ]
  },
  {
   "cell_type": "code",
   "execution_count": 31,
   "id": "ad1bf85f-994e-4f9f-b1ad-4c9893ef4037",
   "metadata": {},
   "outputs": [
    {
     "data": {
      "text/plain": [
       "[('اسكندريه', 0.4638203978538513),\n",
       " ('طنطا', 0.4555395841598511),\n",
       " ('المنصوره', 0.44330060482025146),\n",
       " ('اسوان', 0.4269847273826599),\n",
       " ('القاهره', 0.4209235906600952),\n",
       " ('المنيا', 0.41982537508010864),\n",
       " ('بورسعيد', 0.3973039388656616),\n",
       " ('بنها', 0.39721450209617615),\n",
       " ('اسيوط', 0.39388638734817505),\n",
       " ('ناو', 0.3918449282646179)]"
      ]
     },
     "execution_count": 31,
     "metadata": {},
     "output_type": "execute_result"
    }
   ],
   "source": [
    "similar_tokens"
   ]
  },
  {
   "cell_type": "code",
   "execution_count": 32,
   "id": "6f988477-a8fd-4231-946d-8e3ad430ad0e",
   "metadata": {},
   "outputs": [],
   "source": [
    "similar_tokens = bakr_model.wv.most_similar('كايرو')\n",
    "for similar in similar_tokens:\n",
    "    bakr_tokens_to_graphs['كايرو_token'].append(similar[0])\n",
    "    bakr_tokens_to_graphs['كايرو_%'].append(similar[1])"
   ]
  },
  {
   "cell_type": "code",
   "execution_count": 33,
   "id": "66bc752f-413d-4c85-aebe-1a3a8308155b",
   "metadata": {},
   "outputs": [
    {
     "data": {
      "text/plain": [
       "[('فيستيفال', 0.6114364862442017),\n",
       " ('رانرز', 0.6062529683113098),\n",
       " ('فيستفال', 0.5891739130020142),\n",
       " ('مارينا', 0.5717929005622864),\n",
       " ('ايجيبت', 0.5673375725746155),\n",
       " ('ستارز', 0.5636362433433533),\n",
       " ('سيتي_ستارز', 0.5468639135360718),\n",
       " ('دريم_بارك', 0.545682966709137),\n",
       " ('راس_البر', 0.5440681576728821),\n",
       " ('جاردن_سيتي', 0.5437650680541992)]"
      ]
     },
     "execution_count": 33,
     "metadata": {},
     "output_type": "execute_result"
    }
   ],
   "source": [
    "similar_tokens"
   ]
  },
  {
   "cell_type": "code",
   "execution_count": 34,
   "id": "e7b56aaa-c532-4647-bb3a-bc512ff228dd",
   "metadata": {},
   "outputs": [],
   "source": [
    "similar_tokens = rezk_model.wv.most_similar('بنغازي')\n",
    "for similar in similar_tokens:\n",
    "    tokens_to_graphs['بنغازي_token'].append(similar[0])\n",
    "    tokens_to_graphs['بنغازي_%'].append(similar[1])"
   ]
  },
  {
   "cell_type": "code",
   "execution_count": 35,
   "id": "23523c3a-6e6d-4e18-ba45-0db0d67d9a62",
   "metadata": {},
   "outputs": [
    {
     "data": {
      "text/plain": [
       "[('طرابلس', 0.797612190246582),\n",
       " ('مصراته', 0.7830432057380676),\n",
       " ('درنه', 0.7194624543190002),\n",
       " ('طبرق', 0.6759239435195923),\n",
       " ('ليبيا', 0.6515540480613708),\n",
       " ('ومصراته', 0.605011522769928),\n",
       " ('اجدابيا', 0.6009994745254517),\n",
       " ('ترهونه', 0.561499834060669),\n",
       " ('سبها', 0.5529350638389587),\n",
       " ('غريان', 0.5487693548202515)]"
      ]
     },
     "execution_count": 35,
     "metadata": {},
     "output_type": "execute_result"
    }
   ],
   "source": [
    "similar_tokens"
   ]
  },
  {
   "cell_type": "code",
   "execution_count": 36,
   "id": "d4b58d77-099f-47ec-98c6-d6cc76dfdda6",
   "metadata": {},
   "outputs": [],
   "source": [
    "similar_tokens = bakr_model.wv.most_similar('بنغازي')\n",
    "for similar in similar_tokens:\n",
    "    bakr_tokens_to_graphs['بنغازي_token'].append(similar[0])\n",
    "    bakr_tokens_to_graphs['بنغازي_%'].append(similar[1])"
   ]
  },
  {
   "cell_type": "code",
   "execution_count": 37,
   "id": "62a5114b-fdd2-4b7d-b741-7f6488f47ec3",
   "metadata": {},
   "outputs": [
    {
     "data": {
      "text/plain": [
       "[('طرابلس', 0.8434110283851624),\n",
       " ('مصراته', 0.8403685092926025),\n",
       " ('درنه', 0.8083822131156921),\n",
       " ('ليبيا', 0.7910416126251221),\n",
       " ('بني_وليد', 0.7712689638137817),\n",
       " ('اجدابيا', 0.7463767528533936),\n",
       " ('طبرق', 0.731766402721405),\n",
       " ('ورشفانه', 0.7177748084068298),\n",
       " ('صبراته', 0.71633380651474),\n",
       " ('تاجوراء', 0.7058566212654114)]"
      ]
     },
     "execution_count": 37,
     "metadata": {},
     "output_type": "execute_result"
    }
   ],
   "source": [
    "similar_tokens"
   ]
  },
  {
   "cell_type": "code",
   "execution_count": 38,
   "id": "44b7b790-2883-4006-8eef-bb94941f40de",
   "metadata": {},
   "outputs": [],
   "source": [
    "similar_tokens = rezk_model.wv.most_similar('؟')\n",
    "for similar in similar_tokens:\n",
    "    tokens_to_graphs['؟_token'].append(similar[0])\n",
    "    tokens_to_graphs['؟_%'].append(similar[1])"
   ]
  },
  {
   "cell_type": "code",
   "execution_count": 39,
   "id": "bab057e2-6a81-4047-965f-936e09afd13f",
   "metadata": {},
   "outputs": [
    {
     "data": {
      "text/plain": [
       "[('🤔', 0.7987214922904968),\n",
       " ('!', 0.7966918349266052),\n",
       " ('ايش', 0.6314217448234558),\n",
       " ('😳', 0.6253553032875061),\n",
       " ('🙄', 0.6185094714164734),\n",
       " ('ليش', 0.60459965467453),\n",
       " ('هل', 0.5959916114807129),\n",
       " ('بالضبط', 0.5893946886062622),\n",
       " ('وليش', 0.5871163606643677),\n",
       " ('وين', 0.5863702893257141)]"
      ]
     },
     "execution_count": 39,
     "metadata": {},
     "output_type": "execute_result"
    }
   ],
   "source": [
    "similar_tokens"
   ]
  },
  {
   "cell_type": "code",
   "execution_count": 40,
   "id": "d21af16a-430f-4877-b126-63b08f9ad76b",
   "metadata": {},
   "outputs": [],
   "source": [
    "similar_tokens = bakr_model.wv.most_similar('؟')\n",
    "for similar in similar_tokens:\n",
    "    bakr_tokens_to_graphs['؟_token'].append(similar[0])\n",
    "    bakr_tokens_to_graphs['؟_%'].append(similar[1])"
   ]
  },
  {
   "cell_type": "code",
   "execution_count": 41,
   "id": "05af3212-2d8f-434b-a51a-dfa36a8e03cb",
   "metadata": {},
   "outputs": [
    {
     "data": {
      "text/plain": [
       "[('!', 0.9033966660499573),\n",
       " ('يعني', 0.740557074546814),\n",
       " ('والا', 0.7289409041404724),\n",
       " ('.', 0.7240429520606995),\n",
       " ('ولا', 0.721303403377533),\n",
       " ('او', 0.7055953145027161),\n",
       " ('و', 0.7010874152183533),\n",
       " ('لان', 0.6699416041374207),\n",
       " ('لو', 0.6614589095115662),\n",
       " ('لكن', 0.6578097343444824)]"
      ]
     },
     "execution_count": 41,
     "metadata": {},
     "output_type": "execute_result"
    }
   ],
   "source": [
    "similar_tokens"
   ]
  },
  {
   "cell_type": "code",
   "execution_count": 42,
   "id": "0c04bb47-6d5a-4958-89e1-4f8cd3db2aa4",
   "metadata": {},
   "outputs": [],
   "source": [
    "similar_tokens = rezk_model.wv.most_similar('🏡')\n",
    "for similar in similar_tokens:\n",
    "    tokens_to_graphs['🏡_token'].append(similar[0])\n",
    "    tokens_to_graphs['🏡_%'].append(similar[1])"
   ]
  },
  {
   "cell_type": "code",
   "execution_count": 43,
   "id": "469bdb49-6881-43e1-91f2-1ed7d383a0c6",
   "metadata": {},
   "outputs": [
    {
     "data": {
      "text/plain": [
       "[('📍', 0.4250869154930115),\n",
       " ('للبيع', 0.4209286570549011),\n",
       " ('سكني', 0.4186895489692688),\n",
       " ('بالرياض', 0.40717217326164246),\n",
       " ('عقارات_الرياض', 0.39545679092407227),\n",
       " ('🎯', 0.3946106731891632),\n",
       " ('فلل', 0.39185914397239685),\n",
       " ('شقه', 0.3904934823513031),\n",
       " ('دوبلكس', 0.3842267692089081),\n",
       " ('المونسيه', 0.381411612033844)]"
      ]
     },
     "execution_count": 43,
     "metadata": {},
     "output_type": "execute_result"
    }
   ],
   "source": [
    "similar_tokens"
   ]
  },
  {
   "cell_type": "code",
   "execution_count": 44,
   "id": "8f76a8c2-7387-491b-837a-90bb92865168",
   "metadata": {},
   "outputs": [],
   "source": [
    "similar_tokens = bakr_model.wv.most_similar('🏡')\n",
    "for similar in similar_tokens:\n",
    "    bakr_tokens_to_graphs['🏡_token'].append(similar[0])\n",
    "    bakr_tokens_to_graphs['🏡_%'].append(similar[1])"
   ]
  },
  {
   "cell_type": "code",
   "execution_count": 45,
   "id": "bb92f54d-4989-4bfb-be46-7e659ca203cc",
   "metadata": {},
   "outputs": [
    {
     "data": {
      "text/plain": [
       "[('بالجنه🌸', 0.5786237716674805),\n",
       " ('واحدستار', 0.544264554977417),\n",
       " ('احد﴾١٠مرات', 0.5288279056549072),\n",
       " ('للصباغه', 0.5264092087745667),\n",
       " ('√بزيت', 0.5100557804107666),\n",
       " ('القطقوط', 0.5077558159828186),\n",
       " ('طمعنجي', 0.5038686990737915),\n",
       " ('بالراشديه', 0.5020968317985535),\n",
       " ('🏠', 0.5001775026321411),\n",
       " ('🏩', 0.496944397687912)]"
      ]
     },
     "execution_count": 45,
     "metadata": {},
     "output_type": "execute_result"
    }
   ],
   "source": [
    "similar_tokens"
   ]
  },
  {
   "cell_type": "code",
   "execution_count": 46,
   "id": "118606a6-f28e-47fa-b073-d1e3c7372bb5",
   "metadata": {},
   "outputs": [],
   "source": [
    "similar_tokens = rezk_model.wv.most_similar('O_+')\n",
    "for similar in similar_tokens:\n",
    "    tokens_to_graphs['O_+_token'].append(similar[0])\n",
    "    tokens_to_graphs['O_+_%'].append(similar[1])"
   ]
  },
  {
   "cell_type": "code",
   "execution_count": 47,
   "id": "f2ccb107-1821-4831-964f-bb2e4cc44f5b",
   "metadata": {},
   "outputs": [
    {
     "data": {
      "text/plain": [
       "[('B_+', 0.5346683263778687),\n",
       " ('O_-', 0.5326820015907288),\n",
       " ('AB_+', 0.3811468780040741),\n",
       " ('A_+', 0.35411107540130615),\n",
       " ('فصيله_دم', 0.3521767854690552),\n",
       " ('رقم_الملف', 0.3425527513027191),\n",
       " ('الفصيله_:', 0.3293618857860565),\n",
       " ('فئه_A', 0.3264305293560028),\n",
       " ('-_O', 0.3137696087360382),\n",
       " ('محتاجين_دم', 0.30765408277511597)]"
      ]
     },
     "execution_count": 47,
     "metadata": {},
     "output_type": "execute_result"
    }
   ],
   "source": [
    "similar_tokens"
   ]
  },
  {
   "cell_type": "code",
   "execution_count": 48,
   "id": "9736664d-ff46-41b2-8863-145c6f8e927b",
   "metadata": {},
   "outputs": [
    {
     "ename": "KeyError",
     "evalue": "\"Key 'O_+' not present in vocabulary\"",
     "output_type": "error",
     "traceback": [
      "\u001b[0;31m---------------------------------------------------------------------------\u001b[0m",
      "\u001b[0;31mKeyError\u001b[0m                                  Traceback (most recent call last)",
      "Cell \u001b[0;32mIn[48], line 1\u001b[0m\n\u001b[0;32m----> 1\u001b[0m \u001b[43mbakr_model\u001b[49m\u001b[38;5;241;43m.\u001b[39;49m\u001b[43mwv\u001b[49m\u001b[38;5;241;43m.\u001b[39;49m\u001b[43mmost_similar\u001b[49m\u001b[43m(\u001b[49m\u001b[38;5;124;43m'\u001b[39;49m\u001b[38;5;124;43mO_+\u001b[39;49m\u001b[38;5;124;43m'\u001b[39;49m\u001b[43m)\u001b[49m\n",
      "File \u001b[0;32m/usr/local/lib/python3.8/dist-packages/gensim/models/keyedvectors.py:841\u001b[0m, in \u001b[0;36mKeyedVectors.most_similar\u001b[0;34m(self, positive, negative, topn, clip_start, clip_end, restrict_vocab, indexer)\u001b[0m\n\u001b[1;32m    838\u001b[0m         weight[idx] \u001b[38;5;241m=\u001b[39m item[\u001b[38;5;241m1\u001b[39m]\n\u001b[1;32m    840\u001b[0m \u001b[38;5;66;03m# compute the weighted average of all keys\u001b[39;00m\n\u001b[0;32m--> 841\u001b[0m mean \u001b[38;5;241m=\u001b[39m \u001b[38;5;28;43mself\u001b[39;49m\u001b[38;5;241;43m.\u001b[39;49m\u001b[43mget_mean_vector\u001b[49m\u001b[43m(\u001b[49m\u001b[43mkeys\u001b[49m\u001b[43m,\u001b[49m\u001b[43m \u001b[49m\u001b[43mweight\u001b[49m\u001b[43m,\u001b[49m\u001b[43m \u001b[49m\u001b[43mpre_normalize\u001b[49m\u001b[38;5;241;43m=\u001b[39;49m\u001b[38;5;28;43;01mTrue\u001b[39;49;00m\u001b[43m,\u001b[49m\u001b[43m \u001b[49m\u001b[43mpost_normalize\u001b[49m\u001b[38;5;241;43m=\u001b[39;49m\u001b[38;5;28;43;01mTrue\u001b[39;49;00m\u001b[43m,\u001b[49m\u001b[43m \u001b[49m\u001b[43mignore_missing\u001b[49m\u001b[38;5;241;43m=\u001b[39;49m\u001b[38;5;28;43;01mFalse\u001b[39;49;00m\u001b[43m)\u001b[49m\n\u001b[1;32m    842\u001b[0m all_keys \u001b[38;5;241m=\u001b[39m [\n\u001b[1;32m    843\u001b[0m     \u001b[38;5;28mself\u001b[39m\u001b[38;5;241m.\u001b[39mget_index(key) \u001b[38;5;28;01mfor\u001b[39;00m key \u001b[38;5;129;01min\u001b[39;00m keys \u001b[38;5;28;01mif\u001b[39;00m \u001b[38;5;28misinstance\u001b[39m(key, _KEY_TYPES) \u001b[38;5;129;01mand\u001b[39;00m \u001b[38;5;28mself\u001b[39m\u001b[38;5;241m.\u001b[39mhas_index_for(key)\n\u001b[1;32m    844\u001b[0m ]\n\u001b[1;32m    846\u001b[0m \u001b[38;5;28;01mif\u001b[39;00m indexer \u001b[38;5;129;01mis\u001b[39;00m \u001b[38;5;129;01mnot\u001b[39;00m \u001b[38;5;28;01mNone\u001b[39;00m \u001b[38;5;129;01mand\u001b[39;00m \u001b[38;5;28misinstance\u001b[39m(topn, \u001b[38;5;28mint\u001b[39m):\n",
      "File \u001b[0;32m/usr/local/lib/python3.8/dist-packages/gensim/models/keyedvectors.py:518\u001b[0m, in \u001b[0;36mKeyedVectors.get_mean_vector\u001b[0;34m(self, keys, weights, pre_normalize, post_normalize, ignore_missing)\u001b[0m\n\u001b[1;32m    516\u001b[0m         total_weight \u001b[38;5;241m+\u001b[39m\u001b[38;5;241m=\u001b[39m \u001b[38;5;28mabs\u001b[39m(weights[idx])\n\u001b[1;32m    517\u001b[0m     \u001b[38;5;28;01melif\u001b[39;00m \u001b[38;5;129;01mnot\u001b[39;00m ignore_missing:\n\u001b[0;32m--> 518\u001b[0m         \u001b[38;5;28;01mraise\u001b[39;00m \u001b[38;5;167;01mKeyError\u001b[39;00m(\u001b[38;5;124mf\u001b[39m\u001b[38;5;124m\"\u001b[39m\u001b[38;5;124mKey \u001b[39m\u001b[38;5;124m'\u001b[39m\u001b[38;5;132;01m{\u001b[39;00mkey\u001b[38;5;132;01m}\u001b[39;00m\u001b[38;5;124m'\u001b[39m\u001b[38;5;124m not present in vocabulary\u001b[39m\u001b[38;5;124m\"\u001b[39m)\n\u001b[1;32m    520\u001b[0m \u001b[38;5;28;01mif\u001b[39;00m total_weight \u001b[38;5;241m>\u001b[39m \u001b[38;5;241m0\u001b[39m:\n\u001b[1;32m    521\u001b[0m     mean \u001b[38;5;241m=\u001b[39m mean \u001b[38;5;241m/\u001b[39m total_weight\n",
      "\u001b[0;31mKeyError\u001b[0m: \"Key 'O_+' not present in vocabulary\""
     ]
    }
   ],
   "source": [
    "bakr_model.wv.most_similar('O_+')"
   ]
  },
  {
   "cell_type": "code",
   "execution_count": null,
   "id": "9b09f0ce-6778-4abf-be71-3c838ba2ec3d",
   "metadata": {},
   "outputs": [],
   "source": [
    "muhammed_model.wv.most_similar('O_+')"
   ]
  },
  {
   "cell_type": "code",
   "execution_count": 49,
   "id": "93ac4b57-7d9f-4501-9d55-fe772fb3ce0e",
   "metadata": {},
   "outputs": [],
   "source": [
    "similar_tokens = rezk_model.wv.most_similar('🤣')\n",
    "for similar in similar_tokens:\n",
    "    tokens_to_graphs['🤣_token'].append(similar[0])\n",
    "    tokens_to_graphs['🤣_%'].append(similar[1])"
   ]
  },
  {
   "cell_type": "code",
   "execution_count": 50,
   "id": "cf575140-cb02-4044-9506-5fb040e2a7c7",
   "metadata": {},
   "outputs": [
    {
     "data": {
      "text/plain": [
       "[('😆', 0.8333120942115784),\n",
       " ('😁', 0.8321138024330139),\n",
       " ('😜', 0.8205730319023132),\n",
       " ('😏', 0.819418728351593),\n",
       " ('😅', 0.8010570406913757),\n",
       " ('😒', 0.7967824339866638),\n",
       " ('هه', 0.7967004776000977),\n",
       " ('😂', 0.7781848907470703),\n",
       " ('😬', 0.7624844312667847),\n",
       " ('😀', 0.7618412375450134)]"
      ]
     },
     "execution_count": 50,
     "metadata": {},
     "output_type": "execute_result"
    }
   ],
   "source": [
    "similar_tokens"
   ]
  },
  {
   "cell_type": "code",
   "execution_count": 51,
   "id": "45d7be63-a4ca-47a7-b392-f7cce2d1af3f",
   "metadata": {},
   "outputs": [
    {
     "ename": "KeyError",
     "evalue": "\"Key '🤣' not present in vocabulary\"",
     "output_type": "error",
     "traceback": [
      "\u001b[0;31m---------------------------------------------------------------------------\u001b[0m",
      "\u001b[0;31mKeyError\u001b[0m                                  Traceback (most recent call last)",
      "Cell \u001b[0;32mIn[51], line 1\u001b[0m\n\u001b[0;32m----> 1\u001b[0m \u001b[43mbakr_model\u001b[49m\u001b[38;5;241;43m.\u001b[39;49m\u001b[43mwv\u001b[49m\u001b[38;5;241;43m.\u001b[39;49m\u001b[43mmost_similar\u001b[49m\u001b[43m(\u001b[49m\u001b[38;5;124;43m'\u001b[39;49m\u001b[38;5;124;43m🤣\u001b[39;49m\u001b[38;5;124;43m'\u001b[39;49m\u001b[43m)\u001b[49m\n",
      "File \u001b[0;32m/usr/local/lib/python3.8/dist-packages/gensim/models/keyedvectors.py:841\u001b[0m, in \u001b[0;36mKeyedVectors.most_similar\u001b[0;34m(self, positive, negative, topn, clip_start, clip_end, restrict_vocab, indexer)\u001b[0m\n\u001b[1;32m    838\u001b[0m         weight[idx] \u001b[38;5;241m=\u001b[39m item[\u001b[38;5;241m1\u001b[39m]\n\u001b[1;32m    840\u001b[0m \u001b[38;5;66;03m# compute the weighted average of all keys\u001b[39;00m\n\u001b[0;32m--> 841\u001b[0m mean \u001b[38;5;241m=\u001b[39m \u001b[38;5;28;43mself\u001b[39;49m\u001b[38;5;241;43m.\u001b[39;49m\u001b[43mget_mean_vector\u001b[49m\u001b[43m(\u001b[49m\u001b[43mkeys\u001b[49m\u001b[43m,\u001b[49m\u001b[43m \u001b[49m\u001b[43mweight\u001b[49m\u001b[43m,\u001b[49m\u001b[43m \u001b[49m\u001b[43mpre_normalize\u001b[49m\u001b[38;5;241;43m=\u001b[39;49m\u001b[38;5;28;43;01mTrue\u001b[39;49;00m\u001b[43m,\u001b[49m\u001b[43m \u001b[49m\u001b[43mpost_normalize\u001b[49m\u001b[38;5;241;43m=\u001b[39;49m\u001b[38;5;28;43;01mTrue\u001b[39;49;00m\u001b[43m,\u001b[49m\u001b[43m \u001b[49m\u001b[43mignore_missing\u001b[49m\u001b[38;5;241;43m=\u001b[39;49m\u001b[38;5;28;43;01mFalse\u001b[39;49;00m\u001b[43m)\u001b[49m\n\u001b[1;32m    842\u001b[0m all_keys \u001b[38;5;241m=\u001b[39m [\n\u001b[1;32m    843\u001b[0m     \u001b[38;5;28mself\u001b[39m\u001b[38;5;241m.\u001b[39mget_index(key) \u001b[38;5;28;01mfor\u001b[39;00m key \u001b[38;5;129;01min\u001b[39;00m keys \u001b[38;5;28;01mif\u001b[39;00m \u001b[38;5;28misinstance\u001b[39m(key, _KEY_TYPES) \u001b[38;5;129;01mand\u001b[39;00m \u001b[38;5;28mself\u001b[39m\u001b[38;5;241m.\u001b[39mhas_index_for(key)\n\u001b[1;32m    844\u001b[0m ]\n\u001b[1;32m    846\u001b[0m \u001b[38;5;28;01mif\u001b[39;00m indexer \u001b[38;5;129;01mis\u001b[39;00m \u001b[38;5;129;01mnot\u001b[39;00m \u001b[38;5;28;01mNone\u001b[39;00m \u001b[38;5;129;01mand\u001b[39;00m \u001b[38;5;28misinstance\u001b[39m(topn, \u001b[38;5;28mint\u001b[39m):\n",
      "File \u001b[0;32m/usr/local/lib/python3.8/dist-packages/gensim/models/keyedvectors.py:518\u001b[0m, in \u001b[0;36mKeyedVectors.get_mean_vector\u001b[0;34m(self, keys, weights, pre_normalize, post_normalize, ignore_missing)\u001b[0m\n\u001b[1;32m    516\u001b[0m         total_weight \u001b[38;5;241m+\u001b[39m\u001b[38;5;241m=\u001b[39m \u001b[38;5;28mabs\u001b[39m(weights[idx])\n\u001b[1;32m    517\u001b[0m     \u001b[38;5;28;01melif\u001b[39;00m \u001b[38;5;129;01mnot\u001b[39;00m ignore_missing:\n\u001b[0;32m--> 518\u001b[0m         \u001b[38;5;28;01mraise\u001b[39;00m \u001b[38;5;167;01mKeyError\u001b[39;00m(\u001b[38;5;124mf\u001b[39m\u001b[38;5;124m\"\u001b[39m\u001b[38;5;124mKey \u001b[39m\u001b[38;5;124m'\u001b[39m\u001b[38;5;132;01m{\u001b[39;00mkey\u001b[38;5;132;01m}\u001b[39;00m\u001b[38;5;124m'\u001b[39m\u001b[38;5;124m not present in vocabulary\u001b[39m\u001b[38;5;124m\"\u001b[39m)\n\u001b[1;32m    520\u001b[0m \u001b[38;5;28;01mif\u001b[39;00m total_weight \u001b[38;5;241m>\u001b[39m \u001b[38;5;241m0\u001b[39m:\n\u001b[1;32m    521\u001b[0m     mean \u001b[38;5;241m=\u001b[39m mean \u001b[38;5;241m/\u001b[39m total_weight\n",
      "\u001b[0;31mKeyError\u001b[0m: \"Key '🤣' not present in vocabulary\""
     ]
    }
   ],
   "source": [
    "bakr_model.wv.most_similar('🤣')"
   ]
  },
  {
   "cell_type": "code",
   "execution_count": 52,
   "id": "ed1cd107",
   "metadata": {},
   "outputs": [
    {
     "ename": "KeyError",
     "evalue": "\"Key '🤣' not present in vocabulary\"",
     "output_type": "error",
     "traceback": [
      "\u001b[0;31m---------------------------------------------------------------------------\u001b[0m",
      "\u001b[0;31mKeyError\u001b[0m                                  Traceback (most recent call last)",
      "Cell \u001b[0;32mIn[52], line 1\u001b[0m\n\u001b[0;32m----> 1\u001b[0m \u001b[43mmuhammed_model\u001b[49m\u001b[38;5;241;43m.\u001b[39;49m\u001b[43mwv\u001b[49m\u001b[38;5;241;43m.\u001b[39;49m\u001b[43mmost_similar\u001b[49m\u001b[43m(\u001b[49m\u001b[38;5;124;43m'\u001b[39;49m\u001b[38;5;124;43m🤣\u001b[39;49m\u001b[38;5;124;43m'\u001b[39;49m\u001b[43m)\u001b[49m\n",
      "File \u001b[0;32m/usr/local/lib/python3.8/dist-packages/gensim/models/keyedvectors.py:841\u001b[0m, in \u001b[0;36mKeyedVectors.most_similar\u001b[0;34m(self, positive, negative, topn, clip_start, clip_end, restrict_vocab, indexer)\u001b[0m\n\u001b[1;32m    838\u001b[0m         weight[idx] \u001b[38;5;241m=\u001b[39m item[\u001b[38;5;241m1\u001b[39m]\n\u001b[1;32m    840\u001b[0m \u001b[38;5;66;03m# compute the weighted average of all keys\u001b[39;00m\n\u001b[0;32m--> 841\u001b[0m mean \u001b[38;5;241m=\u001b[39m \u001b[38;5;28;43mself\u001b[39;49m\u001b[38;5;241;43m.\u001b[39;49m\u001b[43mget_mean_vector\u001b[49m\u001b[43m(\u001b[49m\u001b[43mkeys\u001b[49m\u001b[43m,\u001b[49m\u001b[43m \u001b[49m\u001b[43mweight\u001b[49m\u001b[43m,\u001b[49m\u001b[43m \u001b[49m\u001b[43mpre_normalize\u001b[49m\u001b[38;5;241;43m=\u001b[39;49m\u001b[38;5;28;43;01mTrue\u001b[39;49;00m\u001b[43m,\u001b[49m\u001b[43m \u001b[49m\u001b[43mpost_normalize\u001b[49m\u001b[38;5;241;43m=\u001b[39;49m\u001b[38;5;28;43;01mTrue\u001b[39;49;00m\u001b[43m,\u001b[49m\u001b[43m \u001b[49m\u001b[43mignore_missing\u001b[49m\u001b[38;5;241;43m=\u001b[39;49m\u001b[38;5;28;43;01mFalse\u001b[39;49;00m\u001b[43m)\u001b[49m\n\u001b[1;32m    842\u001b[0m all_keys \u001b[38;5;241m=\u001b[39m [\n\u001b[1;32m    843\u001b[0m     \u001b[38;5;28mself\u001b[39m\u001b[38;5;241m.\u001b[39mget_index(key) \u001b[38;5;28;01mfor\u001b[39;00m key \u001b[38;5;129;01min\u001b[39;00m keys \u001b[38;5;28;01mif\u001b[39;00m \u001b[38;5;28misinstance\u001b[39m(key, _KEY_TYPES) \u001b[38;5;129;01mand\u001b[39;00m \u001b[38;5;28mself\u001b[39m\u001b[38;5;241m.\u001b[39mhas_index_for(key)\n\u001b[1;32m    844\u001b[0m ]\n\u001b[1;32m    846\u001b[0m \u001b[38;5;28;01mif\u001b[39;00m indexer \u001b[38;5;129;01mis\u001b[39;00m \u001b[38;5;129;01mnot\u001b[39;00m \u001b[38;5;28;01mNone\u001b[39;00m \u001b[38;5;129;01mand\u001b[39;00m \u001b[38;5;28misinstance\u001b[39m(topn, \u001b[38;5;28mint\u001b[39m):\n",
      "File \u001b[0;32m/usr/local/lib/python3.8/dist-packages/gensim/models/keyedvectors.py:518\u001b[0m, in \u001b[0;36mKeyedVectors.get_mean_vector\u001b[0;34m(self, keys, weights, pre_normalize, post_normalize, ignore_missing)\u001b[0m\n\u001b[1;32m    516\u001b[0m         total_weight \u001b[38;5;241m+\u001b[39m\u001b[38;5;241m=\u001b[39m \u001b[38;5;28mabs\u001b[39m(weights[idx])\n\u001b[1;32m    517\u001b[0m     \u001b[38;5;28;01melif\u001b[39;00m \u001b[38;5;129;01mnot\u001b[39;00m ignore_missing:\n\u001b[0;32m--> 518\u001b[0m         \u001b[38;5;28;01mraise\u001b[39;00m \u001b[38;5;167;01mKeyError\u001b[39;00m(\u001b[38;5;124mf\u001b[39m\u001b[38;5;124m\"\u001b[39m\u001b[38;5;124mKey \u001b[39m\u001b[38;5;124m'\u001b[39m\u001b[38;5;132;01m{\u001b[39;00mkey\u001b[38;5;132;01m}\u001b[39;00m\u001b[38;5;124m'\u001b[39m\u001b[38;5;124m not present in vocabulary\u001b[39m\u001b[38;5;124m\"\u001b[39m)\n\u001b[1;32m    520\u001b[0m \u001b[38;5;28;01mif\u001b[39;00m total_weight \u001b[38;5;241m>\u001b[39m \u001b[38;5;241m0\u001b[39m:\n\u001b[1;32m    521\u001b[0m     mean \u001b[38;5;241m=\u001b[39m mean \u001b[38;5;241m/\u001b[39m total_weight\n",
      "\u001b[0;31mKeyError\u001b[0m: \"Key '🤣' not present in vocabulary\""
     ]
    }
   ],
   "source": [
    "muhammed_model.wv.most_similar('🤣')"
   ]
  },
  {
   "cell_type": "code",
   "execution_count": 53,
   "id": "c8bea988",
   "metadata": {},
   "outputs": [],
   "source": [
    "similar_tokens = rezk_model.wv.most_similar('🇰🇼')\n",
    "for similar in similar_tokens:\n",
    "    tokens_to_graphs['🇰🇼_token'].append(similar[0])\n",
    "    tokens_to_graphs['🇰🇼_%'].append(similar[1])"
   ]
  },
  {
   "cell_type": "code",
   "execution_count": 54,
   "id": "9c9f2e00-9b27-492c-8062-86dc4693d696",
   "metadata": {},
   "outputs": [
    {
     "data": {
      "text/plain": [
       "[('🇴🇲', 0.6610525846481323),\n",
       " ('العيد_الوطني_الكويتي', 0.6014205813407898),\n",
       " ('اليوم_الوطني_الكويتي', 0.5943148732185364),\n",
       " ('🇦🇪', 0.5859056711196899),\n",
       " ('الكويت', 0.5772003531455994),\n",
       " ('🇸🇦', 0.5617915987968445),\n",
       " ('🇶🇦', 0.5346092581748962),\n",
       " ('عمان', 0.5341886281967163),\n",
       " ('🇯🇴', 0.5333636999130249),\n",
       " ('الحبيبه', 0.5255107283592224)]"
      ]
     },
     "execution_count": 54,
     "metadata": {},
     "output_type": "execute_result"
    }
   ],
   "source": [
    "similar_tokens"
   ]
  },
  {
   "cell_type": "code",
   "execution_count": 55,
   "id": "3c17a7d7",
   "metadata": {},
   "outputs": [
    {
     "data": {
      "text/plain": [
       "[('لزيارتن', 0.5828799605369568),\n",
       " ('🇶🇦', 0.5708760619163513),\n",
       " ('وشعبهاا', 0.5684718489646912),\n",
       " ('شوفو_شكاتب_عن', 0.5620298385620117),\n",
       " ('ومثلتم', 0.5597826838493347),\n",
       " ('الكويت_قويه', 0.5401729941368103),\n",
       " ('يدعوالمغردين', 0.5397713780403137),\n",
       " ('🇧🇭', 0.5372673869132996),\n",
       " ('\\u200e\\u200bبنات', 0.5294809341430664),\n",
       " ('\\ue42c\\ue022\\ue022', 0.5247477889060974)]"
      ]
     },
     "execution_count": 55,
     "metadata": {},
     "output_type": "execute_result"
    }
   ],
   "source": [
    "bakr_model.wv.most_similar('🇰🇼')"
   ]
  },
  {
   "cell_type": "code",
   "execution_count": 56,
   "id": "8e6ccc91-e035-4104-8284-17e57a886527",
   "metadata": {},
   "outputs": [
    {
     "ename": "KeyError",
     "evalue": "\"Key '🇰🇼' not present in vocabulary\"",
     "output_type": "error",
     "traceback": [
      "\u001b[0;31m---------------------------------------------------------------------------\u001b[0m",
      "\u001b[0;31mKeyError\u001b[0m                                  Traceback (most recent call last)",
      "Cell \u001b[0;32mIn[56], line 1\u001b[0m\n\u001b[0;32m----> 1\u001b[0m \u001b[43mmuhammed_model\u001b[49m\u001b[38;5;241;43m.\u001b[39;49m\u001b[43mwv\u001b[49m\u001b[38;5;241;43m.\u001b[39;49m\u001b[43mmost_similar\u001b[49m\u001b[43m(\u001b[49m\u001b[38;5;124;43m'\u001b[39;49m\u001b[38;5;124;43m🇰🇼\u001b[39;49m\u001b[38;5;124;43m'\u001b[39;49m\u001b[43m)\u001b[49m\n",
      "File \u001b[0;32m/usr/local/lib/python3.8/dist-packages/gensim/models/keyedvectors.py:841\u001b[0m, in \u001b[0;36mKeyedVectors.most_similar\u001b[0;34m(self, positive, negative, topn, clip_start, clip_end, restrict_vocab, indexer)\u001b[0m\n\u001b[1;32m    838\u001b[0m         weight[idx] \u001b[38;5;241m=\u001b[39m item[\u001b[38;5;241m1\u001b[39m]\n\u001b[1;32m    840\u001b[0m \u001b[38;5;66;03m# compute the weighted average of all keys\u001b[39;00m\n\u001b[0;32m--> 841\u001b[0m mean \u001b[38;5;241m=\u001b[39m \u001b[38;5;28;43mself\u001b[39;49m\u001b[38;5;241;43m.\u001b[39;49m\u001b[43mget_mean_vector\u001b[49m\u001b[43m(\u001b[49m\u001b[43mkeys\u001b[49m\u001b[43m,\u001b[49m\u001b[43m \u001b[49m\u001b[43mweight\u001b[49m\u001b[43m,\u001b[49m\u001b[43m \u001b[49m\u001b[43mpre_normalize\u001b[49m\u001b[38;5;241;43m=\u001b[39;49m\u001b[38;5;28;43;01mTrue\u001b[39;49;00m\u001b[43m,\u001b[49m\u001b[43m \u001b[49m\u001b[43mpost_normalize\u001b[49m\u001b[38;5;241;43m=\u001b[39;49m\u001b[38;5;28;43;01mTrue\u001b[39;49;00m\u001b[43m,\u001b[49m\u001b[43m \u001b[49m\u001b[43mignore_missing\u001b[49m\u001b[38;5;241;43m=\u001b[39;49m\u001b[38;5;28;43;01mFalse\u001b[39;49;00m\u001b[43m)\u001b[49m\n\u001b[1;32m    842\u001b[0m all_keys \u001b[38;5;241m=\u001b[39m [\n\u001b[1;32m    843\u001b[0m     \u001b[38;5;28mself\u001b[39m\u001b[38;5;241m.\u001b[39mget_index(key) \u001b[38;5;28;01mfor\u001b[39;00m key \u001b[38;5;129;01min\u001b[39;00m keys \u001b[38;5;28;01mif\u001b[39;00m \u001b[38;5;28misinstance\u001b[39m(key, _KEY_TYPES) \u001b[38;5;129;01mand\u001b[39;00m \u001b[38;5;28mself\u001b[39m\u001b[38;5;241m.\u001b[39mhas_index_for(key)\n\u001b[1;32m    844\u001b[0m ]\n\u001b[1;32m    846\u001b[0m \u001b[38;5;28;01mif\u001b[39;00m indexer \u001b[38;5;129;01mis\u001b[39;00m \u001b[38;5;129;01mnot\u001b[39;00m \u001b[38;5;28;01mNone\u001b[39;00m \u001b[38;5;129;01mand\u001b[39;00m \u001b[38;5;28misinstance\u001b[39m(topn, \u001b[38;5;28mint\u001b[39m):\n",
      "File \u001b[0;32m/usr/local/lib/python3.8/dist-packages/gensim/models/keyedvectors.py:518\u001b[0m, in \u001b[0;36mKeyedVectors.get_mean_vector\u001b[0;34m(self, keys, weights, pre_normalize, post_normalize, ignore_missing)\u001b[0m\n\u001b[1;32m    516\u001b[0m         total_weight \u001b[38;5;241m+\u001b[39m\u001b[38;5;241m=\u001b[39m \u001b[38;5;28mabs\u001b[39m(weights[idx])\n\u001b[1;32m    517\u001b[0m     \u001b[38;5;28;01melif\u001b[39;00m \u001b[38;5;129;01mnot\u001b[39;00m ignore_missing:\n\u001b[0;32m--> 518\u001b[0m         \u001b[38;5;28;01mraise\u001b[39;00m \u001b[38;5;167;01mKeyError\u001b[39;00m(\u001b[38;5;124mf\u001b[39m\u001b[38;5;124m\"\u001b[39m\u001b[38;5;124mKey \u001b[39m\u001b[38;5;124m'\u001b[39m\u001b[38;5;132;01m{\u001b[39;00mkey\u001b[38;5;132;01m}\u001b[39;00m\u001b[38;5;124m'\u001b[39m\u001b[38;5;124m not present in vocabulary\u001b[39m\u001b[38;5;124m\"\u001b[39m)\n\u001b[1;32m    520\u001b[0m \u001b[38;5;28;01mif\u001b[39;00m total_weight \u001b[38;5;241m>\u001b[39m \u001b[38;5;241m0\u001b[39m:\n\u001b[1;32m    521\u001b[0m     mean \u001b[38;5;241m=\u001b[39m mean \u001b[38;5;241m/\u001b[39m total_weight\n",
      "\u001b[0;31mKeyError\u001b[0m: \"Key '🇰🇼' not present in vocabulary\""
     ]
    }
   ],
   "source": [
    "muhammed_model.wv.most_similar('🇰🇼')"
   ]
  },
  {
   "cell_type": "code",
   "execution_count": null,
   "id": "4264a04c-bccb-445d-bae1-a880213642c8",
   "metadata": {},
   "outputs": [],
   "source": [
    "similar_tokens = rezk_model.wv.most_similar('القدس_عربيه')\n",
    "for similar in similar_tokens:\n",
    "    tokens_to_graphs['القدس_عربيه_token'].append(similar[0])\n",
    "    tokens_to_graphs['القدس_عربيه_%'].append(similar[1])"
   ]
  },
  {
   "cell_type": "code",
   "execution_count": null,
   "id": "3aad2187-8da6-4ed5-a224-b4343be0c01c",
   "metadata": {},
   "outputs": [],
   "source": [
    "similar_tokens"
   ]
  },
  {
   "cell_type": "code",
   "execution_count": null,
   "id": "a26e3f81-b2e0-485b-8891-f95088dbbaa6",
   "metadata": {},
   "outputs": [],
   "source": [
    "bakr_model.wv.most_similar('القدس_عربيه')"
   ]
  },
  {
   "cell_type": "code",
   "execution_count": 57,
   "id": "2c46ad00-a4f0-4c48-8e18-61e04c0d2282",
   "metadata": {},
   "outputs": [
    {
     "ename": "KeyError",
     "evalue": "\"Key 'القدس_عربيه' not present in vocabulary\"",
     "output_type": "error",
     "traceback": [
      "\u001b[0;31m---------------------------------------------------------------------------\u001b[0m",
      "\u001b[0;31mKeyError\u001b[0m                                  Traceback (most recent call last)",
      "Cell \u001b[0;32mIn[57], line 1\u001b[0m\n\u001b[0;32m----> 1\u001b[0m \u001b[43mmuhammed_model\u001b[49m\u001b[38;5;241;43m.\u001b[39;49m\u001b[43mwv\u001b[49m\u001b[38;5;241;43m.\u001b[39;49m\u001b[43mmost_similar\u001b[49m\u001b[43m(\u001b[49m\u001b[38;5;124;43m'\u001b[39;49m\u001b[38;5;124;43mالقدس_عربيه\u001b[39;49m\u001b[38;5;124;43m'\u001b[39;49m\u001b[43m)\u001b[49m\n",
      "File \u001b[0;32m/usr/local/lib/python3.8/dist-packages/gensim/models/keyedvectors.py:841\u001b[0m, in \u001b[0;36mKeyedVectors.most_similar\u001b[0;34m(self, positive, negative, topn, clip_start, clip_end, restrict_vocab, indexer)\u001b[0m\n\u001b[1;32m    838\u001b[0m         weight[idx] \u001b[38;5;241m=\u001b[39m item[\u001b[38;5;241m1\u001b[39m]\n\u001b[1;32m    840\u001b[0m \u001b[38;5;66;03m# compute the weighted average of all keys\u001b[39;00m\n\u001b[0;32m--> 841\u001b[0m mean \u001b[38;5;241m=\u001b[39m \u001b[38;5;28;43mself\u001b[39;49m\u001b[38;5;241;43m.\u001b[39;49m\u001b[43mget_mean_vector\u001b[49m\u001b[43m(\u001b[49m\u001b[43mkeys\u001b[49m\u001b[43m,\u001b[49m\u001b[43m \u001b[49m\u001b[43mweight\u001b[49m\u001b[43m,\u001b[49m\u001b[43m \u001b[49m\u001b[43mpre_normalize\u001b[49m\u001b[38;5;241;43m=\u001b[39;49m\u001b[38;5;28;43;01mTrue\u001b[39;49;00m\u001b[43m,\u001b[49m\u001b[43m \u001b[49m\u001b[43mpost_normalize\u001b[49m\u001b[38;5;241;43m=\u001b[39;49m\u001b[38;5;28;43;01mTrue\u001b[39;49;00m\u001b[43m,\u001b[49m\u001b[43m \u001b[49m\u001b[43mignore_missing\u001b[49m\u001b[38;5;241;43m=\u001b[39;49m\u001b[38;5;28;43;01mFalse\u001b[39;49;00m\u001b[43m)\u001b[49m\n\u001b[1;32m    842\u001b[0m all_keys \u001b[38;5;241m=\u001b[39m [\n\u001b[1;32m    843\u001b[0m     \u001b[38;5;28mself\u001b[39m\u001b[38;5;241m.\u001b[39mget_index(key) \u001b[38;5;28;01mfor\u001b[39;00m key \u001b[38;5;129;01min\u001b[39;00m keys \u001b[38;5;28;01mif\u001b[39;00m \u001b[38;5;28misinstance\u001b[39m(key, _KEY_TYPES) \u001b[38;5;129;01mand\u001b[39;00m \u001b[38;5;28mself\u001b[39m\u001b[38;5;241m.\u001b[39mhas_index_for(key)\n\u001b[1;32m    844\u001b[0m ]\n\u001b[1;32m    846\u001b[0m \u001b[38;5;28;01mif\u001b[39;00m indexer \u001b[38;5;129;01mis\u001b[39;00m \u001b[38;5;129;01mnot\u001b[39;00m \u001b[38;5;28;01mNone\u001b[39;00m \u001b[38;5;129;01mand\u001b[39;00m \u001b[38;5;28misinstance\u001b[39m(topn, \u001b[38;5;28mint\u001b[39m):\n",
      "File \u001b[0;32m/usr/local/lib/python3.8/dist-packages/gensim/models/keyedvectors.py:518\u001b[0m, in \u001b[0;36mKeyedVectors.get_mean_vector\u001b[0;34m(self, keys, weights, pre_normalize, post_normalize, ignore_missing)\u001b[0m\n\u001b[1;32m    516\u001b[0m         total_weight \u001b[38;5;241m+\u001b[39m\u001b[38;5;241m=\u001b[39m \u001b[38;5;28mabs\u001b[39m(weights[idx])\n\u001b[1;32m    517\u001b[0m     \u001b[38;5;28;01melif\u001b[39;00m \u001b[38;5;129;01mnot\u001b[39;00m ignore_missing:\n\u001b[0;32m--> 518\u001b[0m         \u001b[38;5;28;01mraise\u001b[39;00m \u001b[38;5;167;01mKeyError\u001b[39;00m(\u001b[38;5;124mf\u001b[39m\u001b[38;5;124m\"\u001b[39m\u001b[38;5;124mKey \u001b[39m\u001b[38;5;124m'\u001b[39m\u001b[38;5;132;01m{\u001b[39;00mkey\u001b[38;5;132;01m}\u001b[39;00m\u001b[38;5;124m'\u001b[39m\u001b[38;5;124m not present in vocabulary\u001b[39m\u001b[38;5;124m\"\u001b[39m)\n\u001b[1;32m    520\u001b[0m \u001b[38;5;28;01mif\u001b[39;00m total_weight \u001b[38;5;241m>\u001b[39m \u001b[38;5;241m0\u001b[39m:\n\u001b[1;32m    521\u001b[0m     mean \u001b[38;5;241m=\u001b[39m mean \u001b[38;5;241m/\u001b[39m total_weight\n",
      "\u001b[0;31mKeyError\u001b[0m: \"Key 'القدس_عربيه' not present in vocabulary\""
     ]
    }
   ],
   "source": [
    "muhammed_model.wv.most_similar('القدس_عربيه')"
   ]
  },
  {
   "cell_type": "code",
   "execution_count": null,
   "id": "17862c3b-e4d9-4730-a0d8-9df7f6fbf632",
   "metadata": {},
   "outputs": [],
   "source": [
    "similar_tokens = rezk_model.wv.most_similar('ويجز')\n",
    "for similar in similar_tokens:\n",
    "    tokens_to_graphs['ويجز_token'].append(similar[0])\n",
    "    tokens_to_graphs['ويجز_%'].append(similar[1])"
   ]
  },
  {
   "cell_type": "code",
   "execution_count": 58,
   "id": "2f0d46f4-3ddf-4ae8-ad22-3d4f7ab24d3f",
   "metadata": {},
   "outputs": [],
   "source": [
    "# tokens_to_graphs['ويجز_token']"
   ]
  },
  {
   "cell_type": "code",
   "execution_count": 59,
   "id": "4f6f5aa7-a28e-4775-8138-746cfcf2a000",
   "metadata": {},
   "outputs": [
    {
     "data": {
      "text/plain": [
       "[('🇴🇲', 0.6610525846481323),\n",
       " ('العيد_الوطني_الكويتي', 0.6014205813407898),\n",
       " ('اليوم_الوطني_الكويتي', 0.5943148732185364),\n",
       " ('🇦🇪', 0.5859056711196899),\n",
       " ('الكويت', 0.5772003531455994),\n",
       " ('🇸🇦', 0.5617915987968445),\n",
       " ('🇶🇦', 0.5346092581748962),\n",
       " ('عمان', 0.5341886281967163),\n",
       " ('🇯🇴', 0.5333636999130249),\n",
       " ('الحبيبه', 0.5255107283592224)]"
      ]
     },
     "execution_count": 59,
     "metadata": {},
     "output_type": "execute_result"
    }
   ],
   "source": [
    "similar_tokens"
   ]
  },
  {
   "cell_type": "code",
   "execution_count": 60,
   "id": "a8be3311-d088-46ec-b6e2-7253c7e7be36",
   "metadata": {},
   "outputs": [],
   "source": [
    "similar_tokens = bakr_model.wv.most_similar('ويجز')\n",
    "for similar in similar_tokens:\n",
    "    bakr_tokens_to_graphs['ويجز_token'].append(similar[0])\n",
    "    bakr_tokens_to_graphs['ويجز_%'].append(similar[1])"
   ]
  },
  {
   "cell_type": "code",
   "execution_count": 61,
   "id": "111dd31c-e432-4ca9-a351-c5cddee0a1d0",
   "metadata": {},
   "outputs": [
    {
     "data": {
      "text/plain": [
       "[('فرفعنا', 0.49491086602211),\n",
       " ('فمزق', 0.48029381036758423),\n",
       " ('فتخترق', 0.4799608886241913),\n",
       " ('بشومه', 0.47663766145706177),\n",
       " ('وينتف', 0.4671483337879181),\n",
       " ('يہبہ', 0.4653913974761963),\n",
       " ('قطعله', 0.4600294828414917),\n",
       " ('مغسلش', 0.4520690143108368),\n",
       " ('بنعلين', 0.45182666182518005),\n",
       " ('وسلخت', 0.45131081342697144)]"
      ]
     },
     "execution_count": 61,
     "metadata": {},
     "output_type": "execute_result"
    }
   ],
   "source": [
    "similar_tokens"
   ]
  },
  {
   "cell_type": "code",
   "execution_count": 62,
   "id": "45cc99b7-ecd7-4065-bc53-2dd011cc3f64",
   "metadata": {},
   "outputs": [
    {
     "ename": "KeyError",
     "evalue": "\"Key 'ويجز' not present in vocabulary\"",
     "output_type": "error",
     "traceback": [
      "\u001b[0;31m---------------------------------------------------------------------------\u001b[0m",
      "\u001b[0;31mKeyError\u001b[0m                                  Traceback (most recent call last)",
      "Cell \u001b[0;32mIn[62], line 1\u001b[0m\n\u001b[0;32m----> 1\u001b[0m \u001b[43mmuhammed_model\u001b[49m\u001b[38;5;241;43m.\u001b[39;49m\u001b[43mwv\u001b[49m\u001b[38;5;241;43m.\u001b[39;49m\u001b[43mmost_similar\u001b[49m\u001b[43m(\u001b[49m\u001b[38;5;124;43m'\u001b[39;49m\u001b[38;5;124;43mويجز\u001b[39;49m\u001b[38;5;124;43m'\u001b[39;49m\u001b[43m)\u001b[49m\n",
      "File \u001b[0;32m/usr/local/lib/python3.8/dist-packages/gensim/models/keyedvectors.py:841\u001b[0m, in \u001b[0;36mKeyedVectors.most_similar\u001b[0;34m(self, positive, negative, topn, clip_start, clip_end, restrict_vocab, indexer)\u001b[0m\n\u001b[1;32m    838\u001b[0m         weight[idx] \u001b[38;5;241m=\u001b[39m item[\u001b[38;5;241m1\u001b[39m]\n\u001b[1;32m    840\u001b[0m \u001b[38;5;66;03m# compute the weighted average of all keys\u001b[39;00m\n\u001b[0;32m--> 841\u001b[0m mean \u001b[38;5;241m=\u001b[39m \u001b[38;5;28;43mself\u001b[39;49m\u001b[38;5;241;43m.\u001b[39;49m\u001b[43mget_mean_vector\u001b[49m\u001b[43m(\u001b[49m\u001b[43mkeys\u001b[49m\u001b[43m,\u001b[49m\u001b[43m \u001b[49m\u001b[43mweight\u001b[49m\u001b[43m,\u001b[49m\u001b[43m \u001b[49m\u001b[43mpre_normalize\u001b[49m\u001b[38;5;241;43m=\u001b[39;49m\u001b[38;5;28;43;01mTrue\u001b[39;49;00m\u001b[43m,\u001b[49m\u001b[43m \u001b[49m\u001b[43mpost_normalize\u001b[49m\u001b[38;5;241;43m=\u001b[39;49m\u001b[38;5;28;43;01mTrue\u001b[39;49;00m\u001b[43m,\u001b[49m\u001b[43m \u001b[49m\u001b[43mignore_missing\u001b[49m\u001b[38;5;241;43m=\u001b[39;49m\u001b[38;5;28;43;01mFalse\u001b[39;49;00m\u001b[43m)\u001b[49m\n\u001b[1;32m    842\u001b[0m all_keys \u001b[38;5;241m=\u001b[39m [\n\u001b[1;32m    843\u001b[0m     \u001b[38;5;28mself\u001b[39m\u001b[38;5;241m.\u001b[39mget_index(key) \u001b[38;5;28;01mfor\u001b[39;00m key \u001b[38;5;129;01min\u001b[39;00m keys \u001b[38;5;28;01mif\u001b[39;00m \u001b[38;5;28misinstance\u001b[39m(key, _KEY_TYPES) \u001b[38;5;129;01mand\u001b[39;00m \u001b[38;5;28mself\u001b[39m\u001b[38;5;241m.\u001b[39mhas_index_for(key)\n\u001b[1;32m    844\u001b[0m ]\n\u001b[1;32m    846\u001b[0m \u001b[38;5;28;01mif\u001b[39;00m indexer \u001b[38;5;129;01mis\u001b[39;00m \u001b[38;5;129;01mnot\u001b[39;00m \u001b[38;5;28;01mNone\u001b[39;00m \u001b[38;5;129;01mand\u001b[39;00m \u001b[38;5;28misinstance\u001b[39m(topn, \u001b[38;5;28mint\u001b[39m):\n",
      "File \u001b[0;32m/usr/local/lib/python3.8/dist-packages/gensim/models/keyedvectors.py:518\u001b[0m, in \u001b[0;36mKeyedVectors.get_mean_vector\u001b[0;34m(self, keys, weights, pre_normalize, post_normalize, ignore_missing)\u001b[0m\n\u001b[1;32m    516\u001b[0m         total_weight \u001b[38;5;241m+\u001b[39m\u001b[38;5;241m=\u001b[39m \u001b[38;5;28mabs\u001b[39m(weights[idx])\n\u001b[1;32m    517\u001b[0m     \u001b[38;5;28;01melif\u001b[39;00m \u001b[38;5;129;01mnot\u001b[39;00m ignore_missing:\n\u001b[0;32m--> 518\u001b[0m         \u001b[38;5;28;01mraise\u001b[39;00m \u001b[38;5;167;01mKeyError\u001b[39;00m(\u001b[38;5;124mf\u001b[39m\u001b[38;5;124m\"\u001b[39m\u001b[38;5;124mKey \u001b[39m\u001b[38;5;124m'\u001b[39m\u001b[38;5;132;01m{\u001b[39;00mkey\u001b[38;5;132;01m}\u001b[39;00m\u001b[38;5;124m'\u001b[39m\u001b[38;5;124m not present in vocabulary\u001b[39m\u001b[38;5;124m\"\u001b[39m)\n\u001b[1;32m    520\u001b[0m \u001b[38;5;28;01mif\u001b[39;00m total_weight \u001b[38;5;241m>\u001b[39m \u001b[38;5;241m0\u001b[39m:\n\u001b[1;32m    521\u001b[0m     mean \u001b[38;5;241m=\u001b[39m mean \u001b[38;5;241m/\u001b[39m total_weight\n",
      "\u001b[0;31mKeyError\u001b[0m: \"Key 'ويجز' not present in vocabulary\""
     ]
    }
   ],
   "source": [
    "muhammed_model.wv.most_similar('ويجز')"
   ]
  },
  {
   "cell_type": "code",
   "execution_count": null,
   "id": "14aa85ad",
   "metadata": {},
   "outputs": [],
   "source": [
    "similar_tokens = rezk_model.wv.most_similar('IT')\n",
    "for similar in similar_tokens:\n",
    "    tokens_to_graphs['IT_token'].append(similar[0])\n",
    "    tokens_to_graphs['IT_%'].append(similar[1])"
   ]
  },
  {
   "cell_type": "code",
   "execution_count": 63,
   "id": "cc67ff88-3b03-4362-9af1-52fe9d0741c0",
   "metadata": {},
   "outputs": [
    {
     "data": {
      "text/plain": [
       "[('فرفعنا', 0.49491086602211),\n",
       " ('فمزق', 0.48029381036758423),\n",
       " ('فتخترق', 0.4799608886241913),\n",
       " ('بشومه', 0.47663766145706177),\n",
       " ('وينتف', 0.4671483337879181),\n",
       " ('يہبہ', 0.4653913974761963),\n",
       " ('قطعله', 0.4600294828414917),\n",
       " ('مغسلش', 0.4520690143108368),\n",
       " ('بنعلين', 0.45182666182518005),\n",
       " ('وسلخت', 0.45131081342697144)]"
      ]
     },
     "execution_count": 63,
     "metadata": {},
     "output_type": "execute_result"
    }
   ],
   "source": [
    "similar_tokens"
   ]
  },
  {
   "cell_type": "code",
   "execution_count": 64,
   "id": "be737cb8-da8b-4d64-b014-cde4e8d0a2d6",
   "metadata": {},
   "outputs": [
    {
     "ename": "KeyError",
     "evalue": "\"Key 'IT' not present in vocabulary\"",
     "output_type": "error",
     "traceback": [
      "\u001b[0;31m---------------------------------------------------------------------------\u001b[0m",
      "\u001b[0;31mKeyError\u001b[0m                                  Traceback (most recent call last)",
      "Cell \u001b[0;32mIn[64], line 1\u001b[0m\n\u001b[0;32m----> 1\u001b[0m \u001b[43mbakr_model\u001b[49m\u001b[38;5;241;43m.\u001b[39;49m\u001b[43mwv\u001b[49m\u001b[38;5;241;43m.\u001b[39;49m\u001b[43mmost_similar\u001b[49m\u001b[43m(\u001b[49m\u001b[38;5;124;43m'\u001b[39;49m\u001b[38;5;124;43mIT\u001b[39;49m\u001b[38;5;124;43m'\u001b[39;49m\u001b[43m)\u001b[49m\n",
      "File \u001b[0;32m/usr/local/lib/python3.8/dist-packages/gensim/models/keyedvectors.py:841\u001b[0m, in \u001b[0;36mKeyedVectors.most_similar\u001b[0;34m(self, positive, negative, topn, clip_start, clip_end, restrict_vocab, indexer)\u001b[0m\n\u001b[1;32m    838\u001b[0m         weight[idx] \u001b[38;5;241m=\u001b[39m item[\u001b[38;5;241m1\u001b[39m]\n\u001b[1;32m    840\u001b[0m \u001b[38;5;66;03m# compute the weighted average of all keys\u001b[39;00m\n\u001b[0;32m--> 841\u001b[0m mean \u001b[38;5;241m=\u001b[39m \u001b[38;5;28;43mself\u001b[39;49m\u001b[38;5;241;43m.\u001b[39;49m\u001b[43mget_mean_vector\u001b[49m\u001b[43m(\u001b[49m\u001b[43mkeys\u001b[49m\u001b[43m,\u001b[49m\u001b[43m \u001b[49m\u001b[43mweight\u001b[49m\u001b[43m,\u001b[49m\u001b[43m \u001b[49m\u001b[43mpre_normalize\u001b[49m\u001b[38;5;241;43m=\u001b[39;49m\u001b[38;5;28;43;01mTrue\u001b[39;49;00m\u001b[43m,\u001b[49m\u001b[43m \u001b[49m\u001b[43mpost_normalize\u001b[49m\u001b[38;5;241;43m=\u001b[39;49m\u001b[38;5;28;43;01mTrue\u001b[39;49;00m\u001b[43m,\u001b[49m\u001b[43m \u001b[49m\u001b[43mignore_missing\u001b[49m\u001b[38;5;241;43m=\u001b[39;49m\u001b[38;5;28;43;01mFalse\u001b[39;49;00m\u001b[43m)\u001b[49m\n\u001b[1;32m    842\u001b[0m all_keys \u001b[38;5;241m=\u001b[39m [\n\u001b[1;32m    843\u001b[0m     \u001b[38;5;28mself\u001b[39m\u001b[38;5;241m.\u001b[39mget_index(key) \u001b[38;5;28;01mfor\u001b[39;00m key \u001b[38;5;129;01min\u001b[39;00m keys \u001b[38;5;28;01mif\u001b[39;00m \u001b[38;5;28misinstance\u001b[39m(key, _KEY_TYPES) \u001b[38;5;129;01mand\u001b[39;00m \u001b[38;5;28mself\u001b[39m\u001b[38;5;241m.\u001b[39mhas_index_for(key)\n\u001b[1;32m    844\u001b[0m ]\n\u001b[1;32m    846\u001b[0m \u001b[38;5;28;01mif\u001b[39;00m indexer \u001b[38;5;129;01mis\u001b[39;00m \u001b[38;5;129;01mnot\u001b[39;00m \u001b[38;5;28;01mNone\u001b[39;00m \u001b[38;5;129;01mand\u001b[39;00m \u001b[38;5;28misinstance\u001b[39m(topn, \u001b[38;5;28mint\u001b[39m):\n",
      "File \u001b[0;32m/usr/local/lib/python3.8/dist-packages/gensim/models/keyedvectors.py:518\u001b[0m, in \u001b[0;36mKeyedVectors.get_mean_vector\u001b[0;34m(self, keys, weights, pre_normalize, post_normalize, ignore_missing)\u001b[0m\n\u001b[1;32m    516\u001b[0m         total_weight \u001b[38;5;241m+\u001b[39m\u001b[38;5;241m=\u001b[39m \u001b[38;5;28mabs\u001b[39m(weights[idx])\n\u001b[1;32m    517\u001b[0m     \u001b[38;5;28;01melif\u001b[39;00m \u001b[38;5;129;01mnot\u001b[39;00m ignore_missing:\n\u001b[0;32m--> 518\u001b[0m         \u001b[38;5;28;01mraise\u001b[39;00m \u001b[38;5;167;01mKeyError\u001b[39;00m(\u001b[38;5;124mf\u001b[39m\u001b[38;5;124m\"\u001b[39m\u001b[38;5;124mKey \u001b[39m\u001b[38;5;124m'\u001b[39m\u001b[38;5;132;01m{\u001b[39;00mkey\u001b[38;5;132;01m}\u001b[39;00m\u001b[38;5;124m'\u001b[39m\u001b[38;5;124m not present in vocabulary\u001b[39m\u001b[38;5;124m\"\u001b[39m)\n\u001b[1;32m    520\u001b[0m \u001b[38;5;28;01mif\u001b[39;00m total_weight \u001b[38;5;241m>\u001b[39m \u001b[38;5;241m0\u001b[39m:\n\u001b[1;32m    521\u001b[0m     mean \u001b[38;5;241m=\u001b[39m mean \u001b[38;5;241m/\u001b[39m total_weight\n",
      "\u001b[0;31mKeyError\u001b[0m: \"Key 'IT' not present in vocabulary\""
     ]
    }
   ],
   "source": [
    "bakr_model.wv.most_similar('IT')"
   ]
  },
  {
   "cell_type": "code",
   "execution_count": null,
   "id": "407c0b2d-a3c1-4bae-97bc-a6c15f23b40e",
   "metadata": {},
   "outputs": [],
   "source": [
    "muhammed_model.wv.most_similar('IT')"
   ]
  },
  {
   "cell_type": "code",
   "execution_count": 65,
   "id": "90a8c7be-c914-4485-bc19-49c50d7a62b0",
   "metadata": {},
   "outputs": [],
   "source": [
    "similar_tokens = rezk_model.wv.most_similar('كوفيد')\n",
    "for similar in similar_tokens:\n",
    "    tokens_to_graphs['كوفيد_token'].append(similar[0])\n",
    "    tokens_to_graphs['كوفيد_%'].append(similar[1])"
   ]
  },
  {
   "cell_type": "code",
   "execution_count": 66,
   "id": "5cf82585-0a79-49c4-a021-4a2ea7e08a59",
   "metadata": {},
   "outputs": [
    {
     "data": {
      "text/plain": [
       "[('كوفيد-', 0.8830006122589111),\n",
       " ('كوفيد_', 0.8637586832046509),\n",
       " ('Covid', 0.7545498609542847),\n",
       " ('بكوفيد', 0.7023125886917114),\n",
       " ('الكوفيد', 0.6937721967697144),\n",
       " ('كورونا', 0.6714788675308228),\n",
       " ('كوڤيد', 0.6528131365776062),\n",
       " ('COVID', 0.6056150794029236),\n",
       " ('بـكوفيد-', 0.600813090801239),\n",
       " ('فيروس', 0.5611270666122437)]"
      ]
     },
     "execution_count": 66,
     "metadata": {},
     "output_type": "execute_result"
    }
   ],
   "source": [
    "similar_tokens"
   ]
  },
  {
   "cell_type": "code",
   "execution_count": 67,
   "id": "e19926dd-274a-4d87-bcf6-3b5b906dce07",
   "metadata": {},
   "outputs": [
    {
     "ename": "KeyError",
     "evalue": "\"Key 'كوفيد' not present in vocabulary\"",
     "output_type": "error",
     "traceback": [
      "\u001b[0;31m---------------------------------------------------------------------------\u001b[0m",
      "\u001b[0;31mKeyError\u001b[0m                                  Traceback (most recent call last)",
      "Cell \u001b[0;32mIn[67], line 1\u001b[0m\n\u001b[0;32m----> 1\u001b[0m \u001b[43mbakr_model\u001b[49m\u001b[38;5;241;43m.\u001b[39;49m\u001b[43mwv\u001b[49m\u001b[38;5;241;43m.\u001b[39;49m\u001b[43mmost_similar\u001b[49m\u001b[43m(\u001b[49m\u001b[38;5;124;43m'\u001b[39;49m\u001b[38;5;124;43mكوفيد\u001b[39;49m\u001b[38;5;124;43m'\u001b[39;49m\u001b[43m)\u001b[49m\n",
      "File \u001b[0;32m/usr/local/lib/python3.8/dist-packages/gensim/models/keyedvectors.py:841\u001b[0m, in \u001b[0;36mKeyedVectors.most_similar\u001b[0;34m(self, positive, negative, topn, clip_start, clip_end, restrict_vocab, indexer)\u001b[0m\n\u001b[1;32m    838\u001b[0m         weight[idx] \u001b[38;5;241m=\u001b[39m item[\u001b[38;5;241m1\u001b[39m]\n\u001b[1;32m    840\u001b[0m \u001b[38;5;66;03m# compute the weighted average of all keys\u001b[39;00m\n\u001b[0;32m--> 841\u001b[0m mean \u001b[38;5;241m=\u001b[39m \u001b[38;5;28;43mself\u001b[39;49m\u001b[38;5;241;43m.\u001b[39;49m\u001b[43mget_mean_vector\u001b[49m\u001b[43m(\u001b[49m\u001b[43mkeys\u001b[49m\u001b[43m,\u001b[49m\u001b[43m \u001b[49m\u001b[43mweight\u001b[49m\u001b[43m,\u001b[49m\u001b[43m \u001b[49m\u001b[43mpre_normalize\u001b[49m\u001b[38;5;241;43m=\u001b[39;49m\u001b[38;5;28;43;01mTrue\u001b[39;49;00m\u001b[43m,\u001b[49m\u001b[43m \u001b[49m\u001b[43mpost_normalize\u001b[49m\u001b[38;5;241;43m=\u001b[39;49m\u001b[38;5;28;43;01mTrue\u001b[39;49;00m\u001b[43m,\u001b[49m\u001b[43m \u001b[49m\u001b[43mignore_missing\u001b[49m\u001b[38;5;241;43m=\u001b[39;49m\u001b[38;5;28;43;01mFalse\u001b[39;49;00m\u001b[43m)\u001b[49m\n\u001b[1;32m    842\u001b[0m all_keys \u001b[38;5;241m=\u001b[39m [\n\u001b[1;32m    843\u001b[0m     \u001b[38;5;28mself\u001b[39m\u001b[38;5;241m.\u001b[39mget_index(key) \u001b[38;5;28;01mfor\u001b[39;00m key \u001b[38;5;129;01min\u001b[39;00m keys \u001b[38;5;28;01mif\u001b[39;00m \u001b[38;5;28misinstance\u001b[39m(key, _KEY_TYPES) \u001b[38;5;129;01mand\u001b[39;00m \u001b[38;5;28mself\u001b[39m\u001b[38;5;241m.\u001b[39mhas_index_for(key)\n\u001b[1;32m    844\u001b[0m ]\n\u001b[1;32m    846\u001b[0m \u001b[38;5;28;01mif\u001b[39;00m indexer \u001b[38;5;129;01mis\u001b[39;00m \u001b[38;5;129;01mnot\u001b[39;00m \u001b[38;5;28;01mNone\u001b[39;00m \u001b[38;5;129;01mand\u001b[39;00m \u001b[38;5;28misinstance\u001b[39m(topn, \u001b[38;5;28mint\u001b[39m):\n",
      "File \u001b[0;32m/usr/local/lib/python3.8/dist-packages/gensim/models/keyedvectors.py:518\u001b[0m, in \u001b[0;36mKeyedVectors.get_mean_vector\u001b[0;34m(self, keys, weights, pre_normalize, post_normalize, ignore_missing)\u001b[0m\n\u001b[1;32m    516\u001b[0m         total_weight \u001b[38;5;241m+\u001b[39m\u001b[38;5;241m=\u001b[39m \u001b[38;5;28mabs\u001b[39m(weights[idx])\n\u001b[1;32m    517\u001b[0m     \u001b[38;5;28;01melif\u001b[39;00m \u001b[38;5;129;01mnot\u001b[39;00m ignore_missing:\n\u001b[0;32m--> 518\u001b[0m         \u001b[38;5;28;01mraise\u001b[39;00m \u001b[38;5;167;01mKeyError\u001b[39;00m(\u001b[38;5;124mf\u001b[39m\u001b[38;5;124m\"\u001b[39m\u001b[38;5;124mKey \u001b[39m\u001b[38;5;124m'\u001b[39m\u001b[38;5;132;01m{\u001b[39;00mkey\u001b[38;5;132;01m}\u001b[39;00m\u001b[38;5;124m'\u001b[39m\u001b[38;5;124m not present in vocabulary\u001b[39m\u001b[38;5;124m\"\u001b[39m)\n\u001b[1;32m    520\u001b[0m \u001b[38;5;28;01mif\u001b[39;00m total_weight \u001b[38;5;241m>\u001b[39m \u001b[38;5;241m0\u001b[39m:\n\u001b[1;32m    521\u001b[0m     mean \u001b[38;5;241m=\u001b[39m mean \u001b[38;5;241m/\u001b[39m total_weight\n",
      "\u001b[0;31mKeyError\u001b[0m: \"Key 'كوفيد' not present in vocabulary\""
     ]
    }
   ],
   "source": [
    "bakr_model.wv.most_similar('كوفيد')"
   ]
  },
  {
   "cell_type": "code",
   "execution_count": null,
   "id": "4de82a99-003b-4762-b4c3-e0b6d4e2834c",
   "metadata": {},
   "outputs": [],
   "source": [
    "muhammed_model.wv.most_similar('كوفيد')"
   ]
  },
  {
   "cell_type": "code",
   "execution_count": 68,
   "id": "2df3721a-abcf-4e4f-9e6e-451d0beeef56",
   "metadata": {},
   "outputs": [],
   "source": [
    "similar_tokens = rezk_model.wv.most_similar('منصه_مدرستي')\n",
    "for similar in similar_tokens:\n",
    "    tokens_to_graphs['منصه_مدرستي_token'].append(similar[0])\n",
    "    tokens_to_graphs['منصه_مدرستي_%'].append(similar[1])"
   ]
  },
  {
   "cell_type": "code",
   "execution_count": 69,
   "id": "ff7726bf-6723-4b89-bb4b-17224d8ed552",
   "metadata": {},
   "outputs": [
    {
     "data": {
      "text/plain": [
       "[('تعليم_جده', 0.6406617164611816),\n",
       " ('لعوده_حضوريه_امنه', 0.6082739233970642),\n",
       " ('تعليم_المخواه', 0.6013671159744263),\n",
       " ('تعليم_الطائف', 0.5990505814552307),\n",
       " ('الملف_الاعلامي_بوزاره_التعليم', 0.5927740931510925),\n",
       " ('تعليم_عسير', 0.5926639437675476),\n",
       " ('تعليم_مكه', 0.5854555368423462),\n",
       " ('تعليم_الرياض', 0.581294059753418),\n",
       " ('تعليم_الرس', 0.5742909908294678),\n",
       " ('تعليم_القصيم', 0.5729984641075134)]"
      ]
     },
     "execution_count": 69,
     "metadata": {},
     "output_type": "execute_result"
    }
   ],
   "source": [
    "similar_tokens"
   ]
  },
  {
   "cell_type": "code",
   "execution_count": 70,
   "id": "a3a7950d-9fc4-4fcd-a268-89008d188939",
   "metadata": {},
   "outputs": [
    {
     "ename": "KeyError",
     "evalue": "\"Key 'منصه_مدرستي' not present in vocabulary\"",
     "output_type": "error",
     "traceback": [
      "\u001b[0;31m---------------------------------------------------------------------------\u001b[0m",
      "\u001b[0;31mKeyError\u001b[0m                                  Traceback (most recent call last)",
      "Cell \u001b[0;32mIn[70], line 1\u001b[0m\n\u001b[0;32m----> 1\u001b[0m \u001b[43mbakr_model\u001b[49m\u001b[38;5;241;43m.\u001b[39;49m\u001b[43mwv\u001b[49m\u001b[38;5;241;43m.\u001b[39;49m\u001b[43mmost_similar\u001b[49m\u001b[43m(\u001b[49m\u001b[38;5;124;43m'\u001b[39;49m\u001b[38;5;124;43mمنصه_مدرستي\u001b[39;49m\u001b[38;5;124;43m'\u001b[39;49m\u001b[43m)\u001b[49m\n",
      "File \u001b[0;32m/usr/local/lib/python3.8/dist-packages/gensim/models/keyedvectors.py:841\u001b[0m, in \u001b[0;36mKeyedVectors.most_similar\u001b[0;34m(self, positive, negative, topn, clip_start, clip_end, restrict_vocab, indexer)\u001b[0m\n\u001b[1;32m    838\u001b[0m         weight[idx] \u001b[38;5;241m=\u001b[39m item[\u001b[38;5;241m1\u001b[39m]\n\u001b[1;32m    840\u001b[0m \u001b[38;5;66;03m# compute the weighted average of all keys\u001b[39;00m\n\u001b[0;32m--> 841\u001b[0m mean \u001b[38;5;241m=\u001b[39m \u001b[38;5;28;43mself\u001b[39;49m\u001b[38;5;241;43m.\u001b[39;49m\u001b[43mget_mean_vector\u001b[49m\u001b[43m(\u001b[49m\u001b[43mkeys\u001b[49m\u001b[43m,\u001b[49m\u001b[43m \u001b[49m\u001b[43mweight\u001b[49m\u001b[43m,\u001b[49m\u001b[43m \u001b[49m\u001b[43mpre_normalize\u001b[49m\u001b[38;5;241;43m=\u001b[39;49m\u001b[38;5;28;43;01mTrue\u001b[39;49;00m\u001b[43m,\u001b[49m\u001b[43m \u001b[49m\u001b[43mpost_normalize\u001b[49m\u001b[38;5;241;43m=\u001b[39;49m\u001b[38;5;28;43;01mTrue\u001b[39;49;00m\u001b[43m,\u001b[49m\u001b[43m \u001b[49m\u001b[43mignore_missing\u001b[49m\u001b[38;5;241;43m=\u001b[39;49m\u001b[38;5;28;43;01mFalse\u001b[39;49;00m\u001b[43m)\u001b[49m\n\u001b[1;32m    842\u001b[0m all_keys \u001b[38;5;241m=\u001b[39m [\n\u001b[1;32m    843\u001b[0m     \u001b[38;5;28mself\u001b[39m\u001b[38;5;241m.\u001b[39mget_index(key) \u001b[38;5;28;01mfor\u001b[39;00m key \u001b[38;5;129;01min\u001b[39;00m keys \u001b[38;5;28;01mif\u001b[39;00m \u001b[38;5;28misinstance\u001b[39m(key, _KEY_TYPES) \u001b[38;5;129;01mand\u001b[39;00m \u001b[38;5;28mself\u001b[39m\u001b[38;5;241m.\u001b[39mhas_index_for(key)\n\u001b[1;32m    844\u001b[0m ]\n\u001b[1;32m    846\u001b[0m \u001b[38;5;28;01mif\u001b[39;00m indexer \u001b[38;5;129;01mis\u001b[39;00m \u001b[38;5;129;01mnot\u001b[39;00m \u001b[38;5;28;01mNone\u001b[39;00m \u001b[38;5;129;01mand\u001b[39;00m \u001b[38;5;28misinstance\u001b[39m(topn, \u001b[38;5;28mint\u001b[39m):\n",
      "File \u001b[0;32m/usr/local/lib/python3.8/dist-packages/gensim/models/keyedvectors.py:518\u001b[0m, in \u001b[0;36mKeyedVectors.get_mean_vector\u001b[0;34m(self, keys, weights, pre_normalize, post_normalize, ignore_missing)\u001b[0m\n\u001b[1;32m    516\u001b[0m         total_weight \u001b[38;5;241m+\u001b[39m\u001b[38;5;241m=\u001b[39m \u001b[38;5;28mabs\u001b[39m(weights[idx])\n\u001b[1;32m    517\u001b[0m     \u001b[38;5;28;01melif\u001b[39;00m \u001b[38;5;129;01mnot\u001b[39;00m ignore_missing:\n\u001b[0;32m--> 518\u001b[0m         \u001b[38;5;28;01mraise\u001b[39;00m \u001b[38;5;167;01mKeyError\u001b[39;00m(\u001b[38;5;124mf\u001b[39m\u001b[38;5;124m\"\u001b[39m\u001b[38;5;124mKey \u001b[39m\u001b[38;5;124m'\u001b[39m\u001b[38;5;132;01m{\u001b[39;00mkey\u001b[38;5;132;01m}\u001b[39;00m\u001b[38;5;124m'\u001b[39m\u001b[38;5;124m not present in vocabulary\u001b[39m\u001b[38;5;124m\"\u001b[39m)\n\u001b[1;32m    520\u001b[0m \u001b[38;5;28;01mif\u001b[39;00m total_weight \u001b[38;5;241m>\u001b[39m \u001b[38;5;241m0\u001b[39m:\n\u001b[1;32m    521\u001b[0m     mean \u001b[38;5;241m=\u001b[39m mean \u001b[38;5;241m/\u001b[39m total_weight\n",
      "\u001b[0;31mKeyError\u001b[0m: \"Key 'منصه_مدرستي' not present in vocabulary\""
     ]
    }
   ],
   "source": [
    "bakr_model.wv.most_similar('منصه_مدرستي')"
   ]
  },
  {
   "cell_type": "code",
   "execution_count": 71,
   "id": "87ce3e21-1cb9-4c5c-a49d-ae0be25d215f",
   "metadata": {},
   "outputs": [
    {
     "ename": "KeyError",
     "evalue": "\"Key 'منصه_مدرستي' not present in vocabulary\"",
     "output_type": "error",
     "traceback": [
      "\u001b[0;31m---------------------------------------------------------------------------\u001b[0m",
      "\u001b[0;31mKeyError\u001b[0m                                  Traceback (most recent call last)",
      "Cell \u001b[0;32mIn[71], line 1\u001b[0m\n\u001b[0;32m----> 1\u001b[0m \u001b[43mmuhammed_model\u001b[49m\u001b[38;5;241;43m.\u001b[39;49m\u001b[43mwv\u001b[49m\u001b[38;5;241;43m.\u001b[39;49m\u001b[43mmost_similar\u001b[49m\u001b[43m(\u001b[49m\u001b[38;5;124;43m'\u001b[39;49m\u001b[38;5;124;43mمنصه_مدرستي\u001b[39;49m\u001b[38;5;124;43m'\u001b[39;49m\u001b[43m)\u001b[49m\n",
      "File \u001b[0;32m/usr/local/lib/python3.8/dist-packages/gensim/models/keyedvectors.py:841\u001b[0m, in \u001b[0;36mKeyedVectors.most_similar\u001b[0;34m(self, positive, negative, topn, clip_start, clip_end, restrict_vocab, indexer)\u001b[0m\n\u001b[1;32m    838\u001b[0m         weight[idx] \u001b[38;5;241m=\u001b[39m item[\u001b[38;5;241m1\u001b[39m]\n\u001b[1;32m    840\u001b[0m \u001b[38;5;66;03m# compute the weighted average of all keys\u001b[39;00m\n\u001b[0;32m--> 841\u001b[0m mean \u001b[38;5;241m=\u001b[39m \u001b[38;5;28;43mself\u001b[39;49m\u001b[38;5;241;43m.\u001b[39;49m\u001b[43mget_mean_vector\u001b[49m\u001b[43m(\u001b[49m\u001b[43mkeys\u001b[49m\u001b[43m,\u001b[49m\u001b[43m \u001b[49m\u001b[43mweight\u001b[49m\u001b[43m,\u001b[49m\u001b[43m \u001b[49m\u001b[43mpre_normalize\u001b[49m\u001b[38;5;241;43m=\u001b[39;49m\u001b[38;5;28;43;01mTrue\u001b[39;49;00m\u001b[43m,\u001b[49m\u001b[43m \u001b[49m\u001b[43mpost_normalize\u001b[49m\u001b[38;5;241;43m=\u001b[39;49m\u001b[38;5;28;43;01mTrue\u001b[39;49;00m\u001b[43m,\u001b[49m\u001b[43m \u001b[49m\u001b[43mignore_missing\u001b[49m\u001b[38;5;241;43m=\u001b[39;49m\u001b[38;5;28;43;01mFalse\u001b[39;49;00m\u001b[43m)\u001b[49m\n\u001b[1;32m    842\u001b[0m all_keys \u001b[38;5;241m=\u001b[39m [\n\u001b[1;32m    843\u001b[0m     \u001b[38;5;28mself\u001b[39m\u001b[38;5;241m.\u001b[39mget_index(key) \u001b[38;5;28;01mfor\u001b[39;00m key \u001b[38;5;129;01min\u001b[39;00m keys \u001b[38;5;28;01mif\u001b[39;00m \u001b[38;5;28misinstance\u001b[39m(key, _KEY_TYPES) \u001b[38;5;129;01mand\u001b[39;00m \u001b[38;5;28mself\u001b[39m\u001b[38;5;241m.\u001b[39mhas_index_for(key)\n\u001b[1;32m    844\u001b[0m ]\n\u001b[1;32m    846\u001b[0m \u001b[38;5;28;01mif\u001b[39;00m indexer \u001b[38;5;129;01mis\u001b[39;00m \u001b[38;5;129;01mnot\u001b[39;00m \u001b[38;5;28;01mNone\u001b[39;00m \u001b[38;5;129;01mand\u001b[39;00m \u001b[38;5;28misinstance\u001b[39m(topn, \u001b[38;5;28mint\u001b[39m):\n",
      "File \u001b[0;32m/usr/local/lib/python3.8/dist-packages/gensim/models/keyedvectors.py:518\u001b[0m, in \u001b[0;36mKeyedVectors.get_mean_vector\u001b[0;34m(self, keys, weights, pre_normalize, post_normalize, ignore_missing)\u001b[0m\n\u001b[1;32m    516\u001b[0m         total_weight \u001b[38;5;241m+\u001b[39m\u001b[38;5;241m=\u001b[39m \u001b[38;5;28mabs\u001b[39m(weights[idx])\n\u001b[1;32m    517\u001b[0m     \u001b[38;5;28;01melif\u001b[39;00m \u001b[38;5;129;01mnot\u001b[39;00m ignore_missing:\n\u001b[0;32m--> 518\u001b[0m         \u001b[38;5;28;01mraise\u001b[39;00m \u001b[38;5;167;01mKeyError\u001b[39;00m(\u001b[38;5;124mf\u001b[39m\u001b[38;5;124m\"\u001b[39m\u001b[38;5;124mKey \u001b[39m\u001b[38;5;124m'\u001b[39m\u001b[38;5;132;01m{\u001b[39;00mkey\u001b[38;5;132;01m}\u001b[39;00m\u001b[38;5;124m'\u001b[39m\u001b[38;5;124m not present in vocabulary\u001b[39m\u001b[38;5;124m\"\u001b[39m)\n\u001b[1;32m    520\u001b[0m \u001b[38;5;28;01mif\u001b[39;00m total_weight \u001b[38;5;241m>\u001b[39m \u001b[38;5;241m0\u001b[39m:\n\u001b[1;32m    521\u001b[0m     mean \u001b[38;5;241m=\u001b[39m mean \u001b[38;5;241m/\u001b[39m total_weight\n",
      "\u001b[0;31mKeyError\u001b[0m: \"Key 'منصه_مدرستي' not present in vocabulary\""
     ]
    }
   ],
   "source": [
    "muhammed_model.wv.most_similar('منصه_مدرستي')"
   ]
  },
  {
   "cell_type": "code",
   "execution_count": 72,
   "id": "58ba6a7a-b199-41c9-8737-ce805dbeb0d5",
   "metadata": {},
   "outputs": [],
   "source": [
    "similar_tokens = rezk_model.wv.most_similar('بوابه_المستقبل')\n",
    "for similar in similar_tokens:\n",
    "    tokens_to_graphs['بوابه_المستقبل_token'].append(similar[0])\n",
    "    tokens_to_graphs['بوابه_المستقبل_%'].append(similar[1])"
   ]
  },
  {
   "cell_type": "code",
   "execution_count": 73,
   "id": "50cbf133-d738-414c-829f-ebd784a91cd8",
   "metadata": {},
   "outputs": [
    {
     "data": {
      "text/plain": [
       "[('تعليم_مكه', 0.49500319361686707),\n",
       " ('تعليم_الاحساء', 0.46392834186553955),\n",
       " ('تعليم_جده', 0.4505389928817749),\n",
       " ('تعليم_الخرج', 0.44893476366996765),\n",
       " ('التربيه_الفكريه', 0.44797635078430176),\n",
       " ('تعليم_القصيم', 0.44339367747306824),\n",
       " ('تعليم_عسير', 0.4381850063800812),\n",
       " ('الفهم_القرائي', 0.4358413517475128),\n",
       " ('تعليم_الزلفي', 0.4351840913295746),\n",
       " ('المساعد_الاداري', 0.4350811839103699)]"
      ]
     },
     "execution_count": 73,
     "metadata": {},
     "output_type": "execute_result"
    }
   ],
   "source": [
    "similar_tokens"
   ]
  },
  {
   "cell_type": "code",
   "execution_count": 74,
   "id": "7001e5d4-fe42-470a-af3d-5f42f92484c9",
   "metadata": {},
   "outputs": [
    {
     "ename": "KeyError",
     "evalue": "\"Key 'بوابه_المستقبل' not present in vocabulary\"",
     "output_type": "error",
     "traceback": [
      "\u001b[0;31m---------------------------------------------------------------------------\u001b[0m",
      "\u001b[0;31mKeyError\u001b[0m                                  Traceback (most recent call last)",
      "Cell \u001b[0;32mIn[74], line 1\u001b[0m\n\u001b[0;32m----> 1\u001b[0m \u001b[43mbakr_model\u001b[49m\u001b[38;5;241;43m.\u001b[39;49m\u001b[43mwv\u001b[49m\u001b[38;5;241;43m.\u001b[39;49m\u001b[43mmost_similar\u001b[49m\u001b[43m(\u001b[49m\u001b[38;5;124;43m'\u001b[39;49m\u001b[38;5;124;43mبوابه_المستقبل\u001b[39;49m\u001b[38;5;124;43m'\u001b[39;49m\u001b[43m)\u001b[49m\n",
      "File \u001b[0;32m/usr/local/lib/python3.8/dist-packages/gensim/models/keyedvectors.py:841\u001b[0m, in \u001b[0;36mKeyedVectors.most_similar\u001b[0;34m(self, positive, negative, topn, clip_start, clip_end, restrict_vocab, indexer)\u001b[0m\n\u001b[1;32m    838\u001b[0m         weight[idx] \u001b[38;5;241m=\u001b[39m item[\u001b[38;5;241m1\u001b[39m]\n\u001b[1;32m    840\u001b[0m \u001b[38;5;66;03m# compute the weighted average of all keys\u001b[39;00m\n\u001b[0;32m--> 841\u001b[0m mean \u001b[38;5;241m=\u001b[39m \u001b[38;5;28;43mself\u001b[39;49m\u001b[38;5;241;43m.\u001b[39;49m\u001b[43mget_mean_vector\u001b[49m\u001b[43m(\u001b[49m\u001b[43mkeys\u001b[49m\u001b[43m,\u001b[49m\u001b[43m \u001b[49m\u001b[43mweight\u001b[49m\u001b[43m,\u001b[49m\u001b[43m \u001b[49m\u001b[43mpre_normalize\u001b[49m\u001b[38;5;241;43m=\u001b[39;49m\u001b[38;5;28;43;01mTrue\u001b[39;49;00m\u001b[43m,\u001b[49m\u001b[43m \u001b[49m\u001b[43mpost_normalize\u001b[49m\u001b[38;5;241;43m=\u001b[39;49m\u001b[38;5;28;43;01mTrue\u001b[39;49;00m\u001b[43m,\u001b[49m\u001b[43m \u001b[49m\u001b[43mignore_missing\u001b[49m\u001b[38;5;241;43m=\u001b[39;49m\u001b[38;5;28;43;01mFalse\u001b[39;49;00m\u001b[43m)\u001b[49m\n\u001b[1;32m    842\u001b[0m all_keys \u001b[38;5;241m=\u001b[39m [\n\u001b[1;32m    843\u001b[0m     \u001b[38;5;28mself\u001b[39m\u001b[38;5;241m.\u001b[39mget_index(key) \u001b[38;5;28;01mfor\u001b[39;00m key \u001b[38;5;129;01min\u001b[39;00m keys \u001b[38;5;28;01mif\u001b[39;00m \u001b[38;5;28misinstance\u001b[39m(key, _KEY_TYPES) \u001b[38;5;129;01mand\u001b[39;00m \u001b[38;5;28mself\u001b[39m\u001b[38;5;241m.\u001b[39mhas_index_for(key)\n\u001b[1;32m    844\u001b[0m ]\n\u001b[1;32m    846\u001b[0m \u001b[38;5;28;01mif\u001b[39;00m indexer \u001b[38;5;129;01mis\u001b[39;00m \u001b[38;5;129;01mnot\u001b[39;00m \u001b[38;5;28;01mNone\u001b[39;00m \u001b[38;5;129;01mand\u001b[39;00m \u001b[38;5;28misinstance\u001b[39m(topn, \u001b[38;5;28mint\u001b[39m):\n",
      "File \u001b[0;32m/usr/local/lib/python3.8/dist-packages/gensim/models/keyedvectors.py:518\u001b[0m, in \u001b[0;36mKeyedVectors.get_mean_vector\u001b[0;34m(self, keys, weights, pre_normalize, post_normalize, ignore_missing)\u001b[0m\n\u001b[1;32m    516\u001b[0m         total_weight \u001b[38;5;241m+\u001b[39m\u001b[38;5;241m=\u001b[39m \u001b[38;5;28mabs\u001b[39m(weights[idx])\n\u001b[1;32m    517\u001b[0m     \u001b[38;5;28;01melif\u001b[39;00m \u001b[38;5;129;01mnot\u001b[39;00m ignore_missing:\n\u001b[0;32m--> 518\u001b[0m         \u001b[38;5;28;01mraise\u001b[39;00m \u001b[38;5;167;01mKeyError\u001b[39;00m(\u001b[38;5;124mf\u001b[39m\u001b[38;5;124m\"\u001b[39m\u001b[38;5;124mKey \u001b[39m\u001b[38;5;124m'\u001b[39m\u001b[38;5;132;01m{\u001b[39;00mkey\u001b[38;5;132;01m}\u001b[39;00m\u001b[38;5;124m'\u001b[39m\u001b[38;5;124m not present in vocabulary\u001b[39m\u001b[38;5;124m\"\u001b[39m)\n\u001b[1;32m    520\u001b[0m \u001b[38;5;28;01mif\u001b[39;00m total_weight \u001b[38;5;241m>\u001b[39m \u001b[38;5;241m0\u001b[39m:\n\u001b[1;32m    521\u001b[0m     mean \u001b[38;5;241m=\u001b[39m mean \u001b[38;5;241m/\u001b[39m total_weight\n",
      "\u001b[0;31mKeyError\u001b[0m: \"Key 'بوابه_المستقبل' not present in vocabulary\""
     ]
    }
   ],
   "source": [
    "bakr_model.wv.most_similar('بوابه_المستقبل')"
   ]
  },
  {
   "cell_type": "code",
   "execution_count": null,
   "id": "224723cc-9ba0-4c48-8726-a9516852c60d",
   "metadata": {},
   "outputs": [],
   "source": [
    "muhammed_model.wv.most_similar('بوابه_المستقبل')"
   ]
  },
  {
   "cell_type": "code",
   "execution_count": 75,
   "id": "15456f00-c8f2-4eb6-a224-d0a16a77128f",
   "metadata": {},
   "outputs": [],
   "source": [
    "similar_tokens = rezk_model.wv.most_similar('الدراسه_مستمره')\n",
    "for similar in similar_tokens:\n",
    "    tokens_to_graphs['الدراسه_مستمره_token'].append(similar[0])\n",
    "    tokens_to_graphs['الدراسه_مستمره_%'].append(similar[1])"
   ]
  },
  {
   "cell_type": "code",
   "execution_count": 76,
   "id": "2975ad74-c3b1-472a-8b9d-635558397f57",
   "metadata": {},
   "outputs": [
    {
     "data": {
      "text/plain": [
       "[('المدرسه_الافتراضيه', 0.5705092549324036),\n",
       " ('منظومه_التعليم_الموحده', 0.4708978235721588),\n",
       " ('ابقوا_في_منازلكم', 0.46844011545181274),\n",
       " ('منصتي_مدرستي', 0.4341930150985718),\n",
       " ('وزاره_التعليم', 0.4082190990447998),\n",
       " ('الذكري_السادسه_للبيعه', 0.40731123089790344),\n",
       " ('شكرا_مدرستي_واسرتي', 0.3947628438472748),\n",
       " ('مدارسنا_باعيننا', 0.38879701495170593),\n",
       " ('منظومه_التعليم_الموحد', 0.3819752335548401),\n",
       " ('الفهم_القرائي', 0.38105690479278564)]"
      ]
     },
     "execution_count": 76,
     "metadata": {},
     "output_type": "execute_result"
    }
   ],
   "source": [
    "similar_tokens"
   ]
  },
  {
   "cell_type": "code",
   "execution_count": 77,
   "id": "7ca75f34-9ce3-42dd-a99f-81326c7587db",
   "metadata": {},
   "outputs": [
    {
     "ename": "KeyError",
     "evalue": "\"Key 'الدراسه_مستمره' not present in vocabulary\"",
     "output_type": "error",
     "traceback": [
      "\u001b[0;31m---------------------------------------------------------------------------\u001b[0m",
      "\u001b[0;31mKeyError\u001b[0m                                  Traceback (most recent call last)",
      "Cell \u001b[0;32mIn[77], line 1\u001b[0m\n\u001b[0;32m----> 1\u001b[0m \u001b[43mbakr_model\u001b[49m\u001b[38;5;241;43m.\u001b[39;49m\u001b[43mwv\u001b[49m\u001b[38;5;241;43m.\u001b[39;49m\u001b[43mmost_similar\u001b[49m\u001b[43m(\u001b[49m\u001b[38;5;124;43m'\u001b[39;49m\u001b[38;5;124;43mالدراسه_مستمره\u001b[39;49m\u001b[38;5;124;43m'\u001b[39;49m\u001b[43m)\u001b[49m\n",
      "File \u001b[0;32m/usr/local/lib/python3.8/dist-packages/gensim/models/keyedvectors.py:841\u001b[0m, in \u001b[0;36mKeyedVectors.most_similar\u001b[0;34m(self, positive, negative, topn, clip_start, clip_end, restrict_vocab, indexer)\u001b[0m\n\u001b[1;32m    838\u001b[0m         weight[idx] \u001b[38;5;241m=\u001b[39m item[\u001b[38;5;241m1\u001b[39m]\n\u001b[1;32m    840\u001b[0m \u001b[38;5;66;03m# compute the weighted average of all keys\u001b[39;00m\n\u001b[0;32m--> 841\u001b[0m mean \u001b[38;5;241m=\u001b[39m \u001b[38;5;28;43mself\u001b[39;49m\u001b[38;5;241;43m.\u001b[39;49m\u001b[43mget_mean_vector\u001b[49m\u001b[43m(\u001b[49m\u001b[43mkeys\u001b[49m\u001b[43m,\u001b[49m\u001b[43m \u001b[49m\u001b[43mweight\u001b[49m\u001b[43m,\u001b[49m\u001b[43m \u001b[49m\u001b[43mpre_normalize\u001b[49m\u001b[38;5;241;43m=\u001b[39;49m\u001b[38;5;28;43;01mTrue\u001b[39;49;00m\u001b[43m,\u001b[49m\u001b[43m \u001b[49m\u001b[43mpost_normalize\u001b[49m\u001b[38;5;241;43m=\u001b[39;49m\u001b[38;5;28;43;01mTrue\u001b[39;49;00m\u001b[43m,\u001b[49m\u001b[43m \u001b[49m\u001b[43mignore_missing\u001b[49m\u001b[38;5;241;43m=\u001b[39;49m\u001b[38;5;28;43;01mFalse\u001b[39;49;00m\u001b[43m)\u001b[49m\n\u001b[1;32m    842\u001b[0m all_keys \u001b[38;5;241m=\u001b[39m [\n\u001b[1;32m    843\u001b[0m     \u001b[38;5;28mself\u001b[39m\u001b[38;5;241m.\u001b[39mget_index(key) \u001b[38;5;28;01mfor\u001b[39;00m key \u001b[38;5;129;01min\u001b[39;00m keys \u001b[38;5;28;01mif\u001b[39;00m \u001b[38;5;28misinstance\u001b[39m(key, _KEY_TYPES) \u001b[38;5;129;01mand\u001b[39;00m \u001b[38;5;28mself\u001b[39m\u001b[38;5;241m.\u001b[39mhas_index_for(key)\n\u001b[1;32m    844\u001b[0m ]\n\u001b[1;32m    846\u001b[0m \u001b[38;5;28;01mif\u001b[39;00m indexer \u001b[38;5;129;01mis\u001b[39;00m \u001b[38;5;129;01mnot\u001b[39;00m \u001b[38;5;28;01mNone\u001b[39;00m \u001b[38;5;129;01mand\u001b[39;00m \u001b[38;5;28misinstance\u001b[39m(topn, \u001b[38;5;28mint\u001b[39m):\n",
      "File \u001b[0;32m/usr/local/lib/python3.8/dist-packages/gensim/models/keyedvectors.py:518\u001b[0m, in \u001b[0;36mKeyedVectors.get_mean_vector\u001b[0;34m(self, keys, weights, pre_normalize, post_normalize, ignore_missing)\u001b[0m\n\u001b[1;32m    516\u001b[0m         total_weight \u001b[38;5;241m+\u001b[39m\u001b[38;5;241m=\u001b[39m \u001b[38;5;28mabs\u001b[39m(weights[idx])\n\u001b[1;32m    517\u001b[0m     \u001b[38;5;28;01melif\u001b[39;00m \u001b[38;5;129;01mnot\u001b[39;00m ignore_missing:\n\u001b[0;32m--> 518\u001b[0m         \u001b[38;5;28;01mraise\u001b[39;00m \u001b[38;5;167;01mKeyError\u001b[39;00m(\u001b[38;5;124mf\u001b[39m\u001b[38;5;124m\"\u001b[39m\u001b[38;5;124mKey \u001b[39m\u001b[38;5;124m'\u001b[39m\u001b[38;5;132;01m{\u001b[39;00mkey\u001b[38;5;132;01m}\u001b[39;00m\u001b[38;5;124m'\u001b[39m\u001b[38;5;124m not present in vocabulary\u001b[39m\u001b[38;5;124m\"\u001b[39m)\n\u001b[1;32m    520\u001b[0m \u001b[38;5;28;01mif\u001b[39;00m total_weight \u001b[38;5;241m>\u001b[39m \u001b[38;5;241m0\u001b[39m:\n\u001b[1;32m    521\u001b[0m     mean \u001b[38;5;241m=\u001b[39m mean \u001b[38;5;241m/\u001b[39m total_weight\n",
      "\u001b[0;31mKeyError\u001b[0m: \"Key 'الدراسه_مستمره' not present in vocabulary\""
     ]
    }
   ],
   "source": [
    "bakr_model.wv.most_similar('الدراسه_مستمره')"
   ]
  },
  {
   "cell_type": "code",
   "execution_count": 78,
   "id": "88d0166c-7175-414a-aeec-ba494d62d92e",
   "metadata": {},
   "outputs": [
    {
     "ename": "KeyError",
     "evalue": "\"Key 'الدراسه_مستمره' not present in vocabulary\"",
     "output_type": "error",
     "traceback": [
      "\u001b[0;31m---------------------------------------------------------------------------\u001b[0m",
      "\u001b[0;31mKeyError\u001b[0m                                  Traceback (most recent call last)",
      "Cell \u001b[0;32mIn[78], line 1\u001b[0m\n\u001b[0;32m----> 1\u001b[0m \u001b[43mmuhammed_model\u001b[49m\u001b[38;5;241;43m.\u001b[39;49m\u001b[43mwv\u001b[49m\u001b[38;5;241;43m.\u001b[39;49m\u001b[43mmost_similar\u001b[49m\u001b[43m(\u001b[49m\u001b[38;5;124;43m'\u001b[39;49m\u001b[38;5;124;43mالدراسه_مستمره\u001b[39;49m\u001b[38;5;124;43m'\u001b[39;49m\u001b[43m)\u001b[49m\n",
      "File \u001b[0;32m/usr/local/lib/python3.8/dist-packages/gensim/models/keyedvectors.py:841\u001b[0m, in \u001b[0;36mKeyedVectors.most_similar\u001b[0;34m(self, positive, negative, topn, clip_start, clip_end, restrict_vocab, indexer)\u001b[0m\n\u001b[1;32m    838\u001b[0m         weight[idx] \u001b[38;5;241m=\u001b[39m item[\u001b[38;5;241m1\u001b[39m]\n\u001b[1;32m    840\u001b[0m \u001b[38;5;66;03m# compute the weighted average of all keys\u001b[39;00m\n\u001b[0;32m--> 841\u001b[0m mean \u001b[38;5;241m=\u001b[39m \u001b[38;5;28;43mself\u001b[39;49m\u001b[38;5;241;43m.\u001b[39;49m\u001b[43mget_mean_vector\u001b[49m\u001b[43m(\u001b[49m\u001b[43mkeys\u001b[49m\u001b[43m,\u001b[49m\u001b[43m \u001b[49m\u001b[43mweight\u001b[49m\u001b[43m,\u001b[49m\u001b[43m \u001b[49m\u001b[43mpre_normalize\u001b[49m\u001b[38;5;241;43m=\u001b[39;49m\u001b[38;5;28;43;01mTrue\u001b[39;49;00m\u001b[43m,\u001b[49m\u001b[43m \u001b[49m\u001b[43mpost_normalize\u001b[49m\u001b[38;5;241;43m=\u001b[39;49m\u001b[38;5;28;43;01mTrue\u001b[39;49;00m\u001b[43m,\u001b[49m\u001b[43m \u001b[49m\u001b[43mignore_missing\u001b[49m\u001b[38;5;241;43m=\u001b[39;49m\u001b[38;5;28;43;01mFalse\u001b[39;49;00m\u001b[43m)\u001b[49m\n\u001b[1;32m    842\u001b[0m all_keys \u001b[38;5;241m=\u001b[39m [\n\u001b[1;32m    843\u001b[0m     \u001b[38;5;28mself\u001b[39m\u001b[38;5;241m.\u001b[39mget_index(key) \u001b[38;5;28;01mfor\u001b[39;00m key \u001b[38;5;129;01min\u001b[39;00m keys \u001b[38;5;28;01mif\u001b[39;00m \u001b[38;5;28misinstance\u001b[39m(key, _KEY_TYPES) \u001b[38;5;129;01mand\u001b[39;00m \u001b[38;5;28mself\u001b[39m\u001b[38;5;241m.\u001b[39mhas_index_for(key)\n\u001b[1;32m    844\u001b[0m ]\n\u001b[1;32m    846\u001b[0m \u001b[38;5;28;01mif\u001b[39;00m indexer \u001b[38;5;129;01mis\u001b[39;00m \u001b[38;5;129;01mnot\u001b[39;00m \u001b[38;5;28;01mNone\u001b[39;00m \u001b[38;5;129;01mand\u001b[39;00m \u001b[38;5;28misinstance\u001b[39m(topn, \u001b[38;5;28mint\u001b[39m):\n",
      "File \u001b[0;32m/usr/local/lib/python3.8/dist-packages/gensim/models/keyedvectors.py:518\u001b[0m, in \u001b[0;36mKeyedVectors.get_mean_vector\u001b[0;34m(self, keys, weights, pre_normalize, post_normalize, ignore_missing)\u001b[0m\n\u001b[1;32m    516\u001b[0m         total_weight \u001b[38;5;241m+\u001b[39m\u001b[38;5;241m=\u001b[39m \u001b[38;5;28mabs\u001b[39m(weights[idx])\n\u001b[1;32m    517\u001b[0m     \u001b[38;5;28;01melif\u001b[39;00m \u001b[38;5;129;01mnot\u001b[39;00m ignore_missing:\n\u001b[0;32m--> 518\u001b[0m         \u001b[38;5;28;01mraise\u001b[39;00m \u001b[38;5;167;01mKeyError\u001b[39;00m(\u001b[38;5;124mf\u001b[39m\u001b[38;5;124m\"\u001b[39m\u001b[38;5;124mKey \u001b[39m\u001b[38;5;124m'\u001b[39m\u001b[38;5;132;01m{\u001b[39;00mkey\u001b[38;5;132;01m}\u001b[39;00m\u001b[38;5;124m'\u001b[39m\u001b[38;5;124m not present in vocabulary\u001b[39m\u001b[38;5;124m\"\u001b[39m)\n\u001b[1;32m    520\u001b[0m \u001b[38;5;28;01mif\u001b[39;00m total_weight \u001b[38;5;241m>\u001b[39m \u001b[38;5;241m0\u001b[39m:\n\u001b[1;32m    521\u001b[0m     mean \u001b[38;5;241m=\u001b[39m mean \u001b[38;5;241m/\u001b[39m total_weight\n",
      "\u001b[0;31mKeyError\u001b[0m: \"Key 'الدراسه_مستمره' not present in vocabulary\""
     ]
    }
   ],
   "source": [
    "muhammed_model.wv.most_similar('الدراسه_مستمره')"
   ]
  },
  {
   "cell_type": "code",
   "execution_count": 79,
   "id": "7070e181-8e1b-4aba-a554-ce61bbecfc6e",
   "metadata": {},
   "outputs": [],
   "source": [
    "similar_tokens = rezk_model.wv.most_similar('التعلم_عن_بعد')\n",
    "for similar in similar_tokens:\n",
    "    tokens_to_graphs['التعلم_عن_بعد_token'].append(similar[0])\n",
    "    tokens_to_graphs['التعلم_عن_بعد_%'].append(similar[1])"
   ]
  },
  {
   "cell_type": "code",
   "execution_count": 80,
   "id": "2392bd2e-bd34-4da2-9eaa-c8e9e2c389d0",
   "metadata": {},
   "outputs": [
    {
     "data": {
      "text/plain": [
       "[('التعليم_عن_بعد', 0.5837592482566833),\n",
       " ('منصه_مدرستي', 0.45219874382019043),\n",
       " ('بالتعليم_عن_بعد', 0.4306563138961792),\n",
       " ('تعليم_الزلفي', 0.4236013889312744),\n",
       " ('تعليم_الرياض', 0.4233117699623108),\n",
       " ('الفهم_القرائي', 0.422595351934433),\n",
       " ('لعوده_حضوريه_امنه', 0.4207911789417267),\n",
       " ('تعليم_الاحساء', 0.41986364126205444),\n",
       " ('تعليم_الطائف', 0.4182129502296448),\n",
       " ('مكتب_تعليم_جنوب_جده', 0.41728881001472473)]"
      ]
     },
     "execution_count": 80,
     "metadata": {},
     "output_type": "execute_result"
    }
   ],
   "source": [
    "similar_tokens"
   ]
  },
  {
   "cell_type": "code",
   "execution_count": 81,
   "id": "32ade193-dff5-4160-9684-c03ebab6e904",
   "metadata": {},
   "outputs": [
    {
     "ename": "KeyError",
     "evalue": "\"Key 'التعلم_عن_بعد' not present in vocabulary\"",
     "output_type": "error",
     "traceback": [
      "\u001b[0;31m---------------------------------------------------------------------------\u001b[0m",
      "\u001b[0;31mKeyError\u001b[0m                                  Traceback (most recent call last)",
      "Cell \u001b[0;32mIn[81], line 1\u001b[0m\n\u001b[0;32m----> 1\u001b[0m \u001b[43mbakr_model\u001b[49m\u001b[38;5;241;43m.\u001b[39;49m\u001b[43mwv\u001b[49m\u001b[38;5;241;43m.\u001b[39;49m\u001b[43mmost_similar\u001b[49m\u001b[43m(\u001b[49m\u001b[38;5;124;43m'\u001b[39;49m\u001b[38;5;124;43mالتعلم_عن_بعد\u001b[39;49m\u001b[38;5;124;43m'\u001b[39;49m\u001b[43m)\u001b[49m\n",
      "File \u001b[0;32m/usr/local/lib/python3.8/dist-packages/gensim/models/keyedvectors.py:841\u001b[0m, in \u001b[0;36mKeyedVectors.most_similar\u001b[0;34m(self, positive, negative, topn, clip_start, clip_end, restrict_vocab, indexer)\u001b[0m\n\u001b[1;32m    838\u001b[0m         weight[idx] \u001b[38;5;241m=\u001b[39m item[\u001b[38;5;241m1\u001b[39m]\n\u001b[1;32m    840\u001b[0m \u001b[38;5;66;03m# compute the weighted average of all keys\u001b[39;00m\n\u001b[0;32m--> 841\u001b[0m mean \u001b[38;5;241m=\u001b[39m \u001b[38;5;28;43mself\u001b[39;49m\u001b[38;5;241;43m.\u001b[39;49m\u001b[43mget_mean_vector\u001b[49m\u001b[43m(\u001b[49m\u001b[43mkeys\u001b[49m\u001b[43m,\u001b[49m\u001b[43m \u001b[49m\u001b[43mweight\u001b[49m\u001b[43m,\u001b[49m\u001b[43m \u001b[49m\u001b[43mpre_normalize\u001b[49m\u001b[38;5;241;43m=\u001b[39;49m\u001b[38;5;28;43;01mTrue\u001b[39;49;00m\u001b[43m,\u001b[49m\u001b[43m \u001b[49m\u001b[43mpost_normalize\u001b[49m\u001b[38;5;241;43m=\u001b[39;49m\u001b[38;5;28;43;01mTrue\u001b[39;49;00m\u001b[43m,\u001b[49m\u001b[43m \u001b[49m\u001b[43mignore_missing\u001b[49m\u001b[38;5;241;43m=\u001b[39;49m\u001b[38;5;28;43;01mFalse\u001b[39;49;00m\u001b[43m)\u001b[49m\n\u001b[1;32m    842\u001b[0m all_keys \u001b[38;5;241m=\u001b[39m [\n\u001b[1;32m    843\u001b[0m     \u001b[38;5;28mself\u001b[39m\u001b[38;5;241m.\u001b[39mget_index(key) \u001b[38;5;28;01mfor\u001b[39;00m key \u001b[38;5;129;01min\u001b[39;00m keys \u001b[38;5;28;01mif\u001b[39;00m \u001b[38;5;28misinstance\u001b[39m(key, _KEY_TYPES) \u001b[38;5;129;01mand\u001b[39;00m \u001b[38;5;28mself\u001b[39m\u001b[38;5;241m.\u001b[39mhas_index_for(key)\n\u001b[1;32m    844\u001b[0m ]\n\u001b[1;32m    846\u001b[0m \u001b[38;5;28;01mif\u001b[39;00m indexer \u001b[38;5;129;01mis\u001b[39;00m \u001b[38;5;129;01mnot\u001b[39;00m \u001b[38;5;28;01mNone\u001b[39;00m \u001b[38;5;129;01mand\u001b[39;00m \u001b[38;5;28misinstance\u001b[39m(topn, \u001b[38;5;28mint\u001b[39m):\n",
      "File \u001b[0;32m/usr/local/lib/python3.8/dist-packages/gensim/models/keyedvectors.py:518\u001b[0m, in \u001b[0;36mKeyedVectors.get_mean_vector\u001b[0;34m(self, keys, weights, pre_normalize, post_normalize, ignore_missing)\u001b[0m\n\u001b[1;32m    516\u001b[0m         total_weight \u001b[38;5;241m+\u001b[39m\u001b[38;5;241m=\u001b[39m \u001b[38;5;28mabs\u001b[39m(weights[idx])\n\u001b[1;32m    517\u001b[0m     \u001b[38;5;28;01melif\u001b[39;00m \u001b[38;5;129;01mnot\u001b[39;00m ignore_missing:\n\u001b[0;32m--> 518\u001b[0m         \u001b[38;5;28;01mraise\u001b[39;00m \u001b[38;5;167;01mKeyError\u001b[39;00m(\u001b[38;5;124mf\u001b[39m\u001b[38;5;124m\"\u001b[39m\u001b[38;5;124mKey \u001b[39m\u001b[38;5;124m'\u001b[39m\u001b[38;5;132;01m{\u001b[39;00mkey\u001b[38;5;132;01m}\u001b[39;00m\u001b[38;5;124m'\u001b[39m\u001b[38;5;124m not present in vocabulary\u001b[39m\u001b[38;5;124m\"\u001b[39m)\n\u001b[1;32m    520\u001b[0m \u001b[38;5;28;01mif\u001b[39;00m total_weight \u001b[38;5;241m>\u001b[39m \u001b[38;5;241m0\u001b[39m:\n\u001b[1;32m    521\u001b[0m     mean \u001b[38;5;241m=\u001b[39m mean \u001b[38;5;241m/\u001b[39m total_weight\n",
      "\u001b[0;31mKeyError\u001b[0m: \"Key 'التعلم_عن_بعد' not present in vocabulary\""
     ]
    }
   ],
   "source": [
    "bakr_model.wv.most_similar('التعلم_عن_بعد')"
   ]
  },
  {
   "cell_type": "code",
   "execution_count": 82,
   "id": "b5f94417-33e8-424f-87d0-0a8aaf7ba1b1",
   "metadata": {},
   "outputs": [
    {
     "ename": "AttributeError",
     "evalue": "'KeyedVectors' object has no attribute 'most7_similar'",
     "output_type": "error",
     "traceback": [
      "\u001b[0;31m---------------------------------------------------------------------------\u001b[0m",
      "\u001b[0;31mAttributeError\u001b[0m                            Traceback (most recent call last)",
      "Cell \u001b[0;32mIn[82], line 1\u001b[0m\n\u001b[0;32m----> 1\u001b[0m \u001b[43mmuhammed_model\u001b[49m\u001b[38;5;241;43m.\u001b[39;49m\u001b[43mwv\u001b[49m\u001b[38;5;241;43m.\u001b[39;49m\u001b[43mmost7_similar\u001b[49m(\u001b[38;5;124m'\u001b[39m\u001b[38;5;124mالتعلم_عن_بعد\u001b[39m\u001b[38;5;124m'\u001b[39m)\n",
      "\u001b[0;31mAttributeError\u001b[0m: 'KeyedVectors' object has no attribute 'most7_similar'"
     ]
    }
   ],
   "source": [
    "muhammed_model.wv.most7_similar('التعلم_عن_بعد')"
   ]
  },
  {
   "cell_type": "code",
   "execution_count": 83,
   "id": "fd06e50c",
   "metadata": {},
   "outputs": [
    {
     "name": "stdout",
     "output_type": "stream",
     "text": [
      "The number of emojis:  48\n",
      "The number of sentiment words:  19\n",
      "The number of named entity recognition words 60\n"
     ]
    }
   ],
   "source": [
    "print(\"The number of emojis: \", len(EMOJIS))\n",
    "print(\"The number of sentiment words: \", len(SENTIMENT_WORDS))\n",
    "print(\"The number of named entity recognition words\", len(NER_WORDS))"
   ]
  },
  {
   "cell_type": "code",
   "execution_count": 84,
   "id": "238be257",
   "metadata": {},
   "outputs": [
    {
     "name": "stdout",
     "output_type": "stream",
     "text": [
      "[t-SNE] Computing 18 nearest neighbors...\n",
      "[t-SNE] Indexed 19 samples in 0.001s...\n",
      "[t-SNE] Computed neighbors for 19 samples in 0.226s...\n",
      "[t-SNE] Computed conditional probabilities for sample 19 / 19\n",
      "[t-SNE] Mean sigma: 3.651945\n",
      "[t-SNE] KL divergence after 50 iterations with early exaggeration: 36.187984\n",
      "[t-SNE] KL divergence after 250 iterations: 0.058341\n",
      "The shape of our word_features is: (19, 2)\n"
     ]
    },
    {
     "data": {
      "image/png": "[encoded data removed]",
      "text/plain": [
       "<Figure size 1000x800 with 1 Axes>"
      ]
     },
     "metadata": {},
     "output_type": "display_data"
    }
   ],
   "source": [
    "# Reduce the dimension of SENTIMENT_WORDS\n",
    "tsne_df_scale = tsne_graph(rezk_model, SENTIMENT_WORDS, 250, .07)\n",
    "\n",
    "_ = init_graph_style()\n",
    "\n",
    "_ = word_display(tsne_df_scale, SENTIMENT_WORDS, \"r_SENTIMENT_WORDS.png\")"
   ]
  },
  {
   "cell_type": "code",
   "execution_count": 85,
   "id": "9cf42dc6",
   "metadata": {},
   "outputs": [
    {
     "name": "stdout",
     "output_type": "stream",
     "text": [
      "[t-SNE] Computing 18 nearest neighbors...\n",
      "[t-SNE] Indexed 19 samples in 0.000s...\n",
      "[t-SNE] Computed neighbors for 19 samples in 0.016s...\n",
      "[t-SNE] Computed conditional probabilities for sample 19 / 19\n",
      "[t-SNE] Mean sigma: 9.311430\n",
      "[t-SNE] KL divergence after 50 iterations with early exaggeration: 36.588402\n",
      "[t-SNE] KL divergence after 250 iterations: 0.050656\n",
      "The shape of our word_features is: (19, 2)\n"
     ]
    },
    {
     "data": {
      "image/png": "[encoded data removed]",
      "text/plain": [
       "<Figure size 1000x800 with 1 Axes>"
      ]
     },
     "metadata": {},
     "output_type": "display_data"
    }
   ],
   "source": [
    "# Reduce the dimension of SENTIMENT_WORDS\n",
    "tsne_df_scale = tsne_graph(bakr_model, SENTIMENT_WORDS, 250, .07)\n",
    "\n",
    "_ = init_graph_style()\n",
    "\n",
    "_ = word_display(tsne_df_scale, SENTIMENT_WORDS, \"b_SENTIMENT_WORDS.png\")"
   ]
  },
  {
   "cell_type": "code",
   "execution_count": 86,
   "id": "77b9f64f",
   "metadata": {},
   "outputs": [
    {
     "ename": "KeyError",
     "evalue": "\"Key 'خائن' not present\"",
     "output_type": "error",
     "traceback": [
      "\u001b[0;31m---------------------------------------------------------------------------\u001b[0m",
      "\u001b[0;31mKeyError\u001b[0m                                  Traceback (most recent call last)",
      "Cell \u001b[0;32mIn[86], line 2\u001b[0m\n\u001b[1;32m      1\u001b[0m \u001b[38;5;66;03m# Reduce the dimension of SENTIMENT_WORDS\u001b[39;00m\n\u001b[0;32m----> 2\u001b[0m tsne_df_scale \u001b[38;5;241m=\u001b[39m \u001b[43mtsne_graph\u001b[49m\u001b[43m(\u001b[49m\u001b[43mmuhammed_model\u001b[49m\u001b[43m,\u001b[49m\u001b[43m \u001b[49m\u001b[43mSENTIMENT_WORDS\u001b[49m\u001b[43m,\u001b[49m\u001b[43m \u001b[49m\u001b[38;5;241;43m250\u001b[39;49m\u001b[43m,\u001b[49m\u001b[43m \u001b[49m\u001b[38;5;241;43m.07\u001b[39;49m\u001b[43m)\u001b[49m\n\u001b[1;32m      4\u001b[0m _ \u001b[38;5;241m=\u001b[39m init_graph_style()\n\u001b[1;32m      6\u001b[0m _ \u001b[38;5;241m=\u001b[39m word_display(tsne_df_scale, SENTIMENT_WORDS, \u001b[38;5;124m\"\u001b[39m\u001b[38;5;124mm_SENTIMENT_WORDS.png\u001b[39m\u001b[38;5;124m\"\u001b[39m)\n",
      "File \u001b[0;32m~/AraETEWordVec/notebooks/../preprocess_assets/word2vec_results.py:49\u001b[0m, in \u001b[0;36mtsne_graph\u001b[0;34m(model, symbols, n_iter, learning_rate)\u001b[0m\n\u001b[1;32m     46\u001b[0m tsne \u001b[38;5;241m=\u001b[39m TSNE(n_components\u001b[38;5;241m=\u001b[39m\u001b[38;5;241m2\u001b[39m, verbose\u001b[38;5;241m=\u001b[39m\u001b[38;5;241m1\u001b[39m, perplexity\u001b[38;5;241m=\u001b[39m\u001b[38;5;241m10\u001b[39m, n_iter\u001b[38;5;241m=\u001b[39mn_iter, learning_rate\u001b[38;5;241m=\u001b[39mlearning_rate)\n\u001b[1;32m     48\u001b[0m \u001b[38;5;66;03m# retrieve the representation of each symbol in the list\u001b[39;00m\n\u001b[0;32m---> 49\u001b[0m symbols_representation \u001b[38;5;241m=\u001b[39m \u001b[43mmodel\u001b[49m\u001b[38;5;241;43m.\u001b[39;49m\u001b[43mwv\u001b[49m\u001b[43m[\u001b[49m\u001b[43msymbols\u001b[49m\u001b[43m]\u001b[49m\n\u001b[1;32m     51\u001b[0m \u001b[38;5;66;03m# fit and transform these high-dimension representation into 2-dimension representation\u001b[39;00m\n\u001b[1;32m     52\u001b[0m tsne_scale_results \u001b[38;5;241m=\u001b[39m tsne\u001b[38;5;241m.\u001b[39mfit_transform(symbols_representation)\n",
      "File \u001b[0;32m/usr/local/lib/python3.8/dist-packages/gensim/models/keyedvectors.py:405\u001b[0m, in \u001b[0;36mKeyedVectors.__getitem__\u001b[0;34m(self, key_or_keys)\u001b[0m\n\u001b[1;32m    402\u001b[0m \u001b[38;5;28;01mif\u001b[39;00m \u001b[38;5;28misinstance\u001b[39m(key_or_keys, _KEY_TYPES):\n\u001b[1;32m    403\u001b[0m     \u001b[38;5;28;01mreturn\u001b[39;00m \u001b[38;5;28mself\u001b[39m\u001b[38;5;241m.\u001b[39mget_vector(key_or_keys)\n\u001b[0;32m--> 405\u001b[0m \u001b[38;5;28;01mreturn\u001b[39;00m vstack([\u001b[38;5;28mself\u001b[39m\u001b[38;5;241m.\u001b[39mget_vector(key) \u001b[38;5;28;01mfor\u001b[39;00m key \u001b[38;5;129;01min\u001b[39;00m key_or_keys])\n",
      "File \u001b[0;32m/usr/local/lib/python3.8/dist-packages/gensim/models/keyedvectors.py:405\u001b[0m, in \u001b[0;36m<listcomp>\u001b[0;34m(.0)\u001b[0m\n\u001b[1;32m    402\u001b[0m \u001b[38;5;28;01mif\u001b[39;00m \u001b[38;5;28misinstance\u001b[39m(key_or_keys, _KEY_TYPES):\n\u001b[1;32m    403\u001b[0m     \u001b[38;5;28;01mreturn\u001b[39;00m \u001b[38;5;28mself\u001b[39m\u001b[38;5;241m.\u001b[39mget_vector(key_or_keys)\n\u001b[0;32m--> 405\u001b[0m \u001b[38;5;28;01mreturn\u001b[39;00m vstack([\u001b[38;5;28;43mself\u001b[39;49m\u001b[38;5;241;43m.\u001b[39;49m\u001b[43mget_vector\u001b[49m\u001b[43m(\u001b[49m\u001b[43mkey\u001b[49m\u001b[43m)\u001b[49m \u001b[38;5;28;01mfor\u001b[39;00m key \u001b[38;5;129;01min\u001b[39;00m key_or_keys])\n",
      "File \u001b[0;32m/usr/local/lib/python3.8/dist-packages/gensim/models/keyedvectors.py:446\u001b[0m, in \u001b[0;36mKeyedVectors.get_vector\u001b[0;34m(self, key, norm)\u001b[0m\n\u001b[1;32m    422\u001b[0m \u001b[38;5;28;01mdef\u001b[39;00m \u001b[38;5;21mget_vector\u001b[39m(\u001b[38;5;28mself\u001b[39m, key, norm\u001b[38;5;241m=\u001b[39m\u001b[38;5;28;01mFalse\u001b[39;00m):\n\u001b[1;32m    423\u001b[0m \u001b[38;5;250m    \u001b[39m\u001b[38;5;124;03m\"\"\"Get the key's vector, as a 1D numpy array.\u001b[39;00m\n\u001b[1;32m    424\u001b[0m \n\u001b[1;32m    425\u001b[0m \u001b[38;5;124;03m    Parameters\u001b[39;00m\n\u001b[0;32m   (...)\u001b[0m\n\u001b[1;32m    444\u001b[0m \n\u001b[1;32m    445\u001b[0m \u001b[38;5;124;03m    \"\"\"\u001b[39;00m\n\u001b[0;32m--> 446\u001b[0m     index \u001b[38;5;241m=\u001b[39m \u001b[38;5;28;43mself\u001b[39;49m\u001b[38;5;241;43m.\u001b[39;49m\u001b[43mget_index\u001b[49m\u001b[43m(\u001b[49m\u001b[43mkey\u001b[49m\u001b[43m)\u001b[49m\n\u001b[1;32m    447\u001b[0m     \u001b[38;5;28;01mif\u001b[39;00m norm:\n\u001b[1;32m    448\u001b[0m         \u001b[38;5;28mself\u001b[39m\u001b[38;5;241m.\u001b[39mfill_norms()\n",
      "File \u001b[0;32m/usr/local/lib/python3.8/dist-packages/gensim/models/keyedvectors.py:420\u001b[0m, in \u001b[0;36mKeyedVectors.get_index\u001b[0;34m(self, key, default)\u001b[0m\n\u001b[1;32m    418\u001b[0m     \u001b[38;5;28;01mreturn\u001b[39;00m default\n\u001b[1;32m    419\u001b[0m \u001b[38;5;28;01melse\u001b[39;00m:\n\u001b[0;32m--> 420\u001b[0m     \u001b[38;5;28;01mraise\u001b[39;00m \u001b[38;5;167;01mKeyError\u001b[39;00m(\u001b[38;5;124mf\u001b[39m\u001b[38;5;124m\"\u001b[39m\u001b[38;5;124mKey \u001b[39m\u001b[38;5;124m'\u001b[39m\u001b[38;5;132;01m{\u001b[39;00mkey\u001b[38;5;132;01m}\u001b[39;00m\u001b[38;5;124m'\u001b[39m\u001b[38;5;124m not present\u001b[39m\u001b[38;5;124m\"\u001b[39m)\n",
      "\u001b[0;31mKeyError\u001b[0m: \"Key 'خائن' not present\""
     ]
    }
   ],
   "source": [
    "# Reduce the dimension of SENTIMENT_WORDS\n",
    "tsne_df_scale = tsne_graph(muhammed_model, SENTIMENT_WORDS, 250, .07)\n",
    "\n",
    "_ = init_graph_style()\n",
    "\n",
    "_ = word_display(tsne_df_scale, SENTIMENT_WORDS, \"m_SENTIMENT_WORDS.png\")"
   ]
  },
  {
   "cell_type": "code",
   "execution_count": 105,
   "id": "7c225109",
   "metadata": {},
   "outputs": [
    {
     "name": "stdout",
     "output_type": "stream",
     "text": [
      "[t-SNE] Computing 31 nearest neighbors...\n",
      "[t-SNE] Indexed 60 samples in 0.000s...\n",
      "[t-SNE] Computed neighbors for 60 samples in 0.003s...\n",
      "[t-SNE] Computed conditional probabilities for sample 60 / 60\n",
      "[t-SNE] Mean sigma: 3.076933\n",
      "[t-SNE] KL divergence after 150 iterations with early exaggeration: 48.592648\n",
      "[t-SNE] KL divergence after 1400 iterations: 0.212360\n",
      "The shape of our word_features is: (60, 2)\n"
     ]
    },
    {
     "data": {
      "image/png": "[encoded data removed]",
      "text/plain": [
       "<Figure size 1600x1000 with 1 Axes>"
      ]
     },
     "metadata": {},
     "output_type": "display_data"
    }
   ],
   "source": [
    "# Reduce the dimension of NER_WORDS\n",
    "tsne_df_scale = tsne_graph(rezk_model, NER_WORDS, 1400, .5)\n",
    "\n",
    "_ = init_graph_style(figsize=(16, 10))\n",
    "\n",
    "_ = word_display(tsne_df_scale, NER_WORDS, \"r_NER_WORDS.png\")"
   ]
  },
  {
   "cell_type": "code",
   "execution_count": 106,
   "id": "7c5c8296",
   "metadata": {},
   "outputs": [
    {
     "name": "stdout",
     "output_type": "stream",
     "text": [
      "[t-SNE] Computing 31 nearest neighbors...\n",
      "[t-SNE] Indexed 60 samples in 0.000s...\n",
      "[t-SNE] Computed neighbors for 60 samples in 0.007s...\n",
      "[t-SNE] Computed conditional probabilities for sample 60 / 60\n",
      "[t-SNE] Mean sigma: 8.597755\n",
      "[t-SNE] KL divergence after 50 iterations with early exaggeration: 49.491745\n",
      "[t-SNE] KL divergence after 1400 iterations: 0.204559\n",
      "The shape of our word_features is: (60, 2)\n"
     ]
    },
    {
     "data": {
      "image/png": "[encoded data removed]",
      "text/plain": [
       "<Figure size 1600x1000 with 1 Axes>"
      ]
     },
     "metadata": {},
     "output_type": "display_data"
    }
   ],
   "source": [
    "# Reduce the dimension of NER_WORDS (error because min count is 300)\n",
    "tsne_df_scale = tsne_graph(bakr_model, NER_WORDS, 1400, .5)\n",
    "\n",
    "_ = init_graph_style(figsize=(16, 10))\n",
    "\n",
    "_ = word_display(tsne_df_scale, NER_WORDS, \"b_NER_WORDS.png\")"
   ]
  },
  {
   "cell_type": "code",
   "execution_count": 101,
   "id": "c016d9b2",
   "metadata": {},
   "outputs": [
    {
     "ename": "KeyError",
     "evalue": "\"Key 'راوتر' not present\"",
     "output_type": "error",
     "traceback": [
      "\u001b[0;31m---------------------------------------------------------------------------\u001b[0m",
      "\u001b[0;31mKeyError\u001b[0m                                  Traceback (most recent call last)",
      "Cell \u001b[0;32mIn[101], line 2\u001b[0m\n\u001b[1;32m      1\u001b[0m \u001b[38;5;66;03m# Reduce the dimension of NER_WORDS\u001b[39;00m\n\u001b[0;32m----> 2\u001b[0m tsne_df_scale \u001b[38;5;241m=\u001b[39m \u001b[43mtsne_graph\u001b[49m\u001b[43m(\u001b[49m\u001b[43mmuhammed_model\u001b[49m\u001b[43m,\u001b[49m\u001b[43m \u001b[49m\u001b[43mNER_WORDS\u001b[49m\u001b[43m,\u001b[49m\u001b[43m \u001b[49m\u001b[38;5;241;43m1400\u001b[39;49m\u001b[43m,\u001b[49m\u001b[43m \u001b[49m\u001b[38;5;241;43m.5\u001b[39;49m\u001b[43m)\u001b[49m\n\u001b[1;32m      4\u001b[0m _ \u001b[38;5;241m=\u001b[39m init_graph_style(figsize\u001b[38;5;241m=\u001b[39m(\u001b[38;5;241m16\u001b[39m, \u001b[38;5;241m10\u001b[39m))\n\u001b[1;32m      6\u001b[0m _ \u001b[38;5;241m=\u001b[39m word_display(tsne_df_scale, NER_WORDS, \u001b[38;5;124m\"\u001b[39m\u001b[38;5;124mm_NER_WORDS.png\u001b[39m\u001b[38;5;124m\"\u001b[39m)\n",
      "File \u001b[0;32m~/AraETEWordVec/notebooks/../preprocess_assets/word2vec_results.py:49\u001b[0m, in \u001b[0;36mtsne_graph\u001b[0;34m(model, symbols, n_iter, learning_rate)\u001b[0m\n\u001b[1;32m     46\u001b[0m tsne \u001b[38;5;241m=\u001b[39m TSNE(n_components\u001b[38;5;241m=\u001b[39m\u001b[38;5;241m2\u001b[39m, verbose\u001b[38;5;241m=\u001b[39m\u001b[38;5;241m1\u001b[39m, perplexity\u001b[38;5;241m=\u001b[39m\u001b[38;5;241m10\u001b[39m, n_iter\u001b[38;5;241m=\u001b[39mn_iter, learning_rate\u001b[38;5;241m=\u001b[39mlearning_rate)\n\u001b[1;32m     48\u001b[0m \u001b[38;5;66;03m# retrieve the representation of each symbol in the list\u001b[39;00m\n\u001b[0;32m---> 49\u001b[0m symbols_representation \u001b[38;5;241m=\u001b[39m \u001b[43mmodel\u001b[49m\u001b[38;5;241;43m.\u001b[39;49m\u001b[43mwv\u001b[49m\u001b[43m[\u001b[49m\u001b[43msymbols\u001b[49m\u001b[43m]\u001b[49m\n\u001b[1;32m     51\u001b[0m \u001b[38;5;66;03m# fit and transform these high-dimension representation into 2-dimension representation\u001b[39;00m\n\u001b[1;32m     52\u001b[0m tsne_scale_results \u001b[38;5;241m=\u001b[39m tsne\u001b[38;5;241m.\u001b[39mfit_transform(symbols_representation)\n",
      "File \u001b[0;32m/usr/local/lib/python3.8/dist-packages/gensim/models/keyedvectors.py:405\u001b[0m, in \u001b[0;36mKeyedVectors.__getitem__\u001b[0;34m(self, key_or_keys)\u001b[0m\n\u001b[1;32m    402\u001b[0m \u001b[38;5;28;01mif\u001b[39;00m \u001b[38;5;28misinstance\u001b[39m(key_or_keys, _KEY_TYPES):\n\u001b[1;32m    403\u001b[0m     \u001b[38;5;28;01mreturn\u001b[39;00m \u001b[38;5;28mself\u001b[39m\u001b[38;5;241m.\u001b[39mget_vector(key_or_keys)\n\u001b[0;32m--> 405\u001b[0m \u001b[38;5;28;01mreturn\u001b[39;00m vstack([\u001b[38;5;28mself\u001b[39m\u001b[38;5;241m.\u001b[39mget_vector(key) \u001b[38;5;28;01mfor\u001b[39;00m key \u001b[38;5;129;01min\u001b[39;00m key_or_keys])\n",
      "File \u001b[0;32m/usr/local/lib/python3.8/dist-packages/gensim/models/keyedvectors.py:405\u001b[0m, in \u001b[0;36m<listcomp>\u001b[0;34m(.0)\u001b[0m\n\u001b[1;32m    402\u001b[0m \u001b[38;5;28;01mif\u001b[39;00m \u001b[38;5;28misinstance\u001b[39m(key_or_keys, _KEY_TYPES):\n\u001b[1;32m    403\u001b[0m     \u001b[38;5;28;01mreturn\u001b[39;00m \u001b[38;5;28mself\u001b[39m\u001b[38;5;241m.\u001b[39mget_vector(key_or_keys)\n\u001b[0;32m--> 405\u001b[0m \u001b[38;5;28;01mreturn\u001b[39;00m vstack([\u001b[38;5;28;43mself\u001b[39;49m\u001b[38;5;241;43m.\u001b[39;49m\u001b[43mget_vector\u001b[49m\u001b[43m(\u001b[49m\u001b[43mkey\u001b[49m\u001b[43m)\u001b[49m \u001b[38;5;28;01mfor\u001b[39;00m key \u001b[38;5;129;01min\u001b[39;00m key_or_keys])\n",
      "File \u001b[0;32m/usr/local/lib/python3.8/dist-packages/gensim/models/keyedvectors.py:446\u001b[0m, in \u001b[0;36mKeyedVectors.get_vector\u001b[0;34m(self, key, norm)\u001b[0m\n\u001b[1;32m    422\u001b[0m \u001b[38;5;28;01mdef\u001b[39;00m \u001b[38;5;21mget_vector\u001b[39m(\u001b[38;5;28mself\u001b[39m, key, norm\u001b[38;5;241m=\u001b[39m\u001b[38;5;28;01mFalse\u001b[39;00m):\n\u001b[1;32m    423\u001b[0m \u001b[38;5;250m    \u001b[39m\u001b[38;5;124;03m\"\"\"Get the key's vector, as a 1D numpy array.\u001b[39;00m\n\u001b[1;32m    424\u001b[0m \n\u001b[1;32m    425\u001b[0m \u001b[38;5;124;03m    Parameters\u001b[39;00m\n\u001b[0;32m   (...)\u001b[0m\n\u001b[1;32m    444\u001b[0m \n\u001b[1;32m    445\u001b[0m \u001b[38;5;124;03m    \"\"\"\u001b[39;00m\n\u001b[0;32m--> 446\u001b[0m     index \u001b[38;5;241m=\u001b[39m \u001b[38;5;28;43mself\u001b[39;49m\u001b[38;5;241;43m.\u001b[39;49m\u001b[43mget_index\u001b[49m\u001b[43m(\u001b[49m\u001b[43mkey\u001b[49m\u001b[43m)\u001b[49m\n\u001b[1;32m    447\u001b[0m     \u001b[38;5;28;01mif\u001b[39;00m norm:\n\u001b[1;32m    448\u001b[0m         \u001b[38;5;28mself\u001b[39m\u001b[38;5;241m.\u001b[39mfill_norms()\n",
      "File \u001b[0;32m/usr/local/lib/python3.8/dist-packages/gensim/models/keyedvectors.py:420\u001b[0m, in \u001b[0;36mKeyedVectors.get_index\u001b[0;34m(self, key, default)\u001b[0m\n\u001b[1;32m    418\u001b[0m     \u001b[38;5;28;01mreturn\u001b[39;00m default\n\u001b[1;32m    419\u001b[0m \u001b[38;5;28;01melse\u001b[39;00m:\n\u001b[0;32m--> 420\u001b[0m     \u001b[38;5;28;01mraise\u001b[39;00m \u001b[38;5;167;01mKeyError\u001b[39;00m(\u001b[38;5;124mf\u001b[39m\u001b[38;5;124m\"\u001b[39m\u001b[38;5;124mKey \u001b[39m\u001b[38;5;124m'\u001b[39m\u001b[38;5;132;01m{\u001b[39;00mkey\u001b[38;5;132;01m}\u001b[39;00m\u001b[38;5;124m'\u001b[39m\u001b[38;5;124m not present\u001b[39m\u001b[38;5;124m\"\u001b[39m)\n",
      "\u001b[0;31mKeyError\u001b[0m: \"Key 'راوتر' not present\""
     ]
    }
   ],
   "source": [
    "# Reduce the dimension of NER_WORDS\n",
    "tsne_df_scale = tsne_graph(muhammed_model, NER_WORDS, 1400, .5)\n",
    "\n",
    "_ = init_graph_style(figsize=(16, 10))\n",
    "\n",
    "_ = word_display(tsne_df_scale, NER_WORDS, \"m_NER_WORDS.png\")"
   ]
  },
  {
   "cell_type": "code",
   "execution_count": 102,
   "id": "f67b6d6d",
   "metadata": {},
   "outputs": [
    {
     "name": "stdout",
     "output_type": "stream",
     "text": [
      "{'O_+_token': ['B_+', 'O_-', 'AB_+', 'A_+', 'فصيله_دم', 'رقم_الملف', 'الفصيله_:', 'فئه_A', '-_O', 'محتاجين_دم'], 'O_+_%': [0.5346683263778687, 0.5326820015907288, 0.3811468780040741, 0.35411107540130615, 0.3521767854690552, 0.3425527513027191, 0.3293618857860565, 0.3264305293560028, 0.3137696087360382, 0.30765408277511597], '🤣_token': ['😆', '😁', '😜', '😏', '😅', '😒', 'هه', '😂', '😬', '😀'], '🤣_%': [0.8333120942115784, 0.8321138024330139, 0.8205730319023132, 0.819418728351593, 0.8010570406913757, 0.7967824339866638, 0.7967004776000977, 0.7781848907470703, 0.7624844312667847, 0.7618412375450134], '🇰🇼_token': ['🇴🇲', 'العيد_الوطني_الكويتي', 'اليوم_الوطني_الكويتي', '🇦🇪', 'الكويت', '🇸🇦', '🇶🇦', 'عمان', '🇯🇴', 'الحبيبه'], '🇰🇼_%': [0.6610525846481323, 0.6014205813407898, 0.5943148732185364, 0.5859056711196899, 0.5772003531455994, 0.5617915987968445, 0.5346092581748962, 0.5341886281967163, 0.5333636999130249, 0.5255107283592224], '🏡_token': ['📍', 'للبيع', 'سكني', 'بالرياض', 'عقارات_الرياض', '🎯', 'فلل', 'شقه', 'دوبلكس', 'المونسيه'], '🏡_%': [0.4250869154930115, 0.4209286570549011, 0.4186895489692688, 0.40717217326164246, 0.39545679092407227, 0.3946106731891632, 0.39185914397239685, 0.3904934823513031, 0.3842267692089081, 0.381411612033844], 'IT_token': [], 'IT_%': [], '؟_token': ['🤔', '!', 'ايش', '😳', '🙄', 'ليش', 'هل', 'بالضبط', 'وليش', 'وين'], '؟_%': [0.7987214922904968, 0.7966918349266052, 0.6314217448234558, 0.6253553032875061, 0.6185094714164734, 0.60459965467453, 0.5959916114807129, 0.5893946886062622, 0.5871163606643677, 0.5863702893257141], 'كوفيد_token': ['كوفيد-', 'كوفيد_', 'Covid', 'بكوفيد', 'الكوفيد', 'كورونا', 'كوڤيد', 'COVID', 'بـكوفيد-', 'فيروس'], 'كوفيد_%': [0.8830006122589111, 0.8637586832046509, 0.7545498609542847, 0.7023125886917114, 0.6937721967697144, 0.6714788675308228, 0.6528131365776062, 0.6056150794029236, 0.600813090801239, 0.5611270666122437], 'منصه_مدرستي_token': ['تعليم_جده', 'لعوده_حضوريه_امنه', 'تعليم_المخواه', 'تعليم_الطائف', 'الملف_الاعلامي_بوزاره_التعليم', 'تعليم_عسير', 'تعليم_مكه', 'تعليم_الرياض', 'تعليم_الرس', 'تعليم_القصيم'], 'منصه_مدرستي_%': [0.6406617164611816, 0.6082739233970642, 0.6013671159744263, 0.5990505814552307, 0.5927740931510925, 0.5926639437675476, 0.5854555368423462, 0.581294059753418, 0.5742909908294678, 0.5729984641075134], 'بوابه_المستقبل_token': ['تعليم_مكه', 'تعليم_الاحساء', 'تعليم_جده', 'تعليم_الخرج', 'التربيه_الفكريه', 'تعليم_القصيم', 'تعليم_عسير', 'الفهم_القرائي', 'تعليم_الزلفي', 'المساعد_الاداري'], 'بوابه_المستقبل_%': [0.49500319361686707, 0.46392834186553955, 0.4505389928817749, 0.44893476366996765, 0.44797635078430176, 0.44339367747306824, 0.4381850063800812, 0.4358413517475128, 0.4351840913295746, 0.4350811839103699], 'الدراسه_مستمره_token': ['المدرسه_الافتراضيه', 'منظومه_التعليم_الموحده', 'ابقوا_في_منازلكم', 'منصتي_مدرستي', 'وزاره_التعليم', 'الذكري_السادسه_للبيعه', 'شكرا_مدرستي_واسرتي', 'مدارسنا_باعيننا', 'منظومه_التعليم_الموحد', 'الفهم_القرائي'], 'الدراسه_مستمره_%': [0.5705092549324036, 0.4708978235721588, 0.46844011545181274, 0.4341930150985718, 0.4082190990447998, 0.40731123089790344, 0.3947628438472748, 0.38879701495170593, 0.3819752335548401, 0.38105690479278564], 'التعلم_عن_بعد_token': ['التعليم_عن_بعد', 'منصه_مدرستي', 'بالتعليم_عن_بعد', 'تعليم_الزلفي', 'تعليم_الرياض', 'الفهم_القرائي', 'لعوده_حضوريه_امنه', 'تعليم_الاحساء', 'تعليم_الطائف', 'مكتب_تعليم_جنوب_جده'], 'التعلم_عن_بعد_%': [0.5837592482566833, 0.45219874382019043, 0.4306563138961792, 0.4236013889312744, 0.4233117699623108, 0.422595351934433, 0.4207911789417267, 0.41986364126205444, 0.4182129502296448, 0.41728881001472473], 'كايرو_token': ['اسكندريه', 'طنطا', 'المنصوره', 'اسوان', 'القاهره', 'المنيا', 'بورسعيد', 'بنها', 'اسيوط', 'ناو'], 'كايرو_%': [0.4638203978538513, 0.4555395841598511, 0.44330060482025146, 0.4269847273826599, 0.4209235906600952, 0.41982537508010864, 0.3973039388656616, 0.39721450209617615, 0.39388638734817505, 0.3918449282646179], 'ينتصر_token': ['انتصر', 'يقاتل', 'يحارب', 'يواجه', 'سينتصر', 'يستسلم', 'ينهزم', 'يخسر', 'يهزم', 'يسقط'], 'ينتصر_%': [0.651455283164978, 0.6465153098106384, 0.5891581773757935, 0.5724115967750549, 0.5710309147834778, 0.5659409761428833, 0.5622171759605408, 0.559613823890686, 0.5417757034301758, 0.5411337018013], 'خريج_token': ['تخصص', 'هندسه', 'دبلوم', 'متخرج', 'كليه', 'جامعه', 'دارس', 'خريجه', 'مدرس', 'بكالوريوس'], 'خريج_%': [0.7142242789268494, 0.7090756893157959, 0.6927738785743713, 0.6869535446166992, 0.6784682273864746, 0.6749193668365479, 0.6581009030342102, 0.6541006565093994, 0.6437668204307556, 0.6400926113128662], 'ويجز_token': [], 'ويجز_%': [], '🌸_token': ['🌼', '🌺', '🌷', '🕊', '🌹', '🍃', '🌿', '⚘', '🌻', '💐'], '🌸_%': [0.7827603816986084, 0.7816051244735718, 0.7739440202713013, 0.7702279686927795, 0.7598779201507568, 0.7443662285804749, 0.7275475859642029, 0.6947581768035889, 0.6937013268470764, 0.6767349243164062], '🔑_token': ['مفتاح', '🗝', '🎯', '🅰️', '#_كلبه_مطيعه', 'المفتاح', '♾', '◉', '✅', 'مفاتيح'], '🔑_%': [0.4421654939651489, 0.38557443022727966, 0.3628891706466675, 0.34200042486190796, 0.3347412347793579, 0.3305990993976593, 0.32080593705177307, 0.3206290006637573, 0.3132442533969879, 0.31249940395355225], 'بنغازي_token': ['طرابلس', 'مصراته', 'درنه', 'طبرق', 'ليبيا', 'ومصراته', 'اجدابيا', 'ترهونه', 'سبها', 'غريان'], 'بنغازي_%': [0.797612190246582, 0.7830432057380676, 0.7194624543190002, 0.6759239435195923, 0.6515540480613708, 0.605011522769928, 0.6009994745254517, 0.561499834060669, 0.5529350638389587, 0.5487693548202515], 'القدس_عربيه_token': [], 'القدس_عربيه_%': []}\n"
     ]
    }
   ],
   "source": [
    "print(tokens_to_graphs)"
   ]
  },
  {
   "cell_type": "code",
   "execution_count": null,
   "id": "249ecf25-d7d8-4c80-b62b-42007f7bdc24",
   "metadata": {},
   "outputs": [],
   "source": []
  }
 ],
 "metadata": {
  "kernelspec": {
   "display_name": "Python 3 (ipykernel)",
   "language": "python",
   "name": "python3"
  },
  "language_info": {
   "codemirror_mode": {
    "name": "ipython",
    "version": 3
   },
   "file_extension": ".py",
   "mimetype": "text/x-python",
   "name": "python",
   "nbconvert_exporter": "python",
   "pygments_lexer": "ipython3",
   "version": "3.8.10"
  }
 },
 "nbformat": 4,
 "nbformat_minor": 5
}
