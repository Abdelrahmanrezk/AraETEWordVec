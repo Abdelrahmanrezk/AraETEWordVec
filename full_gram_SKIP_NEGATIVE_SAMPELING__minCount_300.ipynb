{
 "cells": [
  {
   "cell_type": "code",
   "execution_count": null,
   "id": "e4e09d27",
   "metadata": {},
   "outputs": [],
   "source": [
    "# -*- coding: utf8 -*-\n",
    "import gensim\n",
    "import re\n",
    "import numpy as np\n",
    "from nltk import ngrams\n",
    "\n",
    "from utilities import * # import utilities.py module\n",
    "from DifferentTokenization import * # import utilities.py module\n",
    "import pandas as pd\n",
    "from configs.Configs import get_ngrams\n",
    "import multiprocessing\n",
    "from multiprocessing import Process\n",
    "from train_word2vec_from_scratch import *\n",
    "from ara_vec_preprocess_configs import *\n",
    "# ============================   \n",
    "# ====== N-Grams Models ======\n",
    "import gdown\n"
   ]
  },
  {
   "cell_type": "code",
   "execution_count": null,
   "id": "8ec8b900",
   "metadata": {},
   "outputs": [],
   "source": [
    "sentences = MyCorpus(\"arabic_filtered_tweets_of_year_2008.csv\")\n",
    "# Just start the model with first file data\n",
    "model = train_word2vec_skip_gram_negative_sampeling(\"\", False, \"fullgram\", sentences, vector_size=300, min_count=300)"
   ]
  },
  {
   "cell_type": "code",
   "execution_count": null,
   "id": "cbd531b7",
   "metadata": {},
   "outputs": [],
   "source": [
    "print(model.corpus_count)\n",
    "print(model.epochs)\n",
    "print(len(model.wv.key_to_index))"
   ]
  },
  {
   "cell_type": "code",
   "execution_count": null,
   "id": "14ea7b40",
   "metadata": {},
   "outputs": [],
   "source": [
    "for fname in os.listdir(ARABIC_FILTERED_DATA_DIR):\n",
    "    print(\"=\"*50)\n",
    "    print(\"=\"*50)\n",
    "    print(\"Train on file: \", fname)\n",
    "    print(\"=\"*50)\n",
    "    print(\"=\"*50)\n",
    "    sentences = MyCorpus(fname)\n",
    "    model = train_word2vec_skip_gram_negative_sampeling(model, True, \"fullgram\", sentences, vector_size=300, min_count=300)\n",
    "    print(\"Some model data: \")\n",
    "    print(model.corpus_count)\n",
    "    print(model.epochs)\n",
    "    print(len(model.wv.key_to_index))"
   ]
  },
  {
   "cell_type": "code",
   "execution_count": null,
   "id": "298ea2b0",
   "metadata": {},
   "outputs": [],
   "source": [
    "print(\"We train on number of tokens: \", sentences.VAL)"
   ]
  }
 ],
 "metadata": {
  "kernelspec": {
   "display_name": "Python 3 (ipykernel)",
   "language": "python",
   "name": "python3"
  },
  "language_info": {
   "codemirror_mode": {
    "name": "ipython",
    "version": 3
   },
   "file_extension": ".py",
   "mimetype": "text/x-python",
   "name": "python",
   "nbconvert_exporter": "python",
   "pygments_lexer": "ipython3",
   "version": "3.8.10"
  }
 },
 "nbformat": 4,
 "nbformat_minor": 5
}
